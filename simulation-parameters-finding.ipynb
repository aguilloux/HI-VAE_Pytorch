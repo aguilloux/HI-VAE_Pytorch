{
 "cells": [
  {
   "cell_type": "code",
   "execution_count": 1,
   "id": "92330b03-4d65-47de-bbad-6769191bbb10",
   "metadata": {},
   "outputs": [],
   "source": [
    "import numpy as np\n",
    "import pandas as pd\n",
    "import torch\n",
    "from scipy.linalg import toeplitz\n",
    "from scipy.stats import norm\n",
    "\n",
    "import matplotlib.pyplot as plt\n",
    "from tableone import TableOne\n",
    "from sksurv.nonparametric import kaplan_meier_estimator\n",
    "\n",
    "from utils import data_processing, visualization\n",
    "from utils.simulations import *\n",
    "from execute import surv_hivae\n",
    "#from utils.metrics import log_rank, cox_estimation"
   ]
  },
  {
   "cell_type": "code",
   "execution_count": 2,
   "id": "37b41bdc-96ac-4d38-9fce-8fd83a615af8",
   "metadata": {},
   "outputs": [],
   "source": [
    "def simulation(beta_features, treatment_effect , n_samples , independent = True, surv_type = 'surv_piecewise', n_features_bytype = 4, \n",
    "                n_features_multiplier = 3, nnz = 3 , p_treated = 0.5,a_T=2,\n",
    "                a_C = 2., lamb_C = 6., lamb_C_indpt = 2.5, data_types_create = True):\n",
    "    n_features = n_features_multiplier * n_features_bytype\n",
    "    beta = np.insert(beta_features, 0, treatment_effect)\n",
    "    X = features_normal_cov_toeplitz(n_samples,n_features)\n",
    "    X[:,(n_features_bytype ) : (2*n_features_bytype )] = np.abs(X[:,(n_features_bytype ) : (2*n_features_bytype )])\n",
    "    X[:,(2*n_features_bytype ) : (3*n_features_bytype )] = 1 * (X[:,(2*n_features_bytype ) : (3*n_features_bytype )]>= 0)\n",
    "    treatment = np.random.binomial(1, p_treated, size=(n_samples,1))\n",
    "    design = np.hstack((treatment,X))\n",
    "    marker = np.dot(design,beta)\n",
    "    U = np.random.uniform(size = n_samples)\n",
    "    V = np.random.uniform(size = n_samples)\n",
    "    T = (- np.log(1-U) / np.exp(marker))**(1/a_T)\n",
    "    if independent:\n",
    "        C = lamb_C * (- np.log(1-V))**(1/a_C)\n",
    "    else:\n",
    "        C = lamb_C_indpt * (- np.log(1-V) / np.exp(marker))**(1/a_C)\n",
    "    data = pd.DataFrame(X)\n",
    "    data['treatment'] = treatment\n",
    "    data['time'] = np.min([T,C],axis=0)\n",
    "    data['censor'] = np.argmin([C,T],axis=0)\n",
    "    control = data[data['treatment'] == 0]\n",
    "    treated = data[data['treatment'] == 1]\n",
    "    if data_types_create == True:\n",
    "        names = []\n",
    "        for x in range(1, n_features_bytype  * n_features_multiplier + 1):\n",
    "            names.append(\"feat{0}\".format(x))\n",
    "        names.append(\"survcens\")\n",
    "        types = np.concatenate([np.repeat(\"real\",n_features_bytype),np.repeat(\"pos\",n_features_bytype),np.repeat(\"cat\",n_features_bytype)]).tolist()\n",
    "        types.append(surv_type)\n",
    "        dims = np.repeat(1,n_features_bytype * n_features_multiplier).tolist()\n",
    "        dims.append(2)\n",
    "        nclasses = np.concatenate([np.repeat(\"\",n_features_bytype),np.repeat(\"\",n_features_bytype),np.repeat(\"2\",n_features_bytype)]).tolist()\n",
    "        nclasses.append(\"\")\n",
    "        data_types = pd.DataFrame({'name' : names , 'type' : types , 'dim' : dims, 'nclass' : nclasses})\n",
    "        return(control,treated,data_types)\n",
    "    else :\n",
    "        return(control,treated)\n"
   ]
  },
  {
   "cell_type": "code",
   "execution_count": 3,
   "id": "cb4c7742-119c-42af-8ee9-2ed12d2db15c",
   "metadata": {},
   "outputs": [],
   "source": [
    "n_samples = 600\n",
    "n_features_bytype = 4\n",
    "n_features_multiplier = 3 "
   ]
  },
  {
   "cell_type": "code",
   "execution_count": 7,
   "id": "97547d37-97aa-47ae-ad10-05bfb4383238",
   "metadata": {},
   "outputs": [],
   "source": [
    "beta_features = np.concatenate([weights_sparse_exp(n_features_bytype,3),weights_sparse_exp(n_features_bytype,3),\n",
    "                       weights_sparse_exp(n_features_bytype,3)])\n",
    "treatment_effect = 0.7"
   ]
  },
  {
   "cell_type": "markdown",
   "id": "722f56e8-10dd-46f2-b53d-444bbdb84286",
   "metadata": {},
   "source": [
    "## Independent"
   ]
  },
  {
   "cell_type": "code",
   "execution_count": 8,
   "id": "76f28bb3-f8e1-4a45-8135-f28e16a21bb3",
   "metadata": {},
   "outputs": [],
   "source": [
    "control, treated, types = simulation(beta_features, treatment_effect , n_samples, independent = True, surv_type = \"surv_weibull\",\n",
    "                                     n_features_multiplier = 3, nnz = 3 , p_treated = 0.5, a_T = 2, a_C = 1, lamb_C = 0.5, \n",
    "                                     data_types_create = True)\n",
    "control = control.drop(columns='treatment')\n",
    "treated = treated.drop(columns='treatment')"
   ]
  },
  {
   "cell_type": "code",
   "execution_count": 9,
   "id": "d3fa42bd-ad3d-4b1b-899c-1110adc88f1d",
   "metadata": {},
   "outputs": [
    {
     "name": "stdout",
     "output_type": "stream",
     "text": [
      "0.1362126245847176 0.2040133779264214\n"
     ]
    }
   ],
   "source": [
    "print(np.mean(control['censor']),np.mean(treated['censor']))"
   ]
  },
  {
   "cell_type": "markdown",
   "id": "548bd49b-b88f-4f1b-8719-e9669cb17990",
   "metadata": {},
   "source": [
    "## Dependent"
   ]
  },
  {
   "cell_type": "code",
   "execution_count": 6,
   "id": "1587ec2b-cf5b-4be8-b44a-4a22ccdbb285",
   "metadata": {},
   "outputs": [],
   "source": [
    "control, treated, types = simulation(beta_features, treatment_effect , n_samples, independent = False, surv_type = \"surv_weibull\",\n",
    "                                     n_features_multiplier = 3, nnz = 3 , p_treated = 0.5, a_T = 2, a_C = 1, lamb_C = 0.15, \n",
    "                                     data_types_create = True)\n",
    "control = control.drop(columns='treatment')\n",
    "treated = treated.drop(columns='treatment')"
   ]
  },
  {
   "cell_type": "code",
   "execution_count": 7,
   "id": "41726861-7d0c-4630-a8a0-9b983fabfa47",
   "metadata": {},
   "outputs": [
    {
     "name": "stdout",
     "output_type": "stream",
     "text": [
      "0.13953488372093023 0.12709030100334448\n"
     ]
    }
   ],
   "source": [
    "print(np.mean(control['censor']),np.mean(treated['censor']))"
   ]
  },
  {
   "cell_type": "markdown",
   "id": "5e8c377d-d158-4bb5-beef-ede86a032a80",
   "metadata": {},
   "source": [
    "## Compute expected power / level via Schoenfeld formula\n",
    "\n",
    "$$D = \\frac{(\\Phi^{-1}(\\beta)+\\Phi^{-1}(1-\\alpha))^2}{P_{cont}(1 - P_{cont}) log^2(\\Delta)}$$\n",
    "where \n",
    "- $D$ is the number of deaths\n",
    "- $\\alpha$ is the level\n",
    "- $\\beta$ is the power\n",
    "- $P_{cont}$ is the proportion of patients in the control arm\n",
    "- $\\Delta$ is the hazard ratio"
   ]
  },
  {
   "cell_type": "markdown",
   "id": "7db137ed-9aa6-42b0-94d4-98a063fef9cb",
   "metadata": {},
   "source": [
    "D"
   ]
  },
  {
   "cell_type": "code",
   "execution_count": 14,
   "id": "fa9523d1-a05c-45b7-b902-31c5f5f5039c",
   "metadata": {},
   "outputs": [
    {
     "name": "stdout",
     "output_type": "stream",
     "text": [
      "520\n"
     ]
    }
   ],
   "source": [
    "data = pd.concat([control,treated],ignore_index=True)\n",
    "D = np.sum(1-data['censor'])\n",
    "print(D)"
   ]
  },
  {
   "cell_type": "code",
   "execution_count": 15,
   "id": "d9de8585-93b9-4d91-bded-6484ec512d5a",
   "metadata": {},
   "outputs": [],
   "source": [
    "alpha = 0.05\n",
    "p_treated = 0.5\n",
    "treatment_effect = 0.5\n",
    "expected_power = norm.cdf(np.sqrt( D * p_treated * (1 - p_treated) * (treatment_effect)**2 ) - norm.ppf(1 - alpha/2))"
   ]
  },
  {
   "cell_type": "code",
   "execution_count": 16,
   "id": "47ea842e-4538-4d8c-b9cb-c5e5472593de",
   "metadata": {},
   "outputs": [
    {
     "data": {
      "text/plain": [
       "0.999908323558307"
      ]
     },
     "execution_count": 16,
     "metadata": {},
     "output_type": "execute_result"
    }
   ],
   "source": [
    "expected_power"
   ]
  },
  {
   "cell_type": "code",
   "execution_count": null,
   "id": "1605b973-b4da-422c-a2e1-51c8ee05aa93",
   "metadata": {},
   "outputs": [],
   "source": []
  }
 ],
 "metadata": {
  "kernelspec": {
   "display_name": "Python 3 (ipykernel)",
   "language": "python",
   "name": "python3"
  },
  "language_info": {
   "codemirror_mode": {
    "name": "ipython",
    "version": 3
   },
   "file_extension": ".py",
   "mimetype": "text/x-python",
   "name": "python",
   "nbconvert_exporter": "python",
   "pygments_lexer": "ipython3",
   "version": "3.12.9"
  }
 },
 "nbformat": 4,
 "nbformat_minor": 5
}
