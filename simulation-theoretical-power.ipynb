{
 "cells": [
  {
   "cell_type": "code",
   "execution_count": 1,
   "id": "92330b03-4d65-47de-bbad-6769191bbb10",
   "metadata": {},
   "outputs": [
    {
     "name": "stdout",
     "output_type": "stream",
     "text": [
      "\n",
      "[KeOps] Warning : There were warnings or errors :\n",
      "/bin/sh: brew: command not found\n",
      "\n",
      "[KeOps] Warning : CUDA libraries not found or could not be loaded; Switching to CPU only.\n",
      "\n",
      "[KeOps] Warning : There were warnings or errors :\n",
      "/bin/sh: brew: command not found\n",
      "\n",
      "[KeOps] Warning : OpenMP library not found, it must be downloaded through Homebrew for apple Silicon chips\n",
      "[KeOps] Warning : OpenMP support is not available. Disabling OpenMP.\n"
     ]
    }
   ],
   "source": [
    "import numpy as np\n",
    "import pandas as pd\n",
    "import torch\n",
    "from scipy.linalg import toeplitz\n",
    "from scipy.stats import norm\n",
    "\n",
    "import matplotlib.pyplot as plt\n",
    "from tableone import TableOne\n",
    "from sksurv.nonparametric import kaplan_meier_estimator\n",
    "\n",
    "from utils import data_processing, visualization\n",
    "from utils.simulations import *\n",
    "from execute import surv_hivae\n",
    "from utils.metrics import log_rank, cox_estimation, fit_cox_model"
   ]
  },
  {
   "cell_type": "code",
   "execution_count": 2,
   "id": "cb4c7742-119c-42af-8ee9-2ed12d2db15c",
   "metadata": {},
   "outputs": [],
   "source": [
    "n_features_bytype = 6\n",
    "n_active_features = 3 \n",
    "treatment_effect = 0.5\n",
    "surv_type = \"surv_weibull\"\n",
    "feature_types_list = ['real','cat']\n",
    "treat_effect_list = np.arange(0., 1.1, 0.2)\n",
    "coef_init_univ = true_univ_coef(treat_effect_list, \n",
    "                                     n_features_bytype = n_features_bytype,\n",
    "                                     n_active_features = n_active_features,\n",
    "                                     feature_types_list = feature_types_list, \n",
    "                                     surv_type = surv_type,\n",
    "                                     shape_T = 2, shape_C = 2, scale_C = 6., scale_C_indep = 4.5)"
   ]
  },
  {
   "cell_type": "code",
   "execution_count": 3,
   "id": "143acc58-09b3-4414-8899-d1019add1cf4",
   "metadata": {},
   "outputs": [
    {
     "data": {
      "text/plain": [
       "array([-0.00102886,  0.11059371,  0.22651491,  0.34644741,  0.44099892,\n",
       "        0.55165672])"
      ]
     },
     "execution_count": 3,
     "metadata": {},
     "output_type": "execute_result"
    }
   ],
   "source": [
    "coef_init_univ"
   ]
  },
  {
   "cell_type": "markdown",
   "id": "5e8c377d-d158-4bb5-beef-ede86a032a80",
   "metadata": {},
   "source": [
    "## Compute expected power / level via Schoenfeld formula\n",
    "\n",
    "$$D = \\frac{(\\Phi^{-1}(\\beta)+\\Phi^{-1}(1-\\alpha))^2}{P_{cont}(1 - P_{cont}) log^2(\\Delta)}$$\n",
    "where \n",
    "- $D$ is the number of deaths\n",
    "- $\\alpha$ is the level\n",
    "- $\\beta$ is the power\n",
    "- $P_{cont}$ is the proportion of patients in the control arm\n",
    "- $\\Delta$ is the hazard ratio"
   ]
  },
  {
   "cell_type": "markdown",
   "id": "7db137ed-9aa6-42b0-94d4-98a063fef9cb",
   "metadata": {},
   "source": [
    "D"
   ]
  },
  {
   "cell_type": "markdown",
   "id": "210118b1-0382-41c4-b23a-1e74903f1896",
   "metadata": {},
   "source": [
    "## Replication"
   ]
  },
  {
   "cell_type": "code",
   "execution_count": 4,
   "id": "adb5d164-744b-4fba-9dae-b4918fab88b4",
   "metadata": {},
   "outputs": [],
   "source": [
    "n_generated_dataset = 50\n",
    "dataset_name = \"Simulations\""
   ]
  },
  {
   "cell_type": "markdown",
   "id": "cf922957-a29a-4bde-a0aa-0544acee21b2",
   "metadata": {},
   "source": [
    "## Independent"
   ]
  },
  {
   "cell_type": "code",
   "execution_count": 5,
   "id": "3a0becd1-70ae-4fb9-91d8-ab68c270c9aa",
   "metadata": {},
   "outputs": [
    {
     "name": "stdout",
     "output_type": "stream",
     "text": [
      "0.0\n",
      "0.2\n",
      "0.4\n",
      "0.6000000000000001\n",
      "0.8\n",
      "1.0\n"
     ]
    }
   ],
   "source": [
    "M = 500\n",
    "\n",
    "n_samples = 600\n",
    "n_features_bytype = 5\n",
    "n_active_features = 3 \n",
    "treatment_effect = 0.5\n",
    "surv_type = \"surv_weibull\"\n",
    "feature_types_list = ['real','cat']\n",
    "log_p_value = []\n",
    "log_p_value_gen = []\n",
    "simu_num = []\n",
    "treat_coef = []\n",
    "p_treat = []\n",
    "D_control = []\n",
    "D_treated = []\n",
    "treat_effect_list = np.arange(0., 1.1, 0.2)\n",
    "\n",
    "for treat_effect in treat_effect_list:\n",
    "    print(treat_effect)\n",
    "    for m in np.arange(M):\n",
    "        #if m % 10 == 0:\n",
    "        #    print(m)\n",
    "        seed = int(np.random.randint(1000,size = 1))\n",
    "        control, treated, types = simulation(treat_effect, n_samples,\n",
    "                                     n_features_bytype = n_features_bytype,\n",
    "                                     n_active_features = n_active_features,\n",
    "                                     feature_types_list = feature_types_list, \n",
    "                                     surv_type = surv_type,\n",
    "                                     shape_T = 2, shape_C = 2, scale_C = 6., scale_C_indep = 4.5,seed=seed)\n",
    "        \n",
    "        control = control.drop(columns='treatment')\n",
    "        treated = treated.drop(columns='treatment')\n",
    "        D_control.append(control['censor'].sum())\n",
    "        D_treated.append(treated['censor'].sum()) \n",
    "        \n",
    "        p_value_init = compute_logrank_test(control, treated)\n",
    "    \n",
    "        log_p_value.append(p_value_init)\n",
    "        simu_num.append(m)\n",
    "        treat_coef.append(treat_effect)\n",
    "        p_treat.append(treated.shape[0]/ (treated.shape[0]+control.shape[0]) )"
   ]
  },
  {
   "cell_type": "code",
   "execution_count": 6,
   "id": "6bc0f947-e59d-4982-a348-bf61ad88053e",
   "metadata": {},
   "outputs": [],
   "source": [
    "\n",
    "results = pd.DataFrame({'XP_num' : simu_num, \"log_pvalue_init\" : log_p_value, \"treat_coef\" : treat_coef, 'D_control' : D_control,\n",
    "                         'D_treated' : D_treated})\n",
    "results[\"reject_H0_init\"] = results['log_pvalue_init'] > -np.log(0.05)"
   ]
  },
  {
   "cell_type": "code",
   "execution_count": 7,
   "id": "62c481d3-0b82-426c-b2c5-7d074b435dae",
   "metadata": {},
   "outputs": [
    {
     "data": {
      "text/html": [
       "<div>\n",
       "<style scoped>\n",
       "    .dataframe tbody tr th:only-of-type {\n",
       "        vertical-align: middle;\n",
       "    }\n",
       "\n",
       "    .dataframe tbody tr th {\n",
       "        vertical-align: top;\n",
       "    }\n",
       "\n",
       "    .dataframe thead th {\n",
       "        text-align: right;\n",
       "    }\n",
       "</style>\n",
       "<table border=\"1\" class=\"dataframe\">\n",
       "  <thead>\n",
       "    <tr style=\"text-align: right;\">\n",
       "      <th></th>\n",
       "      <th>XP_num</th>\n",
       "      <th>log_pvalue_init</th>\n",
       "      <th>treat_coef</th>\n",
       "      <th>D_control</th>\n",
       "      <th>D_treated</th>\n",
       "      <th>reject_H0_init</th>\n",
       "    </tr>\n",
       "  </thead>\n",
       "  <tbody>\n",
       "    <tr>\n",
       "      <th>0</th>\n",
       "      <td>0</td>\n",
       "      <td>0.023239</td>\n",
       "      <td>0.0</td>\n",
       "      <td>265</td>\n",
       "      <td>269</td>\n",
       "      <td>False</td>\n",
       "    </tr>\n",
       "    <tr>\n",
       "      <th>1</th>\n",
       "      <td>1</td>\n",
       "      <td>0.152106</td>\n",
       "      <td>0.0</td>\n",
       "      <td>252</td>\n",
       "      <td>287</td>\n",
       "      <td>False</td>\n",
       "    </tr>\n",
       "    <tr>\n",
       "      <th>2</th>\n",
       "      <td>2</td>\n",
       "      <td>0.996542</td>\n",
       "      <td>0.0</td>\n",
       "      <td>272</td>\n",
       "      <td>261</td>\n",
       "      <td>False</td>\n",
       "    </tr>\n",
       "    <tr>\n",
       "      <th>3</th>\n",
       "      <td>3</td>\n",
       "      <td>1.080469</td>\n",
       "      <td>0.0</td>\n",
       "      <td>257</td>\n",
       "      <td>273</td>\n",
       "      <td>False</td>\n",
       "    </tr>\n",
       "    <tr>\n",
       "      <th>4</th>\n",
       "      <td>4</td>\n",
       "      <td>0.172951</td>\n",
       "      <td>0.0</td>\n",
       "      <td>283</td>\n",
       "      <td>250</td>\n",
       "      <td>False</td>\n",
       "    </tr>\n",
       "  </tbody>\n",
       "</table>\n",
       "</div>"
      ],
      "text/plain": [
       "   XP_num  log_pvalue_init  treat_coef  D_control  D_treated  reject_H0_init\n",
       "0       0         0.023239         0.0        265        269           False\n",
       "1       1         0.152106         0.0        252        287           False\n",
       "2       2         0.996542         0.0        272        261           False\n",
       "3       3         1.080469         0.0        257        273           False\n",
       "4       4         0.172951         0.0        283        250           False"
      ]
     },
     "execution_count": 7,
     "metadata": {},
     "output_type": "execute_result"
    }
   ],
   "source": [
    "results.head()"
   ]
  },
  {
   "cell_type": "code",
   "execution_count": 13,
   "id": "aa4a8094-685a-42a7-a5a0-e2f0cf0bf237",
   "metadata": {},
   "outputs": [],
   "source": [
    "alpha = 0.05\n",
    "expected_power = []\n",
    "for j in np.arange(treat_effect_list.shape[0]):\n",
    "    treatment_effect = treat_effect_list[j]\n",
    "    Dc = results.groupby(\"treat_coef\").mean()[\"D_control\"].to_numpy()[j]\n",
    "    Dt = results.groupby(\"treat_coef\").mean()[\"D_treated\"].to_numpy()[j]\n",
    "    #powe = norm.cdf(np.sqrt( D * p_treated * (1 - p_treated)) * np.abs(treatment_effect) - norm.ppf(1-alpha/2))\n",
    "    #powe = norm.cdf(np.sqrt( D * p_treated * p_treated * () / (1 + p_treated)) * (1-np.exp( np.abs(treatment_effect)) - norm.ppf(1-alpha/2))\n",
    "\n",
    "    powe = cpower(Dc , Dt , coef_init_univ[j] ,alpha)\n",
    "    expected_power.append(powe)\n",
    "        #norm.cdf(np.sqrt( D * p_treated * (1 - p_treated)) * np.abs(treatment_effect)  - norm.ppf(1 - alpha)))"
   ]
  },
  {
   "cell_type": "code",
   "execution_count": 14,
   "id": "e69bb490-778c-4802-a6de-2afdb728e358",
   "metadata": {},
   "outputs": [
    {
     "data": {
      "text/html": [
       "<div>\n",
       "<style scoped>\n",
       "    .dataframe tbody tr th:only-of-type {\n",
       "        vertical-align: middle;\n",
       "    }\n",
       "\n",
       "    .dataframe tbody tr th {\n",
       "        vertical-align: top;\n",
       "    }\n",
       "\n",
       "    .dataframe thead th {\n",
       "        text-align: right;\n",
       "    }\n",
       "</style>\n",
       "<table border=\"1\" class=\"dataframe\">\n",
       "  <thead>\n",
       "    <tr style=\"text-align: right;\">\n",
       "      <th></th>\n",
       "      <th>XP_num</th>\n",
       "      <th>log_pvalue_init</th>\n",
       "      <th>D_control</th>\n",
       "      <th>D_treated</th>\n",
       "      <th>reject_H0_init</th>\n",
       "    </tr>\n",
       "    <tr>\n",
       "      <th>treat_coef</th>\n",
       "      <th></th>\n",
       "      <th></th>\n",
       "      <th></th>\n",
       "      <th></th>\n",
       "      <th></th>\n",
       "    </tr>\n",
       "  </thead>\n",
       "  <tbody>\n",
       "    <tr>\n",
       "      <th>0.0</th>\n",
       "      <td>249.983968</td>\n",
       "      <td>1.117012</td>\n",
       "      <td>268.593186</td>\n",
       "      <td>259.094188</td>\n",
       "      <td>0.0</td>\n",
       "    </tr>\n",
       "    <tr>\n",
       "      <th>0.2</th>\n",
       "      <td>249.580838</td>\n",
       "      <td>0.835543</td>\n",
       "      <td>268.634731</td>\n",
       "      <td>264.395210</td>\n",
       "      <td>0.0</td>\n",
       "    </tr>\n",
       "    <tr>\n",
       "      <th>0.4</th>\n",
       "      <td>249.424870</td>\n",
       "      <td>1.950291</td>\n",
       "      <td>267.854922</td>\n",
       "      <td>269.642487</td>\n",
       "      <td>0.0</td>\n",
       "    </tr>\n",
       "    <tr>\n",
       "      <th>0.6</th>\n",
       "      <td>245.000000</td>\n",
       "      <td>2.669399</td>\n",
       "      <td>284.000000</td>\n",
       "      <td>268.000000</td>\n",
       "      <td>0.0</td>\n",
       "    </tr>\n",
       "  </tbody>\n",
       "</table>\n",
       "</div>"
      ],
      "text/plain": [
       "                XP_num  log_pvalue_init   D_control   D_treated  \\\n",
       "treat_coef                                                        \n",
       "0.0         249.983968         1.117012  268.593186  259.094188   \n",
       "0.2         249.580838         0.835543  268.634731  264.395210   \n",
       "0.4         249.424870         1.950291  267.854922  269.642487   \n",
       "0.6         245.000000         2.669399  284.000000  268.000000   \n",
       "\n",
       "            reject_H0_init  \n",
       "treat_coef                  \n",
       "0.0                    0.0  \n",
       "0.2                    0.0  \n",
       "0.4                    0.0  \n",
       "0.6                    0.0  "
      ]
     },
     "execution_count": 14,
     "metadata": {},
     "output_type": "execute_result"
    }
   ],
   "source": [
    "results[results[\"reject_H0_init\"] ==  False].groupby([\"treat_coef\"]).mean()"
   ]
  },
  {
   "cell_type": "code",
   "execution_count": 15,
   "id": "e1a89875-aba0-4d32-9ba1-08909529b853",
   "metadata": {},
   "outputs": [
    {
     "data": {
      "text/plain": [
       "Text(0, 0.5, 'Level/power')"
      ]
     },
     "execution_count": 15,
     "metadata": {},
     "output_type": "execute_result"
    },
    {
     "data": {
      "image/png": "[encoded data removed]",
      "text/plain": [
       "<Figure size 640x480 with 1 Axes>"
      ]
     },
     "metadata": {},
     "output_type": "display_data"
    }
   ],
   "source": [
    "puiss_init = results.groupby(\"treat_coef\").mean()[\"reject_H0_init\"].to_numpy()\n",
    "plt.scatter(treat_effect_list,puiss_init,label = \"All init.\")\n",
    "plt.plot(treat_effect_list,expected_power,label = \"Expected level/power\")\n",
    "plt.xlabel(\"Treatment effect\")\n",
    "plt.ylabel(\"Level/power\")"
   ]
  },
  {
   "cell_type": "code",
   "execution_count": null,
   "id": "9986811b-5b87-489b-8b97-d8ef83f70412",
   "metadata": {},
   "outputs": [],
   "source": []
  },
  {
   "cell_type": "code",
   "execution_count": null,
   "id": "6a95b884-c9e9-49e5-b1ae-9461c3a26d1d",
   "metadata": {},
   "outputs": [],
   "source": []
  },
  {
   "cell_type": "code",
   "execution_count": null,
   "id": "ab7f08dc-b7a9-4f52-8e15-33e851b48833",
   "metadata": {},
   "outputs": [],
   "source": []
  },
  {
   "cell_type": "code",
   "execution_count": null,
   "id": "7644a623-8bb4-4069-85ac-711d207a107d",
   "metadata": {},
   "outputs": [],
   "source": []
  },
  {
   "cell_type": "code",
   "execution_count": null,
   "id": "157f19a2-3664-4319-ad1c-223c4c0a123d",
   "metadata": {},
   "outputs": [],
   "source": []
  }
 ],
 "metadata": {
  "kernelspec": {
   "display_name": "Python 3 (ipykernel)",
   "language": "python",
   "name": "python3"
  },
  "language_info": {
   "codemirror_mode": {
    "name": "ipython",
    "version": 3
   },
   "file_extension": ".py",
   "mimetype": "text/x-python",
   "name": "python",
   "nbconvert_exporter": "python",
   "pygments_lexer": "ipython3",
   "version": "3.12.9"
  }
 },
 "nbformat": 4,
 "nbformat_minor": 5
}
