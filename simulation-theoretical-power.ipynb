{
 "cells": [
  {
   "cell_type": "code",
   "execution_count": 1,
   "id": "92330b03-4d65-47de-bbad-6769191bbb10",
   "metadata": {},
   "outputs": [],
   "source": [
    "import numpy as np\n",
    "import pandas as pd\n",
    "import torch\n",
    "from scipy.linalg import toeplitz\n",
    "from scipy.stats import norm\n",
    "\n",
    "import matplotlib.pyplot as plt\n",
    "from tableone import TableOne\n",
    "from sksurv.nonparametric import kaplan_meier_estimator\n",
    "\n",
    "from utils import data_processing, visualization\n",
    "from utils.simulations import *\n",
    "from execute import surv_hivae\n",
    "#from utils.metrics import log_rank, cox_estimation"
   ]
  },
  {
   "cell_type": "code",
   "execution_count": 55,
   "id": "cb4c7742-119c-42af-8ee9-2ed12d2db15c",
   "metadata": {},
   "outputs": [],
   "source": [
    "n_samples = 2000\n",
    "n_features_bytype = 4\n",
    "n_features_multiplier = 3 "
   ]
  },
  {
   "cell_type": "code",
   "execution_count": 56,
   "id": "97547d37-97aa-47ae-ad10-05bfb4383238",
   "metadata": {},
   "outputs": [],
   "source": [
    "beta_features = np.concatenate([weights_sparse_exp(n_features_bytype,3),weights_sparse_exp(n_features_bytype,3),\n",
    "                       weights_sparse_exp(n_features_bytype,3)])\n",
    "treatment_effect = 0"
   ]
  },
  {
   "cell_type": "code",
   "execution_count": 57,
   "id": "76f28bb3-f8e1-4a45-8135-f28e16a21bb3",
   "metadata": {},
   "outputs": [],
   "source": [
    "control, treated, types = simulation(beta_features, treatment_effect , n_samples,surv_type = \"surv_weibull\")\n",
    "control = control.drop(columns='treatment')\n",
    "treated = treated.drop(columns='treatment')"
   ]
  },
  {
   "cell_type": "code",
   "execution_count": 58,
   "id": "b82afcaf-4c16-467e-8ca3-d70ff98a8288",
   "metadata": {},
   "outputs": [
    {
     "data": {
      "text/html": [
       "<div>\n",
       "<style scoped>\n",
       "    .dataframe tbody tr th:only-of-type {\n",
       "        vertical-align: middle;\n",
       "    }\n",
       "\n",
       "    .dataframe tbody tr th {\n",
       "        vertical-align: top;\n",
       "    }\n",
       "\n",
       "    .dataframe thead th {\n",
       "        text-align: right;\n",
       "    }\n",
       "</style>\n",
       "<table border=\"1\" class=\"dataframe\">\n",
       "  <thead>\n",
       "    <tr style=\"text-align: right;\">\n",
       "      <th></th>\n",
       "      <th>0</th>\n",
       "      <th>1</th>\n",
       "      <th>2</th>\n",
       "      <th>3</th>\n",
       "      <th>4</th>\n",
       "      <th>5</th>\n",
       "      <th>6</th>\n",
       "      <th>7</th>\n",
       "      <th>8</th>\n",
       "      <th>9</th>\n",
       "      <th>10</th>\n",
       "      <th>11</th>\n",
       "      <th>time</th>\n",
       "      <th>censor</th>\n",
       "    </tr>\n",
       "  </thead>\n",
       "  <tbody>\n",
       "    <tr>\n",
       "      <th>0</th>\n",
       "      <td>0.294620</td>\n",
       "      <td>-0.454517</td>\n",
       "      <td>-3.309335</td>\n",
       "      <td>-2.479098</td>\n",
       "      <td>1.459420</td>\n",
       "      <td>2.293280</td>\n",
       "      <td>0.555385</td>\n",
       "      <td>1.291890</td>\n",
       "      <td>1.0</td>\n",
       "      <td>1.0</td>\n",
       "      <td>1.0</td>\n",
       "      <td>0.0</td>\n",
       "      <td>0.481217</td>\n",
       "      <td>0</td>\n",
       "    </tr>\n",
       "    <tr>\n",
       "      <th>1</th>\n",
       "      <td>0.583801</td>\n",
       "      <td>-0.203573</td>\n",
       "      <td>-0.759703</td>\n",
       "      <td>-0.218896</td>\n",
       "      <td>0.316379</td>\n",
       "      <td>0.202498</td>\n",
       "      <td>0.909899</td>\n",
       "      <td>0.209986</td>\n",
       "      <td>0.0</td>\n",
       "      <td>0.0</td>\n",
       "      <td>1.0</td>\n",
       "      <td>1.0</td>\n",
       "      <td>0.166368</td>\n",
       "      <td>0</td>\n",
       "    </tr>\n",
       "    <tr>\n",
       "      <th>2</th>\n",
       "      <td>0.961690</td>\n",
       "      <td>0.516959</td>\n",
       "      <td>1.325909</td>\n",
       "      <td>0.998877</td>\n",
       "      <td>1.670138</td>\n",
       "      <td>1.271723</td>\n",
       "      <td>0.327010</td>\n",
       "      <td>1.012246</td>\n",
       "      <td>1.0</td>\n",
       "      <td>1.0</td>\n",
       "      <td>1.0</td>\n",
       "      <td>1.0</td>\n",
       "      <td>0.006272</td>\n",
       "      <td>0</td>\n",
       "    </tr>\n",
       "    <tr>\n",
       "      <th>5</th>\n",
       "      <td>-0.043604</td>\n",
       "      <td>-0.157901</td>\n",
       "      <td>-0.063841</td>\n",
       "      <td>-0.187395</td>\n",
       "      <td>0.268730</td>\n",
       "      <td>0.547591</td>\n",
       "      <td>0.851300</td>\n",
       "      <td>0.869805</td>\n",
       "      <td>0.0</td>\n",
       "      <td>0.0</td>\n",
       "      <td>0.0</td>\n",
       "      <td>0.0</td>\n",
       "      <td>0.313313</td>\n",
       "      <td>0</td>\n",
       "    </tr>\n",
       "    <tr>\n",
       "      <th>6</th>\n",
       "      <td>0.759202</td>\n",
       "      <td>0.072134</td>\n",
       "      <td>-0.231748</td>\n",
       "      <td>-0.498316</td>\n",
       "      <td>0.264136</td>\n",
       "      <td>0.804601</td>\n",
       "      <td>1.644238</td>\n",
       "      <td>0.125270</td>\n",
       "      <td>0.0</td>\n",
       "      <td>0.0</td>\n",
       "      <td>0.0</td>\n",
       "      <td>0.0</td>\n",
       "      <td>0.039479</td>\n",
       "      <td>0</td>\n",
       "    </tr>\n",
       "  </tbody>\n",
       "</table>\n",
       "</div>"
      ],
      "text/plain": [
       "          0         1         2         3         4         5         6  \\\n",
       "0  0.294620 -0.454517 -3.309335 -2.479098  1.459420  2.293280  0.555385   \n",
       "1  0.583801 -0.203573 -0.759703 -0.218896  0.316379  0.202498  0.909899   \n",
       "2  0.961690  0.516959  1.325909  0.998877  1.670138  1.271723  0.327010   \n",
       "5 -0.043604 -0.157901 -0.063841 -0.187395  0.268730  0.547591  0.851300   \n",
       "6  0.759202  0.072134 -0.231748 -0.498316  0.264136  0.804601  1.644238   \n",
       "\n",
       "          7    8    9   10   11      time  censor  \n",
       "0  1.291890  1.0  1.0  1.0  0.0  0.481217       0  \n",
       "1  0.209986  0.0  0.0  1.0  1.0  0.166368       0  \n",
       "2  1.012246  1.0  1.0  1.0  1.0  0.006272       0  \n",
       "5  0.869805  0.0  0.0  0.0  0.0  0.313313       0  \n",
       "6  0.125270  0.0  0.0  0.0  0.0  0.039479       0  "
      ]
     },
     "execution_count": 58,
     "metadata": {},
     "output_type": "execute_result"
    }
   ],
   "source": [
    "control.head()"
   ]
  },
  {
   "cell_type": "code",
   "execution_count": 59,
   "id": "d3fa42bd-ad3d-4b1b-899c-1110adc88f1d",
   "metadata": {},
   "outputs": [
    {
     "name": "stdout",
     "output_type": "stream",
     "text": [
      "0.15192507804370448 0.15495668912415783\n"
     ]
    }
   ],
   "source": [
    "print(np.mean(control['censor']),np.mean(treated['censor']))"
   ]
  },
  {
   "cell_type": "code",
   "execution_count": 60,
   "id": "c9ff5152-2b66-42e6-b800-cd3310801b19",
   "metadata": {},
   "outputs": [
    {
     "name": "stdout",
     "output_type": "stream",
     "text": [
      "(961, 14) (1039, 14)\n"
     ]
    }
   ],
   "source": [
    "print(control.shape,treated.shape)"
   ]
  },
  {
   "cell_type": "code",
   "execution_count": 61,
   "id": "5d703212-3e71-44a0-bb98-ca2106be719e",
   "metadata": {},
   "outputs": [],
   "source": [
    "dataset_name = \"Simulations\"\n",
    "data_file_control= \"./dataset/\" + dataset_name + \"/data_control.csv\"\n",
    "feat_types_file_control = \"./dataset/\" + dataset_name + \"/data_types_control.csv\"\n",
    "data_file_treated= \"./dataset/\" + dataset_name + \"/data_treated.csv\"\n",
    "feat_types_file_treated= \"./dataset/\" + dataset_name + \"/data_types_treated.csv\"\n",
    "\n",
    "# If the dataset has no missing data, leave the \"miss_file\" variable empty\n",
    "miss_file = \"dataset/\" + dataset_name + \"/Missing.csv\"\n",
    "true_miss_file = None"
   ]
  },
  {
   "cell_type": "code",
   "execution_count": 62,
   "id": "5da6ec13-554c-4cd3-b6ba-f3f661aef9c1",
   "metadata": {},
   "outputs": [],
   "source": [
    "control.to_csv(data_file_control,index=False , header=False)\n",
    "types.to_csv(feat_types_file_control)\n",
    "treated.to_csv(data_file_treated,index=False , header=False)\n",
    "types.to_csv(feat_types_file_treated)"
   ]
  },
  {
   "cell_type": "markdown",
   "id": "5e8c377d-d158-4bb5-beef-ede86a032a80",
   "metadata": {},
   "source": [
    "## Compute expected power / level via Schoenfeld formula\n",
    "\n",
    "$$D = \\frac{(\\Phi^{-1}(\\beta)+\\Phi^{-1}(1-\\alpha))^2}{P_{cont}(1 - P_{cont}) log^2(\\Delta)}$$\n",
    "where \n",
    "- $D$ is the number of deaths\n",
    "- $\\alpha$ is the level\n",
    "- $\\beta$ is the power\n",
    "- $P_{cont}$ is the proportion of patients in the control arm\n",
    "- $\\Delta$ is the hazard ratio"
   ]
  },
  {
   "cell_type": "markdown",
   "id": "7db137ed-9aa6-42b0-94d4-98a063fef9cb",
   "metadata": {},
   "source": [
    "D"
   ]
  },
  {
   "cell_type": "code",
   "execution_count": 63,
   "id": "fa9523d1-a05c-45b7-b902-31c5f5f5039c",
   "metadata": {},
   "outputs": [
    {
     "name": "stdout",
     "output_type": "stream",
     "text": [
      "1693\n"
     ]
    }
   ],
   "source": [
    "data = pd.concat([control,treated],ignore_index=True)\n",
    "\n",
    "data['censor']\n",
    "D = n_samples - np.sum(data['censor'])\n",
    "print(D)"
   ]
  },
  {
   "cell_type": "code",
   "execution_count": 64,
   "id": "c3645a55-5c80-4327-87a1-d7f064d5bcec",
   "metadata": {},
   "outputs": [
    {
     "data": {
      "text/html": [
       "<div>\n",
       "<style scoped>\n",
       "    .dataframe tbody tr th:only-of-type {\n",
       "        vertical-align: middle;\n",
       "    }\n",
       "\n",
       "    .dataframe tbody tr th {\n",
       "        vertical-align: top;\n",
       "    }\n",
       "\n",
       "    .dataframe thead th {\n",
       "        text-align: right;\n",
       "    }\n",
       "</style>\n",
       "<table border=\"1\" class=\"dataframe\">\n",
       "  <thead>\n",
       "    <tr style=\"text-align: right;\">\n",
       "      <th></th>\n",
       "      <th>0</th>\n",
       "      <th>1</th>\n",
       "      <th>2</th>\n",
       "      <th>3</th>\n",
       "      <th>4</th>\n",
       "      <th>5</th>\n",
       "      <th>6</th>\n",
       "      <th>7</th>\n",
       "      <th>8</th>\n",
       "      <th>9</th>\n",
       "      <th>10</th>\n",
       "      <th>11</th>\n",
       "      <th>time</th>\n",
       "      <th>censor</th>\n",
       "    </tr>\n",
       "  </thead>\n",
       "  <tbody>\n",
       "    <tr>\n",
       "      <th>0</th>\n",
       "      <td>0.294620</td>\n",
       "      <td>-0.454517</td>\n",
       "      <td>-3.309335</td>\n",
       "      <td>-2.479098</td>\n",
       "      <td>1.459420</td>\n",
       "      <td>2.293280</td>\n",
       "      <td>0.555385</td>\n",
       "      <td>1.291890</td>\n",
       "      <td>1.0</td>\n",
       "      <td>1.0</td>\n",
       "      <td>1.0</td>\n",
       "      <td>0.0</td>\n",
       "      <td>0.481217</td>\n",
       "      <td>0</td>\n",
       "    </tr>\n",
       "    <tr>\n",
       "      <th>1</th>\n",
       "      <td>0.583801</td>\n",
       "      <td>-0.203573</td>\n",
       "      <td>-0.759703</td>\n",
       "      <td>-0.218896</td>\n",
       "      <td>0.316379</td>\n",
       "      <td>0.202498</td>\n",
       "      <td>0.909899</td>\n",
       "      <td>0.209986</td>\n",
       "      <td>0.0</td>\n",
       "      <td>0.0</td>\n",
       "      <td>1.0</td>\n",
       "      <td>1.0</td>\n",
       "      <td>0.166368</td>\n",
       "      <td>0</td>\n",
       "    </tr>\n",
       "    <tr>\n",
       "      <th>2</th>\n",
       "      <td>0.961690</td>\n",
       "      <td>0.516959</td>\n",
       "      <td>1.325909</td>\n",
       "      <td>0.998877</td>\n",
       "      <td>1.670138</td>\n",
       "      <td>1.271723</td>\n",
       "      <td>0.327010</td>\n",
       "      <td>1.012246</td>\n",
       "      <td>1.0</td>\n",
       "      <td>1.0</td>\n",
       "      <td>1.0</td>\n",
       "      <td>1.0</td>\n",
       "      <td>0.006272</td>\n",
       "      <td>0</td>\n",
       "    </tr>\n",
       "    <tr>\n",
       "      <th>3</th>\n",
       "      <td>-0.043604</td>\n",
       "      <td>-0.157901</td>\n",
       "      <td>-0.063841</td>\n",
       "      <td>-0.187395</td>\n",
       "      <td>0.268730</td>\n",
       "      <td>0.547591</td>\n",
       "      <td>0.851300</td>\n",
       "      <td>0.869805</td>\n",
       "      <td>0.0</td>\n",
       "      <td>0.0</td>\n",
       "      <td>0.0</td>\n",
       "      <td>0.0</td>\n",
       "      <td>0.313313</td>\n",
       "      <td>0</td>\n",
       "    </tr>\n",
       "    <tr>\n",
       "      <th>4</th>\n",
       "      <td>0.759202</td>\n",
       "      <td>0.072134</td>\n",
       "      <td>-0.231748</td>\n",
       "      <td>-0.498316</td>\n",
       "      <td>0.264136</td>\n",
       "      <td>0.804601</td>\n",
       "      <td>1.644238</td>\n",
       "      <td>0.125270</td>\n",
       "      <td>0.0</td>\n",
       "      <td>0.0</td>\n",
       "      <td>0.0</td>\n",
       "      <td>0.0</td>\n",
       "      <td>0.039479</td>\n",
       "      <td>0</td>\n",
       "    </tr>\n",
       "  </tbody>\n",
       "</table>\n",
       "</div>"
      ],
      "text/plain": [
       "          0         1         2         3         4         5         6  \\\n",
       "0  0.294620 -0.454517 -3.309335 -2.479098  1.459420  2.293280  0.555385   \n",
       "1  0.583801 -0.203573 -0.759703 -0.218896  0.316379  0.202498  0.909899   \n",
       "2  0.961690  0.516959  1.325909  0.998877  1.670138  1.271723  0.327010   \n",
       "3 -0.043604 -0.157901 -0.063841 -0.187395  0.268730  0.547591  0.851300   \n",
       "4  0.759202  0.072134 -0.231748 -0.498316  0.264136  0.804601  1.644238   \n",
       "\n",
       "          7    8    9   10   11      time  censor  \n",
       "0  1.291890  1.0  1.0  1.0  0.0  0.481217       0  \n",
       "1  0.209986  0.0  0.0  1.0  1.0  0.166368       0  \n",
       "2  1.012246  1.0  1.0  1.0  1.0  0.006272       0  \n",
       "3  0.869805  0.0  0.0  0.0  0.0  0.313313       0  \n",
       "4  0.125270  0.0  0.0  0.0  0.0  0.039479       0  "
      ]
     },
     "execution_count": 64,
     "metadata": {},
     "output_type": "execute_result"
    }
   ],
   "source": [
    "data.head()"
   ]
  },
  {
   "cell_type": "code",
   "execution_count": 65,
   "id": "d9de8585-93b9-4d91-bded-6484ec512d5a",
   "metadata": {},
   "outputs": [],
   "source": [
    "alpha = 0.05\n",
    "p_treated = treated.shape[0] / n_samples\n",
    "treatment_effect = 0.5\n",
    "expected_power = norm.cdf(np.sqrt( D * p_treated * (1 - p_treated) * (treatment_effect)**2 ) - norm.ppf(1 - alpha/2))"
   ]
  },
  {
   "cell_type": "code",
   "execution_count": 66,
   "id": "47ea842e-4538-4d8c-b9cb-c5e5472593de",
   "metadata": {},
   "outputs": [
    {
     "data": {
      "text/plain": [
       "np.float64(1.0)"
      ]
     },
     "execution_count": 66,
     "metadata": {},
     "output_type": "execute_result"
    }
   ],
   "source": [
    "expected_power"
   ]
  },
  {
   "cell_type": "markdown",
   "id": "210118b1-0382-41c4-b23a-1e74903f1896",
   "metadata": {},
   "source": [
    "## Replication"
   ]
  },
  {
   "cell_type": "code",
   "execution_count": 67,
   "id": "adb5d164-744b-4fba-9dae-b4918fab88b4",
   "metadata": {},
   "outputs": [],
   "source": [
    "n_generated_dataset = 50\n",
    "dataset_name = \"Simulations\""
   ]
  },
  {
   "cell_type": "code",
   "execution_count": 68,
   "id": "e933a2f2-fff1-4470-8fad-d7132c331902",
   "metadata": {},
   "outputs": [],
   "source": [
    "alphas = np.arange(0,1.5,0.5)"
   ]
  },
  {
   "cell_type": "markdown",
   "id": "cf922957-a29a-4bde-a0aa-0544acee21b2",
   "metadata": {},
   "source": [
    "## Independent"
   ]
  },
  {
   "cell_type": "code",
   "execution_count": 69,
   "id": "3a0becd1-70ae-4fb9-91d8-ab68c270c9aa",
   "metadata": {},
   "outputs": [
    {
     "name": "stdout",
     "output_type": "stream",
     "text": [
      "0\n",
      "10\n",
      "20\n",
      "30\n",
      "40\n",
      "50\n",
      "60\n",
      "70\n",
      "80\n",
      "90\n",
      "100\n",
      "110\n",
      "120\n",
      "130\n",
      "140\n",
      "150\n",
      "160\n",
      "170\n",
      "180\n",
      "190\n",
      "200\n",
      "210\n",
      "220\n",
      "230\n",
      "240\n",
      "250\n",
      "260\n",
      "270\n",
      "280\n",
      "290\n",
      "300\n",
      "310\n",
      "320\n",
      "330\n",
      "340\n",
      "350\n",
      "360\n",
      "370\n",
      "380\n",
      "390\n",
      "400\n",
      "410\n",
      "420\n",
      "430\n",
      "440\n",
      "450\n",
      "460\n",
      "470\n",
      "480\n",
      "490\n",
      "0\n",
      "10\n",
      "20\n",
      "30\n",
      "40\n",
      "50\n",
      "60\n",
      "70\n",
      "80\n",
      "90\n",
      "100\n",
      "110\n",
      "120\n",
      "130\n",
      "140\n",
      "150\n",
      "160\n",
      "170\n",
      "180\n",
      "190\n",
      "200\n",
      "210\n",
      "220\n",
      "230\n",
      "240\n",
      "250\n",
      "260\n",
      "270\n",
      "280\n",
      "290\n",
      "300\n",
      "310\n",
      "320\n",
      "330\n",
      "340\n",
      "350\n",
      "360\n",
      "370\n",
      "380\n",
      "390\n",
      "400\n",
      "410\n",
      "420\n",
      "430\n",
      "440\n",
      "450\n",
      "460\n",
      "470\n",
      "480\n",
      "490\n",
      "0\n",
      "10\n",
      "20\n",
      "30\n",
      "40\n",
      "50\n",
      "60\n",
      "70\n",
      "80\n",
      "90\n",
      "100\n",
      "110\n",
      "120\n",
      "130\n",
      "140\n",
      "150\n",
      "160\n",
      "170\n",
      "180\n",
      "190\n",
      "200\n",
      "210\n",
      "220\n",
      "230\n",
      "240\n",
      "250\n",
      "260\n",
      "270\n",
      "280\n",
      "290\n",
      "300\n",
      "310\n",
      "320\n",
      "330\n",
      "340\n",
      "350\n",
      "360\n",
      "370\n",
      "380\n",
      "390\n",
      "400\n",
      "410\n",
      "420\n",
      "430\n",
      "440\n",
      "450\n",
      "460\n",
      "470\n",
      "480\n",
      "490\n"
     ]
    }
   ],
   "source": [
    "M = 500\n",
    "log_p_value = []\n",
    "log_p_value_gen = []\n",
    "simu_num = []\n",
    "treat_coef = []\n",
    "D = []\n",
    "for t in alphas:\n",
    "    treatment_effect = t\n",
    "    for m in np.arange(M):\n",
    "        if m % 10 == 0:\n",
    "            print(m)\n",
    "        control, treated = simulation(beta_features, treatment_effect , n_samples,surv_type = \"surv_weibull\", data_types_create=False)\n",
    "        \n",
    "        control = control.drop(columns='treatment')\n",
    "        treated = treated.drop(columns='treatment')\n",
    "        D.append(control['censor'].sum()+treated['censor'].sum())\n",
    "        \n",
    "        data_file_control= \"./dataset/\" + dataset_name + \"/data_control_gen\" + str(m) +\".csv\"\n",
    "        data_file_treated= \"./dataset/\" + dataset_name + \"/data_treated_gen\" + str(m) +\".csv\"\n",
    "        \n",
    "        \n",
    "        control.to_csv(data_file_control,index=False , header=False)\n",
    "        treated.to_csv(data_file_treated,index=False , header=False)\n",
    "        \n",
    "\n",
    "        p_value_init = compute_logrank_test(control, treated)\n",
    "    \n",
    "        log_p_value.append(p_value_init)\n",
    "        simu_num.append(m)\n",
    "        treat_coef.append(treatment_effect)\n"
   ]
  },
  {
   "cell_type": "code",
   "execution_count": 70,
   "id": "6bc0f947-e59d-4982-a348-bf61ad88053e",
   "metadata": {},
   "outputs": [],
   "source": [
    "\n",
    "results = pd.DataFrame({'XP_num' : simu_num, \"log_pvalue_init\" : log_p_value, \"treat_coef\" : treat_coef, 'D' : D})\n",
    "results[\"reject_H0_init\"] = results['log_pvalue_init'] > -np.log(0.05)"
   ]
  },
  {
   "cell_type": "code",
   "execution_count": 71,
   "id": "62c481d3-0b82-426c-b2c5-7d074b435dae",
   "metadata": {},
   "outputs": [
    {
     "data": {
      "text/html": [
       "<div>\n",
       "<style scoped>\n",
       "    .dataframe tbody tr th:only-of-type {\n",
       "        vertical-align: middle;\n",
       "    }\n",
       "\n",
       "    .dataframe tbody tr th {\n",
       "        vertical-align: top;\n",
       "    }\n",
       "\n",
       "    .dataframe thead th {\n",
       "        text-align: right;\n",
       "    }\n",
       "</style>\n",
       "<table border=\"1\" class=\"dataframe\">\n",
       "  <thead>\n",
       "    <tr style=\"text-align: right;\">\n",
       "      <th></th>\n",
       "      <th>XP_num</th>\n",
       "      <th>log_pvalue_init</th>\n",
       "      <th>treat_coef</th>\n",
       "      <th>D</th>\n",
       "      <th>reject_H0_init</th>\n",
       "    </tr>\n",
       "  </thead>\n",
       "  <tbody>\n",
       "    <tr>\n",
       "      <th>0</th>\n",
       "      <td>0</td>\n",
       "      <td>0.139984</td>\n",
       "      <td>0.0</td>\n",
       "      <td>303</td>\n",
       "      <td>False</td>\n",
       "    </tr>\n",
       "    <tr>\n",
       "      <th>1</th>\n",
       "      <td>1</td>\n",
       "      <td>0.626276</td>\n",
       "      <td>0.0</td>\n",
       "      <td>311</td>\n",
       "      <td>False</td>\n",
       "    </tr>\n",
       "    <tr>\n",
       "      <th>2</th>\n",
       "      <td>2</td>\n",
       "      <td>0.219237</td>\n",
       "      <td>0.0</td>\n",
       "      <td>328</td>\n",
       "      <td>False</td>\n",
       "    </tr>\n",
       "    <tr>\n",
       "      <th>3</th>\n",
       "      <td>3</td>\n",
       "      <td>0.268989</td>\n",
       "      <td>0.0</td>\n",
       "      <td>319</td>\n",
       "      <td>False</td>\n",
       "    </tr>\n",
       "    <tr>\n",
       "      <th>4</th>\n",
       "      <td>4</td>\n",
       "      <td>0.069384</td>\n",
       "      <td>0.0</td>\n",
       "      <td>296</td>\n",
       "      <td>False</td>\n",
       "    </tr>\n",
       "  </tbody>\n",
       "</table>\n",
       "</div>"
      ],
      "text/plain": [
       "   XP_num  log_pvalue_init  treat_coef    D  reject_H0_init\n",
       "0       0         0.139984         0.0  303           False\n",
       "1       1         0.626276         0.0  311           False\n",
       "2       2         0.219237         0.0  328           False\n",
       "3       3         0.268989         0.0  319           False\n",
       "4       4         0.069384         0.0  296           False"
      ]
     },
     "execution_count": 71,
     "metadata": {},
     "output_type": "execute_result"
    }
   ],
   "source": [
    "results.head()"
   ]
  },
  {
   "cell_type": "code",
   "execution_count": 72,
   "id": "8d332e8d-9004-4726-8dbb-855d3140adff",
   "metadata": {},
   "outputs": [
    {
     "data": {
      "text/plain": [
       "array([308.034, 352.496, 407.5  ])"
      ]
     },
     "execution_count": 72,
     "metadata": {},
     "output_type": "execute_result"
    }
   ],
   "source": [
    "results.groupby(\"treat_coef\").mean()[\"D\"].to_numpy()"
   ]
  },
  {
   "cell_type": "code",
   "execution_count": 73,
   "id": "aa4a8094-685a-42a7-a5a0-e2f0cf0bf237",
   "metadata": {},
   "outputs": [],
   "source": [
    "alpha = 0.05\n",
    "p_treated = 0.5\n",
    "expected_power = []\n",
    "for j in np.arange(alphas.shape[0]):\n",
    "    treatment_effect = alphas[j]\n",
    "    D = results.groupby(\"treat_coef\").mean()[\"D\"].to_numpy()[j]\n",
    "    expected_power.append(norm.cdf(np.sqrt( D / 2 * p_treated * (1 - p_treated) * (treatment_effect)**2 ) - norm.ppf(1 - alpha/2)))"
   ]
  },
  {
   "cell_type": "code",
   "execution_count": 74,
   "id": "e69bb490-778c-4802-a6de-2afdb728e358",
   "metadata": {},
   "outputs": [
    {
     "data": {
      "text/html": [
       "<div>\n",
       "<style scoped>\n",
       "    .dataframe tbody tr th:only-of-type {\n",
       "        vertical-align: middle;\n",
       "    }\n",
       "\n",
       "    .dataframe tbody tr th {\n",
       "        vertical-align: top;\n",
       "    }\n",
       "\n",
       "    .dataframe thead th {\n",
       "        text-align: right;\n",
       "    }\n",
       "</style>\n",
       "<table border=\"1\" class=\"dataframe\">\n",
       "  <thead>\n",
       "    <tr style=\"text-align: right;\">\n",
       "      <th></th>\n",
       "      <th>XP_num</th>\n",
       "      <th>log_pvalue_init</th>\n",
       "      <th>D</th>\n",
       "      <th>reject_H0_init</th>\n",
       "    </tr>\n",
       "    <tr>\n",
       "      <th>treat_coef</th>\n",
       "      <th></th>\n",
       "      <th></th>\n",
       "      <th></th>\n",
       "      <th></th>\n",
       "    </tr>\n",
       "  </thead>\n",
       "  <tbody>\n",
       "    <tr>\n",
       "      <th>0.0</th>\n",
       "      <td>249.867368</td>\n",
       "      <td>0.834730</td>\n",
       "      <td>307.915789</td>\n",
       "      <td>0.0</td>\n",
       "    </tr>\n",
       "    <tr>\n",
       "      <th>0.5</th>\n",
       "      <td>248.961165</td>\n",
       "      <td>1.886818</td>\n",
       "      <td>353.349515</td>\n",
       "      <td>0.0</td>\n",
       "    </tr>\n",
       "    <tr>\n",
       "      <th>1.0</th>\n",
       "      <td>288.000000</td>\n",
       "      <td>2.940432</td>\n",
       "      <td>390.000000</td>\n",
       "      <td>0.0</td>\n",
       "    </tr>\n",
       "  </tbody>\n",
       "</table>\n",
       "</div>"
      ],
      "text/plain": [
       "                XP_num  log_pvalue_init           D  reject_H0_init\n",
       "treat_coef                                                         \n",
       "0.0         249.867368         0.834730  307.915789             0.0\n",
       "0.5         248.961165         1.886818  353.349515             0.0\n",
       "1.0         288.000000         2.940432  390.000000             0.0"
      ]
     },
     "execution_count": 74,
     "metadata": {},
     "output_type": "execute_result"
    }
   ],
   "source": [
    "results[results[\"reject_H0_init\"] ==  False].groupby([\"treat_coef\"]).mean()"
   ]
  },
  {
   "cell_type": "code",
   "execution_count": 75,
   "id": "e1a89875-aba0-4d32-9ba1-08909529b853",
   "metadata": {},
   "outputs": [
    {
     "data": {
      "image/png": "[encoded data removed]",
      "text/plain": [
       "<Figure size 640x480 with 1 Axes>"
      ]
     },
     "metadata": {},
     "output_type": "display_data"
    }
   ],
   "source": [
    "puiss_init = results.groupby(\"treat_coef\").mean()[\"reject_H0_init\"].to_numpy()\n",
    "plt.scatter(alphas,puiss_init,label = \"All init.\")\n",
    "plt.plot(alphas,expected_power,label = \"Expected level/power\")\n",
    "plt.xlabel(\"Treatment effect\")\n",
    "plt.ylabel(\"Level/power\")\n",
    "plt.savefig(\"./dataset/\" + dataset_name + \"/results_independent_n_samples_\" + str(n_samples) + \"n_features_bytype_\" + str(n_features_bytype) + \".jpeg\")"
   ]
  },
  {
   "cell_type": "markdown",
   "id": "b42f0ace-54a7-4d15-a10c-d875395c82e2",
   "metadata": {},
   "source": [
    "## TODO point size should be proportional to sample size"
   ]
  },
  {
   "cell_type": "markdown",
   "id": "a98bac18-992b-4cd7-a224-1fbf4c7b55ea",
   "metadata": {},
   "source": [
    "## Dependent"
   ]
  },
  {
   "cell_type": "code",
   "execution_count": 50,
   "id": "1605b973-b4da-422c-a2e1-51c8ee05aa93",
   "metadata": {},
   "outputs": [
    {
     "name": "stdout",
     "output_type": "stream",
     "text": [
      "0\n",
      "10\n",
      "20\n",
      "30\n",
      "40\n",
      "50\n",
      "60\n",
      "70\n",
      "80\n",
      "90\n",
      "0\n",
      "10\n",
      "20\n",
      "30\n",
      "40\n",
      "50\n",
      "60\n",
      "70\n",
      "80\n",
      "90\n",
      "0\n",
      "10\n",
      "20\n",
      "30\n",
      "40\n",
      "50\n",
      "60\n",
      "70\n",
      "80\n",
      "90\n"
     ]
    }
   ],
   "source": [
    "M = 100\n",
    "log_p_value = []\n",
    "log_p_value_gen = []\n",
    "simu_num = []\n",
    "treat_coef = []\n",
    "for t in alphas:\n",
    "    treatment_effect = t\n",
    "    for m in np.arange(M):\n",
    "        if m % 10 == 0:\n",
    "            print(m)\n",
    "        control, treated =  simulation(beta_features, treatment_effect , n_samples, independent = False, surv_type = \"surv_weibull\",\n",
    "                                     n_features_multiplier = 3, nnz = 3 , p_treated = 0.5, a_T = 2, a_C = 1, lamb_C = 0.15, \n",
    "                                     data_types_create = False)\n",
    "        control = control.drop(columns='treatment')\n",
    "        treated = treated.drop(columns='treatment')\n",
    "        \n",
    "        data_file_control= \"./dataset/\" + dataset_name + \"/data_control_gen\" + str(m) +\".csv\"\n",
    "        data_file_treated= \"./dataset/\" + dataset_name + \"/data_treated_gen\" + str(m) +\".csv\"\n",
    "        \n",
    "        \n",
    "        control.to_csv(data_file_control,index=False , header=False)\n",
    "        treated.to_csv(data_file_treated,index=False , header=False)\n",
    "        \n",
    "        df_init_treated = pd.DataFrame(data_init_treated.numpy(), columns=fnames)\n",
    "        df_init_control = pd.DataFrame(data_init_control.numpy(), columns=fnames)\n",
    "        \n",
    "        T_surv = torch.Tensor(df_init_control.time)\n",
    "        T_surv_norm = (T_surv - T_surv.min()) / (T_surv.max() - T_surv.min())\n",
    "        n_intervals = 5\n",
    "        T_intervals = torch.linspace(0., T_surv_norm.max(), n_intervals)\n",
    "        T_intervals = torch.cat([T_intervals, torch.tensor([2 * T_intervals[-1] - T_intervals[-2]])])\n",
    "        intervals = [(T_intervals[i].item(), T_intervals[i + 1].item()) for i in range(len(T_intervals) - 1)]\n",
    "        \n",
    "        p_value_init = compute_logrank_test(control, treated)\n",
    "    \n",
    "        \n",
    "    \n",
    "        # Load and transform control data\n",
    "        data_init_control_encoded, feat_types_dict, miss_mask_control, true_miss_mask_control, _ = data_processing.read_data(data_file_control, \n",
    "                                                                                                                     feat_types_file_control, \n",
    "                                                                                                                     miss_file, true_miss_file)\n",
    "        data_init_control = data_processing.discrete_variables_transformation(data_init_control_encoded, feat_types_dict)\n",
    "        \n",
    "        # Load and transform treated data\n",
    "        data_init_treated_encoded, _, _, _, _ = data_processing.read_data(data_file_treated, feat_types_file_treated, \n",
    "                                                                 miss_file, true_miss_file)\n",
    "        data_init_treated = data_processing.discrete_variables_transformation(data_init_treated_encoded, feat_types_dict)\n",
    "    \n",
    "        data_gen_control = surv_hivae.run((data_init_control_encoded, intervals), miss_mask_control, \n",
    "                                      true_miss_mask_control, feat_types_file_control, feat_types_dict, n_generated_dataset,verbose=False)\n",
    "        \n",
    "        for i in range(n_generated_dataset):\n",
    "            df_gen_control = pd.DataFrame(data_gen_control[i].numpy(), columns=fnames)\n",
    "            df_gen_control['treatment'] = 0\n",
    "            log_p_value.append(p_value_init)\n",
    "            simu_num.append(m)\n",
    "            p_value_gen = compute_logrank_test(df_gen_control, treated)\n",
    "            log_p_value_gen.append(p_value_gen)\n",
    "            treat_coef.append(treatment_effect)"
   ]
  },
  {
   "cell_type": "code",
   "execution_count": 57,
   "id": "3327b794-5489-4c56-9ff1-3cf07d272d58",
   "metadata": {},
   "outputs": [],
   "source": [
    "\n",
    "results = pd.DataFrame({'XP_num' : simu_num, \"log_pvalue_init\" : log_p_value, \"log_pvalue_gen\" : log_p_value_gen , \"treat_coef\" : treat_coef})\n",
    "results[\"reject_H0_init\"] = results['log_pvalue_init'] > -np.log(0.05)\n",
    "results[\"reject_H0_gen\"] = results['log_pvalue_gen'] > -np.log(0.05)"
   ]
  },
  {
   "cell_type": "code",
   "execution_count": null,
   "id": "274916d7-c8e9-401e-9641-d820d4739892",
   "metadata": {},
   "outputs": [],
   "source": []
  },
  {
   "cell_type": "code",
   "execution_count": 58,
   "id": "338057f0-979a-4ca7-bf8f-e4ffbef44360",
   "metadata": {},
   "outputs": [],
   "source": [
    "results.to_csv(\"./dataset/\" + dataset_name + \"results_n_samples_\" + str(n_samples) + \"n_features_bytype_\" + str(n_features_bytype) + \".csv\")"
   ]
  },
  {
   "cell_type": "code",
   "execution_count": 59,
   "id": "de8150f1-e155-4b99-98eb-049f3846f884",
   "metadata": {},
   "outputs": [],
   "source": [
    "alpha = 0.05\n",
    "p_treated = 0.5\n",
    "expected_power = []\n",
    "for treatment_effect in np.arange(0,1.5,0.01):\n",
    "    expected_power.append(norm.cdf(np.sqrt( D * p_treated * (1 - p_treated) * (treatment_effect)**2 ) - norm.ppf(1 - alpha/2)))"
   ]
  },
  {
   "cell_type": "code",
   "execution_count": 67,
   "id": "491ce8d7-c93f-4399-95d9-578ead6c0516",
   "metadata": {},
   "outputs": [
    {
     "data": {
      "text/plain": [
       "<matplotlib.legend.Legend at 0x2a4bda390>"
      ]
     },
     "execution_count": 67,
     "metadata": {},
     "output_type": "execute_result"
    },
    {
     "data": {
      "image/png": "[encoded data removed]",
      "text/plain": [
       "<Figure size 640x480 with 1 Axes>"
      ]
     },
     "metadata": {},
     "output_type": "display_data"
    }
   ],
   "source": [
    "puiss_init = results.groupby(\"treat_coef\").mean()[\"reject_H0_init\"].to_numpy()\n",
    "puiss_gen = results.groupby(\"treat_coef\").mean()[\"reject_H0_gen\"].to_numpy()\n",
    "puiss_among_reject = results[results[\"reject_H0_init\"] ==  True].groupby([\"treat_coef\"]).mean()[\"reject_H0_gen\"].to_numpy()\n",
    "puiss_among_accept = results[results[\"reject_H0_init\"] ==  False].groupby([\"treat_coef\"]).mean()[\"reject_H0_gen\"].to_numpy()\n",
    "#puiss_among_accept = np.append(puiss_among_accept, np.nan)\n",
    "plt.scatter(alphas,puiss_init,label = \"All init.\")\n",
    "plt.scatter(alphas,puiss_gen,label = \"All gen.\")\n",
    "plt.scatter(alphas,puiss_among_reject,label = \"Gen. from reject\")\n",
    "plt.scatter(alphas,puiss_among_accept,label = \"Gen. from accept\")\n",
    "#plt.plot(np.arange(0,1.5,0.01),expected_power,label = \"Expected level/power\")\n",
    "plt.legend(bbox_to_anchor=(1.1, 1.05))"
   ]
  },
  {
   "cell_type": "code",
   "execution_count": null,
   "id": "9986811b-5b87-489b-8b97-d8ef83f70412",
   "metadata": {},
   "outputs": [],
   "source": []
  }
 ],
 "metadata": {
  "kernelspec": {
   "display_name": "Python 3 (ipykernel)",
   "language": "python",
   "name": "python3"
  },
  "language_info": {
   "codemirror_mode": {
    "name": "ipython",
    "version": 3
   },
   "file_extension": ".py",
   "mimetype": "text/x-python",
   "name": "python",
   "nbconvert_exporter": "python",
   "pygments_lexer": "ipython3",
   "version": "3.12.9"
  }
 },
 "nbformat": 4,
 "nbformat_minor": 5
}
