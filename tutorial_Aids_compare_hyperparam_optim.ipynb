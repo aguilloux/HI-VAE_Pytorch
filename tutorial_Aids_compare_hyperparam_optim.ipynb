{
 "cells": [
  {
   "cell_type": "markdown",
   "metadata": {},
   "source": [
    "# Generation and post-analysis in aids dataset "
   ]
  },
  {
   "cell_type": "markdown",
   "metadata": {},
   "source": [
    "#### Associated publication\n",
    "Reference: https://www.nejm.org/doi/full/10.1056/NEJM199709113371101"
   ]
  },
  {
   "cell_type": "code",
   "execution_count": 1,
   "metadata": {},
   "outputs": [
    {
     "name": "stderr",
     "output_type": "stream",
     "text": [
      "/opt/anaconda3/envs/hivae/lib/python3.13/site-packages/tqdm/auto.py:21: TqdmWarning: IProgress not found. Please update jupyter and ipywidgets. See https://ipywidgets.readthedocs.io/en/stable/user_install.html\n",
      "  from .autonotebook import tqdm as notebook_tqdm\n"
     ]
    }
   ],
   "source": [
    "import pandas as pd\n",
    "import torch\n",
    "import optuna\n",
    "from optuna.visualization import plot_contour\n",
    "from optuna.visualization import plot_edf\n",
    "from optuna.visualization import plot_optimization_history\n",
    "from optuna.visualization import plot_parallel_coordinate\n",
    "from optuna.visualization import plot_param_importances\n",
    "from optuna.visualization import plot_slice\n",
    "\n",
    "from loguru import logger\n",
    "logger.remove()  # Remove any default sinks set up automatically\n",
    "\n",
    "from utils import data_processing, visualization\n",
    "\n",
    "import warnings\n",
    "warnings.filterwarnings(\"ignore\")\n",
    "%matplotlib inline\n",
    "\n",
    "import synthcity.logger as log\n",
    "import sys\n",
    "import json\n",
    "import os\n",
    "\n",
    "log.remove()  # Remove default handlers\n",
    "warnings.filterwarnings(\"ignore\")"
   ]
  },
  {
   "cell_type": "markdown",
   "metadata": {},
   "source": [
    "## 1. Original data loading, analysis and visualization"
   ]
  },
  {
   "cell_type": "markdown",
   "metadata": {},
   "source": [
    "### 1.1. Experiment setting - links to data"
   ]
  },
  {
   "cell_type": "code",
   "execution_count": 2,
   "metadata": {},
   "outputs": [],
   "source": [
    "dataset_name = \"Aids\"\n",
    "data_file_control= \"./dataset/\" + dataset_name + \"/data_control.csv\"\n",
    "feat_types_file_control = \"./dataset/\" + dataset_name + \"/data_types_control.csv\"\n",
    "data_file_treated= \"./dataset/\" + dataset_name + \"/data_treated.csv\"\n",
    "feat_types_file_treated= \"./dataset/\" + dataset_name + \"/data_types_treated.csv\"\n",
    "\n",
    "# If the dataset has no missing data, leave the \"miss_file\" variable empty\n",
    "m_perc = 10\n",
    "mask = 1\n",
    "miss_file = \"dataset/\" + dataset_name + \"/Missing{}_{}.csv\".format(m_perc, mask)\n",
    "true_miss_file = None"
   ]
  },
  {
   "cell_type": "markdown",
   "metadata": {},
   "source": [
    "### 1.2. Loading, feature analysis, and visualization of original data: control vs treated group"
   ]
  },
  {
   "cell_type": "code",
   "execution_count": 3,
   "metadata": {},
   "outputs": [
    {
     "name": "stdout",
     "output_type": "stream",
     "text": [
      "   time  censor  strat2  sex  raceth  ivdrug  karnof    cd4  priorzdv  age\n",
      "0   189       0       1    1       1       0     100  169.0      39.0   34\n",
      "1   287       0       1    2       2       0      90  149.5      15.0   34\n",
      "2   199       0       1    1       1       0      90   46.0      53.0   48\n",
      "3   270       0       1    1       2       0     100   54.5       6.0   51\n",
      "4   276       0       1    1       1       0     100   95.0       7.0   34\n"
     ]
    }
   ],
   "source": [
    "aids_control_fnames = ['time', 'censor'] + pd.read_csv(feat_types_file_control)[\"name\"].to_list()[1:]\n",
    "aids_control = pd.read_csv(data_file_control, header=None, names=aids_control_fnames)\n",
    "print(aids_control.head())"
   ]
  },
  {
   "cell_type": "code",
   "execution_count": 4,
   "metadata": {},
   "outputs": [],
   "source": [
    "# Load and transform control data\n",
    "data_init_control_encoded, feat_types_dict, miss_mask_control, true_miss_mask_control, _ = data_processing.read_data(data_file_control, feat_types_file_control, miss_file, true_miss_file)\n",
    "data_init_control = data_processing.discrete_variables_transformation(data_init_control_encoded, feat_types_dict)\n",
    "\n",
    "# Load and transform treated data\n",
    "data_init_treated_encoded, _, _, _, _ = data_processing.read_data(data_file_treated, feat_types_file_treated, miss_file, true_miss_file)\n",
    "data_init_treated = data_processing.discrete_variables_transformation(data_init_treated_encoded, feat_types_dict)"
   ]
  },
  {
   "cell_type": "code",
   "execution_count": 5,
   "metadata": {},
   "outputs": [],
   "source": [
    "# Format data in dataframe\n",
    "df_init_treated = pd.DataFrame(data_init_treated.numpy(), columns=aids_control_fnames)\n",
    "df_init_control = pd.DataFrame(data_init_control.numpy(), columns=aids_control_fnames)\n",
    "\n",
    "# Update dataframe\n",
    "df_init_treated[\"treatment\"] = 1\n",
    "df_init_control[\"treatment\"] = 0\n",
    "df_init = pd.concat([df_init_control, df_init_treated], ignore_index=True)"
   ]
  },
  {
   "cell_type": "markdown",
   "metadata": {},
   "source": [
    "\n",
    "## 2. Training and generation from the generative model"
   ]
  },
  {
   "cell_type": "markdown",
   "metadata": {},
   "source": [
    "Possible generative models: HI-VAE (our), survival_gan, survival_ctgan, survival_nflow, survae (synthcity)"
   ]
  },
  {
   "cell_type": "code",
   "execution_count": 6,
   "metadata": {},
   "outputs": [
    {
     "name": "stdout",
     "output_type": "stream",
     "text": [
      "[KeOps] Warning : omp.h header is not in the path, disabling OpenMP. To fix this, you can set the environment\n",
      "                  variable OMP_PATH to the location of the header before importing keopscore or pykeops,\n",
      "                  e.g. using os.environ: import os; os.environ['OMP_PATH'] = '/path/to/omp/header'\n",
      "[KeOps] Warning : Cuda libraries were not detected on the system or could not be loaded ; using cpu only mode\n"
     ]
    }
   ],
   "source": [
    "from execute import surv_hivae, surv_gan, surv_vae\n",
    "generators_dict = {\"HI-VAE\" : surv_hivae, \n",
    "                   \"Surv-GAN\" : surv_gan, \n",
    "                   \"Surv-VAE\" : surv_vae}"
   ]
  },
  {
   "cell_type": "markdown",
   "metadata": {},
   "source": [
    "### Hyperparameters optimization"
   ]
  },
  {
   "cell_type": "code",
   "execution_count": null,
   "metadata": {},
   "outputs": [],
   "source": [
    "name_config = \"aids_surv_piecewise\"\n",
    "n_trials = 10 # number of trials for each generator\n",
    "n_splits = 5 # number of splits for cross-validation\n",
    "n_generated_samples = 10 # number of generated datasets each time"
   ]
  },
  {
   "cell_type": "code",
   "execution_count": 8,
   "metadata": {},
   "outputs": [
    {
     "name": "stdout",
     "output_type": "stream",
     "text": [
      "Creating new optuna study for HI-VAE...\n",
      "trial_0\n",
      "Epoch: [ 0]  time: 0.0678, ELBO_train: -22.48705292, KL_z: 2.58931065, KL_s: 0.03916490, reconstruction loss: -19.85857737\n",
      "Epoch: [100]  time: 4.0399, ELBO_train: -17.77740145, KL_z: 0.60418332, KL_s: 0.07497227, reconstruction loss: -17.09824586\n",
      "Epoch: [200]  time: 7.5366, ELBO_train: -17.37318373, KL_z: 0.72752734, KL_s: 0.07216755, reconstruction loss: -16.57348885\n",
      "Epoch: [300]  time: 12.0715, ELBO_train: -17.34649992, KL_z: 0.78902133, KL_s: 0.08114222, reconstruction loss: -16.47633637\n",
      "Epoch: [400]  time: 16.2195, ELBO_train: -17.31900358, KL_z: 0.85551615, KL_s: 0.09421745, reconstruction loss: -16.36926998\n",
      "Training finished.\n",
      "Epoch: [ 0]  time: 0.0246, ELBO_train: -17.21363497, KL_z: 0.86529200, KL_s: 0.09230191, reconstruction loss: -16.25604106\n",
      "Epoch: [100]  time: 3.2521, ELBO_train: -17.16688395, KL_z: 0.83580084, KL_s: 0.24962094, reconstruction loss: -16.08146216\n",
      "Epoch: [200]  time: 6.3874, ELBO_train: -17.10349464, KL_z: 0.88385876, KL_s: 0.23252836, reconstruction loss: -15.98710753\n",
      "Epoch: [300]  time: 9.5353, ELBO_train: -17.05202484, KL_z: 0.89113864, KL_s: 0.23905995, reconstruction loss: -15.92182624\n",
      "Epoch: [400]  time: 12.7030, ELBO_train: -17.03891277, KL_z: 0.90899079, KL_s: 0.25052318, reconstruction loss: -15.87939881\n",
      "Training finished.\n",
      "Epoch: [ 0]  time: 0.0258, ELBO_train: -17.04773140, KL_z: 0.93314716, KL_s: 0.27162695, reconstruction loss: -15.84295729\n",
      "Epoch: [100]  time: 3.1785, ELBO_train: -17.04649925, KL_z: 0.92367940, KL_s: 0.40533787, reconstruction loss: -15.71748199\n",
      "Epoch: [200]  time: 6.3343, ELBO_train: -17.03221130, KL_z: 0.94742984, KL_s: 0.35254452, reconstruction loss: -15.73223695\n",
      "Epoch: [300]  time: 9.9368, ELBO_train: -16.95777988, KL_z: 0.94587058, KL_s: 0.37370577, reconstruction loss: -15.63820353\n",
      "Epoch: [400]  time: 13.7446, ELBO_train: -16.89509964, KL_z: 0.94342637, KL_s: 0.38482186, reconstruction loss: -15.56685141\n",
      "Training finished.\n",
      "Epoch: [ 0]  time: 0.0243, ELBO_train: -16.97816896, KL_z: 0.91586749, KL_s: 0.37466305, reconstruction loss: -15.68763842\n",
      "Epoch: [100]  time: 3.3754, ELBO_train: -17.07256699, KL_z: 0.91609246, KL_s: 0.46576276, reconstruction loss: -15.69071177\n",
      "Epoch: [200]  time: 6.5947, ELBO_train: -16.99656725, KL_z: 0.91315371, KL_s: 0.43203911, reconstruction loss: -15.65137443\n",
      "Epoch: [300]  time: 9.8533, ELBO_train: -16.87571621, KL_z: 0.89870539, KL_s: 0.44931391, reconstruction loss: -15.52769691\n",
      "Epoch: [400]  time: 13.1728, ELBO_train: -16.95745182, KL_z: 0.88396227, KL_s: 0.45849693, reconstruction loss: -15.61499262\n",
      "Training finished.\n",
      "Epoch: [ 0]  time: 0.0277, ELBO_train: -17.00337553, KL_z: 0.87062272, KL_s: 0.45365977, reconstruction loss: -15.67909303\n",
      "Epoch: [100]  time: 3.3720, ELBO_train: -16.90403986, KL_z: 0.87080121, KL_s: 0.52080813, reconstruction loss: -15.51243052\n",
      "Epoch: [200]  time: 6.7908, ELBO_train: -16.89233017, KL_z: 0.89294605, KL_s: 0.47309083, reconstruction loss: -15.52629329\n",
      "Epoch: [300]  time: 10.3757, ELBO_train: -17.02906036, KL_z: 0.92117216, KL_s: 0.48270646, reconstruction loss: -15.62518175\n",
      "Epoch: [400]  time: 14.5793, ELBO_train: -16.86479521, KL_z: 0.91149290, KL_s: 0.47949877, reconstruction loss: -15.47380354\n",
      "Training finished.\n",
      "Score: 0.03202588890604087\n",
      "trial_1\n",
      "Epoch: [ 0]  time: 0.0303, ELBO_train: -21.53435580, KL_z: 1.76142148, KL_s: 0.05737789, reconstruction loss: -19.71555642\n",
      "Epoch: [100]  time: 3.4842, ELBO_train: -20.28481483, KL_z: 0.98839223, KL_s: 0.04559231, reconstruction loss: -19.25083029\n",
      "Epoch: [200]  time: 6.8503, ELBO_train: -19.53083038, KL_z: 0.66277119, KL_s: 0.04171197, reconstruction loss: -18.82634723\n",
      "Epoch: [300]  time: 9.6172, ELBO_train: -19.02854856, KL_z: 0.54423018, KL_s: 0.04080574, reconstruction loss: -18.44351264\n",
      "Epoch: [400]  time: 12.4019, ELBO_train: -18.71629397, KL_z: 0.51446790, KL_s: 0.03991946, reconstruction loss: -18.16190662\n",
      "Training finished.\n",
      "Epoch: [ 0]  time: 0.0249, ELBO_train: -18.22760391, KL_z: 0.50177429, KL_s: 0.03891452, reconstruction loss: -17.68691510\n",
      "Epoch: [100]  time: 2.8038, ELBO_train: -18.00923729, KL_z: 0.55049229, KL_s: 0.03034472, reconstruction loss: -17.42840028\n",
      "Epoch: [200]  time: 5.6255, ELBO_train: -18.02149328, KL_z: 0.57748600, KL_s: 0.02799471, reconstruction loss: -17.41601257\n",
      "Epoch: [300]  time: 8.4988, ELBO_train: -17.77268219, KL_z: 0.61418688, KL_s: 0.02749451, reconstruction loss: -17.13100080\n",
      "Epoch: [400]  time: 11.3571, ELBO_train: -17.78888130, KL_z: 0.64769036, KL_s: 0.02726404, reconstruction loss: -17.11392691\n",
      "Training finished.\n",
      "Epoch: [ 0]  time: 0.0250, ELBO_train: -17.63438288, KL_z: 0.65137672, KL_s: 0.02738070, reconstruction loss: -16.95562545\n",
      "Epoch: [100]  time: 2.9134, ELBO_train: -17.79214986, KL_z: 0.66824760, KL_s: 0.02414950, reconstruction loss: -17.09975276\n",
      "Epoch: [200]  time: 5.9700, ELBO_train: -17.68703270, KL_z: 0.69798038, KL_s: 0.02336915, reconstruction loss: -16.96568316\n",
      "Epoch: [300]  time: 9.4071, ELBO_train: -17.48682276, KL_z: 0.69455930, KL_s: 0.02300183, reconstruction loss: -16.76926164\n",
      "Epoch: [400]  time: 12.8435, ELBO_train: -17.51429494, KL_z: 0.71926719, KL_s: 0.02300866, reconstruction loss: -16.77201909\n",
      "Training finished.\n",
      "Epoch: [ 0]  time: 0.0235, ELBO_train: -17.44570033, KL_z: 0.71257263, KL_s: 0.02233275, reconstruction loss: -16.71079495\n",
      "Epoch: [100]  time: 2.7715, ELBO_train: -17.34549332, KL_z: 0.72114277, KL_s: 0.02297036, reconstruction loss: -16.60138019\n",
      "Epoch: [200]  time: 5.6367, ELBO_train: -17.42071279, KL_z: 0.72604839, KL_s: 0.02193252, reconstruction loss: -16.67273188\n",
      "Epoch: [300]  time: 8.4016, ELBO_train: -17.37686221, KL_z: 0.74469177, KL_s: 0.02176555, reconstruction loss: -16.61040489\n",
      "Epoch: [400]  time: 11.2247, ELBO_train: -17.50243378, KL_z: 0.75761857, KL_s: 0.02216013, reconstruction loss: -16.72265508\n",
      "Training finished.\n",
      "Epoch: [ 0]  time: 0.0206, ELBO_train: -17.44051997, KL_z: 0.76067285, KL_s: 0.02259564, reconstruction loss: -16.65725148\n",
      "Epoch: [100]  time: 2.8143, ELBO_train: -17.33597501, KL_z: 0.77651868, KL_s: 0.02459844, reconstruction loss: -16.53485789\n",
      "Epoch: [200]  time: 5.6248, ELBO_train: -17.35103544, KL_z: 0.76993648, KL_s: 0.02283478, reconstruction loss: -16.55826418\n",
      "Epoch: [300]  time: 8.3691, ELBO_train: -17.28260994, KL_z: 0.77750987, KL_s: 0.02314806, reconstruction loss: -16.48195201\n",
      "Epoch: [400]  time: 11.2053, ELBO_train: -17.24075762, KL_z: 0.78148248, KL_s: 0.02326830, reconstruction loss: -16.43600684\n",
      "Training finished.\n",
      "Score: 0.14272498810644355\n",
      "trial_2\n",
      "Epoch: [ 0]  time: 0.0762, ELBO_train: -22.26534589, KL_z: 2.58131985, KL_s: 0.06595699, reconstruction loss: -19.61806905\n",
      "Epoch: [100]  time: 6.4136, ELBO_train: -19.65638288, KL_z: 1.00332968, KL_s: 0.03529127, reconstruction loss: -18.61776192\n",
      "Epoch: [200]  time: 12.1216, ELBO_train: -18.54448573, KL_z: 0.67783534, KL_s: 0.03019738, reconstruction loss: -17.83645301\n",
      "Epoch: [300]  time: 17.1710, ELBO_train: -17.94825649, KL_z: 0.62467684, KL_s: 0.02893078, reconstruction loss: -17.29464887\n",
      "Epoch: [400]  time: 22.2405, ELBO_train: -17.52094269, KL_z: 0.63465798, KL_s: 0.02708447, reconstruction loss: -16.85920024\n",
      "Training finished.\n",
      "Epoch: [ 0]  time: 0.0408, ELBO_train: -17.51050949, KL_z: 0.65644481, KL_s: 0.02655768, reconstruction loss: -16.82750700\n",
      "Epoch: [100]  time: 5.0419, ELBO_train: -17.25987911, KL_z: 0.68356476, KL_s: 0.02032137, reconstruction loss: -16.55599298\n",
      "Epoch: [200]  time: 10.1368, ELBO_train: -17.30050437, KL_z: 0.70995371, KL_s: 0.01870104, reconstruction loss: -16.57184962\n",
      "Epoch: [300]  time: 15.1385, ELBO_train: -17.22558562, KL_z: 0.70563354, KL_s: 0.01874379, reconstruction loss: -16.50120829\n",
      "Epoch: [400]  time: 20.9880, ELBO_train: -17.31777604, KL_z: 0.72888164, KL_s: 0.01896576, reconstruction loss: -16.56992865\n",
      "Training finished.\n",
      "Epoch: [ 0]  time: 0.0418, ELBO_train: -17.26987934, KL_z: 0.74124658, KL_s: 0.01813316, reconstruction loss: -16.51049960\n",
      "Epoch: [100]  time: 5.0618, ELBO_train: -17.27369308, KL_z: 0.74714774, KL_s: 0.02148068, reconstruction loss: -16.50506467\n",
      "Epoch: [200]  time: 10.1475, ELBO_train: -17.18728065, KL_z: 0.76958456, KL_s: 0.01965717, reconstruction loss: -16.39803892\n",
      "Epoch: [300]  time: 15.1475, ELBO_train: -17.16096751, KL_z: 0.76788807, KL_s: 0.01995675, reconstruction loss: -16.37312269\n",
      "Epoch: [400]  time: 20.1394, ELBO_train: -17.18722184, KL_z: 0.78050709, KL_s: 0.01972079, reconstruction loss: -16.38699396\n",
      "Training finished.\n",
      "Epoch: [ 0]  time: 0.0487, ELBO_train: -17.29616356, KL_z: 0.77818586, KL_s: 0.01977392, reconstruction loss: -16.49820377\n",
      "Epoch: [100]  time: 6.3529, ELBO_train: -17.17318694, KL_z: 0.76610746, KL_s: 0.02593303, reconstruction loss: -16.38114645\n",
      "Epoch: [200]  time: 12.7941, ELBO_train: -17.36935838, KL_z: 0.78878930, KL_s: 0.02333009, reconstruction loss: -16.55723899\n",
      "Epoch: [300]  time: 19.2023, ELBO_train: -17.25372410, KL_z: 0.78907101, KL_s: 0.02367687, reconstruction loss: -16.44097621\n",
      "Epoch: [400]  time: 24.5203, ELBO_train: -17.26039918, KL_z: 0.80046043, KL_s: 0.02395391, reconstruction loss: -16.43598484\n",
      "Training finished.\n",
      "Epoch: [ 0]  time: 0.0405, ELBO_train: -16.97259649, KL_z: 0.79828588, KL_s: 0.02449417, reconstruction loss: -16.14981643\n",
      "Epoch: [100]  time: 5.7974, ELBO_train: -17.05931695, KL_z: 0.81194693, KL_s: 0.03237430, reconstruction loss: -16.21499572\n",
      "Epoch: [200]  time: 11.5850, ELBO_train: -17.07955265, KL_z: 0.81481251, KL_s: 0.03105668, reconstruction loss: -16.23368346\n",
      "Epoch: [300]  time: 17.8516, ELBO_train: -16.98399925, KL_z: 0.82481205, KL_s: 0.03125783, reconstruction loss: -16.12792937\n",
      "Epoch: [400]  time: 24.5535, ELBO_train: -17.09878095, KL_z: 0.82933278, KL_s: 0.03112753, reconstruction loss: -16.23832064\n",
      "Training finished.\n",
      "Score: 0.037076029121116995\n",
      "trial_3\n",
      "Epoch: [ 0]  time: 0.0228, ELBO_train: -23.42824554, KL_z: 3.43902206, KL_s: 0.07070486, reconstruction loss: -19.91851862\n",
      "Epoch: [100]  time: 2.9987, ELBO_train: -20.01744843, KL_z: 1.50105973, KL_s: 0.03017402, reconstruction loss: -18.48621468\n",
      "Epoch: [200]  time: 6.1155, ELBO_train: -18.66656876, KL_z: 0.92891125, KL_s: 0.02603404, reconstruction loss: -17.71162347\n",
      "Epoch: [300]  time: 9.6243, ELBO_train: -18.14851443, KL_z: 0.79882018, KL_s: 0.02192577, reconstruction loss: -17.32776848\n",
      "Epoch: [400]  time: 12.6158, ELBO_train: -17.90398534, KL_z: 0.76881832, KL_s: 0.02040211, reconstruction loss: -17.11476491\n",
      "Training finished.\n",
      "Epoch: [ 0]  time: 0.0273, ELBO_train: -17.63921420, KL_z: 0.73823818, KL_s: 0.01840476, reconstruction loss: -16.88257126\n",
      "Epoch: [100]  time: 3.2796, ELBO_train: -17.60453987, KL_z: 0.75539575, KL_s: 0.01415849, reconstruction loss: -16.83498563\n",
      "Epoch: [200]  time: 8.5269, ELBO_train: -17.43196805, KL_z: 0.76520642, KL_s: 0.01400757, reconstruction loss: -16.65275407\n",
      "Epoch: [300]  time: 12.0549, ELBO_train: -17.40297635, KL_z: 0.78714039, KL_s: 0.01475533, reconstruction loss: -16.60108064\n",
      "Epoch: [400]  time: 15.4074, ELBO_train: -17.38866806, KL_z: 0.79940703, KL_s: 0.01502856, reconstruction loss: -16.57423248\n",
      "Training finished.\n",
      "Epoch: [ 0]  time: 0.0384, ELBO_train: -17.34799321, KL_z: 0.82431275, KL_s: 0.01481060, reconstruction loss: -16.50886987\n",
      "Epoch: [100]  time: 3.6898, ELBO_train: -17.10738500, KL_z: 0.84866762, KL_s: 0.02029681, reconstruction loss: -16.23842057\n",
      "Epoch: [200]  time: 7.3502, ELBO_train: -17.25313314, KL_z: 0.85296480, KL_s: 0.01943755, reconstruction loss: -16.38073079\n",
      "Epoch: [300]  time: 10.7014, ELBO_train: -17.18767103, KL_z: 0.87827655, KL_s: 0.01954703, reconstruction loss: -16.28984745\n",
      "Epoch: [400]  time: 14.3156, ELBO_train: -17.15969912, KL_z: 0.88369511, KL_s: 0.02059869, reconstruction loss: -16.25540533\n",
      "Training finished.\n",
      "Epoch: [ 0]  time: 0.0281, ELBO_train: -17.26709493, KL_z: 0.90023512, KL_s: 0.02224112, reconstruction loss: -16.34461870\n",
      "Epoch: [100]  time: 3.9452, ELBO_train: -17.19536336, KL_z: 0.89345898, KL_s: 0.03197606, reconstruction loss: -16.26992832\n",
      "Epoch: [200]  time: 7.6501, ELBO_train: -17.01621564, KL_z: 0.92882832, KL_s: 0.03024101, reconstruction loss: -16.05714631\n",
      "Epoch: [300]  time: 11.0849, ELBO_train: -17.01087507, KL_z: 0.92330893, KL_s: 0.03050812, reconstruction loss: -16.05705802\n",
      "Epoch: [400]  time: 14.6705, ELBO_train: -17.09968058, KL_z: 0.94087931, KL_s: 0.03216644, reconstruction loss: -16.12663484\n",
      "Training finished.\n",
      "Epoch: [ 0]  time: 0.0319, ELBO_train: -17.11396662, KL_z: 0.94705290, KL_s: 0.03275088, reconstruction loss: -16.13416284\n",
      "Epoch: [100]  time: 4.2027, ELBO_train: -17.07539940, KL_z: 0.94816822, KL_s: 0.04842583, reconstruction loss: -16.07880535\n",
      "Epoch: [200]  time: 8.2287, ELBO_train: -17.06706238, KL_z: 0.93882294, KL_s: 0.04794180, reconstruction loss: -16.08029763\n",
      "Epoch: [300]  time: 12.2221, ELBO_train: -16.92422613, KL_z: 0.94748298, KL_s: 0.04992934, reconstruction loss: -15.92681380\n",
      "Epoch: [400]  time: 16.0624, ELBO_train: -17.03891818, KL_z: 0.94351532, KL_s: 0.05091035, reconstruction loss: -16.04449250\n",
      "Training finished.\n",
      "Score: 0.0712700354806398\n",
      "trial_4\n",
      "RuntimeError: torch.cat(): expected a non-empty list of Tensors\n",
      "{'n_layers_surv_piecewise': 2, 'lr': 0.0002, 'batch_size': 512, 'z_dim': 10, 'y_dim': 30, 's_dim': 20}\n",
      "trial_5\n",
      "Epoch: [ 0]  time: 0.0472, ELBO_train: -22.59393358, KL_z: 2.77264673, KL_s: 0.04697335, reconstruction loss: -19.77431351\n",
      "Epoch: [100]  time: 4.2683, ELBO_train: -18.10159636, KL_z: 0.49922521, KL_s: 0.06640583, reconstruction loss: -17.53596532\n",
      "Epoch: [200]  time: 8.2645, ELBO_train: -17.73411942, KL_z: 0.59770060, KL_s: 0.04638010, reconstruction loss: -17.09003872\n",
      "Epoch: [300]  time: 12.3859, ELBO_train: -17.41878891, KL_z: 0.61869872, KL_s: 0.05779189, reconstruction loss: -16.74229831\n",
      "Epoch: [400]  time: 16.1013, ELBO_train: -17.52093983, KL_z: 0.65396027, KL_s: 0.06850559, reconstruction loss: -16.79847397\n",
      "Training finished.\n",
      "Epoch: [ 0]  time: 0.0262, ELBO_train: -17.34684563, KL_z: 0.65194124, KL_s: 0.06944507, reconstruction loss: -16.62545931\n",
      "Epoch: [100]  time: 3.4484, ELBO_train: -17.38081694, KL_z: 0.60842226, KL_s: 0.22169000, reconstruction loss: -16.55070467\n",
      "Epoch: [200]  time: 6.9200, ELBO_train: -17.47541618, KL_z: 0.64301200, KL_s: 0.19459754, reconstruction loss: -16.63780664\n",
      "Epoch: [300]  time: 10.6286, ELBO_train: -17.60832405, KL_z: 0.70714757, KL_s: 0.20029759, reconstruction loss: -16.70087889\n",
      "Epoch: [400]  time: 14.8689, ELBO_train: -17.41639805, KL_z: 0.68832856, KL_s: 0.20983571, reconstruction loss: -16.51823378\n",
      "Training finished.\n",
      "Epoch: [ 0]  time: 0.0282, ELBO_train: -17.35597515, KL_z: 0.69223671, KL_s: 0.21208996, reconstruction loss: -16.45164849\n",
      "Epoch: [100]  time: 3.5059, ELBO_train: -17.24110079, KL_z: 0.69547489, KL_s: 0.33767691, reconstruction loss: -16.20794898\n",
      "Epoch: [200]  time: 6.9926, ELBO_train: -17.36550188, KL_z: 0.72735325, KL_s: 0.33183840, reconstruction loss: -16.30631024\n",
      "Epoch: [300]  time: 10.4915, ELBO_train: -17.23016262, KL_z: 0.76093860, KL_s: 0.32195979, reconstruction loss: -16.14726423\n",
      "Epoch: [400]  time: 14.0053, ELBO_train: -17.33607531, KL_z: 0.80451901, KL_s: 0.31835911, reconstruction loss: -16.21319719\n",
      "Training finished.\n",
      "Epoch: [ 0]  time: 0.0320, ELBO_train: -17.37119961, KL_z: 0.79408631, KL_s: 0.32028320, reconstruction loss: -16.25683010\n",
      "Epoch: [100]  time: 3.6531, ELBO_train: -17.43720627, KL_z: 0.78648743, KL_s: 0.37994021, reconstruction loss: -16.27077863\n",
      "Epoch: [200]  time: 7.1571, ELBO_train: -17.24470663, KL_z: 0.80142966, KL_s: 0.35568839, reconstruction loss: -16.08758858\n",
      "Epoch: [300]  time: 10.9029, ELBO_train: -17.38266754, KL_z: 0.83050871, KL_s: 0.34001163, reconstruction loss: -16.21214721\n",
      "Epoch: [400]  time: 14.7855, ELBO_train: -17.50126314, KL_z: 0.85562842, KL_s: 0.34435660, reconstruction loss: -16.30127813\n",
      "Training finished.\n",
      "Epoch: [ 0]  time: 0.0396, ELBO_train: -17.24205446, KL_z: 0.81851701, KL_s: 0.35944268, reconstruction loss: -16.06409477\n",
      "Epoch: [100]  time: 4.5167, ELBO_train: -17.24147034, KL_z: 0.83644928, KL_s: 0.42313990, reconstruction loss: -15.98188116\n",
      "Epoch: [200]  time: 9.0501, ELBO_train: -17.22277880, KL_z: 0.82100734, KL_s: 0.38152686, reconstruction loss: -16.02024460\n",
      "Epoch: [300]  time: 13.5107, ELBO_train: -17.11638975, KL_z: 0.85642307, KL_s: 0.38258675, reconstruction loss: -15.87737994\n",
      "Epoch: [400]  time: 18.0385, ELBO_train: -17.15930986, KL_z: 0.87431385, KL_s: 0.37138608, reconstruction loss: -15.91360994\n",
      "Training finished.\n",
      "Score: 0.10429441570214279\n",
      "trial_6\n",
      "RuntimeError: torch.cat(): expected a non-empty list of Tensors\n",
      "{'n_layers_surv_piecewise': 1, 'lr': 0.0002, 'batch_size': 512, 'z_dim': 15, 'y_dim': 10, 's_dim': 30}\n",
      "trial_7\n",
      "RuntimeError: torch.cat(): expected a non-empty list of Tensors\n",
      "{'n_layers_surv_piecewise': 1, 'lr': 0.0002, 'batch_size': 512, 'z_dim': 10, 'y_dim': 30, 's_dim': 20}\n",
      "trial_8\n",
      "Epoch: [ 0]  time: 0.0465, ELBO_train: -21.00183868, KL_z: 1.25134993, KL_s: 0.08597716, reconstruction loss: -19.66451160\n",
      "Epoch: [100]  time: 5.1212, ELBO_train: -19.84617043, KL_z: 0.44297998, KL_s: 0.04026635, reconstruction loss: -19.36292409\n",
      "Epoch: [200]  time: 10.1899, ELBO_train: -19.38752460, KL_z: 0.22818292, KL_s: 0.03514771, reconstruction loss: -19.12419398\n",
      "Epoch: [300]  time: 15.1824, ELBO_train: -19.20452468, KL_z: 0.19583036, KL_s: 0.03358098, reconstruction loss: -18.97511334\n",
      "Epoch: [400]  time: 20.0616, ELBO_train: -18.69241714, KL_z: 0.22530293, KL_s: 0.03247801, reconstruction loss: -18.43463620\n",
      "Training finished.\n",
      "Epoch: [ 0]  time: 0.0413, ELBO_train: -18.49483267, KL_z: 0.26197107, KL_s: 0.03224603, reconstruction loss: -18.20061557\n",
      "Epoch: [100]  time: 4.9752, ELBO_train: -18.10006396, KL_z: 0.30212536, KL_s: 0.02672923, reconstruction loss: -17.77120937\n",
      "Epoch: [200]  time: 9.8135, ELBO_train: -18.03983021, KL_z: 0.33532922, KL_s: 0.02367270, reconstruction loss: -17.68082829\n",
      "Epoch: [300]  time: 15.8259, ELBO_train: -17.93829219, KL_z: 0.37460633, KL_s: 0.02356195, reconstruction loss: -17.54012390\n",
      "Epoch: [400]  time: 21.9149, ELBO_train: -17.92420578, KL_z: 0.40716851, KL_s: 0.02349285, reconstruction loss: -17.49354442\n",
      "Training finished.\n",
      "Epoch: [ 0]  time: 0.0363, ELBO_train: -17.63705254, KL_z: 0.43104355, KL_s: 0.02315549, reconstruction loss: -17.18285350\n",
      "Epoch: [100]  time: 4.9015, ELBO_train: -17.59692574, KL_z: 0.45735850, KL_s: 0.02482414, reconstruction loss: -17.11474309\n",
      "Epoch: [200]  time: 9.8685, ELBO_train: -17.51271979, KL_z: 0.48261469, KL_s: 0.02279464, reconstruction loss: -17.00731046\n",
      "Epoch: [300]  time: 14.7381, ELBO_train: -17.54238415, KL_z: 0.50806792, KL_s: 0.02245792, reconstruction loss: -17.01185831\n",
      "Epoch: [400]  time: 19.5603, ELBO_train: -17.43819650, KL_z: 0.51811715, KL_s: 0.02214809, reconstruction loss: -16.89793126\n",
      "Training finished.\n",
      "Epoch: [ 0]  time: 0.0487, ELBO_train: -17.52842744, KL_z: 0.53065856, KL_s: 0.02213494, reconstruction loss: -16.97563394\n",
      "Epoch: [100]  time: 5.4103, ELBO_train: -17.67193604, KL_z: 0.53779946, KL_s: 0.02754001, reconstruction loss: -17.10659657\n",
      "Epoch: [200]  time: 11.6097, ELBO_train: -17.62614473, KL_z: 0.54915973, KL_s: 0.02550284, reconstruction loss: -17.05148216\n",
      "Epoch: [300]  time: 17.8550, ELBO_train: -17.48779583, KL_z: 0.56112439, KL_s: 0.02567720, reconstruction loss: -16.90099423\n",
      "Epoch: [400]  time: 23.9386, ELBO_train: -17.66664251, KL_z: 0.57717315, KL_s: 0.02606865, reconstruction loss: -17.06340071\n",
      "Training finished.\n",
      "Epoch: [ 0]  time: 0.0401, ELBO_train: -17.35889181, KL_z: 0.57580906, KL_s: 0.02665460, reconstruction loss: -16.75642814\n",
      "Epoch: [100]  time: 4.9859, ELBO_train: -17.29191780, KL_z: 0.58227769, KL_s: 0.03261252, reconstruction loss: -16.67702759\n",
      "Epoch: [200]  time: 9.8389, ELBO_train: -17.34344292, KL_z: 0.58721284, KL_s: 0.02970525, reconstruction loss: -16.72652483\n",
      "Epoch: [300]  time: 14.6824, ELBO_train: -17.31747023, KL_z: 0.60215700, KL_s: 0.02982199, reconstruction loss: -16.68549124\n",
      "Epoch: [400]  time: 19.6095, ELBO_train: -17.32582855, KL_z: 0.60686274, KL_s: 0.02947609, reconstruction loss: -16.68948972\n",
      "Training finished.\n",
      "Score: 0.10574953141782303\n",
      "trial_9\n",
      "Epoch: [ 0]  time: 0.0498, ELBO_train: -20.68389193, KL_z: 0.93379870, KL_s: 0.04175701, reconstruction loss: -19.70833622\n",
      "Epoch: [100]  time: 6.3331, ELBO_train: -18.71882375, KL_z: 0.35833871, KL_s: 0.04158356, reconstruction loss: -18.31890148\n",
      "Epoch: [200]  time: 12.6095, ELBO_train: -17.84704399, KL_z: 0.40106027, KL_s: 0.04024132, reconstruction loss: -17.40574240\n",
      "Epoch: [300]  time: 18.6400, ELBO_train: -17.42496618, KL_z: 0.51564624, KL_s: 0.03936569, reconstruction loss: -16.86995425\n",
      "Epoch: [400]  time: 23.6196, ELBO_train: -17.33771801, KL_z: 0.62774970, KL_s: 0.03872252, reconstruction loss: -16.67124579\n",
      "Training finished.\n",
      "Epoch: [ 0]  time: 0.0421, ELBO_train: -17.30716483, KL_z: 0.66854632, KL_s: 0.04191734, reconstruction loss: -16.59670117\n",
      "Epoch: [100]  time: 5.4707, ELBO_train: -17.16906993, KL_z: 0.72519952, KL_s: 0.06280015, reconstruction loss: -16.38107026\n",
      "Epoch: [200]  time: 10.7557, ELBO_train: -17.23006948, KL_z: 0.76292002, KL_s: 0.06070936, reconstruction loss: -16.40644010\n",
      "Epoch: [300]  time: 16.0336, ELBO_train: -17.20235634, KL_z: 0.77786659, KL_s: 0.06165761, reconstruction loss: -16.36283214\n",
      "Epoch: [400]  time: 21.5927, ELBO_train: -17.13545195, KL_z: 0.81666865, KL_s: 0.06043158, reconstruction loss: -16.25835172\n",
      "Training finished.\n",
      "Epoch: [ 0]  time: 0.0617, ELBO_train: -17.12539641, KL_z: 0.82756095, KL_s: 0.06267550, reconstruction loss: -16.23515996\n",
      "Epoch: [100]  time: 6.5330, ELBO_train: -17.03489145, KL_z: 0.85717378, KL_s: 0.08872801, reconstruction loss: -16.08898966\n",
      "Epoch: [200]  time: 13.0175, ELBO_train: -17.23846245, KL_z: 0.87870044, KL_s: 0.07881419, reconstruction loss: -16.28094782\n",
      "Epoch: [300]  time: 19.1687, ELBO_train: -17.10854403, KL_z: 0.89469092, KL_s: 0.07947324, reconstruction loss: -16.13437987\n",
      "Epoch: [400]  time: 24.4581, ELBO_train: -17.06475417, KL_z: 0.91696642, KL_s: 0.08190121, reconstruction loss: -16.06588654\n",
      "Training finished.\n",
      "Epoch: [ 0]  time: 0.0403, ELBO_train: -17.16860294, KL_z: 0.92094289, KL_s: 0.08373757, reconstruction loss: -16.16392248\n",
      "Epoch: [100]  time: 5.3245, ELBO_train: -17.11174043, KL_z: 0.93899748, KL_s: 0.10598946, reconstruction loss: -16.06675350\n",
      "Epoch: [200]  time: 10.6024, ELBO_train: -17.21349589, KL_z: 0.95874101, KL_s: 0.10765302, reconstruction loss: -16.14710186\n",
      "Epoch: [300]  time: 15.8752, ELBO_train: -17.10410690, KL_z: 0.95143941, KL_s: 0.10601089, reconstruction loss: -16.04665660\n",
      "Epoch: [400]  time: 21.0988, ELBO_train: -17.11701012, KL_z: 1.01291824, KL_s: 0.11116894, reconstruction loss: -15.99292293\n",
      "Training finished.\n",
      "Epoch: [ 0]  time: 0.0596, ELBO_train: -17.06667837, KL_z: 0.98232792, KL_s: 0.11079371, reconstruction loss: -15.97355674\n",
      "Epoch: [100]  time: 6.5296, ELBO_train: -16.99808375, KL_z: 0.97771947, KL_s: 0.11396462, reconstruction loss: -15.90639967\n",
      "Epoch: [200]  time: 12.9426, ELBO_train: -17.01930396, KL_z: 1.00313728, KL_s: 0.11284971, reconstruction loss: -15.90331696\n",
      "Epoch: [300]  time: 19.3177, ELBO_train: -17.08937263, KL_z: 1.00451936, KL_s: 0.11010728, reconstruction loss: -15.97474599\n",
      "Epoch: [400]  time: 25.6167, ELBO_train: -16.98192978, KL_z: 1.01096849, KL_s: 0.11114510, reconstruction loss: -15.85981619\n",
      "Training finished.\n",
      "Score: 0.02908667387008367\n",
      "Creating new optuna study for Surv-GAN...\n"
     ]
    },
    {
     "name": "stderr",
     "output_type": "stream",
     "text": [
      "[2025-05-23T16:21:14.511312+0200][39140][CRITICAL] module disabled: /opt/anaconda3/envs/hivae/lib/python3.13/site-packages/synthcity/plugins/generic/plugin_goggle.py\n",
      "[2025-05-23T16:21:14.512126+0200][39140][CRITICAL] load failed: module 'synthcity.plugins.privacy.plugin_decaf' has no attribute 'plugin'\n",
      "[2025-05-23T16:21:14.512339+0200][39140][CRITICAL] load failed: module 'synthcity.plugins.privacy.plugin_decaf' has no attribute 'plugin'\n",
      "[2025-05-23T16:21:14.512509+0200][39140][CRITICAL] module plugin_decaf load failed\n"
     ]
    },
    {
     "name": "stdout",
     "output_type": "stream",
     "text": [
      "trial_0\n"
     ]
    },
    {
     "name": "stderr",
     "output_type": "stream",
     "text": [
      "[2025-05-23T16:21:15.036225+0200][39140][CRITICAL] module disabled: /opt/anaconda3/envs/hivae/lib/python3.13/site-packages/synthcity/plugins/generic/plugin_goggle.py\n",
      "[2025-05-23T16:21:15.037329+0200][39140][CRITICAL] load failed: module 'synthcity.plugins.privacy.plugin_decaf' has no attribute 'plugin'\n",
      "[2025-05-23T16:21:15.037727+0200][39140][CRITICAL] load failed: module 'synthcity.plugins.privacy.plugin_decaf' has no attribute 'plugin'\n",
      "[2025-05-23T16:21:15.038245+0200][39140][CRITICAL] module plugin_decaf load failed\n",
      "  7%|▋         | 749/10000 [00:22<04:36, 33.48it/s]\n",
      "[2025-05-23T16:21:47.520178+0200][39140][CRITICAL] module disabled: /opt/anaconda3/envs/hivae/lib/python3.13/site-packages/synthcity/plugins/generic/plugin_goggle.py\n",
      "[2025-05-23T16:21:47.521637+0200][39140][CRITICAL] load failed: module 'synthcity.plugins.privacy.plugin_decaf' has no attribute 'plugin'\n",
      "[2025-05-23T16:21:47.522076+0200][39140][CRITICAL] load failed: module 'synthcity.plugins.privacy.plugin_decaf' has no attribute 'plugin'\n",
      "[2025-05-23T16:21:47.522426+0200][39140][CRITICAL] module plugin_decaf load failed\n",
      "  5%|▌         | 549/10000 [00:18<05:20, 29.51it/s]\n",
      "[2025-05-23T16:22:16.434023+0200][39140][CRITICAL] module disabled: /opt/anaconda3/envs/hivae/lib/python3.13/site-packages/synthcity/plugins/generic/plugin_goggle.py\n",
      "[2025-05-23T16:22:16.435416+0200][39140][CRITICAL] load failed: module 'synthcity.plugins.privacy.plugin_decaf' has no attribute 'plugin'\n",
      "[2025-05-23T16:22:16.435832+0200][39140][CRITICAL] load failed: module 'synthcity.plugins.privacy.plugin_decaf' has no attribute 'plugin'\n",
      "[2025-05-23T16:22:16.436327+0200][39140][CRITICAL] module plugin_decaf load failed\n",
      "  7%|▋         | 749/10000 [00:21<04:22, 35.19it/s]\n",
      "[2025-05-23T16:22:46.415997+0200][39140][CRITICAL] module disabled: /opt/anaconda3/envs/hivae/lib/python3.13/site-packages/synthcity/plugins/generic/plugin_goggle.py\n",
      "[2025-05-23T16:22:46.417151+0200][39140][CRITICAL] load failed: module 'synthcity.plugins.privacy.plugin_decaf' has no attribute 'plugin'\n",
      "[2025-05-23T16:22:46.417505+0200][39140][CRITICAL] load failed: module 'synthcity.plugins.privacy.plugin_decaf' has no attribute 'plugin'\n",
      "[2025-05-23T16:22:46.417756+0200][39140][CRITICAL] module plugin_decaf load failed\n",
      "  6%|▋         | 649/10000 [00:21<05:07, 30.41it/s]\n",
      "[2025-05-23T16:23:18.250315+0200][39140][CRITICAL] module disabled: /opt/anaconda3/envs/hivae/lib/python3.13/site-packages/synthcity/plugins/generic/plugin_goggle.py\n",
      "[2025-05-23T16:23:18.252037+0200][39140][CRITICAL] load failed: module 'synthcity.plugins.privacy.plugin_decaf' has no attribute 'plugin'\n",
      "[2025-05-23T16:23:18.252497+0200][39140][CRITICAL] load failed: module 'synthcity.plugins.privacy.plugin_decaf' has no attribute 'plugin'\n",
      "[2025-05-23T16:23:18.252943+0200][39140][CRITICAL] module plugin_decaf load failed\n",
      "  5%|▍         | 499/10000 [00:15<04:50, 32.71it/s]\n",
      "[2025-05-23T16:23:42.767423+0200][39140][CRITICAL] module disabled: /opt/anaconda3/envs/hivae/lib/python3.13/site-packages/synthcity/plugins/generic/plugin_goggle.py\n",
      "[2025-05-23T16:23:42.768389+0200][39140][CRITICAL] load failed: module 'synthcity.plugins.privacy.plugin_decaf' has no attribute 'plugin'\n",
      "[2025-05-23T16:23:42.768622+0200][39140][CRITICAL] load failed: module 'synthcity.plugins.privacy.plugin_decaf' has no attribute 'plugin'\n",
      "[2025-05-23T16:23:42.768847+0200][39140][CRITICAL] module plugin_decaf load failed\n",
      "[2025-05-23T16:23:42.771731+0200][39140][CRITICAL] module disabled: /opt/anaconda3/envs/hivae/lib/python3.13/site-packages/synthcity/plugins/generic/plugin_goggle.py\n",
      "[2025-05-23T16:23:42.772082+0200][39140][CRITICAL] load failed: module 'synthcity.plugins.privacy.plugin_decaf' has no attribute 'plugin'\n",
      "[2025-05-23T16:23:42.772284+0200][39140][CRITICAL] load failed: module 'synthcity.plugins.privacy.plugin_decaf' has no attribute 'plugin'\n",
      "[2025-05-23T16:23:42.772847+0200][39140][CRITICAL] module plugin_decaf load failed\n",
      "[2025-05-23T16:23:42.929422+0200][39140][CRITICAL] module disabled: /opt/anaconda3/envs/hivae/lib/python3.13/site-packages/synthcity/plugins/generic/plugin_goggle.py\n",
      "[2025-05-23T16:23:42.930162+0200][39140][CRITICAL] load failed: module 'synthcity.plugins.privacy.plugin_decaf' has no attribute 'plugin'\n",
      "[2025-05-23T16:23:42.930540+0200][39140][CRITICAL] load failed: module 'synthcity.plugins.privacy.plugin_decaf' has no attribute 'plugin'\n",
      "[2025-05-23T16:23:42.930829+0200][39140][CRITICAL] module plugin_decaf load failed\n"
     ]
    },
    {
     "name": "stdout",
     "output_type": "stream",
     "text": [
      "Score: 0.033624468074934834\n",
      "trial_1\n"
     ]
    },
    {
     "name": "stderr",
     "output_type": "stream",
     "text": [
      " 17%|█▋        | 1749/10000 [00:52<04:05, 33.54it/s]\n",
      "[2025-05-23T16:24:42.104773+0200][39140][CRITICAL] module disabled: /opt/anaconda3/envs/hivae/lib/python3.13/site-packages/synthcity/plugins/generic/plugin_goggle.py\n",
      "[2025-05-23T16:24:42.105624+0200][39140][CRITICAL] load failed: module 'synthcity.plugins.privacy.plugin_decaf' has no attribute 'plugin'\n",
      "[2025-05-23T16:24:42.106096+0200][39140][CRITICAL] load failed: module 'synthcity.plugins.privacy.plugin_decaf' has no attribute 'plugin'\n",
      "[2025-05-23T16:24:42.106435+0200][39140][CRITICAL] module plugin_decaf load failed\n",
      "  6%|▌         | 599/10000 [00:13<03:39, 42.88it/s]\n",
      "[2025-05-23T16:25:02.773395+0200][39140][CRITICAL] module disabled: /opt/anaconda3/envs/hivae/lib/python3.13/site-packages/synthcity/plugins/generic/plugin_goggle.py\n",
      "[2025-05-23T16:25:02.774657+0200][39140][CRITICAL] load failed: module 'synthcity.plugins.privacy.plugin_decaf' has no attribute 'plugin'\n",
      "[2025-05-23T16:25:02.774979+0200][39140][CRITICAL] load failed: module 'synthcity.plugins.privacy.plugin_decaf' has no attribute 'plugin'\n",
      "[2025-05-23T16:25:02.775288+0200][39140][CRITICAL] module plugin_decaf load failed\n",
      "  8%|▊         | 799/10000 [00:19<03:46, 40.71it/s]\n",
      "[2025-05-23T16:25:29.851752+0200][39140][CRITICAL] module disabled: /opt/anaconda3/envs/hivae/lib/python3.13/site-packages/synthcity/plugins/generic/plugin_goggle.py\n",
      "[2025-05-23T16:25:29.852904+0200][39140][CRITICAL] load failed: module 'synthcity.plugins.privacy.plugin_decaf' has no attribute 'plugin'\n",
      "[2025-05-23T16:25:29.853301+0200][39140][CRITICAL] load failed: module 'synthcity.plugins.privacy.plugin_decaf' has no attribute 'plugin'\n",
      "[2025-05-23T16:25:29.853601+0200][39140][CRITICAL] module plugin_decaf load failed\n",
      " 11%|█         | 1099/10000 [17:23<2:20:49,  1.05it/s] \n",
      "[2025-05-23T16:43:01.672033+0200][39140][CRITICAL] module disabled: /opt/anaconda3/envs/hivae/lib/python3.13/site-packages/synthcity/plugins/generic/plugin_goggle.py\n",
      "[2025-05-23T16:43:01.673114+0200][39140][CRITICAL] load failed: module 'synthcity.plugins.privacy.plugin_decaf' has no attribute 'plugin'\n",
      "[2025-05-23T16:43:01.673528+0200][39140][CRITICAL] load failed: module 'synthcity.plugins.privacy.plugin_decaf' has no attribute 'plugin'\n",
      "[2025-05-23T16:43:01.673866+0200][39140][CRITICAL] module plugin_decaf load failed\n",
      "  9%|▉         | 949/10000 [15:26<2:27:14,  1.02it/s]  \n",
      "[2025-05-23T16:58:34.497754+0200][39140][CRITICAL] module disabled: /opt/anaconda3/envs/hivae/lib/python3.13/site-packages/synthcity/plugins/generic/plugin_goggle.py\n",
      "[2025-05-23T16:58:34.498539+0200][39140][CRITICAL] load failed: module 'synthcity.plugins.privacy.plugin_decaf' has no attribute 'plugin'\n",
      "[2025-05-23T16:58:34.498714+0200][39140][CRITICAL] load failed: module 'synthcity.plugins.privacy.plugin_decaf' has no attribute 'plugin'\n",
      "[2025-05-23T16:58:34.498842+0200][39140][CRITICAL] module plugin_decaf load failed\n",
      "[2025-05-23T16:58:34.501284+0200][39140][CRITICAL] module disabled: /opt/anaconda3/envs/hivae/lib/python3.13/site-packages/synthcity/plugins/generic/plugin_goggle.py\n",
      "[2025-05-23T16:58:34.501576+0200][39140][CRITICAL] load failed: module 'synthcity.plugins.privacy.plugin_decaf' has no attribute 'plugin'\n",
      "[2025-05-23T16:58:34.501725+0200][39140][CRITICAL] load failed: module 'synthcity.plugins.privacy.plugin_decaf' has no attribute 'plugin'\n",
      "[2025-05-23T16:58:34.501856+0200][39140][CRITICAL] module plugin_decaf load failed\n",
      "[2025-05-23T16:58:34.601979+0200][39140][CRITICAL] module disabled: /opt/anaconda3/envs/hivae/lib/python3.13/site-packages/synthcity/plugins/generic/plugin_goggle.py\n",
      "[2025-05-23T16:58:34.602479+0200][39140][CRITICAL] load failed: module 'synthcity.plugins.privacy.plugin_decaf' has no attribute 'plugin'\n",
      "[2025-05-23T16:58:34.602762+0200][39140][CRITICAL] load failed: module 'synthcity.plugins.privacy.plugin_decaf' has no attribute 'plugin'\n",
      "[2025-05-23T16:58:34.603119+0200][39140][CRITICAL] module plugin_decaf load failed\n"
     ]
    },
    {
     "name": "stdout",
     "output_type": "stream",
     "text": [
      "Score: 0.034814642367532934\n",
      "trial_2\n"
     ]
    },
    {
     "name": "stderr",
     "output_type": "stream",
     "text": [
      "  4%|▍         | 449/10000 [00:15<05:21, 29.75it/s]\n",
      "[2025-05-23T16:58:59.325837+0200][39140][CRITICAL] module disabled: /opt/anaconda3/envs/hivae/lib/python3.13/site-packages/synthcity/plugins/generic/plugin_goggle.py\n",
      "[2025-05-23T16:58:59.330902+0200][39140][CRITICAL] load failed: module 'synthcity.plugins.privacy.plugin_decaf' has no attribute 'plugin'\n",
      "[2025-05-23T16:58:59.331374+0200][39140][CRITICAL] load failed: module 'synthcity.plugins.privacy.plugin_decaf' has no attribute 'plugin'\n",
      "[2025-05-23T16:58:59.331616+0200][39140][CRITICAL] module plugin_decaf load failed\n",
      "  3%|▎         | 349/10000 [00:11<05:18, 30.34it/s]\n",
      "[2025-05-23T16:59:19.774792+0200][39140][CRITICAL] module disabled: /opt/anaconda3/envs/hivae/lib/python3.13/site-packages/synthcity/plugins/generic/plugin_goggle.py\n",
      "[2025-05-23T16:59:19.776464+0200][39140][CRITICAL] load failed: module 'synthcity.plugins.privacy.plugin_decaf' has no attribute 'plugin'\n",
      "[2025-05-23T16:59:19.776827+0200][39140][CRITICAL] load failed: module 'synthcity.plugins.privacy.plugin_decaf' has no attribute 'plugin'\n",
      "[2025-05-23T16:59:19.777061+0200][39140][CRITICAL] module plugin_decaf load failed\n",
      "  4%|▍         | 399/10000 [15:13<6:06:29,  2.29s/it]  \n",
      "[2025-05-23T17:14:41.525852+0200][39140][CRITICAL] module disabled: /opt/anaconda3/envs/hivae/lib/python3.13/site-packages/synthcity/plugins/generic/plugin_goggle.py\n",
      "[2025-05-23T17:14:41.527617+0200][39140][CRITICAL] load failed: module 'synthcity.plugins.privacy.plugin_decaf' has no attribute 'plugin'\n",
      "[2025-05-23T17:14:41.528040+0200][39140][CRITICAL] load failed: module 'synthcity.plugins.privacy.plugin_decaf' has no attribute 'plugin'\n",
      "[2025-05-23T17:14:41.528316+0200][39140][CRITICAL] module plugin_decaf load failed\n",
      "  3%|▎         | 349/10000 [00:09<04:32, 35.47it/s]\n",
      "[2025-05-23T17:14:59.171014+0200][39140][CRITICAL] module disabled: /opt/anaconda3/envs/hivae/lib/python3.13/site-packages/synthcity/plugins/generic/plugin_goggle.py\n",
      "[2025-05-23T17:14:59.171970+0200][39140][CRITICAL] load failed: module 'synthcity.plugins.privacy.plugin_decaf' has no attribute 'plugin'\n",
      "[2025-05-23T17:14:59.172434+0200][39140][CRITICAL] load failed: module 'synthcity.plugins.privacy.plugin_decaf' has no attribute 'plugin'\n",
      "[2025-05-23T17:14:59.172783+0200][39140][CRITICAL] module plugin_decaf load failed\n",
      "  3%|▎         | 349/10000 [00:10<04:48, 33.45it/s]\n",
      "[2025-05-23T17:15:17.698198+0200][39140][CRITICAL] module disabled: /opt/anaconda3/envs/hivae/lib/python3.13/site-packages/synthcity/plugins/generic/plugin_goggle.py\n",
      "[2025-05-23T17:15:17.698948+0200][39140][CRITICAL] load failed: module 'synthcity.plugins.privacy.plugin_decaf' has no attribute 'plugin'\n",
      "[2025-05-23T17:15:17.699192+0200][39140][CRITICAL] load failed: module 'synthcity.plugins.privacy.plugin_decaf' has no attribute 'plugin'\n",
      "[2025-05-23T17:15:17.699553+0200][39140][CRITICAL] module plugin_decaf load failed\n",
      "[2025-05-23T17:15:17.702603+0200][39140][CRITICAL] module disabled: /opt/anaconda3/envs/hivae/lib/python3.13/site-packages/synthcity/plugins/generic/plugin_goggle.py\n",
      "[2025-05-23T17:15:17.702950+0200][39140][CRITICAL] load failed: module 'synthcity.plugins.privacy.plugin_decaf' has no attribute 'plugin'\n",
      "[2025-05-23T17:15:17.703181+0200][39140][CRITICAL] load failed: module 'synthcity.plugins.privacy.plugin_decaf' has no attribute 'plugin'\n",
      "[2025-05-23T17:15:17.703549+0200][39140][CRITICAL] module plugin_decaf load failed\n",
      "[2025-05-23T17:15:17.807867+0200][39140][CRITICAL] module disabled: /opt/anaconda3/envs/hivae/lib/python3.13/site-packages/synthcity/plugins/generic/plugin_goggle.py\n",
      "[2025-05-23T17:15:17.808502+0200][39140][CRITICAL] load failed: module 'synthcity.plugins.privacy.plugin_decaf' has no attribute 'plugin'\n",
      "[2025-05-23T17:15:17.808838+0200][39140][CRITICAL] load failed: module 'synthcity.plugins.privacy.plugin_decaf' has no attribute 'plugin'\n",
      "[2025-05-23T17:15:17.809172+0200][39140][CRITICAL] module plugin_decaf load failed\n"
     ]
    },
    {
     "name": "stdout",
     "output_type": "stream",
     "text": [
      "Score: 0.19287686990384798\n",
      "trial_3\n"
     ]
    },
    {
     "name": "stderr",
     "output_type": "stream",
     "text": [
      "  9%|▉         | 949/10000 [00:35<05:38, 26.71it/s]\n",
      "[2025-05-23T17:16:00.508570+0200][39140][CRITICAL] module disabled: /opt/anaconda3/envs/hivae/lib/python3.13/site-packages/synthcity/plugins/generic/plugin_goggle.py\n",
      "[2025-05-23T17:16:00.509545+0200][39140][CRITICAL] load failed: module 'synthcity.plugins.privacy.plugin_decaf' has no attribute 'plugin'\n",
      "[2025-05-23T17:16:00.509901+0200][39140][CRITICAL] load failed: module 'synthcity.plugins.privacy.plugin_decaf' has no attribute 'plugin'\n",
      "[2025-05-23T17:16:00.510202+0200][39140][CRITICAL] module plugin_decaf load failed\n",
      " 10%|▉         | 999/10000 [00:40<06:03, 24.79it/s]\n",
      "[2025-05-23T17:33:40.085922+0200][39140][CRITICAL] module disabled: /opt/anaconda3/envs/hivae/lib/python3.13/site-packages/synthcity/plugins/generic/plugin_goggle.py\n",
      "[2025-05-23T17:33:40.088008+0200][39140][CRITICAL] load failed: module 'synthcity.plugins.privacy.plugin_decaf' has no attribute 'plugin'\n",
      "[2025-05-23T17:33:40.088435+0200][39140][CRITICAL] load failed: module 'synthcity.plugins.privacy.plugin_decaf' has no attribute 'plugin'\n",
      "[2025-05-23T17:33:40.088683+0200][39140][CRITICAL] module plugin_decaf load failed\n",
      "  5%|▌         | 549/10000 [00:17<04:53, 32.23it/s]\n",
      "[2025-05-23T17:34:04.774795+0200][39140][CRITICAL] module disabled: /opt/anaconda3/envs/hivae/lib/python3.13/site-packages/synthcity/plugins/generic/plugin_goggle.py\n",
      "[2025-05-23T17:34:04.777650+0200][39140][CRITICAL] load failed: module 'synthcity.plugins.privacy.plugin_decaf' has no attribute 'plugin'\n",
      "[2025-05-23T17:34:04.778128+0200][39140][CRITICAL] load failed: module 'synthcity.plugins.privacy.plugin_decaf' has no attribute 'plugin'\n",
      "[2025-05-23T17:34:04.778463+0200][39140][CRITICAL] module plugin_decaf load failed\n",
      "  7%|▋         | 749/10000 [00:30<06:14, 24.69it/s]\n",
      "[2025-05-23T17:34:43.598562+0200][39140][CRITICAL] module disabled: /opt/anaconda3/envs/hivae/lib/python3.13/site-packages/synthcity/plugins/generic/plugin_goggle.py\n",
      "[2025-05-23T17:34:43.599743+0200][39140][CRITICAL] load failed: module 'synthcity.plugins.privacy.plugin_decaf' has no attribute 'plugin'\n",
      "[2025-05-23T17:34:43.600165+0200][39140][CRITICAL] load failed: module 'synthcity.plugins.privacy.plugin_decaf' has no attribute 'plugin'\n",
      "[2025-05-23T17:34:43.600532+0200][39140][CRITICAL] module plugin_decaf load failed\n",
      "  6%|▌         | 599/10000 [00:23<06:06, 25.63it/s]\n",
      "[2025-05-23T17:35:14.905933+0200][39140][CRITICAL] module disabled: /opt/anaconda3/envs/hivae/lib/python3.13/site-packages/synthcity/plugins/generic/plugin_goggle.py\n",
      "[2025-05-23T17:35:14.906621+0200][39140][CRITICAL] load failed: module 'synthcity.plugins.privacy.plugin_decaf' has no attribute 'plugin'\n",
      "[2025-05-23T17:35:14.906804+0200][39140][CRITICAL] load failed: module 'synthcity.plugins.privacy.plugin_decaf' has no attribute 'plugin'\n",
      "[2025-05-23T17:35:14.907009+0200][39140][CRITICAL] module plugin_decaf load failed\n",
      "[2025-05-23T17:35:14.909489+0200][39140][CRITICAL] module disabled: /opt/anaconda3/envs/hivae/lib/python3.13/site-packages/synthcity/plugins/generic/plugin_goggle.py\n",
      "[2025-05-23T17:35:14.909839+0200][39140][CRITICAL] load failed: module 'synthcity.plugins.privacy.plugin_decaf' has no attribute 'plugin'\n",
      "[2025-05-23T17:35:14.910015+0200][39140][CRITICAL] load failed: module 'synthcity.plugins.privacy.plugin_decaf' has no attribute 'plugin'\n",
      "[2025-05-23T17:35:14.910200+0200][39140][CRITICAL] module plugin_decaf load failed\n",
      "[2025-05-23T17:35:15.025866+0200][39140][CRITICAL] module disabled: /opt/anaconda3/envs/hivae/lib/python3.13/site-packages/synthcity/plugins/generic/plugin_goggle.py\n",
      "[2025-05-23T17:35:15.026550+0200][39140][CRITICAL] load failed: module 'synthcity.plugins.privacy.plugin_decaf' has no attribute 'plugin'\n",
      "[2025-05-23T17:35:15.026860+0200][39140][CRITICAL] load failed: module 'synthcity.plugins.privacy.plugin_decaf' has no attribute 'plugin'\n",
      "[2025-05-23T17:35:15.027078+0200][39140][CRITICAL] module plugin_decaf load failed\n"
     ]
    },
    {
     "name": "stdout",
     "output_type": "stream",
     "text": [
      "Score: 0.1367222858165863\n",
      "trial_4\n"
     ]
    },
    {
     "name": "stderr",
     "output_type": "stream",
     "text": [
      "  4%|▍         | 399/10000 [00:08<03:14, 49.28it/s]\n",
      "[2025-05-23T17:35:31.470830+0200][39140][CRITICAL] module disabled: /opt/anaconda3/envs/hivae/lib/python3.13/site-packages/synthcity/plugins/generic/plugin_goggle.py\n",
      "[2025-05-23T17:35:31.473017+0200][39140][CRITICAL] load failed: module 'synthcity.plugins.privacy.plugin_decaf' has no attribute 'plugin'\n",
      "[2025-05-23T17:35:31.473457+0200][39140][CRITICAL] load failed: module 'synthcity.plugins.privacy.plugin_decaf' has no attribute 'plugin'\n",
      "[2025-05-23T17:35:31.473909+0200][39140][CRITICAL] module plugin_decaf load failed\n",
      "  6%|▌         | 599/10000 [16:14<4:14:51,  1.63s/it]  \n",
      "[2025-05-23T17:51:53.339610+0200][39140][CRITICAL] module disabled: /opt/anaconda3/envs/hivae/lib/python3.13/site-packages/synthcity/plugins/generic/plugin_goggle.py\n",
      "[2025-05-23T17:51:53.341008+0200][39140][CRITICAL] load failed: module 'synthcity.plugins.privacy.plugin_decaf' has no attribute 'plugin'\n",
      "[2025-05-23T17:51:53.341507+0200][39140][CRITICAL] load failed: module 'synthcity.plugins.privacy.plugin_decaf' has no attribute 'plugin'\n",
      "[2025-05-23T17:51:53.341749+0200][39140][CRITICAL] module plugin_decaf load failed\n",
      "  8%|▊         | 799/10000 [00:11<02:13, 69.15it/s]\n",
      "[2025-05-23T17:52:11.813862+0200][39140][CRITICAL] module disabled: /opt/anaconda3/envs/hivae/lib/python3.13/site-packages/synthcity/plugins/generic/plugin_goggle.py\n",
      "[2025-05-23T17:52:11.814983+0200][39140][CRITICAL] load failed: module 'synthcity.plugins.privacy.plugin_decaf' has no attribute 'plugin'\n",
      "[2025-05-23T17:52:11.815568+0200][39140][CRITICAL] load failed: module 'synthcity.plugins.privacy.plugin_decaf' has no attribute 'plugin'\n",
      "[2025-05-23T17:52:11.816040+0200][39140][CRITICAL] module plugin_decaf load failed\n",
      "  8%|▊         | 799/10000 [00:14<02:49, 54.15it/s]\n",
      "[2025-05-23T17:52:34.734718+0200][39140][CRITICAL] module disabled: /opt/anaconda3/envs/hivae/lib/python3.13/site-packages/synthcity/plugins/generic/plugin_goggle.py\n",
      "[2025-05-23T17:52:34.735906+0200][39140][CRITICAL] load failed: module 'synthcity.plugins.privacy.plugin_decaf' has no attribute 'plugin'\n",
      "[2025-05-23T17:52:34.736378+0200][39140][CRITICAL] load failed: module 'synthcity.plugins.privacy.plugin_decaf' has no attribute 'plugin'\n",
      "[2025-05-23T17:52:34.736673+0200][39140][CRITICAL] module plugin_decaf load failed\n",
      "  5%|▌         | 549/10000 [00:11<03:18, 47.58it/s]\n",
      "[2025-05-23T17:52:53.492625+0200][39140][CRITICAL] module disabled: /opt/anaconda3/envs/hivae/lib/python3.13/site-packages/synthcity/plugins/generic/plugin_goggle.py\n",
      "[2025-05-23T17:52:53.493296+0200][39140][CRITICAL] load failed: module 'synthcity.plugins.privacy.plugin_decaf' has no attribute 'plugin'\n",
      "[2025-05-23T17:52:53.493474+0200][39140][CRITICAL] load failed: module 'synthcity.plugins.privacy.plugin_decaf' has no attribute 'plugin'\n",
      "[2025-05-23T17:52:53.493636+0200][39140][CRITICAL] module plugin_decaf load failed\n",
      "[2025-05-23T17:52:53.496041+0200][39140][CRITICAL] module disabled: /opt/anaconda3/envs/hivae/lib/python3.13/site-packages/synthcity/plugins/generic/plugin_goggle.py\n",
      "[2025-05-23T17:52:53.496350+0200][39140][CRITICAL] load failed: module 'synthcity.plugins.privacy.plugin_decaf' has no attribute 'plugin'\n",
      "[2025-05-23T17:52:53.496504+0200][39140][CRITICAL] load failed: module 'synthcity.plugins.privacy.plugin_decaf' has no attribute 'plugin'\n",
      "[2025-05-23T17:52:53.496668+0200][39140][CRITICAL] module plugin_decaf load failed\n",
      "[2025-05-23T17:52:53.611430+0200][39140][CRITICAL] module disabled: /opt/anaconda3/envs/hivae/lib/python3.13/site-packages/synthcity/plugins/generic/plugin_goggle.py\n",
      "[2025-05-23T17:52:53.612165+0200][39140][CRITICAL] load failed: module 'synthcity.plugins.privacy.plugin_decaf' has no attribute 'plugin'\n",
      "[2025-05-23T17:52:53.612550+0200][39140][CRITICAL] load failed: module 'synthcity.plugins.privacy.plugin_decaf' has no attribute 'plugin'\n",
      "[2025-05-23T17:52:53.612894+0200][39140][CRITICAL] module plugin_decaf load failed\n"
     ]
    },
    {
     "name": "stdout",
     "output_type": "stream",
     "text": [
      "Score: 0.023978264362125298\n",
      "trial_5\n"
     ]
    },
    {
     "name": "stderr",
     "output_type": "stream",
     "text": [
      "  3%|▎         | 299/10000 [00:06<03:44, 43.12it/s]\n",
      "[2025-05-23T17:53:13.150135+0200][39140][CRITICAL] module disabled: /opt/anaconda3/envs/hivae/lib/python3.13/site-packages/synthcity/plugins/generic/plugin_goggle.py\n",
      "[2025-05-23T17:53:13.150968+0200][39140][CRITICAL] load failed: module 'synthcity.plugins.privacy.plugin_decaf' has no attribute 'plugin'\n",
      "[2025-05-23T17:53:13.151369+0200][39140][CRITICAL] load failed: module 'synthcity.plugins.privacy.plugin_decaf' has no attribute 'plugin'\n",
      "[2025-05-23T17:53:13.151657+0200][39140][CRITICAL] module plugin_decaf load failed\n",
      "  3%|▎         | 299/10000 [00:06<03:43, 43.34it/s]\n",
      "[2025-05-23T17:53:43.864510+0200][39140][CRITICAL] module disabled: /opt/anaconda3/envs/hivae/lib/python3.13/site-packages/synthcity/plugins/generic/plugin_goggle.py\n",
      "[2025-05-23T17:53:43.866219+0200][39140][CRITICAL] load failed: module 'synthcity.plugins.privacy.plugin_decaf' has no attribute 'plugin'\n",
      "[2025-05-23T17:53:43.866713+0200][39140][CRITICAL] load failed: module 'synthcity.plugins.privacy.plugin_decaf' has no attribute 'plugin'\n",
      "[2025-05-23T17:53:43.867054+0200][39140][CRITICAL] module plugin_decaf load failed\n",
      "  9%|▉         | 949/10000 [07:20<1:09:59,  2.16it/s] \n",
      "[2025-05-23T18:01:09.847622+0200][39140][CRITICAL] module disabled: /opt/anaconda3/envs/hivae/lib/python3.13/site-packages/synthcity/plugins/generic/plugin_goggle.py\n",
      "[2025-05-23T18:01:09.848770+0200][39140][CRITICAL] load failed: module 'synthcity.plugins.privacy.plugin_decaf' has no attribute 'plugin'\n",
      "[2025-05-23T18:01:09.849042+0200][39140][CRITICAL] load failed: module 'synthcity.plugins.privacy.plugin_decaf' has no attribute 'plugin'\n",
      "[2025-05-23T18:01:09.849251+0200][39140][CRITICAL] module plugin_decaf load failed\n",
      "  3%|▎         | 299/10000 [00:04<02:35, 62.47it/s]\n",
      "[2025-05-23T18:01:22.184078+0200][39140][CRITICAL] module disabled: /opt/anaconda3/envs/hivae/lib/python3.13/site-packages/synthcity/plugins/generic/plugin_goggle.py\n",
      "[2025-05-23T18:01:22.185031+0200][39140][CRITICAL] load failed: module 'synthcity.plugins.privacy.plugin_decaf' has no attribute 'plugin'\n",
      "[2025-05-23T18:01:22.185437+0200][39140][CRITICAL] load failed: module 'synthcity.plugins.privacy.plugin_decaf' has no attribute 'plugin'\n",
      "[2025-05-23T18:01:22.185768+0200][39140][CRITICAL] module plugin_decaf load failed\n",
      "  3%|▎         | 299/10000 [00:08<04:46, 33.82it/s]\n",
      "[2025-05-23T18:17:41.719325+0200][39140][CRITICAL] module disabled: /opt/anaconda3/envs/hivae/lib/python3.13/site-packages/synthcity/plugins/generic/plugin_goggle.py\n",
      "[2025-05-23T18:17:41.720171+0200][39140][CRITICAL] load failed: module 'synthcity.plugins.privacy.plugin_decaf' has no attribute 'plugin'\n",
      "[2025-05-23T18:17:41.720387+0200][39140][CRITICAL] load failed: module 'synthcity.plugins.privacy.plugin_decaf' has no attribute 'plugin'\n",
      "[2025-05-23T18:17:41.720556+0200][39140][CRITICAL] module plugin_decaf load failed\n",
      "[2025-05-23T18:17:41.723320+0200][39140][CRITICAL] module disabled: /opt/anaconda3/envs/hivae/lib/python3.13/site-packages/synthcity/plugins/generic/plugin_goggle.py\n",
      "[2025-05-23T18:17:41.723594+0200][39140][CRITICAL] load failed: module 'synthcity.plugins.privacy.plugin_decaf' has no attribute 'plugin'\n",
      "[2025-05-23T18:17:41.723802+0200][39140][CRITICAL] load failed: module 'synthcity.plugins.privacy.plugin_decaf' has no attribute 'plugin'\n",
      "[2025-05-23T18:17:41.723990+0200][39140][CRITICAL] module plugin_decaf load failed\n",
      "[2025-05-23T18:17:41.825853+0200][39140][CRITICAL] module disabled: /opt/anaconda3/envs/hivae/lib/python3.13/site-packages/synthcity/plugins/generic/plugin_goggle.py\n",
      "[2025-05-23T18:17:41.826334+0200][39140][CRITICAL] load failed: module 'synthcity.plugins.privacy.plugin_decaf' has no attribute 'plugin'\n",
      "[2025-05-23T18:17:41.826527+0200][39140][CRITICAL] load failed: module 'synthcity.plugins.privacy.plugin_decaf' has no attribute 'plugin'\n",
      "[2025-05-23T18:17:41.826693+0200][39140][CRITICAL] module plugin_decaf load failed\n"
     ]
    },
    {
     "name": "stdout",
     "output_type": "stream",
     "text": [
      "Score: 0.2391734345638624\n",
      "trial_6\n"
     ]
    },
    {
     "name": "stderr",
     "output_type": "stream",
     "text": [
      "  5%|▌         | 549/10000 [00:17<04:54, 32.14it/s]\n",
      "[2025-05-23T18:18:07.540598+0200][39140][CRITICAL] module disabled: /opt/anaconda3/envs/hivae/lib/python3.13/site-packages/synthcity/plugins/generic/plugin_goggle.py\n",
      "[2025-05-23T18:18:07.541675+0200][39140][CRITICAL] load failed: module 'synthcity.plugins.privacy.plugin_decaf' has no attribute 'plugin'\n",
      "[2025-05-23T18:18:07.542137+0200][39140][CRITICAL] load failed: module 'synthcity.plugins.privacy.plugin_decaf' has no attribute 'plugin'\n",
      "[2025-05-23T18:18:07.542462+0200][39140][CRITICAL] module plugin_decaf load failed\n",
      "  5%|▌         | 549/10000 [01:35<27:29,  5.73it/s]   \n",
      "[2025-05-23T18:19:49.428068+0200][39140][CRITICAL] module disabled: /opt/anaconda3/envs/hivae/lib/python3.13/site-packages/synthcity/plugins/generic/plugin_goggle.py\n",
      "[2025-05-23T18:19:49.428951+0200][39140][CRITICAL] load failed: module 'synthcity.plugins.privacy.plugin_decaf' has no attribute 'plugin'\n",
      "[2025-05-23T18:19:49.429238+0200][39140][CRITICAL] load failed: module 'synthcity.plugins.privacy.plugin_decaf' has no attribute 'plugin'\n",
      "[2025-05-23T18:19:49.429620+0200][39140][CRITICAL] module plugin_decaf load failed\n",
      "  4%|▍         | 449/10000 [00:17<06:06, 26.03it/s]\n",
      "[2025-05-23T18:20:13.369961+0200][39140][CRITICAL] module disabled: /opt/anaconda3/envs/hivae/lib/python3.13/site-packages/synthcity/plugins/generic/plugin_goggle.py\n",
      "[2025-05-23T18:20:13.370805+0200][39140][CRITICAL] load failed: module 'synthcity.plugins.privacy.plugin_decaf' has no attribute 'plugin'\n",
      "[2025-05-23T18:20:13.371097+0200][39140][CRITICAL] load failed: module 'synthcity.plugins.privacy.plugin_decaf' has no attribute 'plugin'\n",
      "[2025-05-23T18:20:13.371380+0200][39140][CRITICAL] module plugin_decaf load failed\n",
      "  4%|▍         | 449/10000 [17:03<6:02:56,  2.28s/it]  \n",
      "[2025-05-23T18:37:23.765739+0200][39140][CRITICAL] module disabled: /opt/anaconda3/envs/hivae/lib/python3.13/site-packages/synthcity/plugins/generic/plugin_goggle.py\n",
      "[2025-05-23T18:37:23.767248+0200][39140][CRITICAL] load failed: module 'synthcity.plugins.privacy.plugin_decaf' has no attribute 'plugin'\n",
      "[2025-05-23T18:37:23.767691+0200][39140][CRITICAL] load failed: module 'synthcity.plugins.privacy.plugin_decaf' has no attribute 'plugin'\n",
      "[2025-05-23T18:37:23.767891+0200][39140][CRITICAL] module plugin_decaf load failed\n",
      "  4%|▍         | 399/10000 [00:10<04:10, 38.31it/s]\n",
      "[2025-05-23T18:37:41.025028+0200][39140][CRITICAL] module disabled: /opt/anaconda3/envs/hivae/lib/python3.13/site-packages/synthcity/plugins/generic/plugin_goggle.py\n",
      "[2025-05-23T18:37:41.026409+0200][39140][CRITICAL] load failed: module 'synthcity.plugins.privacy.plugin_decaf' has no attribute 'plugin'\n",
      "[2025-05-23T18:37:41.026714+0200][39140][CRITICAL] load failed: module 'synthcity.plugins.privacy.plugin_decaf' has no attribute 'plugin'\n",
      "[2025-05-23T18:37:41.027041+0200][39140][CRITICAL] module plugin_decaf load failed\n",
      "[2025-05-23T18:37:41.033135+0200][39140][CRITICAL] module disabled: /opt/anaconda3/envs/hivae/lib/python3.13/site-packages/synthcity/plugins/generic/plugin_goggle.py\n",
      "[2025-05-23T18:37:41.033568+0200][39140][CRITICAL] load failed: module 'synthcity.plugins.privacy.plugin_decaf' has no attribute 'plugin'\n",
      "[2025-05-23T18:37:41.033810+0200][39140][CRITICAL] load failed: module 'synthcity.plugins.privacy.plugin_decaf' has no attribute 'plugin'\n",
      "[2025-05-23T18:37:41.034031+0200][39140][CRITICAL] module plugin_decaf load failed\n",
      "[2025-05-23T18:37:41.149946+0200][39140][CRITICAL] module disabled: /opt/anaconda3/envs/hivae/lib/python3.13/site-packages/synthcity/plugins/generic/plugin_goggle.py\n",
      "[2025-05-23T18:37:41.150656+0200][39140][CRITICAL] load failed: module 'synthcity.plugins.privacy.plugin_decaf' has no attribute 'plugin'\n",
      "[2025-05-23T18:37:41.151153+0200][39140][CRITICAL] load failed: module 'synthcity.plugins.privacy.plugin_decaf' has no attribute 'plugin'\n",
      "[2025-05-23T18:37:41.151466+0200][39140][CRITICAL] module plugin_decaf load failed\n"
     ]
    },
    {
     "name": "stdout",
     "output_type": "stream",
     "text": [
      "Score: 0.2036756169774525\n",
      "trial_7\n"
     ]
    },
    {
     "name": "stderr",
     "output_type": "stream",
     "text": [
      "  8%|▊         | 849/10000 [00:25<04:30, 33.85it/s]\n",
      "[2025-05-23T18:38:13.962113+0200][39140][CRITICAL] module disabled: /opt/anaconda3/envs/hivae/lib/python3.13/site-packages/synthcity/plugins/generic/plugin_goggle.py\n",
      "[2025-05-23T18:38:13.963287+0200][39140][CRITICAL] load failed: module 'synthcity.plugins.privacy.plugin_decaf' has no attribute 'plugin'\n",
      "[2025-05-23T18:38:13.963622+0200][39140][CRITICAL] load failed: module 'synthcity.plugins.privacy.plugin_decaf' has no attribute 'plugin'\n",
      "[2025-05-23T18:38:13.963939+0200][39140][CRITICAL] module plugin_decaf load failed\n",
      " 11%|█▏        | 1149/10000 [00:32<04:10, 35.37it/s]\n",
      "[2025-05-23T18:38:54.579019+0200][39140][CRITICAL] module disabled: /opt/anaconda3/envs/hivae/lib/python3.13/site-packages/synthcity/plugins/generic/plugin_goggle.py\n",
      "[2025-05-23T18:38:54.580394+0200][39140][CRITICAL] load failed: module 'synthcity.plugins.privacy.plugin_decaf' has no attribute 'plugin'\n",
      "[2025-05-23T18:38:54.580848+0200][39140][CRITICAL] load failed: module 'synthcity.plugins.privacy.plugin_decaf' has no attribute 'plugin'\n",
      "[2025-05-23T18:38:54.581198+0200][39140][CRITICAL] module plugin_decaf load failed\n",
      "  6%|▌         | 599/10000 [00:17<04:42, 33.29it/s]\n",
      "[2025-05-23T18:39:20.492486+0200][39140][CRITICAL] module disabled: /opt/anaconda3/envs/hivae/lib/python3.13/site-packages/synthcity/plugins/generic/plugin_goggle.py\n",
      "[2025-05-23T18:39:20.493447+0200][39140][CRITICAL] load failed: module 'synthcity.plugins.privacy.plugin_decaf' has no attribute 'plugin'\n",
      "[2025-05-23T18:39:20.493898+0200][39140][CRITICAL] load failed: module 'synthcity.plugins.privacy.plugin_decaf' has no attribute 'plugin'\n",
      "[2025-05-23T18:39:20.494267+0200][39140][CRITICAL] module plugin_decaf load failed\n",
      "  6%|▌         | 599/10000 [00:18<04:50, 32.36it/s]\n",
      "[2025-05-23T18:53:14.519891+0200][39140][CRITICAL] module disabled: /opt/anaconda3/envs/hivae/lib/python3.13/site-packages/synthcity/plugins/generic/plugin_goggle.py\n",
      "[2025-05-23T18:53:14.521392+0200][39140][CRITICAL] load failed: module 'synthcity.plugins.privacy.plugin_decaf' has no attribute 'plugin'\n",
      "[2025-05-23T18:53:14.521735+0200][39140][CRITICAL] load failed: module 'synthcity.plugins.privacy.plugin_decaf' has no attribute 'plugin'\n",
      "[2025-05-23T18:53:14.521980+0200][39140][CRITICAL] module plugin_decaf load failed\n",
      "  6%|▌         | 599/10000 [00:14<03:48, 41.17it/s]\n",
      "[2025-05-23T18:53:35.843267+0200][39140][CRITICAL] module disabled: /opt/anaconda3/envs/hivae/lib/python3.13/site-packages/synthcity/plugins/generic/plugin_goggle.py\n",
      "[2025-05-23T18:53:35.844198+0200][39140][CRITICAL] load failed: module 'synthcity.plugins.privacy.plugin_decaf' has no attribute 'plugin'\n",
      "[2025-05-23T18:53:35.844419+0200][39140][CRITICAL] load failed: module 'synthcity.plugins.privacy.plugin_decaf' has no attribute 'plugin'\n",
      "[2025-05-23T18:53:35.844620+0200][39140][CRITICAL] module plugin_decaf load failed\n",
      "[2025-05-23T18:53:35.847371+0200][39140][CRITICAL] module disabled: /opt/anaconda3/envs/hivae/lib/python3.13/site-packages/synthcity/plugins/generic/plugin_goggle.py\n",
      "[2025-05-23T18:53:35.847648+0200][39140][CRITICAL] load failed: module 'synthcity.plugins.privacy.plugin_decaf' has no attribute 'plugin'\n",
      "[2025-05-23T18:53:35.847792+0200][39140][CRITICAL] load failed: module 'synthcity.plugins.privacy.plugin_decaf' has no attribute 'plugin'\n",
      "[2025-05-23T18:53:35.847921+0200][39140][CRITICAL] module plugin_decaf load failed\n",
      "[2025-05-23T18:53:35.946099+0200][39140][CRITICAL] module disabled: /opt/anaconda3/envs/hivae/lib/python3.13/site-packages/synthcity/plugins/generic/plugin_goggle.py\n",
      "[2025-05-23T18:53:35.946733+0200][39140][CRITICAL] load failed: module 'synthcity.plugins.privacy.plugin_decaf' has no attribute 'plugin'\n",
      "[2025-05-23T18:53:35.947140+0200][39140][CRITICAL] load failed: module 'synthcity.plugins.privacy.plugin_decaf' has no attribute 'plugin'\n",
      "[2025-05-23T18:53:35.947399+0200][39140][CRITICAL] module plugin_decaf load failed\n"
     ]
    },
    {
     "name": "stdout",
     "output_type": "stream",
     "text": [
      "Score: 0.03407642929477912\n",
      "trial_8\n"
     ]
    },
    {
     "name": "stderr",
     "output_type": "stream",
     "text": [
      " 12%|█▏        | 1199/10000 [00:32<03:58, 36.83it/s]\n",
      "[2025-05-23T18:54:16.833173+0200][39140][CRITICAL] module disabled: /opt/anaconda3/envs/hivae/lib/python3.13/site-packages/synthcity/plugins/generic/plugin_goggle.py\n",
      "[2025-05-23T18:54:16.834873+0200][39140][CRITICAL] load failed: module 'synthcity.plugins.privacy.plugin_decaf' has no attribute 'plugin'\n",
      "[2025-05-23T18:54:16.835216+0200][39140][CRITICAL] load failed: module 'synthcity.plugins.privacy.plugin_decaf' has no attribute 'plugin'\n",
      "[2025-05-23T18:54:16.835541+0200][39140][CRITICAL] module plugin_decaf load failed\n",
      "  6%|▋         | 649/10000 [00:17<04:16, 36.42it/s]\n",
      "[2025-05-23T18:54:42.390538+0200][39140][CRITICAL] module disabled: /opt/anaconda3/envs/hivae/lib/python3.13/site-packages/synthcity/plugins/generic/plugin_goggle.py\n",
      "[2025-05-23T18:54:42.391678+0200][39140][CRITICAL] load failed: module 'synthcity.plugins.privacy.plugin_decaf' has no attribute 'plugin'\n",
      "[2025-05-23T18:54:42.392266+0200][39140][CRITICAL] load failed: module 'synthcity.plugins.privacy.plugin_decaf' has no attribute 'plugin'\n",
      "[2025-05-23T18:54:42.392517+0200][39140][CRITICAL] module plugin_decaf load failed\n",
      " 15%|█▍        | 1499/10000 [00:44<04:14, 33.42it/s]\n",
      "[2025-05-23T18:55:35.503507+0200][39140][CRITICAL] module disabled: /opt/anaconda3/envs/hivae/lib/python3.13/site-packages/synthcity/plugins/generic/plugin_goggle.py\n",
      "[2025-05-23T18:55:35.504705+0200][39140][CRITICAL] load failed: module 'synthcity.plugins.privacy.plugin_decaf' has no attribute 'plugin'\n",
      "[2025-05-23T18:55:35.505033+0200][39140][CRITICAL] load failed: module 'synthcity.plugins.privacy.plugin_decaf' has no attribute 'plugin'\n",
      "[2025-05-23T18:55:35.505320+0200][39140][CRITICAL] module plugin_decaf load failed\n",
      " 12%|█▏        | 1199/10000 [07:53<57:54,  2.53it/s]  \n",
      "[2025-05-23T19:03:35.899836+0200][39140][CRITICAL] module disabled: /opt/anaconda3/envs/hivae/lib/python3.13/site-packages/synthcity/plugins/generic/plugin_goggle.py\n",
      "[2025-05-23T19:03:35.900908+0200][39140][CRITICAL] load failed: module 'synthcity.plugins.privacy.plugin_decaf' has no attribute 'plugin'\n",
      "[2025-05-23T19:03:35.901215+0200][39140][CRITICAL] load failed: module 'synthcity.plugins.privacy.plugin_decaf' has no attribute 'plugin'\n",
      "[2025-05-23T19:03:35.901635+0200][39140][CRITICAL] module plugin_decaf load failed\n",
      "  6%|▋         | 649/10000 [00:16<03:59, 39.00it/s]\n",
      "[2025-05-23T19:04:00.955922+0200][39140][CRITICAL] module disabled: /opt/anaconda3/envs/hivae/lib/python3.13/site-packages/synthcity/plugins/generic/plugin_goggle.py\n",
      "[2025-05-23T19:04:00.957181+0200][39140][CRITICAL] load failed: module 'synthcity.plugins.privacy.plugin_decaf' has no attribute 'plugin'\n",
      "[2025-05-23T19:04:00.957545+0200][39140][CRITICAL] load failed: module 'synthcity.plugins.privacy.plugin_decaf' has no attribute 'plugin'\n",
      "[2025-05-23T19:04:00.957853+0200][39140][CRITICAL] module plugin_decaf load failed\n",
      "[2025-05-23T19:04:00.963126+0200][39140][CRITICAL] module disabled: /opt/anaconda3/envs/hivae/lib/python3.13/site-packages/synthcity/plugins/generic/plugin_goggle.py\n",
      "[2025-05-23T19:04:00.963637+0200][39140][CRITICAL] load failed: module 'synthcity.plugins.privacy.plugin_decaf' has no attribute 'plugin'\n",
      "[2025-05-23T19:04:00.964091+0200][39140][CRITICAL] load failed: module 'synthcity.plugins.privacy.plugin_decaf' has no attribute 'plugin'\n",
      "[2025-05-23T19:04:00.964394+0200][39140][CRITICAL] module plugin_decaf load failed\n",
      "[2025-05-23T19:04:01.082134+0200][39140][CRITICAL] module disabled: /opt/anaconda3/envs/hivae/lib/python3.13/site-packages/synthcity/plugins/generic/plugin_goggle.py\n",
      "[2025-05-23T19:04:01.082905+0200][39140][CRITICAL] load failed: module 'synthcity.plugins.privacy.plugin_decaf' has no attribute 'plugin'\n",
      "[2025-05-23T19:04:01.083324+0200][39140][CRITICAL] load failed: module 'synthcity.plugins.privacy.plugin_decaf' has no attribute 'plugin'\n",
      "[2025-05-23T19:04:01.083722+0200][39140][CRITICAL] module plugin_decaf load failed\n"
     ]
    },
    {
     "name": "stdout",
     "output_type": "stream",
     "text": [
      "Score: 0.03971682446504352\n",
      "trial_9\n"
     ]
    },
    {
     "name": "stderr",
     "output_type": "stream",
     "text": [
      "  4%|▍         | 399/10000 [15:44<6:18:49,  2.37s/it] \n",
      "[2025-05-23T19:19:51.532663+0200][39140][CRITICAL] module disabled: /opt/anaconda3/envs/hivae/lib/python3.13/site-packages/synthcity/plugins/generic/plugin_goggle.py\n",
      "[2025-05-23T19:19:51.533614+0200][39140][CRITICAL] load failed: module 'synthcity.plugins.privacy.plugin_decaf' has no attribute 'plugin'\n",
      "[2025-05-23T19:19:51.533872+0200][39140][CRITICAL] load failed: module 'synthcity.plugins.privacy.plugin_decaf' has no attribute 'plugin'\n",
      "[2025-05-23T19:19:51.534132+0200][39140][CRITICAL] module plugin_decaf load failed\n",
      "  8%|▊         | 849/10000 [00:12<02:19, 65.42it/s]\n",
      "[2025-05-23T19:20:11.293180+0200][39140][CRITICAL] module disabled: /opt/anaconda3/envs/hivae/lib/python3.13/site-packages/synthcity/plugins/generic/plugin_goggle.py\n",
      "[2025-05-23T19:20:11.294249+0200][39140][CRITICAL] load failed: module 'synthcity.plugins.privacy.plugin_decaf' has no attribute 'plugin'\n",
      "[2025-05-23T19:20:11.294599+0200][39140][CRITICAL] load failed: module 'synthcity.plugins.privacy.plugin_decaf' has no attribute 'plugin'\n",
      "[2025-05-23T19:20:11.294889+0200][39140][CRITICAL] module plugin_decaf load failed\n",
      "  4%|▍         | 399/10000 [00:07<03:08, 50.85it/s]\n",
      "[2025-05-23T19:20:27.259861+0200][39140][CRITICAL] module disabled: /opt/anaconda3/envs/hivae/lib/python3.13/site-packages/synthcity/plugins/generic/plugin_goggle.py\n",
      "[2025-05-23T19:20:27.261713+0200][39140][CRITICAL] load failed: module 'synthcity.plugins.privacy.plugin_decaf' has no attribute 'plugin'\n",
      "[2025-05-23T19:20:27.262175+0200][39140][CRITICAL] load failed: module 'synthcity.plugins.privacy.plugin_decaf' has no attribute 'plugin'\n",
      "[2025-05-23T19:20:27.262531+0200][39140][CRITICAL] module plugin_decaf load failed\n",
      " 11%|█         | 1099/10000 [00:20<02:42, 54.85it/s]\n",
      "[2025-05-23T19:20:54.608333+0200][39140][CRITICAL] module disabled: /opt/anaconda3/envs/hivae/lib/python3.13/site-packages/synthcity/plugins/generic/plugin_goggle.py\n",
      "[2025-05-23T19:20:54.609361+0200][39140][CRITICAL] load failed: module 'synthcity.plugins.privacy.plugin_decaf' has no attribute 'plugin'\n",
      "[2025-05-23T19:20:54.609799+0200][39140][CRITICAL] load failed: module 'synthcity.plugins.privacy.plugin_decaf' has no attribute 'plugin'\n",
      "[2025-05-23T19:20:54.610122+0200][39140][CRITICAL] module plugin_decaf load failed\n",
      "  4%|▍         | 399/10000 [00:07<03:07, 51.15it/s]\n",
      "[2025-05-23T19:21:10.081763+0200][39140][CRITICAL] module disabled: /opt/anaconda3/envs/hivae/lib/python3.13/site-packages/synthcity/plugins/generic/plugin_goggle.py\n",
      "[2025-05-23T19:21:10.082223+0200][39140][CRITICAL] load failed: module 'synthcity.plugins.privacy.plugin_decaf' has no attribute 'plugin'\n",
      "[2025-05-23T19:21:10.082388+0200][39140][CRITICAL] load failed: module 'synthcity.plugins.privacy.plugin_decaf' has no attribute 'plugin'\n",
      "[2025-05-23T19:21:10.082519+0200][39140][CRITICAL] module plugin_decaf load failed\n",
      "[2025-05-23T19:21:10.087162+0200][39140][CRITICAL] module disabled: /opt/anaconda3/envs/hivae/lib/python3.13/site-packages/synthcity/plugins/generic/plugin_goggle.py\n",
      "[2025-05-23T19:21:10.087483+0200][39140][CRITICAL] load failed: module 'synthcity.plugins.privacy.plugin_decaf' has no attribute 'plugin'\n",
      "[2025-05-23T19:21:10.087653+0200][39140][CRITICAL] load failed: module 'synthcity.plugins.privacy.plugin_decaf' has no attribute 'plugin'\n",
      "[2025-05-23T19:21:10.087818+0200][39140][CRITICAL] module plugin_decaf load failed\n",
      "[2025-05-23T19:21:10.148169+0200][39140][CRITICAL] module disabled: /opt/anaconda3/envs/hivae/lib/python3.13/site-packages/synthcity/plugins/generic/plugin_goggle.py\n",
      "[2025-05-23T19:21:10.148607+0200][39140][CRITICAL] load failed: module 'synthcity.plugins.privacy.plugin_decaf' has no attribute 'plugin'\n",
      "[2025-05-23T19:21:10.148783+0200][39140][CRITICAL] load failed: module 'synthcity.plugins.privacy.plugin_decaf' has no attribute 'plugin'\n",
      "[2025-05-23T19:21:10.148975+0200][39140][CRITICAL] module plugin_decaf load failed\n"
     ]
    },
    {
     "name": "stdout",
     "output_type": "stream",
     "text": [
      "Score: 0.027482208027335763\n",
      "Creating new optuna study for Surv-VAE...\n",
      "trial_0\n"
     ]
    },
    {
     "name": "stderr",
     "output_type": "stream",
     "text": [
      "100%|██████████| 100/100 [00:01<00:00, 52.20it/s]\n",
      "[2025-05-23T19:21:20.784551+0200][39140][CRITICAL] module disabled: /opt/anaconda3/envs/hivae/lib/python3.13/site-packages/synthcity/plugins/generic/plugin_goggle.py\n",
      "[2025-05-23T19:21:20.785467+0200][39140][CRITICAL] load failed: module 'synthcity.plugins.privacy.plugin_decaf' has no attribute 'plugin'\n",
      "[2025-05-23T19:21:20.785817+0200][39140][CRITICAL] load failed: module 'synthcity.plugins.privacy.plugin_decaf' has no attribute 'plugin'\n",
      "[2025-05-23T19:21:20.786352+0200][39140][CRITICAL] module plugin_decaf load failed\n",
      "100%|██████████| 100/100 [00:01<00:00, 59.73it/s]\n",
      "[2025-05-23T19:21:31.622285+0200][39140][CRITICAL] module disabled: /opt/anaconda3/envs/hivae/lib/python3.13/site-packages/synthcity/plugins/generic/plugin_goggle.py\n",
      "[2025-05-23T19:21:31.622987+0200][39140][CRITICAL] load failed: module 'synthcity.plugins.privacy.plugin_decaf' has no attribute 'plugin'\n",
      "[2025-05-23T19:21:31.623286+0200][39140][CRITICAL] load failed: module 'synthcity.plugins.privacy.plugin_decaf' has no attribute 'plugin'\n",
      "[2025-05-23T19:21:31.623521+0200][39140][CRITICAL] module plugin_decaf load failed\n",
      "100%|██████████| 100/100 [00:01<00:00, 74.61it/s]\n",
      "[2025-05-23T19:21:40.202839+0200][39140][CRITICAL] module disabled: /opt/anaconda3/envs/hivae/lib/python3.13/site-packages/synthcity/plugins/generic/plugin_goggle.py\n",
      "[2025-05-23T19:21:40.203422+0200][39140][CRITICAL] load failed: module 'synthcity.plugins.privacy.plugin_decaf' has no attribute 'plugin'\n",
      "[2025-05-23T19:21:40.203667+0200][39140][CRITICAL] load failed: module 'synthcity.plugins.privacy.plugin_decaf' has no attribute 'plugin'\n",
      "[2025-05-23T19:21:40.203855+0200][39140][CRITICAL] module plugin_decaf load failed\n",
      "100%|██████████| 100/100 [00:01<00:00, 68.08it/s]\n",
      "[2025-05-23T19:21:49.199324+0200][39140][CRITICAL] module disabled: /opt/anaconda3/envs/hivae/lib/python3.13/site-packages/synthcity/plugins/generic/plugin_goggle.py\n",
      "[2025-05-23T19:21:49.199774+0200][39140][CRITICAL] load failed: module 'synthcity.plugins.privacy.plugin_decaf' has no attribute 'plugin'\n",
      "[2025-05-23T19:21:49.199952+0200][39140][CRITICAL] load failed: module 'synthcity.plugins.privacy.plugin_decaf' has no attribute 'plugin'\n",
      "[2025-05-23T19:21:49.200153+0200][39140][CRITICAL] module plugin_decaf load failed\n",
      "100%|██████████| 100/100 [00:01<00:00, 65.83it/s]\n",
      "[2025-05-23T19:21:58.216457+0200][39140][CRITICAL] module disabled: /opt/anaconda3/envs/hivae/lib/python3.13/site-packages/synthcity/plugins/generic/plugin_goggle.py\n",
      "[2025-05-23T19:21:58.217403+0200][39140][CRITICAL] load failed: module 'synthcity.plugins.privacy.plugin_decaf' has no attribute 'plugin'\n",
      "[2025-05-23T19:21:58.217662+0200][39140][CRITICAL] load failed: module 'synthcity.plugins.privacy.plugin_decaf' has no attribute 'plugin'\n",
      "[2025-05-23T19:21:58.217944+0200][39140][CRITICAL] module plugin_decaf load failed\n",
      "[2025-05-23T19:21:58.222218+0200][39140][CRITICAL] module disabled: /opt/anaconda3/envs/hivae/lib/python3.13/site-packages/synthcity/plugins/generic/plugin_goggle.py\n",
      "[2025-05-23T19:21:58.222725+0200][39140][CRITICAL] load failed: module 'synthcity.plugins.privacy.plugin_decaf' has no attribute 'plugin'\n",
      "[2025-05-23T19:21:58.223043+0200][39140][CRITICAL] load failed: module 'synthcity.plugins.privacy.plugin_decaf' has no attribute 'plugin'\n",
      "[2025-05-23T19:21:58.223264+0200][39140][CRITICAL] module plugin_decaf load failed\n",
      "[2025-05-23T19:21:58.272295+0200][39140][CRITICAL] module disabled: /opt/anaconda3/envs/hivae/lib/python3.13/site-packages/synthcity/plugins/generic/plugin_goggle.py\n",
      "[2025-05-23T19:21:58.272843+0200][39140][CRITICAL] load failed: module 'synthcity.plugins.privacy.plugin_decaf' has no attribute 'plugin'\n",
      "[2025-05-23T19:21:58.273122+0200][39140][CRITICAL] load failed: module 'synthcity.plugins.privacy.plugin_decaf' has no attribute 'plugin'\n",
      "[2025-05-23T19:21:58.273534+0200][39140][CRITICAL] module plugin_decaf load failed\n"
     ]
    },
    {
     "name": "stdout",
     "output_type": "stream",
     "text": [
      "Score: 0.29905792774699735\n",
      "trial_1\n"
     ]
    },
    {
     "name": "stderr",
     "output_type": "stream",
     "text": [
      "100%|██████████| 100/100 [16:02<00:00,  9.62s/it]  \n",
      "[2025-05-23T19:53:59.855027+0200][39140][CRITICAL] module disabled: /opt/anaconda3/envs/hivae/lib/python3.13/site-packages/synthcity/plugins/generic/plugin_goggle.py\n",
      "[2025-05-23T19:53:59.856442+0200][39140][CRITICAL] load failed: module 'synthcity.plugins.privacy.plugin_decaf' has no attribute 'plugin'\n",
      "[2025-05-23T19:53:59.857090+0200][39140][CRITICAL] load failed: module 'synthcity.plugins.privacy.plugin_decaf' has no attribute 'plugin'\n",
      "[2025-05-23T19:53:59.857588+0200][39140][CRITICAL] module plugin_decaf load failed\n",
      "100%|██████████| 100/100 [00:42<00:00,  2.38it/s]\n",
      "[2025-05-23T19:54:49.572865+0200][39140][CRITICAL] module disabled: /opt/anaconda3/envs/hivae/lib/python3.13/site-packages/synthcity/plugins/generic/plugin_goggle.py\n",
      "[2025-05-23T19:54:49.573585+0200][39140][CRITICAL] load failed: module 'synthcity.plugins.privacy.plugin_decaf' has no attribute 'plugin'\n",
      "[2025-05-23T19:54:49.573803+0200][39140][CRITICAL] load failed: module 'synthcity.plugins.privacy.plugin_decaf' has no attribute 'plugin'\n",
      "[2025-05-23T19:54:49.573949+0200][39140][CRITICAL] module plugin_decaf load failed\n",
      "100%|██████████| 100/100 [00:46<00:00,  2.13it/s]\n",
      "[2025-05-23T19:55:45.323849+0200][39140][CRITICAL] module disabled: /opt/anaconda3/envs/hivae/lib/python3.13/site-packages/synthcity/plugins/generic/plugin_goggle.py\n",
      "[2025-05-23T19:55:45.325046+0200][39140][CRITICAL] load failed: module 'synthcity.plugins.privacy.plugin_decaf' has no attribute 'plugin'\n",
      "[2025-05-23T19:55:45.325432+0200][39140][CRITICAL] load failed: module 'synthcity.plugins.privacy.plugin_decaf' has no attribute 'plugin'\n",
      "[2025-05-23T19:55:45.325854+0200][39140][CRITICAL] module plugin_decaf load failed\n",
      "100%|██████████| 100/100 [10:24<00:00,  6.24s/it]  \n",
      "[2025-05-23T20:06:16.949723+0200][39140][CRITICAL] module disabled: /opt/anaconda3/envs/hivae/lib/python3.13/site-packages/synthcity/plugins/generic/plugin_goggle.py\n",
      "[2025-05-23T20:06:16.950434+0200][39140][CRITICAL] load failed: module 'synthcity.plugins.privacy.plugin_decaf' has no attribute 'plugin'\n",
      "[2025-05-23T20:06:16.950607+0200][39140][CRITICAL] load failed: module 'synthcity.plugins.privacy.plugin_decaf' has no attribute 'plugin'\n",
      "[2025-05-23T20:06:16.950885+0200][39140][CRITICAL] module plugin_decaf load failed\n",
      "100%|██████████| 100/100 [00:47<00:00,  2.09it/s]\n",
      "[2025-05-24T09:27:11.308680+0200][39140][CRITICAL] module disabled: /opt/anaconda3/envs/hivae/lib/python3.13/site-packages/synthcity/plugins/generic/plugin_goggle.py\n",
      "[2025-05-24T09:27:11.315509+0200][39140][CRITICAL] load failed: module 'synthcity.plugins.privacy.plugin_decaf' has no attribute 'plugin'\n",
      "[2025-05-24T09:27:11.316860+0200][39140][CRITICAL] load failed: module 'synthcity.plugins.privacy.plugin_decaf' has no attribute 'plugin'\n",
      "[2025-05-24T09:27:11.317312+0200][39140][CRITICAL] module plugin_decaf load failed\n",
      "[2025-05-24T09:27:11.335421+0200][39140][CRITICAL] module disabled: /opt/anaconda3/envs/hivae/lib/python3.13/site-packages/synthcity/plugins/generic/plugin_goggle.py\n",
      "[2025-05-24T09:27:11.335862+0200][39140][CRITICAL] load failed: module 'synthcity.plugins.privacy.plugin_decaf' has no attribute 'plugin'\n",
      "[2025-05-24T09:27:11.336142+0200][39140][CRITICAL] load failed: module 'synthcity.plugins.privacy.plugin_decaf' has no attribute 'plugin'\n",
      "[2025-05-24T09:27:11.336375+0200][39140][CRITICAL] module plugin_decaf load failed\n",
      "[2025-05-24T09:27:11.395376+0200][39140][CRITICAL] module disabled: /opt/anaconda3/envs/hivae/lib/python3.13/site-packages/synthcity/plugins/generic/plugin_goggle.py\n",
      "[2025-05-24T09:27:11.395938+0200][39140][CRITICAL] load failed: module 'synthcity.plugins.privacy.plugin_decaf' has no attribute 'plugin'\n",
      "[2025-05-24T09:27:11.396174+0200][39140][CRITICAL] load failed: module 'synthcity.plugins.privacy.plugin_decaf' has no attribute 'plugin'\n",
      "[2025-05-24T09:27:11.396729+0200][39140][CRITICAL] module plugin_decaf load failed\n"
     ]
    },
    {
     "name": "stdout",
     "output_type": "stream",
     "text": [
      "Score: 0.05229332431991631\n",
      "trial_2\n"
     ]
    },
    {
     "name": "stderr",
     "output_type": "stream",
     "text": [
      "100%|██████████| 100/100 [00:35<00:00,  2.82it/s]\n",
      "[2025-05-24T09:27:53.499171+0200][39140][CRITICAL] module disabled: /opt/anaconda3/envs/hivae/lib/python3.13/site-packages/synthcity/plugins/generic/plugin_goggle.py\n",
      "[2025-05-24T09:27:53.500235+0200][39140][CRITICAL] load failed: module 'synthcity.plugins.privacy.plugin_decaf' has no attribute 'plugin'\n",
      "[2025-05-24T09:27:53.500412+0200][39140][CRITICAL] load failed: module 'synthcity.plugins.privacy.plugin_decaf' has no attribute 'plugin'\n",
      "[2025-05-24T09:27:53.500566+0200][39140][CRITICAL] module plugin_decaf load failed\n",
      "100%|██████████| 100/100 [1:17:13<00:00, 46.33s/it]  \n",
      "[2025-05-24T10:45:12.505707+0200][39140][CRITICAL] module disabled: /opt/anaconda3/envs/hivae/lib/python3.13/site-packages/synthcity/plugins/generic/plugin_goggle.py\n",
      "[2025-05-24T10:45:12.506783+0200][39140][CRITICAL] load failed: module 'synthcity.plugins.privacy.plugin_decaf' has no attribute 'plugin'\n",
      "[2025-05-24T10:45:12.506959+0200][39140][CRITICAL] load failed: module 'synthcity.plugins.privacy.plugin_decaf' has no attribute 'plugin'\n",
      "[2025-05-24T10:45:12.507129+0200][39140][CRITICAL] module plugin_decaf load failed\n",
      "100%|██████████| 100/100 [02:48<00:00,  1.68s/it]\n",
      "[2025-05-24T10:48:54.864772+0200][39140][CRITICAL] module disabled: /opt/anaconda3/envs/hivae/lib/python3.13/site-packages/synthcity/plugins/generic/plugin_goggle.py\n",
      "[2025-05-24T10:48:54.865860+0200][39140][CRITICAL] load failed: module 'synthcity.plugins.privacy.plugin_decaf' has no attribute 'plugin'\n",
      "[2025-05-24T10:48:54.866033+0200][39140][CRITICAL] load failed: module 'synthcity.plugins.privacy.plugin_decaf' has no attribute 'plugin'\n",
      "[2025-05-24T10:48:54.866178+0200][39140][CRITICAL] module plugin_decaf load failed\n",
      "100%|██████████| 100/100 [08:43<00:00,  5.23s/it]\n",
      "[2025-05-24T10:57:44.130283+0200][39140][CRITICAL] module disabled: /opt/anaconda3/envs/hivae/lib/python3.13/site-packages/synthcity/plugins/generic/plugin_goggle.py\n",
      "[2025-05-24T10:57:44.134492+0200][39140][CRITICAL] load failed: module 'synthcity.plugins.privacy.plugin_decaf' has no attribute 'plugin'\n",
      "[2025-05-24T10:57:44.134881+0200][39140][CRITICAL] load failed: module 'synthcity.plugins.privacy.plugin_decaf' has no attribute 'plugin'\n",
      "[2025-05-24T10:57:44.135113+0200][39140][CRITICAL] module plugin_decaf load failed\n",
      "100%|██████████| 100/100 [00:35<00:00,  2.83it/s]\n",
      "[2025-05-24T10:58:26.790085+0200][39140][CRITICAL] module disabled: /opt/anaconda3/envs/hivae/lib/python3.13/site-packages/synthcity/plugins/generic/plugin_goggle.py\n",
      "[2025-05-24T10:58:26.791140+0200][39140][CRITICAL] load failed: module 'synthcity.plugins.privacy.plugin_decaf' has no attribute 'plugin'\n",
      "[2025-05-24T10:58:26.791357+0200][39140][CRITICAL] load failed: module 'synthcity.plugins.privacy.plugin_decaf' has no attribute 'plugin'\n",
      "[2025-05-24T10:58:26.791524+0200][39140][CRITICAL] module plugin_decaf load failed\n",
      "[2025-05-24T10:58:26.797595+0200][39140][CRITICAL] module disabled: /opt/anaconda3/envs/hivae/lib/python3.13/site-packages/synthcity/plugins/generic/plugin_goggle.py\n",
      "[2025-05-24T10:58:26.797993+0200][39140][CRITICAL] load failed: module 'synthcity.plugins.privacy.plugin_decaf' has no attribute 'plugin'\n",
      "[2025-05-24T10:58:26.798199+0200][39140][CRITICAL] load failed: module 'synthcity.plugins.privacy.plugin_decaf' has no attribute 'plugin'\n",
      "[2025-05-24T10:58:26.798382+0200][39140][CRITICAL] module plugin_decaf load failed\n",
      "[2025-05-24T10:58:26.912376+0200][39140][CRITICAL] module disabled: /opt/anaconda3/envs/hivae/lib/python3.13/site-packages/synthcity/plugins/generic/plugin_goggle.py\n",
      "[2025-05-24T10:58:26.912908+0200][39140][CRITICAL] load failed: module 'synthcity.plugins.privacy.plugin_decaf' has no attribute 'plugin'\n",
      "[2025-05-24T10:58:26.913143+0200][39140][CRITICAL] load failed: module 'synthcity.plugins.privacy.plugin_decaf' has no attribute 'plugin'\n",
      "[2025-05-24T10:58:26.913353+0200][39140][CRITICAL] module plugin_decaf load failed\n"
     ]
    },
    {
     "name": "stdout",
     "output_type": "stream",
     "text": [
      "Score: 0.05935603718547703\n",
      "trial_3\n"
     ]
    },
    {
     "name": "stderr",
     "output_type": "stream",
     "text": [
      "100%|██████████| 100/100 [00:02<00:00, 42.32it/s]\n",
      "[2025-05-24T10:58:35.151496+0200][39140][CRITICAL] module disabled: /opt/anaconda3/envs/hivae/lib/python3.13/site-packages/synthcity/plugins/generic/plugin_goggle.py\n",
      "[2025-05-24T10:58:35.153250+0200][39140][CRITICAL] load failed: module 'synthcity.plugins.privacy.plugin_decaf' has no attribute 'plugin'\n",
      "[2025-05-24T10:58:35.153598+0200][39140][CRITICAL] load failed: module 'synthcity.plugins.privacy.plugin_decaf' has no attribute 'plugin'\n",
      "[2025-05-24T10:58:35.153811+0200][39140][CRITICAL] module plugin_decaf load failed\n",
      "100%|██████████| 100/100 [00:01<00:00, 56.21it/s]\n",
      "[2025-05-24T10:58:42.741067+0200][39140][CRITICAL] module disabled: /opt/anaconda3/envs/hivae/lib/python3.13/site-packages/synthcity/plugins/generic/plugin_goggle.py\n",
      "[2025-05-24T10:58:42.742958+0200][39140][CRITICAL] load failed: module 'synthcity.plugins.privacy.plugin_decaf' has no attribute 'plugin'\n",
      "[2025-05-24T10:58:42.743268+0200][39140][CRITICAL] load failed: module 'synthcity.plugins.privacy.plugin_decaf' has no attribute 'plugin'\n",
      "[2025-05-24T10:58:42.743454+0200][39140][CRITICAL] module plugin_decaf load failed\n",
      "100%|██████████| 100/100 [00:02<00:00, 48.73it/s]\n",
      "[2025-05-24T10:58:50.854746+0200][39140][CRITICAL] module disabled: /opt/anaconda3/envs/hivae/lib/python3.13/site-packages/synthcity/plugins/generic/plugin_goggle.py\n",
      "[2025-05-24T10:58:50.860132+0200][39140][CRITICAL] load failed: module 'synthcity.plugins.privacy.plugin_decaf' has no attribute 'plugin'\n",
      "[2025-05-24T10:58:50.860946+0200][39140][CRITICAL] load failed: module 'synthcity.plugins.privacy.plugin_decaf' has no attribute 'plugin'\n",
      "[2025-05-24T10:58:50.861092+0200][39140][CRITICAL] module plugin_decaf load failed\n",
      "100%|██████████| 100/100 [00:01<00:00, 52.45it/s]\n",
      "[2025-05-24T10:58:58.882692+0200][39140][CRITICAL] module disabled: /opt/anaconda3/envs/hivae/lib/python3.13/site-packages/synthcity/plugins/generic/plugin_goggle.py\n",
      "[2025-05-24T10:58:58.884023+0200][39140][CRITICAL] load failed: module 'synthcity.plugins.privacy.plugin_decaf' has no attribute 'plugin'\n",
      "[2025-05-24T10:58:58.884284+0200][39140][CRITICAL] load failed: module 'synthcity.plugins.privacy.plugin_decaf' has no attribute 'plugin'\n",
      "[2025-05-24T10:58:58.884530+0200][39140][CRITICAL] module plugin_decaf load failed\n",
      "100%|██████████| 100/100 [00:03<00:00, 31.23it/s]\n",
      "[2025-05-24T10:59:07.871960+0200][39140][CRITICAL] module disabled: /opt/anaconda3/envs/hivae/lib/python3.13/site-packages/synthcity/plugins/generic/plugin_goggle.py\n",
      "[2025-05-24T10:59:07.875096+0200][39140][CRITICAL] load failed: module 'synthcity.plugins.privacy.plugin_decaf' has no attribute 'plugin'\n",
      "[2025-05-24T10:59:07.875365+0200][39140][CRITICAL] load failed: module 'synthcity.plugins.privacy.plugin_decaf' has no attribute 'plugin'\n",
      "[2025-05-24T10:59:07.875523+0200][39140][CRITICAL] module plugin_decaf load failed\n",
      "[2025-05-24T10:59:07.881256+0200][39140][CRITICAL] module disabled: /opt/anaconda3/envs/hivae/lib/python3.13/site-packages/synthcity/plugins/generic/plugin_goggle.py\n",
      "[2025-05-24T10:59:07.881588+0200][39140][CRITICAL] load failed: module 'synthcity.plugins.privacy.plugin_decaf' has no attribute 'plugin'\n",
      "[2025-05-24T10:59:07.881775+0200][39140][CRITICAL] load failed: module 'synthcity.plugins.privacy.plugin_decaf' has no attribute 'plugin'\n",
      "[2025-05-24T10:59:07.881935+0200][39140][CRITICAL] module plugin_decaf load failed\n",
      "[2025-05-24T10:59:07.928464+0200][39140][CRITICAL] module disabled: /opt/anaconda3/envs/hivae/lib/python3.13/site-packages/synthcity/plugins/generic/plugin_goggle.py\n",
      "[2025-05-24T10:59:07.928994+0200][39140][CRITICAL] load failed: module 'synthcity.plugins.privacy.plugin_decaf' has no attribute 'plugin'\n",
      "[2025-05-24T10:59:07.929175+0200][39140][CRITICAL] load failed: module 'synthcity.plugins.privacy.plugin_decaf' has no attribute 'plugin'\n",
      "[2025-05-24T10:59:07.929406+0200][39140][CRITICAL] module plugin_decaf load failed\n"
     ]
    },
    {
     "name": "stdout",
     "output_type": "stream",
     "text": [
      "Score: 0.18785057032115618\n",
      "trial_4\n"
     ]
    },
    {
     "name": "stderr",
     "output_type": "stream",
     "text": [
      "100%|██████████| 100/100 [00:00<00:00, 141.10it/s]\n",
      "[2025-05-24T10:59:14.402605+0200][39140][CRITICAL] module disabled: /opt/anaconda3/envs/hivae/lib/python3.13/site-packages/synthcity/plugins/generic/plugin_goggle.py\n",
      "[2025-05-24T10:59:14.403974+0200][39140][CRITICAL] load failed: module 'synthcity.plugins.privacy.plugin_decaf' has no attribute 'plugin'\n",
      "[2025-05-24T10:59:14.404172+0200][39140][CRITICAL] load failed: module 'synthcity.plugins.privacy.plugin_decaf' has no attribute 'plugin'\n",
      "[2025-05-24T10:59:14.404443+0200][39140][CRITICAL] module plugin_decaf load failed\n",
      "100%|██████████| 100/100 [00:00<00:00, 115.82it/s]\n",
      "[2025-05-24T10:59:20.966288+0200][39140][CRITICAL] module disabled: /opt/anaconda3/envs/hivae/lib/python3.13/site-packages/synthcity/plugins/generic/plugin_goggle.py\n",
      "[2025-05-24T10:59:20.967487+0200][39140][CRITICAL] load failed: module 'synthcity.plugins.privacy.plugin_decaf' has no attribute 'plugin'\n",
      "[2025-05-24T10:59:20.967713+0200][39140][CRITICAL] load failed: module 'synthcity.plugins.privacy.plugin_decaf' has no attribute 'plugin'\n",
      "[2025-05-24T10:59:20.967886+0200][39140][CRITICAL] module plugin_decaf load failed\n",
      "100%|██████████| 100/100 [00:00<00:00, 141.55it/s]\n",
      "[2025-05-24T10:59:28.569186+0200][39140][CRITICAL] module disabled: /opt/anaconda3/envs/hivae/lib/python3.13/site-packages/synthcity/plugins/generic/plugin_goggle.py\n",
      "[2025-05-24T10:59:28.569653+0200][39140][CRITICAL] load failed: module 'synthcity.plugins.privacy.plugin_decaf' has no attribute 'plugin'\n",
      "[2025-05-24T10:59:28.569838+0200][39140][CRITICAL] load failed: module 'synthcity.plugins.privacy.plugin_decaf' has no attribute 'plugin'\n",
      "[2025-05-24T10:59:28.570037+0200][39140][CRITICAL] module plugin_decaf load failed\n",
      "100%|██████████| 100/100 [00:00<00:00, 139.20it/s]\n",
      "[2025-05-24T10:59:35.078007+0200][39140][CRITICAL] module disabled: /opt/anaconda3/envs/hivae/lib/python3.13/site-packages/synthcity/plugins/generic/plugin_goggle.py\n",
      "[2025-05-24T10:59:35.079448+0200][39140][CRITICAL] load failed: module 'synthcity.plugins.privacy.plugin_decaf' has no attribute 'plugin'\n",
      "[2025-05-24T10:59:35.079691+0200][39140][CRITICAL] load failed: module 'synthcity.plugins.privacy.plugin_decaf' has no attribute 'plugin'\n",
      "[2025-05-24T10:59:35.079846+0200][39140][CRITICAL] module plugin_decaf load failed\n",
      "100%|██████████| 100/100 [00:00<00:00, 142.02it/s]\n",
      "[2025-05-24T10:59:41.856965+0200][39140][CRITICAL] module disabled: /opt/anaconda3/envs/hivae/lib/python3.13/site-packages/synthcity/plugins/generic/plugin_goggle.py\n",
      "[2025-05-24T10:59:41.858226+0200][39140][CRITICAL] load failed: module 'synthcity.plugins.privacy.plugin_decaf' has no attribute 'plugin'\n",
      "[2025-05-24T10:59:41.858393+0200][39140][CRITICAL] load failed: module 'synthcity.plugins.privacy.plugin_decaf' has no attribute 'plugin'\n",
      "[2025-05-24T10:59:41.858526+0200][39140][CRITICAL] module plugin_decaf load failed\n",
      "[2025-05-24T10:59:41.861819+0200][39140][CRITICAL] module disabled: /opt/anaconda3/envs/hivae/lib/python3.13/site-packages/synthcity/plugins/generic/plugin_goggle.py\n",
      "[2025-05-24T10:59:41.862120+0200][39140][CRITICAL] load failed: module 'synthcity.plugins.privacy.plugin_decaf' has no attribute 'plugin'\n",
      "[2025-05-24T10:59:41.862262+0200][39140][CRITICAL] load failed: module 'synthcity.plugins.privacy.plugin_decaf' has no attribute 'plugin'\n",
      "[2025-05-24T10:59:41.862385+0200][39140][CRITICAL] module plugin_decaf load failed\n",
      "[2025-05-24T10:59:41.916298+0200][39140][CRITICAL] module disabled: /opt/anaconda3/envs/hivae/lib/python3.13/site-packages/synthcity/plugins/generic/plugin_goggle.py\n",
      "[2025-05-24T10:59:41.916694+0200][39140][CRITICAL] load failed: module 'synthcity.plugins.privacy.plugin_decaf' has no attribute 'plugin'\n",
      "[2025-05-24T10:59:41.916907+0200][39140][CRITICAL] load failed: module 'synthcity.plugins.privacy.plugin_decaf' has no attribute 'plugin'\n",
      "[2025-05-24T10:59:41.917062+0200][39140][CRITICAL] module plugin_decaf load failed\n"
     ]
    },
    {
     "name": "stdout",
     "output_type": "stream",
     "text": [
      "Score: 0.04025149985369698\n",
      "trial_5\n"
     ]
    },
    {
     "name": "stderr",
     "output_type": "stream",
     "text": [
      "100%|██████████| 100/100 [00:02<00:00, 44.60it/s]\n",
      "[2025-05-24T10:59:49.895240+0200][39140][CRITICAL] module disabled: /opt/anaconda3/envs/hivae/lib/python3.13/site-packages/synthcity/plugins/generic/plugin_goggle.py\n",
      "[2025-05-24T10:59:49.896147+0200][39140][CRITICAL] load failed: module 'synthcity.plugins.privacy.plugin_decaf' has no attribute 'plugin'\n",
      "[2025-05-24T10:59:49.896348+0200][39140][CRITICAL] load failed: module 'synthcity.plugins.privacy.plugin_decaf' has no attribute 'plugin'\n",
      "[2025-05-24T10:59:49.896545+0200][39140][CRITICAL] module plugin_decaf load failed\n",
      "100%|██████████| 100/100 [00:01<00:00, 60.31it/s]\n",
      "[2025-05-24T10:59:57.045761+0200][39140][CRITICAL] module disabled: /opt/anaconda3/envs/hivae/lib/python3.13/site-packages/synthcity/plugins/generic/plugin_goggle.py\n",
      "[2025-05-24T10:59:57.046216+0200][39140][CRITICAL] load failed: module 'synthcity.plugins.privacy.plugin_decaf' has no attribute 'plugin'\n",
      "[2025-05-24T10:59:57.046429+0200][39140][CRITICAL] load failed: module 'synthcity.plugins.privacy.plugin_decaf' has no attribute 'plugin'\n",
      "[2025-05-24T10:59:57.046581+0200][39140][CRITICAL] module plugin_decaf load failed\n",
      "100%|██████████| 100/100 [00:02<00:00, 48.03it/s]\n",
      "[2025-05-24T11:00:05.128466+0200][39140][CRITICAL] module disabled: /opt/anaconda3/envs/hivae/lib/python3.13/site-packages/synthcity/plugins/generic/plugin_goggle.py\n",
      "[2025-05-24T11:00:05.130026+0200][39140][CRITICAL] load failed: module 'synthcity.plugins.privacy.plugin_decaf' has no attribute 'plugin'\n",
      "[2025-05-24T11:00:05.130266+0200][39140][CRITICAL] load failed: module 'synthcity.plugins.privacy.plugin_decaf' has no attribute 'plugin'\n",
      "[2025-05-24T11:00:05.130449+0200][39140][CRITICAL] module plugin_decaf load failed\n",
      "100%|██████████| 100/100 [00:01<00:00, 55.84it/s]\n",
      "[2025-05-24T11:00:12.976819+0200][39140][CRITICAL] module disabled: /opt/anaconda3/envs/hivae/lib/python3.13/site-packages/synthcity/plugins/generic/plugin_goggle.py\n",
      "[2025-05-24T11:00:12.977644+0200][39140][CRITICAL] load failed: module 'synthcity.plugins.privacy.plugin_decaf' has no attribute 'plugin'\n",
      "[2025-05-24T11:00:12.977874+0200][39140][CRITICAL] load failed: module 'synthcity.plugins.privacy.plugin_decaf' has no attribute 'plugin'\n",
      "[2025-05-24T11:00:12.978055+0200][39140][CRITICAL] module plugin_decaf load failed\n",
      "100%|██████████| 100/100 [00:01<00:00, 55.98it/s]\n",
      "[2025-05-24T11:00:20.487377+0200][39140][CRITICAL] module disabled: /opt/anaconda3/envs/hivae/lib/python3.13/site-packages/synthcity/plugins/generic/plugin_goggle.py\n",
      "[2025-05-24T11:00:20.488468+0200][39140][CRITICAL] load failed: module 'synthcity.plugins.privacy.plugin_decaf' has no attribute 'plugin'\n",
      "[2025-05-24T11:00:20.488700+0200][39140][CRITICAL] load failed: module 'synthcity.plugins.privacy.plugin_decaf' has no attribute 'plugin'\n",
      "[2025-05-24T11:00:20.488895+0200][39140][CRITICAL] module plugin_decaf load failed\n",
      "[2025-05-24T11:00:20.492361+0200][39140][CRITICAL] module disabled: /opt/anaconda3/envs/hivae/lib/python3.13/site-packages/synthcity/plugins/generic/plugin_goggle.py\n",
      "[2025-05-24T11:00:20.492730+0200][39140][CRITICAL] load failed: module 'synthcity.plugins.privacy.plugin_decaf' has no attribute 'plugin'\n",
      "[2025-05-24T11:00:20.492910+0200][39140][CRITICAL] load failed: module 'synthcity.plugins.privacy.plugin_decaf' has no attribute 'plugin'\n",
      "[2025-05-24T11:00:20.493086+0200][39140][CRITICAL] module plugin_decaf load failed\n",
      "[2025-05-24T11:00:20.562807+0200][39140][CRITICAL] module disabled: /opt/anaconda3/envs/hivae/lib/python3.13/site-packages/synthcity/plugins/generic/plugin_goggle.py\n",
      "[2025-05-24T11:00:20.563214+0200][39140][CRITICAL] load failed: module 'synthcity.plugins.privacy.plugin_decaf' has no attribute 'plugin'\n",
      "[2025-05-24T11:00:20.563386+0200][39140][CRITICAL] load failed: module 'synthcity.plugins.privacy.plugin_decaf' has no attribute 'plugin'\n",
      "[2025-05-24T11:00:20.563575+0200][39140][CRITICAL] module plugin_decaf load failed\n"
     ]
    },
    {
     "name": "stdout",
     "output_type": "stream",
     "text": [
      "Score: 0.03889396879960534\n",
      "trial_6\n"
     ]
    },
    {
     "name": "stderr",
     "output_type": "stream",
     "text": [
      "100%|██████████| 100/100 [00:06<00:00, 15.18it/s]\n",
      "[2025-05-24T11:00:32.932899+0200][39140][CRITICAL] module disabled: /opt/anaconda3/envs/hivae/lib/python3.13/site-packages/synthcity/plugins/generic/plugin_goggle.py\n",
      "[2025-05-24T11:00:32.933687+0200][39140][CRITICAL] load failed: module 'synthcity.plugins.privacy.plugin_decaf' has no attribute 'plugin'\n",
      "[2025-05-24T11:00:32.933860+0200][39140][CRITICAL] load failed: module 'synthcity.plugins.privacy.plugin_decaf' has no attribute 'plugin'\n",
      "[2025-05-24T11:00:32.934041+0200][39140][CRITICAL] module plugin_decaf load failed\n",
      "100%|██████████| 100/100 [00:06<00:00, 14.44it/s]\n",
      "[2025-05-24T11:00:45.547987+0200][39140][CRITICAL] module disabled: /opt/anaconda3/envs/hivae/lib/python3.13/site-packages/synthcity/plugins/generic/plugin_goggle.py\n",
      "[2025-05-24T11:00:45.550293+0200][39140][CRITICAL] load failed: module 'synthcity.plugins.privacy.plugin_decaf' has no attribute 'plugin'\n",
      "[2025-05-24T11:00:45.551186+0200][39140][CRITICAL] load failed: module 'synthcity.plugins.privacy.plugin_decaf' has no attribute 'plugin'\n",
      "[2025-05-24T11:00:45.563006+0200][39140][CRITICAL] module plugin_decaf load failed\n",
      "100%|██████████| 100/100 [00:06<00:00, 14.81it/s]\n",
      "[2025-05-24T11:00:58.069735+0200][39140][CRITICAL] module disabled: /opt/anaconda3/envs/hivae/lib/python3.13/site-packages/synthcity/plugins/generic/plugin_goggle.py\n",
      "[2025-05-24T11:00:58.070523+0200][39140][CRITICAL] load failed: module 'synthcity.plugins.privacy.plugin_decaf' has no attribute 'plugin'\n",
      "[2025-05-24T11:00:58.070701+0200][39140][CRITICAL] load failed: module 'synthcity.plugins.privacy.plugin_decaf' has no attribute 'plugin'\n",
      "[2025-05-24T11:00:58.070875+0200][39140][CRITICAL] module plugin_decaf load failed\n",
      "100%|██████████| 100/100 [00:06<00:00, 15.31it/s]\n",
      "[2025-05-24T11:01:10.148644+0200][39140][CRITICAL] module disabled: /opt/anaconda3/envs/hivae/lib/python3.13/site-packages/synthcity/plugins/generic/plugin_goggle.py\n",
      "[2025-05-24T11:01:10.149429+0200][39140][CRITICAL] load failed: module 'synthcity.plugins.privacy.plugin_decaf' has no attribute 'plugin'\n",
      "[2025-05-24T11:01:10.149646+0200][39140][CRITICAL] load failed: module 'synthcity.plugins.privacy.plugin_decaf' has no attribute 'plugin'\n",
      "[2025-05-24T11:01:10.149829+0200][39140][CRITICAL] module plugin_decaf load failed\n",
      "100%|██████████| 100/100 [00:06<00:00, 15.32it/s]\n",
      "[2025-05-24T11:01:22.731524+0200][39140][CRITICAL] module disabled: /opt/anaconda3/envs/hivae/lib/python3.13/site-packages/synthcity/plugins/generic/plugin_goggle.py\n",
      "[2025-05-24T11:01:22.732316+0200][39140][CRITICAL] load failed: module 'synthcity.plugins.privacy.plugin_decaf' has no attribute 'plugin'\n",
      "[2025-05-24T11:01:22.732507+0200][39140][CRITICAL] load failed: module 'synthcity.plugins.privacy.plugin_decaf' has no attribute 'plugin'\n",
      "[2025-05-24T11:01:22.732734+0200][39140][CRITICAL] module plugin_decaf load failed\n",
      "[2025-05-24T11:01:22.735473+0200][39140][CRITICAL] module disabled: /opt/anaconda3/envs/hivae/lib/python3.13/site-packages/synthcity/plugins/generic/plugin_goggle.py\n",
      "[2025-05-24T11:01:22.735758+0200][39140][CRITICAL] load failed: module 'synthcity.plugins.privacy.plugin_decaf' has no attribute 'plugin'\n",
      "[2025-05-24T11:01:22.735890+0200][39140][CRITICAL] load failed: module 'synthcity.plugins.privacy.plugin_decaf' has no attribute 'plugin'\n",
      "[2025-05-24T11:01:22.736024+0200][39140][CRITICAL] module plugin_decaf load failed\n",
      "[2025-05-24T11:01:22.781610+0200][39140][CRITICAL] module disabled: /opt/anaconda3/envs/hivae/lib/python3.13/site-packages/synthcity/plugins/generic/plugin_goggle.py\n",
      "[2025-05-24T11:01:22.781989+0200][39140][CRITICAL] load failed: module 'synthcity.plugins.privacy.plugin_decaf' has no attribute 'plugin'\n",
      "[2025-05-24T11:01:22.782146+0200][39140][CRITICAL] load failed: module 'synthcity.plugins.privacy.plugin_decaf' has no attribute 'plugin'\n",
      "[2025-05-24T11:01:22.782332+0200][39140][CRITICAL] module plugin_decaf load failed\n"
     ]
    },
    {
     "name": "stdout",
     "output_type": "stream",
     "text": [
      "Score: 0.05737019860812551\n",
      "trial_7\n"
     ]
    },
    {
     "name": "stderr",
     "output_type": "stream",
     "text": [
      "100%|██████████| 100/100 [00:14<00:00,  6.88it/s]\n",
      "[2025-05-24T11:01:43.124981+0200][39140][CRITICAL] module disabled: /opt/anaconda3/envs/hivae/lib/python3.13/site-packages/synthcity/plugins/generic/plugin_goggle.py\n",
      "[2025-05-24T11:01:43.126248+0200][39140][CRITICAL] load failed: module 'synthcity.plugins.privacy.plugin_decaf' has no attribute 'plugin'\n",
      "[2025-05-24T11:01:43.126493+0200][39140][CRITICAL] load failed: module 'synthcity.plugins.privacy.plugin_decaf' has no attribute 'plugin'\n",
      "[2025-05-24T11:01:43.126675+0200][39140][CRITICAL] module plugin_decaf load failed\n",
      "100%|██████████| 100/100 [00:13<00:00,  7.30it/s]\n",
      "[2025-05-24T11:02:02.759510+0200][39140][CRITICAL] module disabled: /opt/anaconda3/envs/hivae/lib/python3.13/site-packages/synthcity/plugins/generic/plugin_goggle.py\n",
      "[2025-05-24T11:02:02.760563+0200][39140][CRITICAL] load failed: module 'synthcity.plugins.privacy.plugin_decaf' has no attribute 'plugin'\n",
      "[2025-05-24T11:02:02.760740+0200][39140][CRITICAL] load failed: module 'synthcity.plugins.privacy.plugin_decaf' has no attribute 'plugin'\n",
      "[2025-05-24T11:02:02.760921+0200][39140][CRITICAL] module plugin_decaf load failed\n",
      "100%|██████████| 100/100 [00:14<00:00,  6.76it/s]\n",
      "[2025-05-24T11:02:23.306548+0200][39140][CRITICAL] module disabled: /opt/anaconda3/envs/hivae/lib/python3.13/site-packages/synthcity/plugins/generic/plugin_goggle.py\n",
      "[2025-05-24T11:02:23.307214+0200][39140][CRITICAL] load failed: module 'synthcity.plugins.privacy.plugin_decaf' has no attribute 'plugin'\n",
      "[2025-05-24T11:02:23.307387+0200][39140][CRITICAL] load failed: module 'synthcity.plugins.privacy.plugin_decaf' has no attribute 'plugin'\n",
      "[2025-05-24T11:02:23.307589+0200][39140][CRITICAL] module plugin_decaf load failed\n",
      "100%|██████████| 100/100 [00:14<00:00,  7.07it/s]\n",
      "[2025-05-24T11:02:43.172784+0200][39140][CRITICAL] module disabled: /opt/anaconda3/envs/hivae/lib/python3.13/site-packages/synthcity/plugins/generic/plugin_goggle.py\n",
      "[2025-05-24T11:02:43.173464+0200][39140][CRITICAL] load failed: module 'synthcity.plugins.privacy.plugin_decaf' has no attribute 'plugin'\n",
      "[2025-05-24T11:02:43.173625+0200][39140][CRITICAL] load failed: module 'synthcity.plugins.privacy.plugin_decaf' has no attribute 'plugin'\n",
      "[2025-05-24T11:02:43.173798+0200][39140][CRITICAL] module plugin_decaf load failed\n",
      "100%|██████████| 100/100 [00:13<00:00,  7.18it/s]\n",
      "[2025-05-24T11:03:03.234800+0200][39140][CRITICAL] module disabled: /opt/anaconda3/envs/hivae/lib/python3.13/site-packages/synthcity/plugins/generic/plugin_goggle.py\n",
      "[2025-05-24T11:03:03.235627+0200][39140][CRITICAL] load failed: module 'synthcity.plugins.privacy.plugin_decaf' has no attribute 'plugin'\n",
      "[2025-05-24T11:03:03.235831+0200][39140][CRITICAL] load failed: module 'synthcity.plugins.privacy.plugin_decaf' has no attribute 'plugin'\n",
      "[2025-05-24T11:03:03.235959+0200][39140][CRITICAL] module plugin_decaf load failed\n",
      "[2025-05-24T11:03:03.238766+0200][39140][CRITICAL] module disabled: /opt/anaconda3/envs/hivae/lib/python3.13/site-packages/synthcity/plugins/generic/plugin_goggle.py\n",
      "[2025-05-24T11:03:03.239064+0200][39140][CRITICAL] load failed: module 'synthcity.plugins.privacy.plugin_decaf' has no attribute 'plugin'\n",
      "[2025-05-24T11:03:03.239290+0200][39140][CRITICAL] load failed: module 'synthcity.plugins.privacy.plugin_decaf' has no attribute 'plugin'\n",
      "[2025-05-24T11:03:03.239492+0200][39140][CRITICAL] module plugin_decaf load failed\n",
      "[2025-05-24T11:03:03.292734+0200][39140][CRITICAL] module disabled: /opt/anaconda3/envs/hivae/lib/python3.13/site-packages/synthcity/plugins/generic/plugin_goggle.py\n",
      "[2025-05-24T11:03:03.293135+0200][39140][CRITICAL] load failed: module 'synthcity.plugins.privacy.plugin_decaf' has no attribute 'plugin'\n",
      "[2025-05-24T11:03:03.293338+0200][39140][CRITICAL] load failed: module 'synthcity.plugins.privacy.plugin_decaf' has no attribute 'plugin'\n",
      "[2025-05-24T11:03:03.293500+0200][39140][CRITICAL] module plugin_decaf load failed\n"
     ]
    },
    {
     "name": "stdout",
     "output_type": "stream",
     "text": [
      "Score: 0.03587896709497337\n",
      "trial_8\n"
     ]
    },
    {
     "name": "stderr",
     "output_type": "stream",
     "text": [
      "100%|██████████| 100/100 [00:03<00:00, 28.13it/s]\n",
      "[2025-05-24T11:03:12.552774+0200][39140][CRITICAL] module disabled: /opt/anaconda3/envs/hivae/lib/python3.13/site-packages/synthcity/plugins/generic/plugin_goggle.py\n",
      "[2025-05-24T11:03:12.554349+0200][39140][CRITICAL] load failed: module 'synthcity.plugins.privacy.plugin_decaf' has no attribute 'plugin'\n",
      "[2025-05-24T11:03:12.554609+0200][39140][CRITICAL] load failed: module 'synthcity.plugins.privacy.plugin_decaf' has no attribute 'plugin'\n",
      "[2025-05-24T11:03:12.554825+0200][39140][CRITICAL] module plugin_decaf load failed\n",
      "100%|██████████| 100/100 [00:03<00:00, 27.93it/s]\n",
      "[2025-05-24T11:03:21.870983+0200][39140][CRITICAL] module disabled: /opt/anaconda3/envs/hivae/lib/python3.13/site-packages/synthcity/plugins/generic/plugin_goggle.py\n",
      "[2025-05-24T11:03:21.871616+0200][39140][CRITICAL] load failed: module 'synthcity.plugins.privacy.plugin_decaf' has no attribute 'plugin'\n",
      "[2025-05-24T11:03:21.871786+0200][39140][CRITICAL] load failed: module 'synthcity.plugins.privacy.plugin_decaf' has no attribute 'plugin'\n",
      "[2025-05-24T11:03:21.871929+0200][39140][CRITICAL] module plugin_decaf load failed\n",
      "100%|██████████| 100/100 [00:03<00:00, 28.08it/s]\n",
      "[2025-05-24T11:03:30.971097+0200][39140][CRITICAL] module disabled: /opt/anaconda3/envs/hivae/lib/python3.13/site-packages/synthcity/plugins/generic/plugin_goggle.py\n",
      "[2025-05-24T11:03:30.971900+0200][39140][CRITICAL] load failed: module 'synthcity.plugins.privacy.plugin_decaf' has no attribute 'plugin'\n",
      "[2025-05-24T11:03:30.972118+0200][39140][CRITICAL] load failed: module 'synthcity.plugins.privacy.plugin_decaf' has no attribute 'plugin'\n",
      "[2025-05-24T11:03:30.972290+0200][39140][CRITICAL] module plugin_decaf load failed\n",
      "100%|██████████| 100/100 [00:03<00:00, 29.60it/s]\n",
      "[2025-05-24T11:03:39.988881+0200][39140][CRITICAL] module disabled: /opt/anaconda3/envs/hivae/lib/python3.13/site-packages/synthcity/plugins/generic/plugin_goggle.py\n",
      "[2025-05-24T11:03:39.989295+0200][39140][CRITICAL] load failed: module 'synthcity.plugins.privacy.plugin_decaf' has no attribute 'plugin'\n",
      "[2025-05-24T11:03:39.989504+0200][39140][CRITICAL] load failed: module 'synthcity.plugins.privacy.plugin_decaf' has no attribute 'plugin'\n",
      "[2025-05-24T11:03:39.989715+0200][39140][CRITICAL] module plugin_decaf load failed\n",
      "100%|██████████| 100/100 [00:03<00:00, 28.90it/s]\n",
      "[2025-05-24T11:03:49.411297+0200][39140][CRITICAL] module disabled: /opt/anaconda3/envs/hivae/lib/python3.13/site-packages/synthcity/plugins/generic/plugin_goggle.py\n",
      "[2025-05-24T11:03:49.411657+0200][39140][CRITICAL] load failed: module 'synthcity.plugins.privacy.plugin_decaf' has no attribute 'plugin'\n",
      "[2025-05-24T11:03:49.411813+0200][39140][CRITICAL] load failed: module 'synthcity.plugins.privacy.plugin_decaf' has no attribute 'plugin'\n",
      "[2025-05-24T11:03:49.411951+0200][39140][CRITICAL] module plugin_decaf load failed\n",
      "[2025-05-24T11:03:49.413688+0200][39140][CRITICAL] module disabled: /opt/anaconda3/envs/hivae/lib/python3.13/site-packages/synthcity/plugins/generic/plugin_goggle.py\n",
      "[2025-05-24T11:03:49.413944+0200][39140][CRITICAL] load failed: module 'synthcity.plugins.privacy.plugin_decaf' has no attribute 'plugin'\n",
      "[2025-05-24T11:03:49.414067+0200][39140][CRITICAL] load failed: module 'synthcity.plugins.privacy.plugin_decaf' has no attribute 'plugin'\n",
      "[2025-05-24T11:03:49.414221+0200][39140][CRITICAL] module plugin_decaf load failed\n",
      "[2025-05-24T11:03:49.462637+0200][39140][CRITICAL] module disabled: /opt/anaconda3/envs/hivae/lib/python3.13/site-packages/synthcity/plugins/generic/plugin_goggle.py\n",
      "[2025-05-24T11:03:49.462977+0200][39140][CRITICAL] load failed: module 'synthcity.plugins.privacy.plugin_decaf' has no attribute 'plugin'\n",
      "[2025-05-24T11:03:49.463109+0200][39140][CRITICAL] load failed: module 'synthcity.plugins.privacy.plugin_decaf' has no attribute 'plugin'\n",
      "[2025-05-24T11:03:49.463246+0200][39140][CRITICAL] module plugin_decaf load failed\n"
     ]
    },
    {
     "name": "stdout",
     "output_type": "stream",
     "text": [
      "Score: 0.05416091058727438\n",
      "trial_9\n"
     ]
    },
    {
     "name": "stderr",
     "output_type": "stream",
     "text": [
      "100%|██████████| 100/100 [00:11<00:00,  8.81it/s]\n",
      "[2025-05-24T11:04:06.567602+0200][39140][CRITICAL] module disabled: /opt/anaconda3/envs/hivae/lib/python3.13/site-packages/synthcity/plugins/generic/plugin_goggle.py\n",
      "[2025-05-24T11:04:06.567996+0200][39140][CRITICAL] load failed: module 'synthcity.plugins.privacy.plugin_decaf' has no attribute 'plugin'\n",
      "[2025-05-24T11:04:06.568150+0200][39140][CRITICAL] load failed: module 'synthcity.plugins.privacy.plugin_decaf' has no attribute 'plugin'\n",
      "[2025-05-24T11:04:06.568337+0200][39140][CRITICAL] module plugin_decaf load failed\n",
      "100%|██████████| 100/100 [00:11<00:00,  8.97it/s]\n",
      "[2025-05-24T11:04:23.598573+0200][39140][CRITICAL] module disabled: /opt/anaconda3/envs/hivae/lib/python3.13/site-packages/synthcity/plugins/generic/plugin_goggle.py\n",
      "[2025-05-24T11:04:23.599236+0200][39140][CRITICAL] load failed: module 'synthcity.plugins.privacy.plugin_decaf' has no attribute 'plugin'\n",
      "[2025-05-24T11:04:23.599446+0200][39140][CRITICAL] load failed: module 'synthcity.plugins.privacy.plugin_decaf' has no attribute 'plugin'\n",
      "[2025-05-24T11:04:23.599632+0200][39140][CRITICAL] module plugin_decaf load failed\n",
      "100%|██████████| 100/100 [00:11<00:00,  8.84it/s]\n",
      "[2025-05-24T11:04:40.643563+0200][39140][CRITICAL] module disabled: /opt/anaconda3/envs/hivae/lib/python3.13/site-packages/synthcity/plugins/generic/plugin_goggle.py\n",
      "[2025-05-24T11:04:40.643998+0200][39140][CRITICAL] load failed: module 'synthcity.plugins.privacy.plugin_decaf' has no attribute 'plugin'\n",
      "[2025-05-24T11:04:40.644209+0200][39140][CRITICAL] load failed: module 'synthcity.plugins.privacy.plugin_decaf' has no attribute 'plugin'\n",
      "[2025-05-24T11:04:40.644363+0200][39140][CRITICAL] module plugin_decaf load failed\n",
      "100%|██████████| 100/100 [00:11<00:00,  8.80it/s]\n",
      "[2025-05-24T11:04:57.714128+0200][39140][CRITICAL] module disabled: /opt/anaconda3/envs/hivae/lib/python3.13/site-packages/synthcity/plugins/generic/plugin_goggle.py\n",
      "[2025-05-24T11:04:57.714754+0200][39140][CRITICAL] load failed: module 'synthcity.plugins.privacy.plugin_decaf' has no attribute 'plugin'\n",
      "[2025-05-24T11:04:57.714914+0200][39140][CRITICAL] load failed: module 'synthcity.plugins.privacy.plugin_decaf' has no attribute 'plugin'\n",
      "[2025-05-24T11:04:57.715094+0200][39140][CRITICAL] module plugin_decaf load failed\n",
      "100%|██████████| 100/100 [00:11<00:00,  8.88it/s]\n"
     ]
    },
    {
     "name": "stdout",
     "output_type": "stream",
     "text": [
      "Score: 0.06359078452464402\n"
     ]
    }
   ],
   "source": [
    "generators_sel = [\"HI-VAE\", \"Surv-GAN\", \"Surv-VAE\"]\n",
    "\n",
    "best_params_dict, study_dict = {}, {}\n",
    "for generator_name in generators_sel:\n",
    "    db_file = \"optuna_results/optuna_study_{}_{}.db\".format(name_config, generator_name)\n",
    "    if os.path.exists(db_file):\n",
    "        print(\"This optuna study already exists. Please change the name of the study or remove the file to create a new one.\")\n",
    "    else: \n",
    "        print(\"Creating new optuna study for {}...\".format(generator_name))\n",
    "        if generator_name in [\"HI-VAE\"]:\n",
    "            T_surv = torch.Tensor(df_init_control.time)\n",
    "            T_surv_norm = (T_surv - T_surv.min()) / (T_surv.max() - T_surv.min())\n",
    "            n_intervals = 5\n",
    "            T_intervals = torch.linspace(0., T_surv_norm.max(), n_intervals)\n",
    "            T_intervals = torch.cat([T_intervals, torch.tensor([2 * T_intervals[-1] - T_intervals[-2]])])\n",
    "            intervals = [(T_intervals[i].item(), T_intervals[i + 1].item()) for i in range(len(T_intervals) - 1)]\n",
    "\n",
    "            best_params, study = generators_dict[generator_name].optuna_hyperparameter_search((data_init_control_encoded, intervals), \n",
    "                                                                                                    data_init_control,\n",
    "                                                                                                    miss_mask_control, \n",
    "                                                                                                    true_miss_mask_control, \n",
    "                                                                                                    feat_types_file_control, \n",
    "                                                                                                    feat_types_dict, \n",
    "                                                                                                    n_generated_sample=n_generated_samples, \n",
    "                                                                                                    n_splits=n_splits,\n",
    "                                                                                                    n_trials=n_trials, \n",
    "                                                                                                    columns=aids_control_fnames, \n",
    "                                                                                                    study_name=\"optuna_results/optuna_study_{}_{}\".format(name_config, generator_name),)\n",
    "            best_params_dict[generator_name] = best_params\n",
    "            study_dict[generator_name] = study\n",
    "            with open(\"optuna_results/best_params_{}_{}.json\".format(name_config, generator_name), \"w\") as f:\n",
    "                json.dump(best_params, f)\n",
    "        else: \n",
    "            best_params, study = generators_dict[generator_name].optuna_hyperparameter_search(data_init_control, \n",
    "                                                                                            columns=aids_control_fnames, \n",
    "                                                                                            target_column=\"censor\", \n",
    "                                                                                            time_to_event_column=\"time\", \n",
    "                                                                                            n_generated_sample=n_generated_samples, \n",
    "                                                                                            n_splits=n_splits,\n",
    "                                                                                            n_trials=n_trials, \n",
    "                                                                                            study_name=\"optuna_results/optuna_study_{}_{}\".format(name_config, generator_name),)\n",
    "            best_params_dict[generator_name] = best_params\n",
    "            study_dict[generator_name] = study\n",
    "            with open(\"optuna_results/best_params_{}_{}.json\".format(name_config, generator_name), \"w\") as f:\n",
    "                json.dump(best_params, f)\n",
    "\n",
    "   "
   ]
  },
  {
   "cell_type": "markdown",
   "metadata": {},
   "source": [
    "### Visualization of one study"
   ]
  },
  {
   "cell_type": "code",
   "execution_count": 9,
   "metadata": {},
   "outputs": [
    {
     "name": "stdout",
     "output_type": "stream",
     "text": [
      "{'n_layers_surv_piecewise': 1, 'lr': 0.0002, 'batch_size': 64, 'z_dim': 10, 'y_dim': 15, 's_dim': 5}\n"
     ]
    }
   ],
   "source": [
    "generator_name = \"HI-VAE\" # Choose between \"HI-VAE\", \"Surv-GAN\", \"Surv-VAE\"\n",
    "\n",
    "# study = study_dict[generator_name] \n",
    "# best_params = best_params_dict[generator_name]\n",
    "\n",
    "with open(\"optuna_results/best_params_{}_{}.json\".format(name_config, generator_name), \"r\") as f:\n",
    "    best_params = json.load(f)\n",
    "print(best_params)\n",
    "study_name = \"optuna_results/optuna_study_{}_{}\".format(name_config, generator_name)\n",
    "study = optuna.load_study(study_name=study_name, storage=\"sqlite:///\"+study_name+\".db\")"
   ]
  },
  {
   "cell_type": "code",
   "execution_count": 10,
   "metadata": {},
   "outputs": [
    {
     "data": {
      "application/vnd.plotly.v1+json": {
       "config": {
        "plotlyServerURL": "https://plot.ly"
       },
       "data": [
        {
         "mode": "markers",
         "name": "Objective Value",
         "type": "scatter",
         "x": [
          0,
          1,
          2,
          3,
          5,
          8,
          9
         ],
         "y": [
          0.03202588890604087,
          0.14272498810644355,
          0.037076029121116995,
          0.0712700354806398,
          0.10429441570214279,
          0.10574953141782303,
          0.02908667387008367
         ]
        },
        {
         "mode": "lines",
         "name": "Best Value",
         "type": "scatter",
         "x": [
          0,
          1,
          2,
          3,
          4,
          5,
          6,
          7,
          8,
          9
         ],
         "y": [
          0.03202588890604087,
          0.03202588890604087,
          0.03202588890604087,
          0.03202588890604087,
          0.03202588890604087,
          0.03202588890604087,
          0.03202588890604087,
          0.03202588890604087,
          0.03202588890604087,
          0.02908667387008367
         ]
        },
        {
         "marker": {
          "color": "#cccccc"
         },
         "mode": "markers",
         "name": "Infeasible Trial",
         "showlegend": false,
         "type": "scatter",
         "x": [],
         "y": []
        }
       ],
       "layout": {
        "template": {
         "data": {
          "bar": [
           {
            "error_x": {
             "color": "#2a3f5f"
            },
            "error_y": {
             "color": "#2a3f5f"
            },
            "marker": {
             "line": {
              "color": "#E5ECF6",
              "width": 0.5
             },
             "pattern": {
              "fillmode": "overlay",
              "size": 10,
              "solidity": 0.2
             }
            },
            "type": "bar"
           }
          ],
          "barpolar": [
           {
            "marker": {
             "line": {
              "color": "#E5ECF6",
              "width": 0.5
             },
             "pattern": {
              "fillmode": "overlay",
              "size": 10,
              "solidity": 0.2
             }
            },
            "type": "barpolar"
           }
          ],
          "carpet": [
           {
            "aaxis": {
             "endlinecolor": "#2a3f5f",
             "gridcolor": "white",
             "linecolor": "white",
             "minorgridcolor": "white",
             "startlinecolor": "#2a3f5f"
            },
            "baxis": {
             "endlinecolor": "#2a3f5f",
             "gridcolor": "white",
             "linecolor": "white",
             "minorgridcolor": "white",
             "startlinecolor": "#2a3f5f"
            },
            "type": "carpet"
           }
          ],
          "choropleth": [
           {
            "colorbar": {
             "outlinewidth": 0,
             "ticks": ""
            },
            "type": "choropleth"
           }
          ],
          "contour": [
           {
            "colorbar": {
             "outlinewidth": 0,
             "ticks": ""
            },
            "colorscale": [
             [
              0,
              "#0d0887"
             ],
             [
              0.1111111111111111,
              "#46039f"
             ],
             [
              0.2222222222222222,
              "#7201a8"
             ],
             [
              0.3333333333333333,
              "#9c179e"
             ],
             [
              0.4444444444444444,
              "#bd3786"
             ],
             [
              0.5555555555555556,
              "#d8576b"
             ],
             [
              0.6666666666666666,
              "#ed7953"
             ],
             [
              0.7777777777777778,
              "#fb9f3a"
             ],
             [
              0.8888888888888888,
              "#fdca26"
             ],
             [
              1,
              "#f0f921"
             ]
            ],
            "type": "contour"
           }
          ],
          "contourcarpet": [
           {
            "colorbar": {
             "outlinewidth": 0,
             "ticks": ""
            },
            "type": "contourcarpet"
           }
          ],
          "heatmap": [
           {
            "colorbar": {
             "outlinewidth": 0,
             "ticks": ""
            },
            "colorscale": [
             [
              0,
              "#0d0887"
             ],
             [
              0.1111111111111111,
              "#46039f"
             ],
             [
              0.2222222222222222,
              "#7201a8"
             ],
             [
              0.3333333333333333,
              "#9c179e"
             ],
             [
              0.4444444444444444,
              "#bd3786"
             ],
             [
              0.5555555555555556,
              "#d8576b"
             ],
             [
              0.6666666666666666,
              "#ed7953"
             ],
             [
              0.7777777777777778,
              "#fb9f3a"
             ],
             [
              0.8888888888888888,
              "#fdca26"
             ],
             [
              1,
              "#f0f921"
             ]
            ],
            "type": "heatmap"
           }
          ],
          "histogram": [
           {
            "marker": {
             "pattern": {
              "fillmode": "overlay",
              "size": 10,
              "solidity": 0.2
             }
            },
            "type": "histogram"
           }
          ],
          "histogram2d": [
           {
            "colorbar": {
             "outlinewidth": 0,
             "ticks": ""
            },
            "colorscale": [
             [
              0,
              "#0d0887"
             ],
             [
              0.1111111111111111,
              "#46039f"
             ],
             [
              0.2222222222222222,
              "#7201a8"
             ],
             [
              0.3333333333333333,
              "#9c179e"
             ],
             [
              0.4444444444444444,
              "#bd3786"
             ],
             [
              0.5555555555555556,
              "#d8576b"
             ],
             [
              0.6666666666666666,
              "#ed7953"
             ],
             [
              0.7777777777777778,
              "#fb9f3a"
             ],
             [
              0.8888888888888888,
              "#fdca26"
             ],
             [
              1,
              "#f0f921"
             ]
            ],
            "type": "histogram2d"
           }
          ],
          "histogram2dcontour": [
           {
            "colorbar": {
             "outlinewidth": 0,
             "ticks": ""
            },
            "colorscale": [
             [
              0,
              "#0d0887"
             ],
             [
              0.1111111111111111,
              "#46039f"
             ],
             [
              0.2222222222222222,
              "#7201a8"
             ],
             [
              0.3333333333333333,
              "#9c179e"
             ],
             [
              0.4444444444444444,
              "#bd3786"
             ],
             [
              0.5555555555555556,
              "#d8576b"
             ],
             [
              0.6666666666666666,
              "#ed7953"
             ],
             [
              0.7777777777777778,
              "#fb9f3a"
             ],
             [
              0.8888888888888888,
              "#fdca26"
             ],
             [
              1,
              "#f0f921"
             ]
            ],
            "type": "histogram2dcontour"
           }
          ],
          "mesh3d": [
           {
            "colorbar": {
             "outlinewidth": 0,
             "ticks": ""
            },
            "type": "mesh3d"
           }
          ],
          "parcoords": [
           {
            "line": {
             "colorbar": {
              "outlinewidth": 0,
              "ticks": ""
             }
            },
            "type": "parcoords"
           }
          ],
          "pie": [
           {
            "automargin": true,
            "type": "pie"
           }
          ],
          "scatter": [
           {
            "fillpattern": {
             "fillmode": "overlay",
             "size": 10,
             "solidity": 0.2
            },
            "type": "scatter"
           }
          ],
          "scatter3d": [
           {
            "line": {
             "colorbar": {
              "outlinewidth": 0,
              "ticks": ""
             }
            },
            "marker": {
             "colorbar": {
              "outlinewidth": 0,
              "ticks": ""
             }
            },
            "type": "scatter3d"
           }
          ],
          "scattercarpet": [
           {
            "marker": {
             "colorbar": {
              "outlinewidth": 0,
              "ticks": ""
             }
            },
            "type": "scattercarpet"
           }
          ],
          "scattergeo": [
           {
            "marker": {
             "colorbar": {
              "outlinewidth": 0,
              "ticks": ""
             }
            },
            "type": "scattergeo"
           }
          ],
          "scattergl": [
           {
            "marker": {
             "colorbar": {
              "outlinewidth": 0,
              "ticks": ""
             }
            },
            "type": "scattergl"
           }
          ],
          "scattermap": [
           {
            "marker": {
             "colorbar": {
              "outlinewidth": 0,
              "ticks": ""
             }
            },
            "type": "scattermap"
           }
          ],
          "scattermapbox": [
           {
            "marker": {
             "colorbar": {
              "outlinewidth": 0,
              "ticks": ""
             }
            },
            "type": "scattermapbox"
           }
          ],
          "scatterpolar": [
           {
            "marker": {
             "colorbar": {
              "outlinewidth": 0,
              "ticks": ""
             }
            },
            "type": "scatterpolar"
           }
          ],
          "scatterpolargl": [
           {
            "marker": {
             "colorbar": {
              "outlinewidth": 0,
              "ticks": ""
             }
            },
            "type": "scatterpolargl"
           }
          ],
          "scatterternary": [
           {
            "marker": {
             "colorbar": {
              "outlinewidth": 0,
              "ticks": ""
             }
            },
            "type": "scatterternary"
           }
          ],
          "surface": [
           {
            "colorbar": {
             "outlinewidth": 0,
             "ticks": ""
            },
            "colorscale": [
             [
              0,
              "#0d0887"
             ],
             [
              0.1111111111111111,
              "#46039f"
             ],
             [
              0.2222222222222222,
              "#7201a8"
             ],
             [
              0.3333333333333333,
              "#9c179e"
             ],
             [
              0.4444444444444444,
              "#bd3786"
             ],
             [
              0.5555555555555556,
              "#d8576b"
             ],
             [
              0.6666666666666666,
              "#ed7953"
             ],
             [
              0.7777777777777778,
              "#fb9f3a"
             ],
             [
              0.8888888888888888,
              "#fdca26"
             ],
             [
              1,
              "#f0f921"
             ]
            ],
            "type": "surface"
           }
          ],
          "table": [
           {
            "cells": {
             "fill": {
              "color": "#EBF0F8"
             },
             "line": {
              "color": "white"
             }
            },
            "header": {
             "fill": {
              "color": "#C8D4E3"
             },
             "line": {
              "color": "white"
             }
            },
            "type": "table"
           }
          ]
         },
         "layout": {
          "annotationdefaults": {
           "arrowcolor": "#2a3f5f",
           "arrowhead": 0,
           "arrowwidth": 1
          },
          "autotypenumbers": "strict",
          "coloraxis": {
           "colorbar": {
            "outlinewidth": 0,
            "ticks": ""
           }
          },
          "colorscale": {
           "diverging": [
            [
             0,
             "#8e0152"
            ],
            [
             0.1,
             "#c51b7d"
            ],
            [
             0.2,
             "#de77ae"
            ],
            [
             0.3,
             "#f1b6da"
            ],
            [
             0.4,
             "#fde0ef"
            ],
            [
             0.5,
             "#f7f7f7"
            ],
            [
             0.6,
             "#e6f5d0"
            ],
            [
             0.7,
             "#b8e186"
            ],
            [
             0.8,
             "#7fbc41"
            ],
            [
             0.9,
             "#4d9221"
            ],
            [
             1,
             "#276419"
            ]
           ],
           "sequential": [
            [
             0,
             "#0d0887"
            ],
            [
             0.1111111111111111,
             "#46039f"
            ],
            [
             0.2222222222222222,
             "#7201a8"
            ],
            [
             0.3333333333333333,
             "#9c179e"
            ],
            [
             0.4444444444444444,
             "#bd3786"
            ],
            [
             0.5555555555555556,
             "#d8576b"
            ],
            [
             0.6666666666666666,
             "#ed7953"
            ],
            [
             0.7777777777777778,
             "#fb9f3a"
            ],
            [
             0.8888888888888888,
             "#fdca26"
            ],
            [
             1,
             "#f0f921"
            ]
           ],
           "sequentialminus": [
            [
             0,
             "#0d0887"
            ],
            [
             0.1111111111111111,
             "#46039f"
            ],
            [
             0.2222222222222222,
             "#7201a8"
            ],
            [
             0.3333333333333333,
             "#9c179e"
            ],
            [
             0.4444444444444444,
             "#bd3786"
            ],
            [
             0.5555555555555556,
             "#d8576b"
            ],
            [
             0.6666666666666666,
             "#ed7953"
            ],
            [
             0.7777777777777778,
             "#fb9f3a"
            ],
            [
             0.8888888888888888,
             "#fdca26"
            ],
            [
             1,
             "#f0f921"
            ]
           ]
          },
          "colorway": [
           "#636efa",
           "#EF553B",
           "#00cc96",
           "#ab63fa",
           "#FFA15A",
           "#19d3f3",
           "#FF6692",
           "#B6E880",
           "#FF97FF",
           "#FECB52"
          ],
          "font": {
           "color": "#2a3f5f"
          },
          "geo": {
           "bgcolor": "white",
           "lakecolor": "white",
           "landcolor": "#E5ECF6",
           "showlakes": true,
           "showland": true,
           "subunitcolor": "white"
          },
          "hoverlabel": {
           "align": "left"
          },
          "hovermode": "closest",
          "mapbox": {
           "style": "light"
          },
          "paper_bgcolor": "white",
          "plot_bgcolor": "#E5ECF6",
          "polar": {
           "angularaxis": {
            "gridcolor": "white",
            "linecolor": "white",
            "ticks": ""
           },
           "bgcolor": "#E5ECF6",
           "radialaxis": {
            "gridcolor": "white",
            "linecolor": "white",
            "ticks": ""
           }
          },
          "scene": {
           "xaxis": {
            "backgroundcolor": "#E5ECF6",
            "gridcolor": "white",
            "gridwidth": 2,
            "linecolor": "white",
            "showbackground": true,
            "ticks": "",
            "zerolinecolor": "white"
           },
           "yaxis": {
            "backgroundcolor": "#E5ECF6",
            "gridcolor": "white",
            "gridwidth": 2,
            "linecolor": "white",
            "showbackground": true,
            "ticks": "",
            "zerolinecolor": "white"
           },
           "zaxis": {
            "backgroundcolor": "#E5ECF6",
            "gridcolor": "white",
            "gridwidth": 2,
            "linecolor": "white",
            "showbackground": true,
            "ticks": "",
            "zerolinecolor": "white"
           }
          },
          "shapedefaults": {
           "line": {
            "color": "#2a3f5f"
           }
          },
          "ternary": {
           "aaxis": {
            "gridcolor": "white",
            "linecolor": "white",
            "ticks": ""
           },
           "baxis": {
            "gridcolor": "white",
            "linecolor": "white",
            "ticks": ""
           },
           "bgcolor": "#E5ECF6",
           "caxis": {
            "gridcolor": "white",
            "linecolor": "white",
            "ticks": ""
           }
          },
          "title": {
           "x": 0.05
          },
          "xaxis": {
           "automargin": true,
           "gridcolor": "white",
           "linecolor": "white",
           "ticks": "",
           "title": {
            "standoff": 15
           },
           "zerolinecolor": "white",
           "zerolinewidth": 2
          },
          "yaxis": {
           "automargin": true,
           "gridcolor": "white",
           "linecolor": "white",
           "ticks": "",
           "title": {
            "standoff": 15
           },
           "zerolinecolor": "white",
           "zerolinewidth": 2
          }
         }
        },
        "title": {
         "text": "Optimization History Plot"
        },
        "xaxis": {
         "title": {
          "text": "Trial"
         }
        },
        "yaxis": {
         "title": {
          "text": "Objective Value"
         }
        }
       }
      }
     },
     "metadata": {},
     "output_type": "display_data"
    }
   ],
   "source": [
    "plot_optimization_history(study)"
   ]
  },
  {
   "cell_type": "code",
   "execution_count": 11,
   "metadata": {},
   "outputs": [
    {
     "data": {
      "application/vnd.plotly.v1+json": {
       "config": {
        "plotlyServerURL": "https://plot.ly"
       },
       "data": [
        {
         "dimensions": [
          {
           "label": "Objective Value",
           "range": [
            0.02908667387008367,
            0.14272498810644355
           ],
           "values": [
            0.037076029121116995,
            0.10574953141782303,
            0.02908667387008367,
            0.03202588890604087,
            0.10429441570214279,
            0.14272498810644355,
            0.0712700354806398
           ]
          },
          {
           "label": "batch_size",
           "range": [
            0,
            2
           ],
           "ticktext": [
            "64",
            "100",
            "128"
           ],
           "tickvals": [
            0,
            1,
            2
           ],
           "values": [
            0,
            0,
            0,
            1,
            1,
            2,
            2
           ]
          },
          {
           "label": "lr",
           "range": [
            0,
            2
           ],
           "ticktext": [
            "0.0001",
            "0.0002",
            "0.001"
           ],
           "tickvals": [
            0,
            1,
            2
           ],
           "values": [
            0,
            0,
            1,
            2,
            2,
            0,
            1
           ]
          },
          {
           "label": "n_layers_surv_pie...",
           "range": [
            0,
            1
           ],
           "ticktext": [
            "1",
            "2"
           ],
           "tickvals": [
            0,
            1
           ],
           "values": [
            0,
            0,
            0,
            0,
            1,
            1,
            1
           ]
          },
          {
           "label": "s_dim",
           "range": [
            5,
            20
           ],
           "values": [
            15,
            20,
            5,
            5,
            10,
            15,
            5
           ]
          },
          {
           "label": "y_dim",
           "range": [
            5,
            25
           ],
           "values": [
            25,
            5,
            15,
            10,
            5,
            20,
            20
           ]
          },
          {
           "label": "z_dim",
           "range": [
            10,
            30
           ],
           "values": [
            30,
            20,
            10,
            15,
            30,
            20,
            25
           ]
          }
         ],
         "labelangle": 30,
         "labelside": "bottom",
         "line": {
          "color": [
           0.037076029121116995,
           0.10574953141782303,
           0.02908667387008367,
           0.03202588890604087,
           0.10429441570214279,
           0.14272498810644355,
           0.0712700354806398
          ],
          "colorbar": {
           "title": {
            "text": "Objective Value"
           }
          },
          "colorscale": [
           [
            0,
            "rgb(247,251,255)"
           ],
           [
            0.125,
            "rgb(222,235,247)"
           ],
           [
            0.25,
            "rgb(198,219,239)"
           ],
           [
            0.375,
            "rgb(158,202,225)"
           ],
           [
            0.5,
            "rgb(107,174,214)"
           ],
           [
            0.625,
            "rgb(66,146,198)"
           ],
           [
            0.75,
            "rgb(33,113,181)"
           ],
           [
            0.875,
            "rgb(8,81,156)"
           ],
           [
            1,
            "rgb(8,48,107)"
           ]
          ],
          "reversescale": true,
          "showscale": true
         },
         "type": "parcoords"
        }
       ],
       "layout": {
        "template": {
         "data": {
          "bar": [
           {
            "error_x": {
             "color": "#2a3f5f"
            },
            "error_y": {
             "color": "#2a3f5f"
            },
            "marker": {
             "line": {
              "color": "#E5ECF6",
              "width": 0.5
             },
             "pattern": {
              "fillmode": "overlay",
              "size": 10,
              "solidity": 0.2
             }
            },
            "type": "bar"
           }
          ],
          "barpolar": [
           {
            "marker": {
             "line": {
              "color": "#E5ECF6",
              "width": 0.5
             },
             "pattern": {
              "fillmode": "overlay",
              "size": 10,
              "solidity": 0.2
             }
            },
            "type": "barpolar"
           }
          ],
          "carpet": [
           {
            "aaxis": {
             "endlinecolor": "#2a3f5f",
             "gridcolor": "white",
             "linecolor": "white",
             "minorgridcolor": "white",
             "startlinecolor": "#2a3f5f"
            },
            "baxis": {
             "endlinecolor": "#2a3f5f",
             "gridcolor": "white",
             "linecolor": "white",
             "minorgridcolor": "white",
             "startlinecolor": "#2a3f5f"
            },
            "type": "carpet"
           }
          ],
          "choropleth": [
           {
            "colorbar": {
             "outlinewidth": 0,
             "ticks": ""
            },
            "type": "choropleth"
           }
          ],
          "contour": [
           {
            "colorbar": {
             "outlinewidth": 0,
             "ticks": ""
            },
            "colorscale": [
             [
              0,
              "#0d0887"
             ],
             [
              0.1111111111111111,
              "#46039f"
             ],
             [
              0.2222222222222222,
              "#7201a8"
             ],
             [
              0.3333333333333333,
              "#9c179e"
             ],
             [
              0.4444444444444444,
              "#bd3786"
             ],
             [
              0.5555555555555556,
              "#d8576b"
             ],
             [
              0.6666666666666666,
              "#ed7953"
             ],
             [
              0.7777777777777778,
              "#fb9f3a"
             ],
             [
              0.8888888888888888,
              "#fdca26"
             ],
             [
              1,
              "#f0f921"
             ]
            ],
            "type": "contour"
           }
          ],
          "contourcarpet": [
           {
            "colorbar": {
             "outlinewidth": 0,
             "ticks": ""
            },
            "type": "contourcarpet"
           }
          ],
          "heatmap": [
           {
            "colorbar": {
             "outlinewidth": 0,
             "ticks": ""
            },
            "colorscale": [
             [
              0,
              "#0d0887"
             ],
             [
              0.1111111111111111,
              "#46039f"
             ],
             [
              0.2222222222222222,
              "#7201a8"
             ],
             [
              0.3333333333333333,
              "#9c179e"
             ],
             [
              0.4444444444444444,
              "#bd3786"
             ],
             [
              0.5555555555555556,
              "#d8576b"
             ],
             [
              0.6666666666666666,
              "#ed7953"
             ],
             [
              0.7777777777777778,
              "#fb9f3a"
             ],
             [
              0.8888888888888888,
              "#fdca26"
             ],
             [
              1,
              "#f0f921"
             ]
            ],
            "type": "heatmap"
           }
          ],
          "histogram": [
           {
            "marker": {
             "pattern": {
              "fillmode": "overlay",
              "size": 10,
              "solidity": 0.2
             }
            },
            "type": "histogram"
           }
          ],
          "histogram2d": [
           {
            "colorbar": {
             "outlinewidth": 0,
             "ticks": ""
            },
            "colorscale": [
             [
              0,
              "#0d0887"
             ],
             [
              0.1111111111111111,
              "#46039f"
             ],
             [
              0.2222222222222222,
              "#7201a8"
             ],
             [
              0.3333333333333333,
              "#9c179e"
             ],
             [
              0.4444444444444444,
              "#bd3786"
             ],
             [
              0.5555555555555556,
              "#d8576b"
             ],
             [
              0.6666666666666666,
              "#ed7953"
             ],
             [
              0.7777777777777778,
              "#fb9f3a"
             ],
             [
              0.8888888888888888,
              "#fdca26"
             ],
             [
              1,
              "#f0f921"
             ]
            ],
            "type": "histogram2d"
           }
          ],
          "histogram2dcontour": [
           {
            "colorbar": {
             "outlinewidth": 0,
             "ticks": ""
            },
            "colorscale": [
             [
              0,
              "#0d0887"
             ],
             [
              0.1111111111111111,
              "#46039f"
             ],
             [
              0.2222222222222222,
              "#7201a8"
             ],
             [
              0.3333333333333333,
              "#9c179e"
             ],
             [
              0.4444444444444444,
              "#bd3786"
             ],
             [
              0.5555555555555556,
              "#d8576b"
             ],
             [
              0.6666666666666666,
              "#ed7953"
             ],
             [
              0.7777777777777778,
              "#fb9f3a"
             ],
             [
              0.8888888888888888,
              "#fdca26"
             ],
             [
              1,
              "#f0f921"
             ]
            ],
            "type": "histogram2dcontour"
           }
          ],
          "mesh3d": [
           {
            "colorbar": {
             "outlinewidth": 0,
             "ticks": ""
            },
            "type": "mesh3d"
           }
          ],
          "parcoords": [
           {
            "line": {
             "colorbar": {
              "outlinewidth": 0,
              "ticks": ""
             }
            },
            "type": "parcoords"
           }
          ],
          "pie": [
           {
            "automargin": true,
            "type": "pie"
           }
          ],
          "scatter": [
           {
            "fillpattern": {
             "fillmode": "overlay",
             "size": 10,
             "solidity": 0.2
            },
            "type": "scatter"
           }
          ],
          "scatter3d": [
           {
            "line": {
             "colorbar": {
              "outlinewidth": 0,
              "ticks": ""
             }
            },
            "marker": {
             "colorbar": {
              "outlinewidth": 0,
              "ticks": ""
             }
            },
            "type": "scatter3d"
           }
          ],
          "scattercarpet": [
           {
            "marker": {
             "colorbar": {
              "outlinewidth": 0,
              "ticks": ""
             }
            },
            "type": "scattercarpet"
           }
          ],
          "scattergeo": [
           {
            "marker": {
             "colorbar": {
              "outlinewidth": 0,
              "ticks": ""
             }
            },
            "type": "scattergeo"
           }
          ],
          "scattergl": [
           {
            "marker": {
             "colorbar": {
              "outlinewidth": 0,
              "ticks": ""
             }
            },
            "type": "scattergl"
           }
          ],
          "scattermap": [
           {
            "marker": {
             "colorbar": {
              "outlinewidth": 0,
              "ticks": ""
             }
            },
            "type": "scattermap"
           }
          ],
          "scattermapbox": [
           {
            "marker": {
             "colorbar": {
              "outlinewidth": 0,
              "ticks": ""
             }
            },
            "type": "scattermapbox"
           }
          ],
          "scatterpolar": [
           {
            "marker": {
             "colorbar": {
              "outlinewidth": 0,
              "ticks": ""
             }
            },
            "type": "scatterpolar"
           }
          ],
          "scatterpolargl": [
           {
            "marker": {
             "colorbar": {
              "outlinewidth": 0,
              "ticks": ""
             }
            },
            "type": "scatterpolargl"
           }
          ],
          "scatterternary": [
           {
            "marker": {
             "colorbar": {
              "outlinewidth": 0,
              "ticks": ""
             }
            },
            "type": "scatterternary"
           }
          ],
          "surface": [
           {
            "colorbar": {
             "outlinewidth": 0,
             "ticks": ""
            },
            "colorscale": [
             [
              0,
              "#0d0887"
             ],
             [
              0.1111111111111111,
              "#46039f"
             ],
             [
              0.2222222222222222,
              "#7201a8"
             ],
             [
              0.3333333333333333,
              "#9c179e"
             ],
             [
              0.4444444444444444,
              "#bd3786"
             ],
             [
              0.5555555555555556,
              "#d8576b"
             ],
             [
              0.6666666666666666,
              "#ed7953"
             ],
             [
              0.7777777777777778,
              "#fb9f3a"
             ],
             [
              0.8888888888888888,
              "#fdca26"
             ],
             [
              1,
              "#f0f921"
             ]
            ],
            "type": "surface"
           }
          ],
          "table": [
           {
            "cells": {
             "fill": {
              "color": "#EBF0F8"
             },
             "line": {
              "color": "white"
             }
            },
            "header": {
             "fill": {
              "color": "#C8D4E3"
             },
             "line": {
              "color": "white"
             }
            },
            "type": "table"
           }
          ]
         },
         "layout": {
          "annotationdefaults": {
           "arrowcolor": "#2a3f5f",
           "arrowhead": 0,
           "arrowwidth": 1
          },
          "autotypenumbers": "strict",
          "coloraxis": {
           "colorbar": {
            "outlinewidth": 0,
            "ticks": ""
           }
          },
          "colorscale": {
           "diverging": [
            [
             0,
             "#8e0152"
            ],
            [
             0.1,
             "#c51b7d"
            ],
            [
             0.2,
             "#de77ae"
            ],
            [
             0.3,
             "#f1b6da"
            ],
            [
             0.4,
             "#fde0ef"
            ],
            [
             0.5,
             "#f7f7f7"
            ],
            [
             0.6,
             "#e6f5d0"
            ],
            [
             0.7,
             "#b8e186"
            ],
            [
             0.8,
             "#7fbc41"
            ],
            [
             0.9,
             "#4d9221"
            ],
            [
             1,
             "#276419"
            ]
           ],
           "sequential": [
            [
             0,
             "#0d0887"
            ],
            [
             0.1111111111111111,
             "#46039f"
            ],
            [
             0.2222222222222222,
             "#7201a8"
            ],
            [
             0.3333333333333333,
             "#9c179e"
            ],
            [
             0.4444444444444444,
             "#bd3786"
            ],
            [
             0.5555555555555556,
             "#d8576b"
            ],
            [
             0.6666666666666666,
             "#ed7953"
            ],
            [
             0.7777777777777778,
             "#fb9f3a"
            ],
            [
             0.8888888888888888,
             "#fdca26"
            ],
            [
             1,
             "#f0f921"
            ]
           ],
           "sequentialminus": [
            [
             0,
             "#0d0887"
            ],
            [
             0.1111111111111111,
             "#46039f"
            ],
            [
             0.2222222222222222,
             "#7201a8"
            ],
            [
             0.3333333333333333,
             "#9c179e"
            ],
            [
             0.4444444444444444,
             "#bd3786"
            ],
            [
             0.5555555555555556,
             "#d8576b"
            ],
            [
             0.6666666666666666,
             "#ed7953"
            ],
            [
             0.7777777777777778,
             "#fb9f3a"
            ],
            [
             0.8888888888888888,
             "#fdca26"
            ],
            [
             1,
             "#f0f921"
            ]
           ]
          },
          "colorway": [
           "#636efa",
           "#EF553B",
           "#00cc96",
           "#ab63fa",
           "#FFA15A",
           "#19d3f3",
           "#FF6692",
           "#B6E880",
           "#FF97FF",
           "#FECB52"
          ],
          "font": {
           "color": "#2a3f5f"
          },
          "geo": {
           "bgcolor": "white",
           "lakecolor": "white",
           "landcolor": "#E5ECF6",
           "showlakes": true,
           "showland": true,
           "subunitcolor": "white"
          },
          "hoverlabel": {
           "align": "left"
          },
          "hovermode": "closest",
          "mapbox": {
           "style": "light"
          },
          "paper_bgcolor": "white",
          "plot_bgcolor": "#E5ECF6",
          "polar": {
           "angularaxis": {
            "gridcolor": "white",
            "linecolor": "white",
            "ticks": ""
           },
           "bgcolor": "#E5ECF6",
           "radialaxis": {
            "gridcolor": "white",
            "linecolor": "white",
            "ticks": ""
           }
          },
          "scene": {
           "xaxis": {
            "backgroundcolor": "#E5ECF6",
            "gridcolor": "white",
            "gridwidth": 2,
            "linecolor": "white",
            "showbackground": true,
            "ticks": "",
            "zerolinecolor": "white"
           },
           "yaxis": {
            "backgroundcolor": "#E5ECF6",
            "gridcolor": "white",
            "gridwidth": 2,
            "linecolor": "white",
            "showbackground": true,
            "ticks": "",
            "zerolinecolor": "white"
           },
           "zaxis": {
            "backgroundcolor": "#E5ECF6",
            "gridcolor": "white",
            "gridwidth": 2,
            "linecolor": "white",
            "showbackground": true,
            "ticks": "",
            "zerolinecolor": "white"
           }
          },
          "shapedefaults": {
           "line": {
            "color": "#2a3f5f"
           }
          },
          "ternary": {
           "aaxis": {
            "gridcolor": "white",
            "linecolor": "white",
            "ticks": ""
           },
           "baxis": {
            "gridcolor": "white",
            "linecolor": "white",
            "ticks": ""
           },
           "bgcolor": "#E5ECF6",
           "caxis": {
            "gridcolor": "white",
            "linecolor": "white",
            "ticks": ""
           }
          },
          "title": {
           "x": 0.05
          },
          "xaxis": {
           "automargin": true,
           "gridcolor": "white",
           "linecolor": "white",
           "ticks": "",
           "title": {
            "standoff": 15
           },
           "zerolinecolor": "white",
           "zerolinewidth": 2
          },
          "yaxis": {
           "automargin": true,
           "gridcolor": "white",
           "linecolor": "white",
           "ticks": "",
           "title": {
            "standoff": 15
           },
           "zerolinecolor": "white",
           "zerolinewidth": 2
          }
         }
        },
        "title": {
         "text": "Parallel Coordinate Plot"
        }
       }
      }
     },
     "metadata": {},
     "output_type": "display_data"
    }
   ],
   "source": [
    "# Visualize high-dimensional parameter relationships. \n",
    "plot_parallel_coordinate(study)"
   ]
  },
  {
   "cell_type": "code",
   "execution_count": 12,
   "metadata": {},
   "outputs": [
    {
     "data": {
      "application/vnd.plotly.v1+json": {
       "config": {
        "plotlyServerURL": "https://plot.ly"
       },
       "data": [
        {
         "type": "scatter",
         "xaxis": "x",
         "yaxis": "y"
        },
        {
         "colorbar": {
          "title": {
           "text": "Objective Value"
          }
         },
         "colorscale": [
          [
           0,
           "rgb(247,251,255)"
          ],
          [
           0.125,
           "rgb(222,235,247)"
          ],
          [
           0.25,
           "rgb(198,219,239)"
          ],
          [
           0.375,
           "rgb(158,202,225)"
          ],
          [
           0.5,
           "rgb(107,174,214)"
          ],
          [
           0.625,
           "rgb(66,146,198)"
          ],
          [
           0.75,
           "rgb(33,113,181)"
          ],
          [
           0.875,
           "rgb(8,81,156)"
          ],
          [
           1,
           "rgb(8,48,107)"
          ]
         ],
         "connectgaps": true,
         "contours": {
          "coloring": "heatmap"
         },
         "hoverinfo": "none",
         "line": {
          "smoothing": 1.3
         },
         "reversescale": true,
         "showscale": true,
         "type": "contour",
         "x": [
          60.8,
          64,
          100,
          128,
          131.2
         ],
         "xaxis": "x7",
         "y": [
          0.000055,
          0.0001,
          0.0002,
          0.001,
          0.001045
         ],
         "yaxis": "y7",
         "z": {
          "bdata": "AAAAAAAA+H8AAAAAAAD4fwAAAAAAAPh/AAAAAAAA+H8AAAAAAAD4fwAAAAAAAPh/BdwUGaH7oj8AAAAAAAD4f+2cHvrPRMI/AAAAAAAA+H8AAAAAAAD4f/3wFaTlyJ0/AAAAAAAA+H+3+JLHwD6yPwAAAAAAAPh/AAAAAAAA+H8AAAAAAAD4f9Ib9IKyZaA/AAAAAAAA+H8AAAAAAAD4fwAAAAAAAPh/AAAAAAAA+H8AAAAAAAD4fwAAAAAAAPh/AAAAAAAA+H8=",
          "dtype": "f8",
          "shape": "5, 5"
         }
        },
        {
         "marker": {
          "color": "black",
          "line": {
           "color": "Gray",
           "width": 2
          }
         },
         "mode": "markers",
         "name": "Feasible Trial",
         "showlegend": false,
         "type": "scatter",
         "x": [
          100,
          128,
          64,
          128,
          100,
          64,
          64
         ],
         "xaxis": "x7",
         "y": [
          0.001,
          0.0001,
          0.0001,
          0.0002,
          0.001,
          0.0001,
          0.0002
         ],
         "yaxis": "y7"
        },
        {
         "colorbar": {
          "title": {
           "text": "Objective Value"
          }
         },
         "colorscale": [
          [
           0,
           "rgb(247,251,255)"
          ],
          [
           0.125,
           "rgb(222,235,247)"
          ],
          [
           0.25,
           "rgb(198,219,239)"
          ],
          [
           0.375,
           "rgb(158,202,225)"
          ],
          [
           0.5,
           "rgb(107,174,214)"
          ],
          [
           0.625,
           "rgb(66,146,198)"
          ],
          [
           0.75,
           "rgb(33,113,181)"
          ],
          [
           0.875,
           "rgb(8,81,156)"
          ],
          [
           1,
           "rgb(8,48,107)"
          ]
         ],
         "connectgaps": true,
         "contours": {
          "coloring": "heatmap"
         },
         "hoverinfo": "none",
         "line": {
          "smoothing": 1.3
         },
         "reversescale": true,
         "showscale": false,
         "type": "contour",
         "x": [
          60.8,
          64,
          100,
          128,
          131.2
         ],
         "xaxis": "x13",
         "y": [
          0.95,
          1,
          2,
          2.05
         ],
         "yaxis": "y13",
         "z": {
          "bdata": "AAAAAAAA+H8AAAAAAAD4fwAAAAAAAPh/AAAAAAAA+H8AAAAAAAD4fwAAAAAAAPh//fAVpOXInT/SG/SCsmWgPwAAAAAAAPh/AAAAAAAA+H8AAAAAAAD4fwAAAAAAAPh/HpyY8Amzuj+3+JLHwD6yPwAAAAAAAPh/AAAAAAAA+H8AAAAAAAD4fwAAAAAAAPh/AAAAAAAA+H8AAAAAAAD4fw==",
          "dtype": "f8",
          "shape": "4, 5"
         }
        },
        {
         "marker": {
          "color": "black",
          "line": {
           "color": "Gray",
           "width": 2
          }
         },
         "mode": "markers",
         "name": "Feasible Trial",
         "showlegend": false,
         "type": "scatter",
         "x": [
          100,
          128,
          64,
          128,
          100,
          64,
          64
         ],
         "xaxis": "x13",
         "y": [
          1,
          2,
          1,
          2,
          2,
          1,
          1
         ],
         "yaxis": "y13"
        },
        {
         "colorbar": {
          "title": {
           "text": "Objective Value"
          }
         },
         "colorscale": [
          [
           0,
           "rgb(247,251,255)"
          ],
          [
           0.125,
           "rgb(222,235,247)"
          ],
          [
           0.25,
           "rgb(198,219,239)"
          ],
          [
           0.375,
           "rgb(158,202,225)"
          ],
          [
           0.5,
           "rgb(107,174,214)"
          ],
          [
           0.625,
           "rgb(66,146,198)"
          ],
          [
           0.75,
           "rgb(33,113,181)"
          ],
          [
           0.875,
           "rgb(8,81,156)"
          ],
          [
           1,
           "rgb(8,48,107)"
          ]
         ],
         "connectgaps": true,
         "contours": {
          "coloring": "heatmap"
         },
         "hoverinfo": "none",
         "line": {
          "smoothing": 1.3
         },
         "reversescale": true,
         "showscale": false,
         "type": "contour",
         "x": [
          60.8,
          64,
          100,
          128,
          131.2
         ],
         "xaxis": "x19",
         "y": [
          4.25,
          5,
          10,
          15,
          20,
          20.75
         ],
         "yaxis": "y19",
         "z": {
          "bdata": "AAAAAAAA+H8AAAAAAAD4fwAAAAAAAPh/AAAAAAAA+H8AAAAAAAD4fwAAAAAAAPh//fAVpOXInT/SG/SCsmWgP7f4ksfAPrI/AAAAAAAA+H8AAAAAAAD4fwAAAAAAAPh/HpyY8Amzuj8AAAAAAAD4fwAAAAAAAPh/AAAAAAAA+H8F3BQZofuiPwAAAAAAAPh/7Zwe+s9Ewj8AAAAAAAD4fwAAAAAAAPh/hsIBu2YSuz8AAAAAAAD4fwAAAAAAAPh/AAAAAAAA+H8AAAAAAAD4fwAAAAAAAPh/AAAAAAAA+H8AAAAAAAD4fwAAAAAAAPh/",
          "dtype": "f8",
          "shape": "6, 5"
         }
        },
        {
         "marker": {
          "color": "black",
          "line": {
           "color": "Gray",
           "width": 2
          }
         },
         "mode": "markers",
         "name": "Feasible Trial",
         "showlegend": false,
         "type": "scatter",
         "x": [
          100,
          128,
          64,
          128,
          100,
          64,
          64
         ],
         "xaxis": "x19",
         "y": [
          5,
          15,
          15,
          5,
          10,
          20,
          5
         ],
         "yaxis": "y19"
        },
        {
         "colorbar": {
          "title": {
           "text": "Objective Value"
          }
         },
         "colorscale": [
          [
           0,
           "rgb(247,251,255)"
          ],
          [
           0.125,
           "rgb(222,235,247)"
          ],
          [
           0.25,
           "rgb(198,219,239)"
          ],
          [
           0.375,
           "rgb(158,202,225)"
          ],
          [
           0.5,
           "rgb(107,174,214)"
          ],
          [
           0.625,
           "rgb(66,146,198)"
          ],
          [
           0.75,
           "rgb(33,113,181)"
          ],
          [
           0.875,
           "rgb(8,81,156)"
          ],
          [
           1,
           "rgb(8,48,107)"
          ]
         ],
         "connectgaps": true,
         "contours": {
          "coloring": "heatmap"
         },
         "hoverinfo": "none",
         "line": {
          "smoothing": 1.3
         },
         "reversescale": true,
         "showscale": false,
         "type": "contour",
         "x": [
          60.8,
          64,
          100,
          128,
          131.2
         ],
         "xaxis": "x25",
         "y": [
          4,
          5,
          10,
          15,
          20,
          25,
          26
         ],
         "yaxis": "y25",
         "z": {
          "bdata": "AAAAAAAA+H8AAAAAAAD4fwAAAAAAAPh/AAAAAAAA+H8AAAAAAAD4fwAAAAAAAPh/hsIBu2YSuz8enJjwCbO6PwAAAAAAAPh/AAAAAAAA+H8AAAAAAAD4fwAAAAAAAPh/0hv0grJloD8AAAAAAAD4fwAAAAAAAPh/AAAAAAAA+H/98BWk5cidPwAAAAAAAPh/AAAAAAAA+H8AAAAAAAD4fwAAAAAAAPh/AAAAAAAA+H8AAAAAAAD4f7f4ksfAPrI/AAAAAAAA+H8AAAAAAAD4fwXcFBmh+6I/AAAAAAAA+H8AAAAAAAD4fwAAAAAAAPh/AAAAAAAA+H8AAAAAAAD4fwAAAAAAAPh/AAAAAAAA+H8AAAAAAAD4fw==",
          "dtype": "f8",
          "shape": "7, 5"
         }
        },
        {
         "marker": {
          "color": "black",
          "line": {
           "color": "Gray",
           "width": 2
          }
         },
         "mode": "markers",
         "name": "Feasible Trial",
         "showlegend": false,
         "type": "scatter",
         "x": [
          100,
          128,
          64,
          128,
          100,
          64,
          64
         ],
         "xaxis": "x25",
         "y": [
          10,
          20,
          25,
          20,
          5,
          5,
          15
         ],
         "yaxis": "y25"
        },
        {
         "colorbar": {
          "title": {
           "text": "Objective Value"
          }
         },
         "colorscale": [
          [
           0,
           "rgb(247,251,255)"
          ],
          [
           0.125,
           "rgb(222,235,247)"
          ],
          [
           0.25,
           "rgb(198,219,239)"
          ],
          [
           0.375,
           "rgb(158,202,225)"
          ],
          [
           0.5,
           "rgb(107,174,214)"
          ],
          [
           0.625,
           "rgb(66,146,198)"
          ],
          [
           0.75,
           "rgb(33,113,181)"
          ],
          [
           0.875,
           "rgb(8,81,156)"
          ],
          [
           1,
           "rgb(8,48,107)"
          ]
         ],
         "connectgaps": true,
         "contours": {
          "coloring": "heatmap"
         },
         "hoverinfo": "none",
         "line": {
          "smoothing": 1.3
         },
         "reversescale": true,
         "showscale": false,
         "type": "contour",
         "x": [
          60.8,
          64,
          100,
          128,
          131.2
         ],
         "xaxis": "x31",
         "y": [
          9,
          10,
          15,
          20,
          25,
          30,
          31
         ],
         "yaxis": "y31",
         "z": {
          "bdata": "AAAAAAAA+H8AAAAAAAD4fwAAAAAAAPh/AAAAAAAA+H8AAAAAAAD4fwAAAAAAAPh//fAVpOXInT8AAAAAAAD4fwAAAAAAAPh/AAAAAAAA+H8AAAAAAAD4fwAAAAAAAPh/0hv0grJloD8AAAAAAAD4fwAAAAAAAPh/AAAAAAAA+H+GwgG7ZhK7PwAAAAAAAPh/7Zwe+s9Ewj8AAAAAAAD4fwAAAAAAAPh/AAAAAAAA+H8AAAAAAAD4f7f4ksfAPrI/AAAAAAAA+H8AAAAAAAD4fwXcFBmh+6I/HpyY8Amzuj8AAAAAAAD4fwAAAAAAAPh/AAAAAAAA+H8AAAAAAAD4fwAAAAAAAPh/AAAAAAAA+H8AAAAAAAD4fw==",
          "dtype": "f8",
          "shape": "7, 5"
         }
        },
        {
         "marker": {
          "color": "black",
          "line": {
           "color": "Gray",
           "width": 2
          }
         },
         "mode": "markers",
         "name": "Feasible Trial",
         "showlegend": false,
         "type": "scatter",
         "x": [
          100,
          128,
          64,
          128,
          100,
          64,
          64
         ],
         "xaxis": "x31",
         "y": [
          15,
          20,
          30,
          25,
          30,
          20,
          10
         ],
         "yaxis": "y31"
        },
        {
         "colorbar": {
          "title": {
           "text": "Objective Value"
          }
         },
         "colorscale": [
          [
           0,
           "rgb(247,251,255)"
          ],
          [
           0.125,
           "rgb(222,235,247)"
          ],
          [
           0.25,
           "rgb(198,219,239)"
          ],
          [
           0.375,
           "rgb(158,202,225)"
          ],
          [
           0.5,
           "rgb(107,174,214)"
          ],
          [
           0.625,
           "rgb(66,146,198)"
          ],
          [
           0.75,
           "rgb(33,113,181)"
          ],
          [
           0.875,
           "rgb(8,81,156)"
          ],
          [
           1,
           "rgb(8,48,107)"
          ]
         ],
         "connectgaps": true,
         "contours": {
          "coloring": "heatmap"
         },
         "hoverinfo": "none",
         "line": {
          "smoothing": 1.3
         },
         "reversescale": true,
         "showscale": false,
         "type": "contour",
         "x": [
          0.000055,
          0.0001,
          0.0002,
          0.001,
          0.001045
         ],
         "xaxis": "x2",
         "y": [
          60.8,
          64,
          100,
          128,
          131.2
         ],
         "yaxis": "y2",
         "z": {
          "bdata": "AAAAAAAA+H8AAAAAAAD4fwAAAAAAAPh/AAAAAAAA+H8AAAAAAAD4fwAAAAAAAPh/BdwUGaH7oj/98BWk5cidPwAAAAAAAPh/AAAAAAAA+H8AAAAAAAD4fwAAAAAAAPh/AAAAAAAA+H/SG/SCsmWgPwAAAAAAAPh/AAAAAAAA+H/tnB76z0TCP7f4ksfAPrI/AAAAAAAA+H8AAAAAAAD4fwAAAAAAAPh/AAAAAAAA+H8AAAAAAAD4fwAAAAAAAPh/AAAAAAAA+H8=",
          "dtype": "f8",
          "shape": "5, 5"
         }
        },
        {
         "marker": {
          "color": "black",
          "line": {
           "color": "Gray",
           "width": 2
          }
         },
         "mode": "markers",
         "name": "Feasible Trial",
         "showlegend": false,
         "type": "scatter",
         "x": [
          0.001,
          0.0001,
          0.0001,
          0.0002,
          0.001,
          0.0001,
          0.0002
         ],
         "xaxis": "x2",
         "y": [
          100,
          128,
          64,
          128,
          100,
          64,
          64
         ],
         "yaxis": "y2"
        },
        {
         "type": "scatter",
         "xaxis": "x8",
         "yaxis": "y8"
        },
        {
         "colorbar": {
          "title": {
           "text": "Objective Value"
          }
         },
         "colorscale": [
          [
           0,
           "rgb(247,251,255)"
          ],
          [
           0.125,
           "rgb(222,235,247)"
          ],
          [
           0.25,
           "rgb(198,219,239)"
          ],
          [
           0.375,
           "rgb(158,202,225)"
          ],
          [
           0.5,
           "rgb(107,174,214)"
          ],
          [
           0.625,
           "rgb(66,146,198)"
          ],
          [
           0.75,
           "rgb(33,113,181)"
          ],
          [
           0.875,
           "rgb(8,81,156)"
          ],
          [
           1,
           "rgb(8,48,107)"
          ]
         ],
         "connectgaps": true,
         "contours": {
          "coloring": "heatmap"
         },
         "hoverinfo": "none",
         "line": {
          "smoothing": 1.3
         },
         "reversescale": true,
         "showscale": false,
         "type": "contour",
         "x": [
          0.000055,
          0.0001,
          0.0002,
          0.001,
          0.001045
         ],
         "xaxis": "x14",
         "y": [
          0.95,
          1,
          2,
          2.05
         ],
         "yaxis": "y14",
         "z": {
          "bdata": "AAAAAAAA+H8AAAAAAAD4fwAAAAAAAPh/AAAAAAAA+H8AAAAAAAD4fwAAAAAAAPh/BdwUGaH7oj/98BWk5cidP9Ib9IKyZaA/AAAAAAAA+H8AAAAAAAD4f+2cHvrPRMI/t/iSx8A+sj8enJjwCbO6PwAAAAAAAPh/AAAAAAAA+H8AAAAAAAD4fwAAAAAAAPh/AAAAAAAA+H8AAAAAAAD4fw==",
          "dtype": "f8",
          "shape": "4, 5"
         }
        },
        {
         "marker": {
          "color": "black",
          "line": {
           "color": "Gray",
           "width": 2
          }
         },
         "mode": "markers",
         "name": "Feasible Trial",
         "showlegend": false,
         "type": "scatter",
         "x": [
          0.001,
          0.0001,
          0.0001,
          0.0002,
          0.001,
          0.0001,
          0.0002
         ],
         "xaxis": "x14",
         "y": [
          1,
          2,
          1,
          2,
          2,
          1,
          1
         ],
         "yaxis": "y14"
        },
        {
         "colorbar": {
          "title": {
           "text": "Objective Value"
          }
         },
         "colorscale": [
          [
           0,
           "rgb(247,251,255)"
          ],
          [
           0.125,
           "rgb(222,235,247)"
          ],
          [
           0.25,
           "rgb(198,219,239)"
          ],
          [
           0.375,
           "rgb(158,202,225)"
          ],
          [
           0.5,
           "rgb(107,174,214)"
          ],
          [
           0.625,
           "rgb(66,146,198)"
          ],
          [
           0.75,
           "rgb(33,113,181)"
          ],
          [
           0.875,
           "rgb(8,81,156)"
          ],
          [
           1,
           "rgb(8,48,107)"
          ]
         ],
         "connectgaps": true,
         "contours": {
          "coloring": "heatmap"
         },
         "hoverinfo": "none",
         "line": {
          "smoothing": 1.3
         },
         "reversescale": true,
         "showscale": false,
         "type": "contour",
         "x": [
          0.000055,
          0.0001,
          0.0002,
          0.001,
          0.001045
         ],
         "xaxis": "x20",
         "y": [
          4.25,
          5,
          10,
          15,
          20,
          20.75
         ],
         "yaxis": "y20",
         "z": {
          "bdata": "AAAAAAAA+H8AAAAAAAD4fwAAAAAAAPh/AAAAAAAA+H8AAAAAAAD4fwAAAAAAAPh/AAAAAAAA+H/98BWk5cidP9Ib9IKyZaA/AAAAAAAA+H8AAAAAAAD4fwAAAAAAAPh/AAAAAAAA+H8enJjwCbO6PwAAAAAAAPh/AAAAAAAA+H8F3BQZofuiPwAAAAAAAPh/AAAAAAAA+H8AAAAAAAD4fwAAAAAAAPh/hsIBu2YSuz8AAAAAAAD4fwAAAAAAAPh/AAAAAAAA+H8AAAAAAAD4fwAAAAAAAPh/AAAAAAAA+H8AAAAAAAD4fwAAAAAAAPh/",
          "dtype": "f8",
          "shape": "6, 5"
         }
        },
        {
         "marker": {
          "color": "black",
          "line": {
           "color": "Gray",
           "width": 2
          }
         },
         "mode": "markers",
         "name": "Feasible Trial",
         "showlegend": false,
         "type": "scatter",
         "x": [
          0.001,
          0.0001,
          0.0001,
          0.0002,
          0.001,
          0.0001,
          0.0002
         ],
         "xaxis": "x20",
         "y": [
          5,
          15,
          15,
          5,
          10,
          20,
          5
         ],
         "yaxis": "y20"
        },
        {
         "colorbar": {
          "title": {
           "text": "Objective Value"
          }
         },
         "colorscale": [
          [
           0,
           "rgb(247,251,255)"
          ],
          [
           0.125,
           "rgb(222,235,247)"
          ],
          [
           0.25,
           "rgb(198,219,239)"
          ],
          [
           0.375,
           "rgb(158,202,225)"
          ],
          [
           0.5,
           "rgb(107,174,214)"
          ],
          [
           0.625,
           "rgb(66,146,198)"
          ],
          [
           0.75,
           "rgb(33,113,181)"
          ],
          [
           0.875,
           "rgb(8,81,156)"
          ],
          [
           1,
           "rgb(8,48,107)"
          ]
         ],
         "connectgaps": true,
         "contours": {
          "coloring": "heatmap"
         },
         "hoverinfo": "none",
         "line": {
          "smoothing": 1.3
         },
         "reversescale": true,
         "showscale": false,
         "type": "contour",
         "x": [
          0.000055,
          0.0001,
          0.0002,
          0.001,
          0.001045
         ],
         "xaxis": "x26",
         "y": [
          4,
          5,
          10,
          15,
          20,
          25,
          26
         ],
         "yaxis": "y26",
         "z": {
          "bdata": "AAAAAAAA+H8AAAAAAAD4fwAAAAAAAPh/AAAAAAAA+H8AAAAAAAD4fwAAAAAAAPh/hsIBu2YSuz8AAAAAAAD4fx6cmPAJs7o/AAAAAAAA+H8AAAAAAAD4fwAAAAAAAPh/AAAAAAAA+H/SG/SCsmWgPwAAAAAAAPh/AAAAAAAA+H8AAAAAAAD4f/3wFaTlyJ0/AAAAAAAA+H8AAAAAAAD4fwAAAAAAAPh/7Zwe+s9Ewj+3+JLHwD6yPwAAAAAAAPh/AAAAAAAA+H8AAAAAAAD4fwXcFBmh+6I/AAAAAAAA+H8AAAAAAAD4fwAAAAAAAPh/AAAAAAAA+H8AAAAAAAD4fwAAAAAAAPh/AAAAAAAA+H8AAAAAAAD4fw==",
          "dtype": "f8",
          "shape": "7, 5"
         }
        },
        {
         "marker": {
          "color": "black",
          "line": {
           "color": "Gray",
           "width": 2
          }
         },
         "mode": "markers",
         "name": "Feasible Trial",
         "showlegend": false,
         "type": "scatter",
         "x": [
          0.001,
          0.0001,
          0.0001,
          0.0002,
          0.001,
          0.0001,
          0.0002
         ],
         "xaxis": "x26",
         "y": [
          10,
          20,
          25,
          20,
          5,
          5,
          15
         ],
         "yaxis": "y26"
        },
        {
         "colorbar": {
          "title": {
           "text": "Objective Value"
          }
         },
         "colorscale": [
          [
           0,
           "rgb(247,251,255)"
          ],
          [
           0.125,
           "rgb(222,235,247)"
          ],
          [
           0.25,
           "rgb(198,219,239)"
          ],
          [
           0.375,
           "rgb(158,202,225)"
          ],
          [
           0.5,
           "rgb(107,174,214)"
          ],
          [
           0.625,
           "rgb(66,146,198)"
          ],
          [
           0.75,
           "rgb(33,113,181)"
          ],
          [
           0.875,
           "rgb(8,81,156)"
          ],
          [
           1,
           "rgb(8,48,107)"
          ]
         ],
         "connectgaps": true,
         "contours": {
          "coloring": "heatmap"
         },
         "hoverinfo": "none",
         "line": {
          "smoothing": 1.3
         },
         "reversescale": true,
         "showscale": false,
         "type": "contour",
         "x": [
          0.000055,
          0.0001,
          0.0002,
          0.001,
          0.001045
         ],
         "xaxis": "x32",
         "y": [
          9,
          10,
          15,
          20,
          25,
          30,
          31
         ],
         "yaxis": "y32",
         "z": {
          "bdata": "AAAAAAAA+H8AAAAAAAD4fwAAAAAAAPh/AAAAAAAA+H8AAAAAAAD4fwAAAAAAAPh/AAAAAAAA+H/98BWk5cidPwAAAAAAAPh/AAAAAAAA+H8AAAAAAAD4fwAAAAAAAPh/AAAAAAAA+H/SG/SCsmWgPwAAAAAAAPh/AAAAAAAA+H+GwgG7ZhK7PwAAAAAAAPh/AAAAAAAA+H8AAAAAAAD4fwAAAAAAAPh/AAAAAAAA+H+3+JLHwD6yPwAAAAAAAPh/AAAAAAAA+H8AAAAAAAD4fwXcFBmh+6I/AAAAAAAA+H8enJjwCbO6PwAAAAAAAPh/AAAAAAAA+H8AAAAAAAD4fwAAAAAAAPh/AAAAAAAA+H8AAAAAAAD4fw==",
          "dtype": "f8",
          "shape": "7, 5"
         }
        },
        {
         "marker": {
          "color": "black",
          "line": {
           "color": "Gray",
           "width": 2
          }
         },
         "mode": "markers",
         "name": "Feasible Trial",
         "showlegend": false,
         "type": "scatter",
         "x": [
          0.001,
          0.0001,
          0.0001,
          0.0002,
          0.001,
          0.0001,
          0.0002
         ],
         "xaxis": "x32",
         "y": [
          15,
          20,
          30,
          25,
          30,
          20,
          10
         ],
         "yaxis": "y32"
        },
        {
         "colorbar": {
          "title": {
           "text": "Objective Value"
          }
         },
         "colorscale": [
          [
           0,
           "rgb(247,251,255)"
          ],
          [
           0.125,
           "rgb(222,235,247)"
          ],
          [
           0.25,
           "rgb(198,219,239)"
          ],
          [
           0.375,
           "rgb(158,202,225)"
          ],
          [
           0.5,
           "rgb(107,174,214)"
          ],
          [
           0.625,
           "rgb(66,146,198)"
          ],
          [
           0.75,
           "rgb(33,113,181)"
          ],
          [
           0.875,
           "rgb(8,81,156)"
          ],
          [
           1,
           "rgb(8,48,107)"
          ]
         ],
         "connectgaps": true,
         "contours": {
          "coloring": "heatmap"
         },
         "hoverinfo": "none",
         "line": {
          "smoothing": 1.3
         },
         "reversescale": true,
         "showscale": false,
         "type": "contour",
         "x": [
          0.95,
          1,
          2,
          2.05
         ],
         "xaxis": "x3",
         "y": [
          60.8,
          64,
          100,
          128,
          131.2
         ],
         "yaxis": "y3",
         "z": {
          "bdata": "AAAAAAAA+H8AAAAAAAD4fwAAAAAAAPh/AAAAAAAA+H8AAAAAAAD4f/3wFaTlyJ0/AAAAAAAA+H8AAAAAAAD4fwAAAAAAAPh/0hv0grJloD8enJjwCbO6PwAAAAAAAPh/AAAAAAAA+H8AAAAAAAD4f7f4ksfAPrI/AAAAAAAA+H8AAAAAAAD4fwAAAAAAAPh/AAAAAAAA+H8AAAAAAAD4fw==",
          "dtype": "f8",
          "shape": "5, 4"
         }
        },
        {
         "marker": {
          "color": "black",
          "line": {
           "color": "Gray",
           "width": 2
          }
         },
         "mode": "markers",
         "name": "Feasible Trial",
         "showlegend": false,
         "type": "scatter",
         "x": [
          1,
          2,
          1,
          2,
          2,
          1,
          1
         ],
         "xaxis": "x3",
         "y": [
          100,
          128,
          64,
          128,
          100,
          64,
          64
         ],
         "yaxis": "y3"
        },
        {
         "colorbar": {
          "title": {
           "text": "Objective Value"
          }
         },
         "colorscale": [
          [
           0,
           "rgb(247,251,255)"
          ],
          [
           0.125,
           "rgb(222,235,247)"
          ],
          [
           0.25,
           "rgb(198,219,239)"
          ],
          [
           0.375,
           "rgb(158,202,225)"
          ],
          [
           0.5,
           "rgb(107,174,214)"
          ],
          [
           0.625,
           "rgb(66,146,198)"
          ],
          [
           0.75,
           "rgb(33,113,181)"
          ],
          [
           0.875,
           "rgb(8,81,156)"
          ],
          [
           1,
           "rgb(8,48,107)"
          ]
         ],
         "connectgaps": true,
         "contours": {
          "coloring": "heatmap"
         },
         "hoverinfo": "none",
         "line": {
          "smoothing": 1.3
         },
         "reversescale": true,
         "showscale": false,
         "type": "contour",
         "x": [
          0.95,
          1,
          2,
          2.05
         ],
         "xaxis": "x9",
         "y": [
          0.000055,
          0.0001,
          0.0002,
          0.001,
          0.001045
         ],
         "yaxis": "y9",
         "z": {
          "bdata": "AAAAAAAA+H8AAAAAAAD4fwAAAAAAAPh/AAAAAAAA+H8AAAAAAAD4fwXcFBmh+6I/7Zwe+s9Ewj8AAAAAAAD4fwAAAAAAAPh//fAVpOXInT+3+JLHwD6yPwAAAAAAAPh/AAAAAAAA+H/SG/SCsmWgPx6cmPAJs7o/AAAAAAAA+H8AAAAAAAD4fwAAAAAAAPh/AAAAAAAA+H8AAAAAAAD4fw==",
          "dtype": "f8",
          "shape": "5, 4"
         }
        },
        {
         "marker": {
          "color": "black",
          "line": {
           "color": "Gray",
           "width": 2
          }
         },
         "mode": "markers",
         "name": "Feasible Trial",
         "showlegend": false,
         "type": "scatter",
         "x": [
          1,
          2,
          1,
          2,
          2,
          1,
          1
         ],
         "xaxis": "x9",
         "y": [
          0.001,
          0.0001,
          0.0001,
          0.0002,
          0.001,
          0.0001,
          0.0002
         ],
         "yaxis": "y9"
        },
        {
         "type": "scatter",
         "xaxis": "x15",
         "yaxis": "y15"
        },
        {
         "colorbar": {
          "title": {
           "text": "Objective Value"
          }
         },
         "colorscale": [
          [
           0,
           "rgb(247,251,255)"
          ],
          [
           0.125,
           "rgb(222,235,247)"
          ],
          [
           0.25,
           "rgb(198,219,239)"
          ],
          [
           0.375,
           "rgb(158,202,225)"
          ],
          [
           0.5,
           "rgb(107,174,214)"
          ],
          [
           0.625,
           "rgb(66,146,198)"
          ],
          [
           0.75,
           "rgb(33,113,181)"
          ],
          [
           0.875,
           "rgb(8,81,156)"
          ],
          [
           1,
           "rgb(8,48,107)"
          ]
         ],
         "connectgaps": true,
         "contours": {
          "coloring": "heatmap"
         },
         "hoverinfo": "none",
         "line": {
          "smoothing": 1.3
         },
         "reversescale": true,
         "showscale": false,
         "type": "contour",
         "x": [
          0.95,
          1,
          2,
          2.05
         ],
         "xaxis": "x21",
         "y": [
          4.25,
          5,
          10,
          15,
          20,
          20.75
         ],
         "yaxis": "y21",
         "z": {
          "bdata": "AAAAAAAA+H8AAAAAAAD4fwAAAAAAAPh/AAAAAAAA+H8AAAAAAAD4f/3wFaTlyJ0/t/iSx8A+sj8AAAAAAAD4fwAAAAAAAPh/AAAAAAAA+H8enJjwCbO6PwAAAAAAAPh/AAAAAAAA+H8F3BQZofuiP+2cHvrPRMI/AAAAAAAA+H8AAAAAAAD4f4bCAbtmErs/AAAAAAAA+H8AAAAAAAD4fwAAAAAAAPh/AAAAAAAA+H8AAAAAAAD4fwAAAAAAAPh/",
          "dtype": "f8",
          "shape": "6, 4"
         }
        },
        {
         "marker": {
          "color": "black",
          "line": {
           "color": "Gray",
           "width": 2
          }
         },
         "mode": "markers",
         "name": "Feasible Trial",
         "showlegend": false,
         "type": "scatter",
         "x": [
          1,
          2,
          1,
          2,
          2,
          1,
          1
         ],
         "xaxis": "x21",
         "y": [
          5,
          15,
          15,
          5,
          10,
          20,
          5
         ],
         "yaxis": "y21"
        },
        {
         "colorbar": {
          "title": {
           "text": "Objective Value"
          }
         },
         "colorscale": [
          [
           0,
           "rgb(247,251,255)"
          ],
          [
           0.125,
           "rgb(222,235,247)"
          ],
          [
           0.25,
           "rgb(198,219,239)"
          ],
          [
           0.375,
           "rgb(158,202,225)"
          ],
          [
           0.5,
           "rgb(107,174,214)"
          ],
          [
           0.625,
           "rgb(66,146,198)"
          ],
          [
           0.75,
           "rgb(33,113,181)"
          ],
          [
           0.875,
           "rgb(8,81,156)"
          ],
          [
           1,
           "rgb(8,48,107)"
          ]
         ],
         "connectgaps": true,
         "contours": {
          "coloring": "heatmap"
         },
         "hoverinfo": "none",
         "line": {
          "smoothing": 1.3
         },
         "reversescale": true,
         "showscale": false,
         "type": "contour",
         "x": [
          0.95,
          1,
          2,
          2.05
         ],
         "xaxis": "x27",
         "y": [
          4,
          5,
          10,
          15,
          20,
          25,
          26
         ],
         "yaxis": "y27",
         "z": {
          "bdata": "AAAAAAAA+H8AAAAAAAD4fwAAAAAAAPh/AAAAAAAA+H8AAAAAAAD4f4bCAbtmErs/HpyY8Amzuj8AAAAAAAD4fwAAAAAAAPh/0hv0grJloD8AAAAAAAD4fwAAAAAAAPh/AAAAAAAA+H/98BWk5cidPwAAAAAAAPh/AAAAAAAA+H8AAAAAAAD4fwAAAAAAAPh/t/iSx8A+sj8AAAAAAAD4fwAAAAAAAPh/BdwUGaH7oj8AAAAAAAD4fwAAAAAAAPh/AAAAAAAA+H8AAAAAAAD4fwAAAAAAAPh/AAAAAAAA+H8=",
          "dtype": "f8",
          "shape": "7, 4"
         }
        },
        {
         "marker": {
          "color": "black",
          "line": {
           "color": "Gray",
           "width": 2
          }
         },
         "mode": "markers",
         "name": "Feasible Trial",
         "showlegend": false,
         "type": "scatter",
         "x": [
          1,
          2,
          1,
          2,
          2,
          1,
          1
         ],
         "xaxis": "x27",
         "y": [
          10,
          20,
          25,
          20,
          5,
          5,
          15
         ],
         "yaxis": "y27"
        },
        {
         "colorbar": {
          "title": {
           "text": "Objective Value"
          }
         },
         "colorscale": [
          [
           0,
           "rgb(247,251,255)"
          ],
          [
           0.125,
           "rgb(222,235,247)"
          ],
          [
           0.25,
           "rgb(198,219,239)"
          ],
          [
           0.375,
           "rgb(158,202,225)"
          ],
          [
           0.5,
           "rgb(107,174,214)"
          ],
          [
           0.625,
           "rgb(66,146,198)"
          ],
          [
           0.75,
           "rgb(33,113,181)"
          ],
          [
           0.875,
           "rgb(8,81,156)"
          ],
          [
           1,
           "rgb(8,48,107)"
          ]
         ],
         "connectgaps": true,
         "contours": {
          "coloring": "heatmap"
         },
         "hoverinfo": "none",
         "line": {
          "smoothing": 1.3
         },
         "reversescale": true,
         "showscale": false,
         "type": "contour",
         "x": [
          0.95,
          1,
          2,
          2.05
         ],
         "xaxis": "x33",
         "y": [
          9,
          10,
          15,
          20,
          25,
          30,
          31
         ],
         "yaxis": "y33",
         "z": {
          "bdata": "AAAAAAAA+H8AAAAAAAD4fwAAAAAAAPh/AAAAAAAA+H8AAAAAAAD4f/3wFaTlyJ0/AAAAAAAA+H8AAAAAAAD4fwAAAAAAAPh/0hv0grJloD8AAAAAAAD4fwAAAAAAAPh/AAAAAAAA+H+GwgG7ZhK7P+2cHvrPRMI/AAAAAAAA+H8AAAAAAAD4fwAAAAAAAPh/t/iSx8A+sj8AAAAAAAD4fwAAAAAAAPh/BdwUGaH7oj8enJjwCbO6PwAAAAAAAPh/AAAAAAAA+H8AAAAAAAD4fwAAAAAAAPh/AAAAAAAA+H8=",
          "dtype": "f8",
          "shape": "7, 4"
         }
        },
        {
         "marker": {
          "color": "black",
          "line": {
           "color": "Gray",
           "width": 2
          }
         },
         "mode": "markers",
         "name": "Feasible Trial",
         "showlegend": false,
         "type": "scatter",
         "x": [
          1,
          2,
          1,
          2,
          2,
          1,
          1
         ],
         "xaxis": "x33",
         "y": [
          15,
          20,
          30,
          25,
          30,
          20,
          10
         ],
         "yaxis": "y33"
        },
        {
         "colorbar": {
          "title": {
           "text": "Objective Value"
          }
         },
         "colorscale": [
          [
           0,
           "rgb(247,251,255)"
          ],
          [
           0.125,
           "rgb(222,235,247)"
          ],
          [
           0.25,
           "rgb(198,219,239)"
          ],
          [
           0.375,
           "rgb(158,202,225)"
          ],
          [
           0.5,
           "rgb(107,174,214)"
          ],
          [
           0.625,
           "rgb(66,146,198)"
          ],
          [
           0.75,
           "rgb(33,113,181)"
          ],
          [
           0.875,
           "rgb(8,81,156)"
          ],
          [
           1,
           "rgb(8,48,107)"
          ]
         ],
         "connectgaps": true,
         "contours": {
          "coloring": "heatmap"
         },
         "hoverinfo": "none",
         "line": {
          "smoothing": 1.3
         },
         "reversescale": true,
         "showscale": false,
         "type": "contour",
         "x": [
          4.25,
          5,
          10,
          15,
          20,
          20.75
         ],
         "xaxis": "x4",
         "y": [
          60.8,
          64,
          100,
          128,
          131.2
         ],
         "yaxis": "y4",
         "z": {
          "bdata": "AAAAAAAA+H8AAAAAAAD4fwAAAAAAAPh/AAAAAAAA+H8AAAAAAAD4fwAAAAAAAPh/AAAAAAAA+H/98BWk5cidPwAAAAAAAPh/BdwUGaH7oj+GwgG7ZhK7PwAAAAAAAPh/AAAAAAAA+H/SG/SCsmWgPx6cmPAJs7o/AAAAAAAA+H8AAAAAAAD4fwAAAAAAAPh/AAAAAAAA+H+3+JLHwD6yPwAAAAAAAPh/7Zwe+s9Ewj8AAAAAAAD4fwAAAAAAAPh/AAAAAAAA+H8AAAAAAAD4fwAAAAAAAPh/AAAAAAAA+H8AAAAAAAD4fwAAAAAAAPh/",
          "dtype": "f8",
          "shape": "5, 6"
         }
        },
        {
         "marker": {
          "color": "black",
          "line": {
           "color": "Gray",
           "width": 2
          }
         },
         "mode": "markers",
         "name": "Feasible Trial",
         "showlegend": false,
         "type": "scatter",
         "x": [
          5,
          15,
          15,
          5,
          10,
          20,
          5
         ],
         "xaxis": "x4",
         "y": [
          100,
          128,
          64,
          128,
          100,
          64,
          64
         ],
         "yaxis": "y4"
        },
        {
         "colorbar": {
          "title": {
           "text": "Objective Value"
          }
         },
         "colorscale": [
          [
           0,
           "rgb(247,251,255)"
          ],
          [
           0.125,
           "rgb(222,235,247)"
          ],
          [
           0.25,
           "rgb(198,219,239)"
          ],
          [
           0.375,
           "rgb(158,202,225)"
          ],
          [
           0.5,
           "rgb(107,174,214)"
          ],
          [
           0.625,
           "rgb(66,146,198)"
          ],
          [
           0.75,
           "rgb(33,113,181)"
          ],
          [
           0.875,
           "rgb(8,81,156)"
          ],
          [
           1,
           "rgb(8,48,107)"
          ]
         ],
         "connectgaps": true,
         "contours": {
          "coloring": "heatmap"
         },
         "hoverinfo": "none",
         "line": {
          "smoothing": 1.3
         },
         "reversescale": true,
         "showscale": false,
         "type": "contour",
         "x": [
          4.25,
          5,
          10,
          15,
          20,
          20.75
         ],
         "xaxis": "x10",
         "y": [
          0.000055,
          0.0001,
          0.0002,
          0.001,
          0.001045
         ],
         "yaxis": "y10",
         "z": {
          "bdata": "AAAAAAAA+H8AAAAAAAD4fwAAAAAAAPh/AAAAAAAA+H8AAAAAAAD4fwAAAAAAAPh/AAAAAAAA+H8AAAAAAAD4fwAAAAAAAPh/BdwUGaH7oj+GwgG7ZhK7PwAAAAAAAPh/AAAAAAAA+H/98BWk5cidPwAAAAAAAPh/AAAAAAAA+H8AAAAAAAD4fwAAAAAAAPh/AAAAAAAA+H/SG/SCsmWgPx6cmPAJs7o/AAAAAAAA+H8AAAAAAAD4fwAAAAAAAPh/AAAAAAAA+H8AAAAAAAD4fwAAAAAAAPh/AAAAAAAA+H8AAAAAAAD4fwAAAAAAAPh/",
          "dtype": "f8",
          "shape": "5, 6"
         }
        },
        {
         "marker": {
          "color": "black",
          "line": {
           "color": "Gray",
           "width": 2
          }
         },
         "mode": "markers",
         "name": "Feasible Trial",
         "showlegend": false,
         "type": "scatter",
         "x": [
          5,
          15,
          15,
          5,
          10,
          20,
          5
         ],
         "xaxis": "x10",
         "y": [
          0.001,
          0.0001,
          0.0001,
          0.0002,
          0.001,
          0.0001,
          0.0002
         ],
         "yaxis": "y10"
        },
        {
         "colorbar": {
          "title": {
           "text": "Objective Value"
          }
         },
         "colorscale": [
          [
           0,
           "rgb(247,251,255)"
          ],
          [
           0.125,
           "rgb(222,235,247)"
          ],
          [
           0.25,
           "rgb(198,219,239)"
          ],
          [
           0.375,
           "rgb(158,202,225)"
          ],
          [
           0.5,
           "rgb(107,174,214)"
          ],
          [
           0.625,
           "rgb(66,146,198)"
          ],
          [
           0.75,
           "rgb(33,113,181)"
          ],
          [
           0.875,
           "rgb(8,81,156)"
          ],
          [
           1,
           "rgb(8,48,107)"
          ]
         ],
         "connectgaps": true,
         "contours": {
          "coloring": "heatmap"
         },
         "hoverinfo": "none",
         "line": {
          "smoothing": 1.3
         },
         "reversescale": true,
         "showscale": false,
         "type": "contour",
         "x": [
          4.25,
          5,
          10,
          15,
          20,
          20.75
         ],
         "xaxis": "x16",
         "y": [
          0.95,
          1,
          2,
          2.05
         ],
         "yaxis": "y16",
         "z": {
          "bdata": "AAAAAAAA+H8AAAAAAAD4fwAAAAAAAPh/AAAAAAAA+H8AAAAAAAD4fwAAAAAAAPh/AAAAAAAA+H/98BWk5cidPwAAAAAAAPh/BdwUGaH7oj+GwgG7ZhK7PwAAAAAAAPh/AAAAAAAA+H+3+JLHwD6yPx6cmPAJs7o/7Zwe+s9Ewj8AAAAAAAD4fwAAAAAAAPh/AAAAAAAA+H8AAAAAAAD4fwAAAAAAAPh/AAAAAAAA+H8AAAAAAAD4fwAAAAAAAPh/",
          "dtype": "f8",
          "shape": "4, 6"
         }
        },
        {
         "marker": {
          "color": "black",
          "line": {
           "color": "Gray",
           "width": 2
          }
         },
         "mode": "markers",
         "name": "Feasible Trial",
         "showlegend": false,
         "type": "scatter",
         "x": [
          5,
          15,
          15,
          5,
          10,
          20,
          5
         ],
         "xaxis": "x16",
         "y": [
          1,
          2,
          1,
          2,
          2,
          1,
          1
         ],
         "yaxis": "y16"
        },
        {
         "type": "scatter",
         "xaxis": "x22",
         "yaxis": "y22"
        },
        {
         "colorbar": {
          "title": {
           "text": "Objective Value"
          }
         },
         "colorscale": [
          [
           0,
           "rgb(247,251,255)"
          ],
          [
           0.125,
           "rgb(222,235,247)"
          ],
          [
           0.25,
           "rgb(198,219,239)"
          ],
          [
           0.375,
           "rgb(158,202,225)"
          ],
          [
           0.5,
           "rgb(107,174,214)"
          ],
          [
           0.625,
           "rgb(66,146,198)"
          ],
          [
           0.75,
           "rgb(33,113,181)"
          ],
          [
           0.875,
           "rgb(8,81,156)"
          ],
          [
           1,
           "rgb(8,48,107)"
          ]
         ],
         "connectgaps": true,
         "contours": {
          "coloring": "heatmap"
         },
         "hoverinfo": "none",
         "line": {
          "smoothing": 1.3
         },
         "reversescale": true,
         "showscale": false,
         "type": "contour",
         "x": [
          4.25,
          5,
          10,
          15,
          20,
          20.75
         ],
         "xaxis": "x28",
         "y": [
          4,
          5,
          10,
          15,
          20,
          25,
          26
         ],
         "yaxis": "y28",
         "z": {
          "bdata": "AAAAAAAA+H8AAAAAAAD4fwAAAAAAAPh/AAAAAAAA+H8AAAAAAAD4fwAAAAAAAPh/AAAAAAAA+H8AAAAAAAD4fx6cmPAJs7o/AAAAAAAA+H+GwgG7ZhK7PwAAAAAAAPh/AAAAAAAA+H/SG/SCsmWgPwAAAAAAAPh/AAAAAAAA+H8AAAAAAAD4fwAAAAAAAPh/AAAAAAAA+H/98BWk5cidPwAAAAAAAPh/AAAAAAAA+H8AAAAAAAD4fwAAAAAAAPh/AAAAAAAA+H+3+JLHwD6yPwAAAAAAAPh/7Zwe+s9Ewj8AAAAAAAD4fwAAAAAAAPh/AAAAAAAA+H8AAAAAAAD4fwAAAAAAAPh/BdwUGaH7oj8AAAAAAAD4fwAAAAAAAPh/AAAAAAAA+H8AAAAAAAD4fwAAAAAAAPh/AAAAAAAA+H8AAAAAAAD4fwAAAAAAAPh/",
          "dtype": "f8",
          "shape": "7, 6"
         }
        },
        {
         "marker": {
          "color": "black",
          "line": {
           "color": "Gray",
           "width": 2
          }
         },
         "mode": "markers",
         "name": "Feasible Trial",
         "showlegend": false,
         "type": "scatter",
         "x": [
          5,
          15,
          15,
          5,
          10,
          20,
          5
         ],
         "xaxis": "x28",
         "y": [
          10,
          20,
          25,
          20,
          5,
          5,
          15
         ],
         "yaxis": "y28"
        },
        {
         "colorbar": {
          "title": {
           "text": "Objective Value"
          }
         },
         "colorscale": [
          [
           0,
           "rgb(247,251,255)"
          ],
          [
           0.125,
           "rgb(222,235,247)"
          ],
          [
           0.25,
           "rgb(198,219,239)"
          ],
          [
           0.375,
           "rgb(158,202,225)"
          ],
          [
           0.5,
           "rgb(107,174,214)"
          ],
          [
           0.625,
           "rgb(66,146,198)"
          ],
          [
           0.75,
           "rgb(33,113,181)"
          ],
          [
           0.875,
           "rgb(8,81,156)"
          ],
          [
           1,
           "rgb(8,48,107)"
          ]
         ],
         "connectgaps": true,
         "contours": {
          "coloring": "heatmap"
         },
         "hoverinfo": "none",
         "line": {
          "smoothing": 1.3
         },
         "reversescale": true,
         "showscale": false,
         "type": "contour",
         "x": [
          4.25,
          5,
          10,
          15,
          20,
          20.75
         ],
         "xaxis": "x34",
         "y": [
          9,
          10,
          15,
          20,
          25,
          30,
          31
         ],
         "yaxis": "y34",
         "z": {
          "bdata": "AAAAAAAA+H8AAAAAAAD4fwAAAAAAAPh/AAAAAAAA+H8AAAAAAAD4fwAAAAAAAPh/AAAAAAAA+H/98BWk5cidPwAAAAAAAPh/AAAAAAAA+H8AAAAAAAD4fwAAAAAAAPh/AAAAAAAA+H/SG/SCsmWgPwAAAAAAAPh/AAAAAAAA+H8AAAAAAAD4fwAAAAAAAPh/AAAAAAAA+H8AAAAAAAD4fwAAAAAAAPh/7Zwe+s9Ewj+GwgG7ZhK7PwAAAAAAAPh/AAAAAAAA+H+3+JLHwD6yPwAAAAAAAPh/AAAAAAAA+H8AAAAAAAD4fwAAAAAAAPh/AAAAAAAA+H8AAAAAAAD4fx6cmPAJs7o/BdwUGaH7oj8AAAAAAAD4fwAAAAAAAPh/AAAAAAAA+H8AAAAAAAD4fwAAAAAAAPh/AAAAAAAA+H8AAAAAAAD4fwAAAAAAAPh/",
          "dtype": "f8",
          "shape": "7, 6"
         }
        },
        {
         "marker": {
          "color": "black",
          "line": {
           "color": "Gray",
           "width": 2
          }
         },
         "mode": "markers",
         "name": "Feasible Trial",
         "showlegend": false,
         "type": "scatter",
         "x": [
          5,
          15,
          15,
          5,
          10,
          20,
          5
         ],
         "xaxis": "x34",
         "y": [
          15,
          20,
          30,
          25,
          30,
          20,
          10
         ],
         "yaxis": "y34"
        },
        {
         "colorbar": {
          "title": {
           "text": "Objective Value"
          }
         },
         "colorscale": [
          [
           0,
           "rgb(247,251,255)"
          ],
          [
           0.125,
           "rgb(222,235,247)"
          ],
          [
           0.25,
           "rgb(198,219,239)"
          ],
          [
           0.375,
           "rgb(158,202,225)"
          ],
          [
           0.5,
           "rgb(107,174,214)"
          ],
          [
           0.625,
           "rgb(66,146,198)"
          ],
          [
           0.75,
           "rgb(33,113,181)"
          ],
          [
           0.875,
           "rgb(8,81,156)"
          ],
          [
           1,
           "rgb(8,48,107)"
          ]
         ],
         "connectgaps": true,
         "contours": {
          "coloring": "heatmap"
         },
         "hoverinfo": "none",
         "line": {
          "smoothing": 1.3
         },
         "reversescale": true,
         "showscale": false,
         "type": "contour",
         "x": [
          4,
          5,
          10,
          15,
          20,
          25,
          26
         ],
         "xaxis": "x5",
         "y": [
          60.8,
          64,
          100,
          128,
          131.2
         ],
         "yaxis": "y5",
         "z": {
          "bdata": "AAAAAAAA+H8AAAAAAAD4fwAAAAAAAPh/AAAAAAAA+H8AAAAAAAD4fwAAAAAAAPh/AAAAAAAA+H8AAAAAAAD4f4bCAbtmErs/AAAAAAAA+H/98BWk5cidPwAAAAAAAPh/BdwUGaH7oj8AAAAAAAD4fwAAAAAAAPh/HpyY8Amzuj/SG/SCsmWgPwAAAAAAAPh/AAAAAAAA+H8AAAAAAAD4fwAAAAAAAPh/AAAAAAAA+H8AAAAAAAD4fwAAAAAAAPh/AAAAAAAA+H+3+JLHwD6yPwAAAAAAAPh/AAAAAAAA+H8AAAAAAAD4fwAAAAAAAPh/AAAAAAAA+H8AAAAAAAD4fwAAAAAAAPh/AAAAAAAA+H8AAAAAAAD4fw==",
          "dtype": "f8",
          "shape": "5, 7"
         }
        },
        {
         "marker": {
          "color": "black",
          "line": {
           "color": "Gray",
           "width": 2
          }
         },
         "mode": "markers",
         "name": "Feasible Trial",
         "showlegend": false,
         "type": "scatter",
         "x": [
          10,
          20,
          25,
          20,
          5,
          5,
          15
         ],
         "xaxis": "x5",
         "y": [
          100,
          128,
          64,
          128,
          100,
          64,
          64
         ],
         "yaxis": "y5"
        },
        {
         "colorbar": {
          "title": {
           "text": "Objective Value"
          }
         },
         "colorscale": [
          [
           0,
           "rgb(247,251,255)"
          ],
          [
           0.125,
           "rgb(222,235,247)"
          ],
          [
           0.25,
           "rgb(198,219,239)"
          ],
          [
           0.375,
           "rgb(158,202,225)"
          ],
          [
           0.5,
           "rgb(107,174,214)"
          ],
          [
           0.625,
           "rgb(66,146,198)"
          ],
          [
           0.75,
           "rgb(33,113,181)"
          ],
          [
           0.875,
           "rgb(8,81,156)"
          ],
          [
           1,
           "rgb(8,48,107)"
          ]
         ],
         "connectgaps": true,
         "contours": {
          "coloring": "heatmap"
         },
         "hoverinfo": "none",
         "line": {
          "smoothing": 1.3
         },
         "reversescale": true,
         "showscale": false,
         "type": "contour",
         "x": [
          4,
          5,
          10,
          15,
          20,
          25,
          26
         ],
         "xaxis": "x11",
         "y": [
          0.000055,
          0.0001,
          0.0002,
          0.001,
          0.001045
         ],
         "yaxis": "y11",
         "z": {
          "bdata": "AAAAAAAA+H8AAAAAAAD4fwAAAAAAAPh/AAAAAAAA+H8AAAAAAAD4fwAAAAAAAPh/AAAAAAAA+H8AAAAAAAD4f4bCAbtmErs/AAAAAAAA+H8AAAAAAAD4f+2cHvrPRMI/BdwUGaH7oj8AAAAAAAD4fwAAAAAAAPh/AAAAAAAA+H8AAAAAAAD4f/3wFaTlyJ0/t/iSx8A+sj8AAAAAAAD4fwAAAAAAAPh/AAAAAAAA+H8enJjwCbO6P9Ib9IKyZaA/AAAAAAAA+H8AAAAAAAD4fwAAAAAAAPh/AAAAAAAA+H8AAAAAAAD4fwAAAAAAAPh/AAAAAAAA+H8AAAAAAAD4fwAAAAAAAPh/AAAAAAAA+H8AAAAAAAD4fw==",
          "dtype": "f8",
          "shape": "5, 7"
         }
        },
        {
         "marker": {
          "color": "black",
          "line": {
           "color": "Gray",
           "width": 2
          }
         },
         "mode": "markers",
         "name": "Feasible Trial",
         "showlegend": false,
         "type": "scatter",
         "x": [
          10,
          20,
          25,
          20,
          5,
          5,
          15
         ],
         "xaxis": "x11",
         "y": [
          0.001,
          0.0001,
          0.0001,
          0.0002,
          0.001,
          0.0001,
          0.0002
         ],
         "yaxis": "y11"
        },
        {
         "colorbar": {
          "title": {
           "text": "Objective Value"
          }
         },
         "colorscale": [
          [
           0,
           "rgb(247,251,255)"
          ],
          [
           0.125,
           "rgb(222,235,247)"
          ],
          [
           0.25,
           "rgb(198,219,239)"
          ],
          [
           0.375,
           "rgb(158,202,225)"
          ],
          [
           0.5,
           "rgb(107,174,214)"
          ],
          [
           0.625,
           "rgb(66,146,198)"
          ],
          [
           0.75,
           "rgb(33,113,181)"
          ],
          [
           0.875,
           "rgb(8,81,156)"
          ],
          [
           1,
           "rgb(8,48,107)"
          ]
         ],
         "connectgaps": true,
         "contours": {
          "coloring": "heatmap"
         },
         "hoverinfo": "none",
         "line": {
          "smoothing": 1.3
         },
         "reversescale": true,
         "showscale": false,
         "type": "contour",
         "x": [
          4,
          5,
          10,
          15,
          20,
          25,
          26
         ],
         "xaxis": "x17",
         "y": [
          0.95,
          1,
          2,
          2.05
         ],
         "yaxis": "y17",
         "z": {
          "bdata": "AAAAAAAA+H8AAAAAAAD4fwAAAAAAAPh/AAAAAAAA+H8AAAAAAAD4fwAAAAAAAPh/AAAAAAAA+H8AAAAAAAD4f4bCAbtmErs/0hv0grJloD/98BWk5cidPwAAAAAAAPh/BdwUGaH7oj8AAAAAAAD4fwAAAAAAAPh/HpyY8Amzuj8AAAAAAAD4fwAAAAAAAPh/t/iSx8A+sj8AAAAAAAD4fwAAAAAAAPh/AAAAAAAA+H8AAAAAAAD4fwAAAAAAAPh/AAAAAAAA+H8AAAAAAAD4fwAAAAAAAPh/AAAAAAAA+H8=",
          "dtype": "f8",
          "shape": "4, 7"
         }
        },
        {
         "marker": {
          "color": "black",
          "line": {
           "color": "Gray",
           "width": 2
          }
         },
         "mode": "markers",
         "name": "Feasible Trial",
         "showlegend": false,
         "type": "scatter",
         "x": [
          10,
          20,
          25,
          20,
          5,
          5,
          15
         ],
         "xaxis": "x17",
         "y": [
          1,
          2,
          1,
          2,
          2,
          1,
          1
         ],
         "yaxis": "y17"
        },
        {
         "colorbar": {
          "title": {
           "text": "Objective Value"
          }
         },
         "colorscale": [
          [
           0,
           "rgb(247,251,255)"
          ],
          [
           0.125,
           "rgb(222,235,247)"
          ],
          [
           0.25,
           "rgb(198,219,239)"
          ],
          [
           0.375,
           "rgb(158,202,225)"
          ],
          [
           0.5,
           "rgb(107,174,214)"
          ],
          [
           0.625,
           "rgb(66,146,198)"
          ],
          [
           0.75,
           "rgb(33,113,181)"
          ],
          [
           0.875,
           "rgb(8,81,156)"
          ],
          [
           1,
           "rgb(8,48,107)"
          ]
         ],
         "connectgaps": true,
         "contours": {
          "coloring": "heatmap"
         },
         "hoverinfo": "none",
         "line": {
          "smoothing": 1.3
         },
         "reversescale": true,
         "showscale": false,
         "type": "contour",
         "x": [
          4,
          5,
          10,
          15,
          20,
          25,
          26
         ],
         "xaxis": "x23",
         "y": [
          4.25,
          5,
          10,
          15,
          20,
          20.75
         ],
         "yaxis": "y23",
         "z": {
          "bdata": "AAAAAAAA+H8AAAAAAAD4fwAAAAAAAPh/AAAAAAAA+H8AAAAAAAD4fwAAAAAAAPh/AAAAAAAA+H8AAAAAAAD4fwAAAAAAAPh/0hv0grJloD/98BWk5cidP7f4ksfAPrI/AAAAAAAA+H8AAAAAAAD4fwAAAAAAAPh/HpyY8Amzuj8AAAAAAAD4fwAAAAAAAPh/AAAAAAAA+H8AAAAAAAD4fwAAAAAAAPh/AAAAAAAA+H8AAAAAAAD4fwAAAAAAAPh/AAAAAAAA+H/tnB76z0TCPwXcFBmh+6I/AAAAAAAA+H8AAAAAAAD4f4bCAbtmErs/AAAAAAAA+H8AAAAAAAD4fwAAAAAAAPh/AAAAAAAA+H8AAAAAAAD4fwAAAAAAAPh/AAAAAAAA+H8AAAAAAAD4fwAAAAAAAPh/AAAAAAAA+H8AAAAAAAD4fwAAAAAAAPh/",
          "dtype": "f8",
          "shape": "6, 7"
         }
        },
        {
         "marker": {
          "color": "black",
          "line": {
           "color": "Gray",
           "width": 2
          }
         },
         "mode": "markers",
         "name": "Feasible Trial",
         "showlegend": false,
         "type": "scatter",
         "x": [
          10,
          20,
          25,
          20,
          5,
          5,
          15
         ],
         "xaxis": "x23",
         "y": [
          5,
          15,
          15,
          5,
          10,
          20,
          5
         ],
         "yaxis": "y23"
        },
        {
         "type": "scatter",
         "xaxis": "x29",
         "yaxis": "y29"
        },
        {
         "colorbar": {
          "title": {
           "text": "Objective Value"
          }
         },
         "colorscale": [
          [
           0,
           "rgb(247,251,255)"
          ],
          [
           0.125,
           "rgb(222,235,247)"
          ],
          [
           0.25,
           "rgb(198,219,239)"
          ],
          [
           0.375,
           "rgb(158,202,225)"
          ],
          [
           0.5,
           "rgb(107,174,214)"
          ],
          [
           0.625,
           "rgb(66,146,198)"
          ],
          [
           0.75,
           "rgb(33,113,181)"
          ],
          [
           0.875,
           "rgb(8,81,156)"
          ],
          [
           1,
           "rgb(8,48,107)"
          ]
         ],
         "connectgaps": true,
         "contours": {
          "coloring": "heatmap"
         },
         "hoverinfo": "none",
         "line": {
          "smoothing": 1.3
         },
         "reversescale": true,
         "showscale": false,
         "type": "contour",
         "x": [
          4,
          5,
          10,
          15,
          20,
          25,
          26
         ],
         "xaxis": "x35",
         "y": [
          9,
          10,
          15,
          20,
          25,
          30,
          31
         ],
         "yaxis": "y35",
         "z": {
          "bdata": "AAAAAAAA+H8AAAAAAAD4fwAAAAAAAPh/AAAAAAAA+H8AAAAAAAD4fwAAAAAAAPh/AAAAAAAA+H8AAAAAAAD4fwAAAAAAAPh/AAAAAAAA+H/98BWk5cidPwAAAAAAAPh/AAAAAAAA+H8AAAAAAAD4fwAAAAAAAPh/AAAAAAAA+H/SG/SCsmWgPwAAAAAAAPh/AAAAAAAA+H8AAAAAAAD4fwAAAAAAAPh/AAAAAAAA+H+GwgG7ZhK7PwAAAAAAAPh/AAAAAAAA+H/tnB76z0TCPwAAAAAAAPh/AAAAAAAA+H8AAAAAAAD4fwAAAAAAAPh/AAAAAAAA+H8AAAAAAAD4f7f4ksfAPrI/AAAAAAAA+H8AAAAAAAD4fwAAAAAAAPh/HpyY8Amzuj8AAAAAAAD4fwAAAAAAAPh/AAAAAAAA+H8F3BQZofuiPwAAAAAAAPh/AAAAAAAA+H8AAAAAAAD4fwAAAAAAAPh/AAAAAAAA+H8AAAAAAAD4fwAAAAAAAPh/AAAAAAAA+H8=",
          "dtype": "f8",
          "shape": "7, 7"
         }
        },
        {
         "marker": {
          "color": "black",
          "line": {
           "color": "Gray",
           "width": 2
          }
         },
         "mode": "markers",
         "name": "Feasible Trial",
         "showlegend": false,
         "type": "scatter",
         "x": [
          10,
          20,
          25,
          20,
          5,
          5,
          15
         ],
         "xaxis": "x35",
         "y": [
          15,
          20,
          30,
          25,
          30,
          20,
          10
         ],
         "yaxis": "y35"
        },
        {
         "colorbar": {
          "title": {
           "text": "Objective Value"
          }
         },
         "colorscale": [
          [
           0,
           "rgb(247,251,255)"
          ],
          [
           0.125,
           "rgb(222,235,247)"
          ],
          [
           0.25,
           "rgb(198,219,239)"
          ],
          [
           0.375,
           "rgb(158,202,225)"
          ],
          [
           0.5,
           "rgb(107,174,214)"
          ],
          [
           0.625,
           "rgb(66,146,198)"
          ],
          [
           0.75,
           "rgb(33,113,181)"
          ],
          [
           0.875,
           "rgb(8,81,156)"
          ],
          [
           1,
           "rgb(8,48,107)"
          ]
         ],
         "connectgaps": true,
         "contours": {
          "coloring": "heatmap"
         },
         "hoverinfo": "none",
         "line": {
          "smoothing": 1.3
         },
         "reversescale": true,
         "showscale": false,
         "type": "contour",
         "x": [
          9,
          10,
          15,
          20,
          25,
          30,
          31
         ],
         "xaxis": "x6",
         "y": [
          60.8,
          64,
          100,
          128,
          131.2
         ],
         "yaxis": "y6",
         "z": {
          "bdata": "AAAAAAAA+H8AAAAAAAD4fwAAAAAAAPh/AAAAAAAA+H8AAAAAAAD4fwAAAAAAAPh/AAAAAAAA+H8AAAAAAAD4f/3wFaTlyJ0/AAAAAAAA+H+GwgG7ZhK7PwAAAAAAAPh/BdwUGaH7oj8AAAAAAAD4fwAAAAAAAPh/AAAAAAAA+H/SG/SCsmWgPwAAAAAAAPh/AAAAAAAA+H8enJjwCbO6PwAAAAAAAPh/AAAAAAAA+H8AAAAAAAD4fwAAAAAAAPh/7Zwe+s9Ewj+3+JLHwD6yPwAAAAAAAPh/AAAAAAAA+H8AAAAAAAD4fwAAAAAAAPh/AAAAAAAA+H8AAAAAAAD4fwAAAAAAAPh/AAAAAAAA+H8AAAAAAAD4fw==",
          "dtype": "f8",
          "shape": "5, 7"
         }
        },
        {
         "marker": {
          "color": "black",
          "line": {
           "color": "Gray",
           "width": 2
          }
         },
         "mode": "markers",
         "name": "Feasible Trial",
         "showlegend": false,
         "type": "scatter",
         "x": [
          15,
          20,
          30,
          25,
          30,
          20,
          10
         ],
         "xaxis": "x6",
         "y": [
          100,
          128,
          64,
          128,
          100,
          64,
          64
         ],
         "yaxis": "y6"
        },
        {
         "colorbar": {
          "title": {
           "text": "Objective Value"
          }
         },
         "colorscale": [
          [
           0,
           "rgb(247,251,255)"
          ],
          [
           0.125,
           "rgb(222,235,247)"
          ],
          [
           0.25,
           "rgb(198,219,239)"
          ],
          [
           0.375,
           "rgb(158,202,225)"
          ],
          [
           0.5,
           "rgb(107,174,214)"
          ],
          [
           0.625,
           "rgb(66,146,198)"
          ],
          [
           0.75,
           "rgb(33,113,181)"
          ],
          [
           0.875,
           "rgb(8,81,156)"
          ],
          [
           1,
           "rgb(8,48,107)"
          ]
         ],
         "connectgaps": true,
         "contours": {
          "coloring": "heatmap"
         },
         "hoverinfo": "none",
         "line": {
          "smoothing": 1.3
         },
         "reversescale": true,
         "showscale": false,
         "type": "contour",
         "x": [
          9,
          10,
          15,
          20,
          25,
          30,
          31
         ],
         "xaxis": "x12",
         "y": [
          0.000055,
          0.0001,
          0.0002,
          0.001,
          0.001045
         ],
         "yaxis": "y12",
         "z": {
          "bdata": "AAAAAAAA+H8AAAAAAAD4fwAAAAAAAPh/AAAAAAAA+H8AAAAAAAD4fwAAAAAAAPh/AAAAAAAA+H8AAAAAAAD4fwAAAAAAAPh/AAAAAAAA+H+GwgG7ZhK7PwAAAAAAAPh/BdwUGaH7oj8AAAAAAAD4fwAAAAAAAPh//fAVpOXInT8AAAAAAAD4fwAAAAAAAPh/t/iSx8A+sj8AAAAAAAD4fwAAAAAAAPh/AAAAAAAA+H8AAAAAAAD4f9Ib9IKyZaA/AAAAAAAA+H8AAAAAAAD4fx6cmPAJs7o/AAAAAAAA+H8AAAAAAAD4fwAAAAAAAPh/AAAAAAAA+H8AAAAAAAD4fwAAAAAAAPh/AAAAAAAA+H8AAAAAAAD4fw==",
          "dtype": "f8",
          "shape": "5, 7"
         }
        },
        {
         "marker": {
          "color": "black",
          "line": {
           "color": "Gray",
           "width": 2
          }
         },
         "mode": "markers",
         "name": "Feasible Trial",
         "showlegend": false,
         "type": "scatter",
         "x": [
          15,
          20,
          30,
          25,
          30,
          20,
          10
         ],
         "xaxis": "x12",
         "y": [
          0.001,
          0.0001,
          0.0001,
          0.0002,
          0.001,
          0.0001,
          0.0002
         ],
         "yaxis": "y12"
        },
        {
         "colorbar": {
          "title": {
           "text": "Objective Value"
          }
         },
         "colorscale": [
          [
           0,
           "rgb(247,251,255)"
          ],
          [
           0.125,
           "rgb(222,235,247)"
          ],
          [
           0.25,
           "rgb(198,219,239)"
          ],
          [
           0.375,
           "rgb(158,202,225)"
          ],
          [
           0.5,
           "rgb(107,174,214)"
          ],
          [
           0.625,
           "rgb(66,146,198)"
          ],
          [
           0.75,
           "rgb(33,113,181)"
          ],
          [
           0.875,
           "rgb(8,81,156)"
          ],
          [
           1,
           "rgb(8,48,107)"
          ]
         ],
         "connectgaps": true,
         "contours": {
          "coloring": "heatmap"
         },
         "hoverinfo": "none",
         "line": {
          "smoothing": 1.3
         },
         "reversescale": true,
         "showscale": false,
         "type": "contour",
         "x": [
          9,
          10,
          15,
          20,
          25,
          30,
          31
         ],
         "xaxis": "x18",
         "y": [
          0.95,
          1,
          2,
          2.05
         ],
         "yaxis": "y18",
         "z": {
          "bdata": "AAAAAAAA+H8AAAAAAAD4fwAAAAAAAPh/AAAAAAAA+H8AAAAAAAD4fwAAAAAAAPh/AAAAAAAA+H8AAAAAAAD4f/3wFaTlyJ0/0hv0grJloD+GwgG7ZhK7PwAAAAAAAPh/BdwUGaH7oj8AAAAAAAD4fwAAAAAAAPh/AAAAAAAA+H8AAAAAAAD4f+2cHvrPRMI/t/iSx8A+sj8enJjwCbO6PwAAAAAAAPh/AAAAAAAA+H8AAAAAAAD4fwAAAAAAAPh/AAAAAAAA+H8AAAAAAAD4fwAAAAAAAPh/AAAAAAAA+H8=",
          "dtype": "f8",
          "shape": "4, 7"
         }
        },
        {
         "marker": {
          "color": "black",
          "line": {
           "color": "Gray",
           "width": 2
          }
         },
         "mode": "markers",
         "name": "Feasible Trial",
         "showlegend": false,
         "type": "scatter",
         "x": [
          15,
          20,
          30,
          25,
          30,
          20,
          10
         ],
         "xaxis": "x18",
         "y": [
          1,
          2,
          1,
          2,
          2,
          1,
          1
         ],
         "yaxis": "y18"
        },
        {
         "colorbar": {
          "title": {
           "text": "Objective Value"
          }
         },
         "colorscale": [
          [
           0,
           "rgb(247,251,255)"
          ],
          [
           0.125,
           "rgb(222,235,247)"
          ],
          [
           0.25,
           "rgb(198,219,239)"
          ],
          [
           0.375,
           "rgb(158,202,225)"
          ],
          [
           0.5,
           "rgb(107,174,214)"
          ],
          [
           0.625,
           "rgb(66,146,198)"
          ],
          [
           0.75,
           "rgb(33,113,181)"
          ],
          [
           0.875,
           "rgb(8,81,156)"
          ],
          [
           1,
           "rgb(8,48,107)"
          ]
         ],
         "connectgaps": true,
         "contours": {
          "coloring": "heatmap"
         },
         "hoverinfo": "none",
         "line": {
          "smoothing": 1.3
         },
         "reversescale": true,
         "showscale": false,
         "type": "contour",
         "x": [
          9,
          10,
          15,
          20,
          25,
          30,
          31
         ],
         "xaxis": "x24",
         "y": [
          4.25,
          5,
          10,
          15,
          20,
          20.75
         ],
         "yaxis": "y24",
         "z": {
          "bdata": "AAAAAAAA+H8AAAAAAAD4fwAAAAAAAPh/AAAAAAAA+H8AAAAAAAD4fwAAAAAAAPh/AAAAAAAA+H8AAAAAAAD4f/3wFaTlyJ0/0hv0grJloD8AAAAAAAD4f7f4ksfAPrI/AAAAAAAA+H8AAAAAAAD4fwAAAAAAAPh/AAAAAAAA+H8AAAAAAAD4fwAAAAAAAPh/AAAAAAAA+H8enJjwCbO6PwAAAAAAAPh/AAAAAAAA+H8AAAAAAAD4fwAAAAAAAPh/7Zwe+s9Ewj8AAAAAAAD4fwXcFBmh+6I/AAAAAAAA+H8AAAAAAAD4fwAAAAAAAPh/AAAAAAAA+H+GwgG7ZhK7PwAAAAAAAPh/AAAAAAAA+H8AAAAAAAD4fwAAAAAAAPh/AAAAAAAA+H8AAAAAAAD4fwAAAAAAAPh/AAAAAAAA+H8AAAAAAAD4fwAAAAAAAPh/",
          "dtype": "f8",
          "shape": "6, 7"
         }
        },
        {
         "marker": {
          "color": "black",
          "line": {
           "color": "Gray",
           "width": 2
          }
         },
         "mode": "markers",
         "name": "Feasible Trial",
         "showlegend": false,
         "type": "scatter",
         "x": [
          15,
          20,
          30,
          25,
          30,
          20,
          10
         ],
         "xaxis": "x24",
         "y": [
          5,
          15,
          15,
          5,
          10,
          20,
          5
         ],
         "yaxis": "y24"
        },
        {
         "colorbar": {
          "title": {
           "text": "Objective Value"
          }
         },
         "colorscale": [
          [
           0,
           "rgb(247,251,255)"
          ],
          [
           0.125,
           "rgb(222,235,247)"
          ],
          [
           0.25,
           "rgb(198,219,239)"
          ],
          [
           0.375,
           "rgb(158,202,225)"
          ],
          [
           0.5,
           "rgb(107,174,214)"
          ],
          [
           0.625,
           "rgb(66,146,198)"
          ],
          [
           0.75,
           "rgb(33,113,181)"
          ],
          [
           0.875,
           "rgb(8,81,156)"
          ],
          [
           1,
           "rgb(8,48,107)"
          ]
         ],
         "connectgaps": true,
         "contours": {
          "coloring": "heatmap"
         },
         "hoverinfo": "none",
         "line": {
          "smoothing": 1.3
         },
         "reversescale": true,
         "showscale": false,
         "type": "contour",
         "x": [
          9,
          10,
          15,
          20,
          25,
          30,
          31
         ],
         "xaxis": "x30",
         "y": [
          4,
          5,
          10,
          15,
          20,
          25,
          26
         ],
         "yaxis": "y30",
         "z": {
          "bdata": "AAAAAAAA+H8AAAAAAAD4fwAAAAAAAPh/AAAAAAAA+H8AAAAAAAD4fwAAAAAAAPh/AAAAAAAA+H8AAAAAAAD4fwAAAAAAAPh/AAAAAAAA+H+GwgG7ZhK7PwAAAAAAAPh/HpyY8Amzuj8AAAAAAAD4fwAAAAAAAPh/AAAAAAAA+H/SG/SCsmWgPwAAAAAAAPh/AAAAAAAA+H8AAAAAAAD4fwAAAAAAAPh/AAAAAAAA+H/98BWk5cidPwAAAAAAAPh/AAAAAAAA+H8AAAAAAAD4fwAAAAAAAPh/AAAAAAAA+H8AAAAAAAD4fwAAAAAAAPh/AAAAAAAA+H/tnB76z0TCP7f4ksfAPrI/AAAAAAAA+H8AAAAAAAD4fwAAAAAAAPh/AAAAAAAA+H8AAAAAAAD4fwAAAAAAAPh/AAAAAAAA+H8F3BQZofuiPwAAAAAAAPh/AAAAAAAA+H8AAAAAAAD4fwAAAAAAAPh/AAAAAAAA+H8AAAAAAAD4fwAAAAAAAPh/AAAAAAAA+H8=",
          "dtype": "f8",
          "shape": "7, 7"
         }
        },
        {
         "marker": {
          "color": "black",
          "line": {
           "color": "Gray",
           "width": 2
          }
         },
         "mode": "markers",
         "name": "Feasible Trial",
         "showlegend": false,
         "type": "scatter",
         "x": [
          15,
          20,
          30,
          25,
          30,
          20,
          10
         ],
         "xaxis": "x30",
         "y": [
          10,
          20,
          25,
          20,
          5,
          5,
          15
         ],
         "yaxis": "y30"
        },
        {
         "type": "scatter",
         "xaxis": "x36",
         "yaxis": "y36"
        }
       ],
       "layout": {
        "height": 800,
        "template": {
         "data": {
          "bar": [
           {
            "error_x": {
             "color": "#2a3f5f"
            },
            "error_y": {
             "color": "#2a3f5f"
            },
            "marker": {
             "line": {
              "color": "#E5ECF6",
              "width": 0.5
             },
             "pattern": {
              "fillmode": "overlay",
              "size": 10,
              "solidity": 0.2
             }
            },
            "type": "bar"
           }
          ],
          "barpolar": [
           {
            "marker": {
             "line": {
              "color": "#E5ECF6",
              "width": 0.5
             },
             "pattern": {
              "fillmode": "overlay",
              "size": 10,
              "solidity": 0.2
             }
            },
            "type": "barpolar"
           }
          ],
          "carpet": [
           {
            "aaxis": {
             "endlinecolor": "#2a3f5f",
             "gridcolor": "white",
             "linecolor": "white",
             "minorgridcolor": "white",
             "startlinecolor": "#2a3f5f"
            },
            "baxis": {
             "endlinecolor": "#2a3f5f",
             "gridcolor": "white",
             "linecolor": "white",
             "minorgridcolor": "white",
             "startlinecolor": "#2a3f5f"
            },
            "type": "carpet"
           }
          ],
          "choropleth": [
           {
            "colorbar": {
             "outlinewidth": 0,
             "ticks": ""
            },
            "type": "choropleth"
           }
          ],
          "contour": [
           {
            "colorbar": {
             "outlinewidth": 0,
             "ticks": ""
            },
            "colorscale": [
             [
              0,
              "#0d0887"
             ],
             [
              0.1111111111111111,
              "#46039f"
             ],
             [
              0.2222222222222222,
              "#7201a8"
             ],
             [
              0.3333333333333333,
              "#9c179e"
             ],
             [
              0.4444444444444444,
              "#bd3786"
             ],
             [
              0.5555555555555556,
              "#d8576b"
             ],
             [
              0.6666666666666666,
              "#ed7953"
             ],
             [
              0.7777777777777778,
              "#fb9f3a"
             ],
             [
              0.8888888888888888,
              "#fdca26"
             ],
             [
              1,
              "#f0f921"
             ]
            ],
            "type": "contour"
           }
          ],
          "contourcarpet": [
           {
            "colorbar": {
             "outlinewidth": 0,
             "ticks": ""
            },
            "type": "contourcarpet"
           }
          ],
          "heatmap": [
           {
            "colorbar": {
             "outlinewidth": 0,
             "ticks": ""
            },
            "colorscale": [
             [
              0,
              "#0d0887"
             ],
             [
              0.1111111111111111,
              "#46039f"
             ],
             [
              0.2222222222222222,
              "#7201a8"
             ],
             [
              0.3333333333333333,
              "#9c179e"
             ],
             [
              0.4444444444444444,
              "#bd3786"
             ],
             [
              0.5555555555555556,
              "#d8576b"
             ],
             [
              0.6666666666666666,
              "#ed7953"
             ],
             [
              0.7777777777777778,
              "#fb9f3a"
             ],
             [
              0.8888888888888888,
              "#fdca26"
             ],
             [
              1,
              "#f0f921"
             ]
            ],
            "type": "heatmap"
           }
          ],
          "histogram": [
           {
            "marker": {
             "pattern": {
              "fillmode": "overlay",
              "size": 10,
              "solidity": 0.2
             }
            },
            "type": "histogram"
           }
          ],
          "histogram2d": [
           {
            "colorbar": {
             "outlinewidth": 0,
             "ticks": ""
            },
            "colorscale": [
             [
              0,
              "#0d0887"
             ],
             [
              0.1111111111111111,
              "#46039f"
             ],
             [
              0.2222222222222222,
              "#7201a8"
             ],
             [
              0.3333333333333333,
              "#9c179e"
             ],
             [
              0.4444444444444444,
              "#bd3786"
             ],
             [
              0.5555555555555556,
              "#d8576b"
             ],
             [
              0.6666666666666666,
              "#ed7953"
             ],
             [
              0.7777777777777778,
              "#fb9f3a"
             ],
             [
              0.8888888888888888,
              "#fdca26"
             ],
             [
              1,
              "#f0f921"
             ]
            ],
            "type": "histogram2d"
           }
          ],
          "histogram2dcontour": [
           {
            "colorbar": {
             "outlinewidth": 0,
             "ticks": ""
            },
            "colorscale": [
             [
              0,
              "#0d0887"
             ],
             [
              0.1111111111111111,
              "#46039f"
             ],
             [
              0.2222222222222222,
              "#7201a8"
             ],
             [
              0.3333333333333333,
              "#9c179e"
             ],
             [
              0.4444444444444444,
              "#bd3786"
             ],
             [
              0.5555555555555556,
              "#d8576b"
             ],
             [
              0.6666666666666666,
              "#ed7953"
             ],
             [
              0.7777777777777778,
              "#fb9f3a"
             ],
             [
              0.8888888888888888,
              "#fdca26"
             ],
             [
              1,
              "#f0f921"
             ]
            ],
            "type": "histogram2dcontour"
           }
          ],
          "mesh3d": [
           {
            "colorbar": {
             "outlinewidth": 0,
             "ticks": ""
            },
            "type": "mesh3d"
           }
          ],
          "parcoords": [
           {
            "line": {
             "colorbar": {
              "outlinewidth": 0,
              "ticks": ""
             }
            },
            "type": "parcoords"
           }
          ],
          "pie": [
           {
            "automargin": true,
            "type": "pie"
           }
          ],
          "scatter": [
           {
            "fillpattern": {
             "fillmode": "overlay",
             "size": 10,
             "solidity": 0.2
            },
            "type": "scatter"
           }
          ],
          "scatter3d": [
           {
            "line": {
             "colorbar": {
              "outlinewidth": 0,
              "ticks": ""
             }
            },
            "marker": {
             "colorbar": {
              "outlinewidth": 0,
              "ticks": ""
             }
            },
            "type": "scatter3d"
           }
          ],
          "scattercarpet": [
           {
            "marker": {
             "colorbar": {
              "outlinewidth": 0,
              "ticks": ""
             }
            },
            "type": "scattercarpet"
           }
          ],
          "scattergeo": [
           {
            "marker": {
             "colorbar": {
              "outlinewidth": 0,
              "ticks": ""
             }
            },
            "type": "scattergeo"
           }
          ],
          "scattergl": [
           {
            "marker": {
             "colorbar": {
              "outlinewidth": 0,
              "ticks": ""
             }
            },
            "type": "scattergl"
           }
          ],
          "scattermap": [
           {
            "marker": {
             "colorbar": {
              "outlinewidth": 0,
              "ticks": ""
             }
            },
            "type": "scattermap"
           }
          ],
          "scattermapbox": [
           {
            "marker": {
             "colorbar": {
              "outlinewidth": 0,
              "ticks": ""
             }
            },
            "type": "scattermapbox"
           }
          ],
          "scatterpolar": [
           {
            "marker": {
             "colorbar": {
              "outlinewidth": 0,
              "ticks": ""
             }
            },
            "type": "scatterpolar"
           }
          ],
          "scatterpolargl": [
           {
            "marker": {
             "colorbar": {
              "outlinewidth": 0,
              "ticks": ""
             }
            },
            "type": "scatterpolargl"
           }
          ],
          "scatterternary": [
           {
            "marker": {
             "colorbar": {
              "outlinewidth": 0,
              "ticks": ""
             }
            },
            "type": "scatterternary"
           }
          ],
          "surface": [
           {
            "colorbar": {
             "outlinewidth": 0,
             "ticks": ""
            },
            "colorscale": [
             [
              0,
              "#0d0887"
             ],
             [
              0.1111111111111111,
              "#46039f"
             ],
             [
              0.2222222222222222,
              "#7201a8"
             ],
             [
              0.3333333333333333,
              "#9c179e"
             ],
             [
              0.4444444444444444,
              "#bd3786"
             ],
             [
              0.5555555555555556,
              "#d8576b"
             ],
             [
              0.6666666666666666,
              "#ed7953"
             ],
             [
              0.7777777777777778,
              "#fb9f3a"
             ],
             [
              0.8888888888888888,
              "#fdca26"
             ],
             [
              1,
              "#f0f921"
             ]
            ],
            "type": "surface"
           }
          ],
          "table": [
           {
            "cells": {
             "fill": {
              "color": "#EBF0F8"
             },
             "line": {
              "color": "white"
             }
            },
            "header": {
             "fill": {
              "color": "#C8D4E3"
             },
             "line": {
              "color": "white"
             }
            },
            "type": "table"
           }
          ]
         },
         "layout": {
          "annotationdefaults": {
           "arrowcolor": "#2a3f5f",
           "arrowhead": 0,
           "arrowwidth": 1
          },
          "autotypenumbers": "strict",
          "coloraxis": {
           "colorbar": {
            "outlinewidth": 0,
            "ticks": ""
           }
          },
          "colorscale": {
           "diverging": [
            [
             0,
             "#8e0152"
            ],
            [
             0.1,
             "#c51b7d"
            ],
            [
             0.2,
             "#de77ae"
            ],
            [
             0.3,
             "#f1b6da"
            ],
            [
             0.4,
             "#fde0ef"
            ],
            [
             0.5,
             "#f7f7f7"
            ],
            [
             0.6,
             "#e6f5d0"
            ],
            [
             0.7,
             "#b8e186"
            ],
            [
             0.8,
             "#7fbc41"
            ],
            [
             0.9,
             "#4d9221"
            ],
            [
             1,
             "#276419"
            ]
           ],
           "sequential": [
            [
             0,
             "#0d0887"
            ],
            [
             0.1111111111111111,
             "#46039f"
            ],
            [
             0.2222222222222222,
             "#7201a8"
            ],
            [
             0.3333333333333333,
             "#9c179e"
            ],
            [
             0.4444444444444444,
             "#bd3786"
            ],
            [
             0.5555555555555556,
             "#d8576b"
            ],
            [
             0.6666666666666666,
             "#ed7953"
            ],
            [
             0.7777777777777778,
             "#fb9f3a"
            ],
            [
             0.8888888888888888,
             "#fdca26"
            ],
            [
             1,
             "#f0f921"
            ]
           ],
           "sequentialminus": [
            [
             0,
             "#0d0887"
            ],
            [
             0.1111111111111111,
             "#46039f"
            ],
            [
             0.2222222222222222,
             "#7201a8"
            ],
            [
             0.3333333333333333,
             "#9c179e"
            ],
            [
             0.4444444444444444,
             "#bd3786"
            ],
            [
             0.5555555555555556,
             "#d8576b"
            ],
            [
             0.6666666666666666,
             "#ed7953"
            ],
            [
             0.7777777777777778,
             "#fb9f3a"
            ],
            [
             0.8888888888888888,
             "#fdca26"
            ],
            [
             1,
             "#f0f921"
            ]
           ]
          },
          "colorway": [
           "#636efa",
           "#EF553B",
           "#00cc96",
           "#ab63fa",
           "#FFA15A",
           "#19d3f3",
           "#FF6692",
           "#B6E880",
           "#FF97FF",
           "#FECB52"
          ],
          "font": {
           "color": "#2a3f5f"
          },
          "geo": {
           "bgcolor": "white",
           "lakecolor": "white",
           "landcolor": "#E5ECF6",
           "showlakes": true,
           "showland": true,
           "subunitcolor": "white"
          },
          "hoverlabel": {
           "align": "left"
          },
          "hovermode": "closest",
          "mapbox": {
           "style": "light"
          },
          "paper_bgcolor": "white",
          "plot_bgcolor": "#E5ECF6",
          "polar": {
           "angularaxis": {
            "gridcolor": "white",
            "linecolor": "white",
            "ticks": ""
           },
           "bgcolor": "#E5ECF6",
           "radialaxis": {
            "gridcolor": "white",
            "linecolor": "white",
            "ticks": ""
           }
          },
          "scene": {
           "xaxis": {
            "backgroundcolor": "#E5ECF6",
            "gridcolor": "white",
            "gridwidth": 2,
            "linecolor": "white",
            "showbackground": true,
            "ticks": "",
            "zerolinecolor": "white"
           },
           "yaxis": {
            "backgroundcolor": "#E5ECF6",
            "gridcolor": "white",
            "gridwidth": 2,
            "linecolor": "white",
            "showbackground": true,
            "ticks": "",
            "zerolinecolor": "white"
           },
           "zaxis": {
            "backgroundcolor": "#E5ECF6",
            "gridcolor": "white",
            "gridwidth": 2,
            "linecolor": "white",
            "showbackground": true,
            "ticks": "",
            "zerolinecolor": "white"
           }
          },
          "shapedefaults": {
           "line": {
            "color": "#2a3f5f"
           }
          },
          "ternary": {
           "aaxis": {
            "gridcolor": "white",
            "linecolor": "white",
            "ticks": ""
           },
           "baxis": {
            "gridcolor": "white",
            "linecolor": "white",
            "ticks": ""
           },
           "bgcolor": "#E5ECF6",
           "caxis": {
            "gridcolor": "white",
            "linecolor": "white",
            "ticks": ""
           }
          },
          "title": {
           "x": 0.05
          },
          "xaxis": {
           "automargin": true,
           "gridcolor": "white",
           "linecolor": "white",
           "ticks": "",
           "title": {
            "standoff": 15
           },
           "zerolinecolor": "white",
           "zerolinewidth": 2
          },
          "yaxis": {
           "automargin": true,
           "gridcolor": "white",
           "linecolor": "white",
           "ticks": "",
           "title": {
            "standoff": 15
           },
           "zerolinecolor": "white",
           "zerolinewidth": 2
          }
         }
        },
        "title": {
         "text": "Contour Plot"
        },
        "width": 800,
        "xaxis": {
         "anchor": "y",
         "domain": [
          0,
          0.1388888888888889
         ],
         "matches": "x31",
         "range": [
          60.8,
          131.2
         ],
         "showticklabels": false
        },
        "xaxis10": {
         "anchor": "y10",
         "domain": [
          0.5166666666666667,
          0.6555555555555557
         ],
         "matches": "x34",
         "range": [
          4.25,
          20.75
         ],
         "showticklabels": false
        },
        "xaxis11": {
         "anchor": "y11",
         "domain": [
          0.6888888888888889,
          0.8277777777777777
         ],
         "matches": "x35",
         "range": [
          4,
          26
         ],
         "showticklabels": false
        },
        "xaxis12": {
         "anchor": "y12",
         "domain": [
          0.861111111111111,
          1
         ],
         "matches": "x36",
         "range": [
          9,
          31
         ],
         "showticklabels": false
        },
        "xaxis13": {
         "anchor": "y13",
         "domain": [
          0,
          0.1388888888888889
         ],
         "matches": "x31",
         "range": [
          60.8,
          131.2
         ],
         "showticklabels": false
        },
        "xaxis14": {
         "anchor": "y14",
         "domain": [
          0.17222222222222222,
          0.3111111111111111
         ],
         "matches": "x32",
         "range": [
          0.000055,
          0.001045
         ],
         "showticklabels": false
        },
        "xaxis15": {
         "anchor": "y15",
         "domain": [
          0.34444444444444444,
          0.48333333333333334
         ],
         "matches": "x33",
         "range": [
          0.95,
          2.05
         ],
         "showticklabels": false
        },
        "xaxis16": {
         "anchor": "y16",
         "domain": [
          0.5166666666666667,
          0.6555555555555557
         ],
         "matches": "x34",
         "range": [
          4.25,
          20.75
         ],
         "showticklabels": false
        },
        "xaxis17": {
         "anchor": "y17",
         "domain": [
          0.6888888888888889,
          0.8277777777777777
         ],
         "matches": "x35",
         "range": [
          4,
          26
         ],
         "showticklabels": false
        },
        "xaxis18": {
         "anchor": "y18",
         "domain": [
          0.861111111111111,
          1
         ],
         "matches": "x36",
         "range": [
          9,
          31
         ],
         "showticklabels": false
        },
        "xaxis19": {
         "anchor": "y19",
         "domain": [
          0,
          0.1388888888888889
         ],
         "matches": "x31",
         "range": [
          60.8,
          131.2
         ],
         "showticklabels": false
        },
        "xaxis2": {
         "anchor": "y2",
         "domain": [
          0.17222222222222222,
          0.3111111111111111
         ],
         "matches": "x32",
         "range": [
          0.000055,
          0.001045
         ],
         "showticklabels": false
        },
        "xaxis20": {
         "anchor": "y20",
         "domain": [
          0.17222222222222222,
          0.3111111111111111
         ],
         "matches": "x32",
         "range": [
          0.000055,
          0.001045
         ],
         "showticklabels": false
        },
        "xaxis21": {
         "anchor": "y21",
         "domain": [
          0.34444444444444444,
          0.48333333333333334
         ],
         "matches": "x33",
         "range": [
          0.95,
          2.05
         ],
         "showticklabels": false
        },
        "xaxis22": {
         "anchor": "y22",
         "domain": [
          0.5166666666666667,
          0.6555555555555557
         ],
         "matches": "x34",
         "range": [
          4.25,
          20.75
         ],
         "showticklabels": false
        },
        "xaxis23": {
         "anchor": "y23",
         "domain": [
          0.6888888888888889,
          0.8277777777777777
         ],
         "matches": "x35",
         "range": [
          4,
          26
         ],
         "showticklabels": false
        },
        "xaxis24": {
         "anchor": "y24",
         "domain": [
          0.861111111111111,
          1
         ],
         "matches": "x36",
         "range": [
          9,
          31
         ],
         "showticklabels": false
        },
        "xaxis25": {
         "anchor": "y25",
         "domain": [
          0,
          0.1388888888888889
         ],
         "matches": "x31",
         "range": [
          60.8,
          131.2
         ],
         "showticklabels": false
        },
        "xaxis26": {
         "anchor": "y26",
         "domain": [
          0.17222222222222222,
          0.3111111111111111
         ],
         "matches": "x32",
         "range": [
          0.000055,
          0.001045
         ],
         "showticklabels": false
        },
        "xaxis27": {
         "anchor": "y27",
         "domain": [
          0.34444444444444444,
          0.48333333333333334
         ],
         "matches": "x33",
         "range": [
          0.95,
          2.05
         ],
         "showticklabels": false
        },
        "xaxis28": {
         "anchor": "y28",
         "domain": [
          0.5166666666666667,
          0.6555555555555557
         ],
         "matches": "x34",
         "range": [
          4.25,
          20.75
         ],
         "showticklabels": false
        },
        "xaxis29": {
         "anchor": "y29",
         "domain": [
          0.6888888888888889,
          0.8277777777777777
         ],
         "matches": "x35",
         "range": [
          4,
          26
         ],
         "showticklabels": false
        },
        "xaxis3": {
         "anchor": "y3",
         "domain": [
          0.34444444444444444,
          0.48333333333333334
         ],
         "matches": "x33",
         "range": [
          0.95,
          2.05
         ],
         "showticklabels": false
        },
        "xaxis30": {
         "anchor": "y30",
         "domain": [
          0.861111111111111,
          1
         ],
         "matches": "x36",
         "range": [
          9,
          31
         ],
         "showticklabels": false
        },
        "xaxis31": {
         "anchor": "y31",
         "domain": [
          0,
          0.1388888888888889
         ],
         "range": [
          60.8,
          131.2
         ],
         "title": {
          "text": "batch_size"
         }
        },
        "xaxis32": {
         "anchor": "y32",
         "domain": [
          0.17222222222222222,
          0.3111111111111111
         ],
         "range": [
          0.000055,
          0.001045
         ],
         "title": {
          "text": "lr"
         }
        },
        "xaxis33": {
         "anchor": "y33",
         "domain": [
          0.34444444444444444,
          0.48333333333333334
         ],
         "range": [
          0.95,
          2.05
         ],
         "title": {
          "text": "n_layers_surv_piecewise"
         }
        },
        "xaxis34": {
         "anchor": "y34",
         "domain": [
          0.5166666666666667,
          0.6555555555555557
         ],
         "range": [
          4.25,
          20.75
         ],
         "title": {
          "text": "s_dim"
         }
        },
        "xaxis35": {
         "anchor": "y35",
         "domain": [
          0.6888888888888889,
          0.8277777777777777
         ],
         "range": [
          4,
          26
         ],
         "title": {
          "text": "y_dim"
         }
        },
        "xaxis36": {
         "anchor": "y36",
         "domain": [
          0.861111111111111,
          1
         ],
         "range": [
          9,
          31
         ],
         "title": {
          "text": "z_dim"
         }
        },
        "xaxis4": {
         "anchor": "y4",
         "domain": [
          0.5166666666666667,
          0.6555555555555557
         ],
         "matches": "x34",
         "range": [
          4.25,
          20.75
         ],
         "showticklabels": false
        },
        "xaxis5": {
         "anchor": "y5",
         "domain": [
          0.6888888888888889,
          0.8277777777777777
         ],
         "matches": "x35",
         "range": [
          4,
          26
         ],
         "showticklabels": false
        },
        "xaxis6": {
         "anchor": "y6",
         "domain": [
          0.861111111111111,
          1
         ],
         "matches": "x36",
         "range": [
          9,
          31
         ],
         "showticklabels": false
        },
        "xaxis7": {
         "anchor": "y7",
         "domain": [
          0,
          0.1388888888888889
         ],
         "matches": "x31",
         "range": [
          60.8,
          131.2
         ],
         "showticklabels": false
        },
        "xaxis8": {
         "anchor": "y8",
         "domain": [
          0.17222222222222222,
          0.3111111111111111
         ],
         "matches": "x32",
         "range": [
          0.000055,
          0.001045
         ],
         "showticklabels": false
        },
        "xaxis9": {
         "anchor": "y9",
         "domain": [
          0.34444444444444444,
          0.48333333333333334
         ],
         "matches": "x33",
         "range": [
          0.95,
          2.05
         ],
         "showticklabels": false
        },
        "yaxis": {
         "anchor": "x",
         "domain": [
          0.875,
          1
         ],
         "range": [
          60.8,
          131.2
         ],
         "title": {
          "text": "batch_size"
         }
        },
        "yaxis10": {
         "anchor": "x10",
         "domain": [
          0.7,
          0.825
         ],
         "matches": "y7",
         "range": [
          0.000055,
          0.001045
         ],
         "showticklabels": false
        },
        "yaxis11": {
         "anchor": "x11",
         "domain": [
          0.7,
          0.825
         ],
         "matches": "y7",
         "range": [
          0.000055,
          0.001045
         ],
         "showticklabels": false
        },
        "yaxis12": {
         "anchor": "x12",
         "domain": [
          0.7,
          0.825
         ],
         "matches": "y7",
         "range": [
          0.000055,
          0.001045
         ],
         "showticklabels": false
        },
        "yaxis13": {
         "anchor": "x13",
         "domain": [
          0.525,
          0.65
         ],
         "range": [
          0.95,
          2.05
         ],
         "title": {
          "text": "n_layers_surv_piecewise"
         }
        },
        "yaxis14": {
         "anchor": "x14",
         "domain": [
          0.525,
          0.65
         ],
         "matches": "y13",
         "range": [
          0.95,
          2.05
         ],
         "showticklabels": false
        },
        "yaxis15": {
         "anchor": "x15",
         "domain": [
          0.525,
          0.65
         ],
         "matches": "y13",
         "range": [
          0.95,
          2.05
         ],
         "showticklabels": false
        },
        "yaxis16": {
         "anchor": "x16",
         "domain": [
          0.525,
          0.65
         ],
         "matches": "y13",
         "range": [
          0.95,
          2.05
         ],
         "showticklabels": false
        },
        "yaxis17": {
         "anchor": "x17",
         "domain": [
          0.525,
          0.65
         ],
         "matches": "y13",
         "range": [
          0.95,
          2.05
         ],
         "showticklabels": false
        },
        "yaxis18": {
         "anchor": "x18",
         "domain": [
          0.525,
          0.65
         ],
         "matches": "y13",
         "range": [
          0.95,
          2.05
         ],
         "showticklabels": false
        },
        "yaxis19": {
         "anchor": "x19",
         "domain": [
          0.35,
          0.475
         ],
         "range": [
          4.25,
          20.75
         ],
         "title": {
          "text": "s_dim"
         }
        },
        "yaxis2": {
         "anchor": "x2",
         "domain": [
          0.875,
          1
         ],
         "matches": "y",
         "range": [
          60.8,
          131.2
         ],
         "showticklabels": false
        },
        "yaxis20": {
         "anchor": "x20",
         "domain": [
          0.35,
          0.475
         ],
         "matches": "y19",
         "range": [
          4.25,
          20.75
         ],
         "showticklabels": false
        },
        "yaxis21": {
         "anchor": "x21",
         "domain": [
          0.35,
          0.475
         ],
         "matches": "y19",
         "range": [
          4.25,
          20.75
         ],
         "showticklabels": false
        },
        "yaxis22": {
         "anchor": "x22",
         "domain": [
          0.35,
          0.475
         ],
         "matches": "y19",
         "range": [
          4.25,
          20.75
         ],
         "showticklabels": false
        },
        "yaxis23": {
         "anchor": "x23",
         "domain": [
          0.35,
          0.475
         ],
         "matches": "y19",
         "range": [
          4.25,
          20.75
         ],
         "showticklabels": false
        },
        "yaxis24": {
         "anchor": "x24",
         "domain": [
          0.35,
          0.475
         ],
         "matches": "y19",
         "range": [
          4.25,
          20.75
         ],
         "showticklabels": false
        },
        "yaxis25": {
         "anchor": "x25",
         "domain": [
          0.175,
          0.3
         ],
         "range": [
          4,
          26
         ],
         "title": {
          "text": "y_dim"
         }
        },
        "yaxis26": {
         "anchor": "x26",
         "domain": [
          0.175,
          0.3
         ],
         "matches": "y25",
         "range": [
          4,
          26
         ],
         "showticklabels": false
        },
        "yaxis27": {
         "anchor": "x27",
         "domain": [
          0.175,
          0.3
         ],
         "matches": "y25",
         "range": [
          4,
          26
         ],
         "showticklabels": false
        },
        "yaxis28": {
         "anchor": "x28",
         "domain": [
          0.175,
          0.3
         ],
         "matches": "y25",
         "range": [
          4,
          26
         ],
         "showticklabels": false
        },
        "yaxis29": {
         "anchor": "x29",
         "domain": [
          0.175,
          0.3
         ],
         "matches": "y25",
         "range": [
          4,
          26
         ],
         "showticklabels": false
        },
        "yaxis3": {
         "anchor": "x3",
         "domain": [
          0.875,
          1
         ],
         "matches": "y",
         "range": [
          60.8,
          131.2
         ],
         "showticklabels": false
        },
        "yaxis30": {
         "anchor": "x30",
         "domain": [
          0.175,
          0.3
         ],
         "matches": "y25",
         "range": [
          4,
          26
         ],
         "showticklabels": false
        },
        "yaxis31": {
         "anchor": "x31",
         "domain": [
          0,
          0.125
         ],
         "range": [
          9,
          31
         ],
         "title": {
          "text": "z_dim"
         }
        },
        "yaxis32": {
         "anchor": "x32",
         "domain": [
          0,
          0.125
         ],
         "matches": "y31",
         "range": [
          9,
          31
         ],
         "showticklabels": false
        },
        "yaxis33": {
         "anchor": "x33",
         "domain": [
          0,
          0.125
         ],
         "matches": "y31",
         "range": [
          9,
          31
         ],
         "showticklabels": false
        },
        "yaxis34": {
         "anchor": "x34",
         "domain": [
          0,
          0.125
         ],
         "matches": "y31",
         "range": [
          9,
          31
         ],
         "showticklabels": false
        },
        "yaxis35": {
         "anchor": "x35",
         "domain": [
          0,
          0.125
         ],
         "matches": "y31",
         "range": [
          9,
          31
         ],
         "showticklabels": false
        },
        "yaxis36": {
         "anchor": "x36",
         "domain": [
          0,
          0.125
         ],
         "matches": "y31",
         "range": [
          9,
          31
         ],
         "showticklabels": false
        },
        "yaxis4": {
         "anchor": "x4",
         "domain": [
          0.875,
          1
         ],
         "matches": "y",
         "range": [
          60.8,
          131.2
         ],
         "showticklabels": false
        },
        "yaxis5": {
         "anchor": "x5",
         "domain": [
          0.875,
          1
         ],
         "matches": "y",
         "range": [
          60.8,
          131.2
         ],
         "showticklabels": false
        },
        "yaxis6": {
         "anchor": "x6",
         "domain": [
          0.875,
          1
         ],
         "matches": "y",
         "range": [
          60.8,
          131.2
         ],
         "showticklabels": false
        },
        "yaxis7": {
         "anchor": "x7",
         "domain": [
          0.7,
          0.825
         ],
         "range": [
          0.000055,
          0.001045
         ],
         "title": {
          "text": "lr"
         }
        },
        "yaxis8": {
         "anchor": "x8",
         "domain": [
          0.7,
          0.825
         ],
         "matches": "y7",
         "range": [
          0.000055,
          0.001045
         ],
         "showticklabels": false
        },
        "yaxis9": {
         "anchor": "x9",
         "domain": [
          0.7,
          0.825
         ],
         "matches": "y7",
         "range": [
          0.000055,
          0.001045
         ],
         "showticklabels": false
        }
       }
      }
     },
     "metadata": {},
     "output_type": "display_data"
    }
   ],
   "source": [
    "# Visualize hyperparameter relationships.\n",
    "fig = plot_contour(study, params=list(best_params.keys()))\n",
    "fig.update_layout(width=800, height=800)"
   ]
  },
  {
   "cell_type": "code",
   "execution_count": 13,
   "metadata": {},
   "outputs": [
    {
     "data": {
      "application/vnd.plotly.v1+json": {
       "config": {
        "plotlyServerURL": "https://plot.ly"
       },
       "data": [
        {
         "marker": {
          "color": [
           0,
           1,
           2,
           3,
           5,
           8,
           9
          ],
          "colorbar": {
           "title": {
            "text": "Trial"
           },
           "x": 1,
           "xpad": 40
          },
          "colorscale": [
           [
            0,
            "rgb(247,251,255)"
           ],
           [
            0.125,
            "rgb(222,235,247)"
           ],
           [
            0.25,
            "rgb(198,219,239)"
           ],
           [
            0.375,
            "rgb(158,202,225)"
           ],
           [
            0.5,
            "rgb(107,174,214)"
           ],
           [
            0.625,
            "rgb(66,146,198)"
           ],
           [
            0.75,
            "rgb(33,113,181)"
           ],
           [
            0.875,
            "rgb(8,81,156)"
           ],
           [
            1,
            "rgb(8,48,107)"
           ]
          ],
          "line": {
           "color": "Grey",
           "width": 0.5
          },
          "showscale": true
         },
         "mode": "markers",
         "name": "Feasible Trial",
         "showlegend": false,
         "type": "scatter",
         "x": [
          100,
          128,
          64,
          128,
          100,
          64,
          64
         ],
         "xaxis": "x",
         "y": [
          0.03202588890604087,
          0.14272498810644355,
          0.037076029121116995,
          0.0712700354806398,
          0.10429441570214279,
          0.10574953141782303,
          0.02908667387008367
         ],
         "yaxis": "y"
        },
        {
         "marker": {
          "color": [
           0,
           1,
           2,
           3,
           5,
           8,
           9
          ],
          "colorbar": {
           "title": {
            "text": "Trial"
           },
           "x": 1,
           "xpad": 40
          },
          "colorscale": [
           [
            0,
            "rgb(247,251,255)"
           ],
           [
            0.125,
            "rgb(222,235,247)"
           ],
           [
            0.25,
            "rgb(198,219,239)"
           ],
           [
            0.375,
            "rgb(158,202,225)"
           ],
           [
            0.5,
            "rgb(107,174,214)"
           ],
           [
            0.625,
            "rgb(66,146,198)"
           ],
           [
            0.75,
            "rgb(33,113,181)"
           ],
           [
            0.875,
            "rgb(8,81,156)"
           ],
           [
            1,
            "rgb(8,48,107)"
           ]
          ],
          "line": {
           "color": "Grey",
           "width": 0.5
          },
          "showscale": false
         },
         "mode": "markers",
         "name": "Feasible Trial",
         "showlegend": false,
         "type": "scatter",
         "x": [
          0.001,
          0.0001,
          0.0001,
          0.0002,
          0.001,
          0.0001,
          0.0002
         ],
         "xaxis": "x2",
         "y": [
          0.03202588890604087,
          0.14272498810644355,
          0.037076029121116995,
          0.0712700354806398,
          0.10429441570214279,
          0.10574953141782303,
          0.02908667387008367
         ],
         "yaxis": "y2"
        },
        {
         "marker": {
          "color": [
           0,
           1,
           2,
           3,
           5,
           8,
           9
          ],
          "colorbar": {
           "title": {
            "text": "Trial"
           },
           "x": 1,
           "xpad": 40
          },
          "colorscale": [
           [
            0,
            "rgb(247,251,255)"
           ],
           [
            0.125,
            "rgb(222,235,247)"
           ],
           [
            0.25,
            "rgb(198,219,239)"
           ],
           [
            0.375,
            "rgb(158,202,225)"
           ],
           [
            0.5,
            "rgb(107,174,214)"
           ],
           [
            0.625,
            "rgb(66,146,198)"
           ],
           [
            0.75,
            "rgb(33,113,181)"
           ],
           [
            0.875,
            "rgb(8,81,156)"
           ],
           [
            1,
            "rgb(8,48,107)"
           ]
          ],
          "line": {
           "color": "Grey",
           "width": 0.5
          },
          "showscale": false
         },
         "mode": "markers",
         "name": "Feasible Trial",
         "showlegend": false,
         "type": "scatter",
         "x": [
          1,
          2,
          1,
          2,
          2,
          1,
          1
         ],
         "xaxis": "x3",
         "y": [
          0.03202588890604087,
          0.14272498810644355,
          0.037076029121116995,
          0.0712700354806398,
          0.10429441570214279,
          0.10574953141782303,
          0.02908667387008367
         ],
         "yaxis": "y3"
        },
        {
         "marker": {
          "color": [
           0,
           1,
           2,
           3,
           5,
           8,
           9
          ],
          "colorbar": {
           "title": {
            "text": "Trial"
           },
           "x": 1,
           "xpad": 40
          },
          "colorscale": [
           [
            0,
            "rgb(247,251,255)"
           ],
           [
            0.125,
            "rgb(222,235,247)"
           ],
           [
            0.25,
            "rgb(198,219,239)"
           ],
           [
            0.375,
            "rgb(158,202,225)"
           ],
           [
            0.5,
            "rgb(107,174,214)"
           ],
           [
            0.625,
            "rgb(66,146,198)"
           ],
           [
            0.75,
            "rgb(33,113,181)"
           ],
           [
            0.875,
            "rgb(8,81,156)"
           ],
           [
            1,
            "rgb(8,48,107)"
           ]
          ],
          "line": {
           "color": "Grey",
           "width": 0.5
          },
          "showscale": false
         },
         "mode": "markers",
         "name": "Feasible Trial",
         "showlegend": false,
         "type": "scatter",
         "x": [
          5,
          15,
          15,
          5,
          10,
          20,
          5
         ],
         "xaxis": "x4",
         "y": [
          0.03202588890604087,
          0.14272498810644355,
          0.037076029121116995,
          0.0712700354806398,
          0.10429441570214279,
          0.10574953141782303,
          0.02908667387008367
         ],
         "yaxis": "y4"
        },
        {
         "marker": {
          "color": [
           0,
           1,
           2,
           3,
           5,
           8,
           9
          ],
          "colorbar": {
           "title": {
            "text": "Trial"
           },
           "x": 1,
           "xpad": 40
          },
          "colorscale": [
           [
            0,
            "rgb(247,251,255)"
           ],
           [
            0.125,
            "rgb(222,235,247)"
           ],
           [
            0.25,
            "rgb(198,219,239)"
           ],
           [
            0.375,
            "rgb(158,202,225)"
           ],
           [
            0.5,
            "rgb(107,174,214)"
           ],
           [
            0.625,
            "rgb(66,146,198)"
           ],
           [
            0.75,
            "rgb(33,113,181)"
           ],
           [
            0.875,
            "rgb(8,81,156)"
           ],
           [
            1,
            "rgb(8,48,107)"
           ]
          ],
          "line": {
           "color": "Grey",
           "width": 0.5
          },
          "showscale": false
         },
         "mode": "markers",
         "name": "Feasible Trial",
         "showlegend": false,
         "type": "scatter",
         "x": [
          10,
          20,
          25,
          20,
          5,
          5,
          15
         ],
         "xaxis": "x5",
         "y": [
          0.03202588890604087,
          0.14272498810644355,
          0.037076029121116995,
          0.0712700354806398,
          0.10429441570214279,
          0.10574953141782303,
          0.02908667387008367
         ],
         "yaxis": "y5"
        },
        {
         "marker": {
          "color": [
           0,
           1,
           2,
           3,
           5,
           8,
           9
          ],
          "colorbar": {
           "title": {
            "text": "Trial"
           },
           "x": 1,
           "xpad": 40
          },
          "colorscale": [
           [
            0,
            "rgb(247,251,255)"
           ],
           [
            0.125,
            "rgb(222,235,247)"
           ],
           [
            0.25,
            "rgb(198,219,239)"
           ],
           [
            0.375,
            "rgb(158,202,225)"
           ],
           [
            0.5,
            "rgb(107,174,214)"
           ],
           [
            0.625,
            "rgb(66,146,198)"
           ],
           [
            0.75,
            "rgb(33,113,181)"
           ],
           [
            0.875,
            "rgb(8,81,156)"
           ],
           [
            1,
            "rgb(8,48,107)"
           ]
          ],
          "line": {
           "color": "Grey",
           "width": 0.5
          },
          "showscale": false
         },
         "mode": "markers",
         "name": "Feasible Trial",
         "showlegend": false,
         "type": "scatter",
         "x": [
          15,
          20,
          30,
          25,
          30,
          20,
          10
         ],
         "xaxis": "x6",
         "y": [
          0.03202588890604087,
          0.14272498810644355,
          0.037076029121116995,
          0.0712700354806398,
          0.10429441570214279,
          0.10574953141782303,
          0.02908667387008367
         ],
         "yaxis": "y6"
        }
       ],
       "layout": {
        "template": {
         "data": {
          "bar": [
           {
            "error_x": {
             "color": "#2a3f5f"
            },
            "error_y": {
             "color": "#2a3f5f"
            },
            "marker": {
             "line": {
              "color": "#E5ECF6",
              "width": 0.5
             },
             "pattern": {
              "fillmode": "overlay",
              "size": 10,
              "solidity": 0.2
             }
            },
            "type": "bar"
           }
          ],
          "barpolar": [
           {
            "marker": {
             "line": {
              "color": "#E5ECF6",
              "width": 0.5
             },
             "pattern": {
              "fillmode": "overlay",
              "size": 10,
              "solidity": 0.2
             }
            },
            "type": "barpolar"
           }
          ],
          "carpet": [
           {
            "aaxis": {
             "endlinecolor": "#2a3f5f",
             "gridcolor": "white",
             "linecolor": "white",
             "minorgridcolor": "white",
             "startlinecolor": "#2a3f5f"
            },
            "baxis": {
             "endlinecolor": "#2a3f5f",
             "gridcolor": "white",
             "linecolor": "white",
             "minorgridcolor": "white",
             "startlinecolor": "#2a3f5f"
            },
            "type": "carpet"
           }
          ],
          "choropleth": [
           {
            "colorbar": {
             "outlinewidth": 0,
             "ticks": ""
            },
            "type": "choropleth"
           }
          ],
          "contour": [
           {
            "colorbar": {
             "outlinewidth": 0,
             "ticks": ""
            },
            "colorscale": [
             [
              0,
              "#0d0887"
             ],
             [
              0.1111111111111111,
              "#46039f"
             ],
             [
              0.2222222222222222,
              "#7201a8"
             ],
             [
              0.3333333333333333,
              "#9c179e"
             ],
             [
              0.4444444444444444,
              "#bd3786"
             ],
             [
              0.5555555555555556,
              "#d8576b"
             ],
             [
              0.6666666666666666,
              "#ed7953"
             ],
             [
              0.7777777777777778,
              "#fb9f3a"
             ],
             [
              0.8888888888888888,
              "#fdca26"
             ],
             [
              1,
              "#f0f921"
             ]
            ],
            "type": "contour"
           }
          ],
          "contourcarpet": [
           {
            "colorbar": {
             "outlinewidth": 0,
             "ticks": ""
            },
            "type": "contourcarpet"
           }
          ],
          "heatmap": [
           {
            "colorbar": {
             "outlinewidth": 0,
             "ticks": ""
            },
            "colorscale": [
             [
              0,
              "#0d0887"
             ],
             [
              0.1111111111111111,
              "#46039f"
             ],
             [
              0.2222222222222222,
              "#7201a8"
             ],
             [
              0.3333333333333333,
              "#9c179e"
             ],
             [
              0.4444444444444444,
              "#bd3786"
             ],
             [
              0.5555555555555556,
              "#d8576b"
             ],
             [
              0.6666666666666666,
              "#ed7953"
             ],
             [
              0.7777777777777778,
              "#fb9f3a"
             ],
             [
              0.8888888888888888,
              "#fdca26"
             ],
             [
              1,
              "#f0f921"
             ]
            ],
            "type": "heatmap"
           }
          ],
          "histogram": [
           {
            "marker": {
             "pattern": {
              "fillmode": "overlay",
              "size": 10,
              "solidity": 0.2
             }
            },
            "type": "histogram"
           }
          ],
          "histogram2d": [
           {
            "colorbar": {
             "outlinewidth": 0,
             "ticks": ""
            },
            "colorscale": [
             [
              0,
              "#0d0887"
             ],
             [
              0.1111111111111111,
              "#46039f"
             ],
             [
              0.2222222222222222,
              "#7201a8"
             ],
             [
              0.3333333333333333,
              "#9c179e"
             ],
             [
              0.4444444444444444,
              "#bd3786"
             ],
             [
              0.5555555555555556,
              "#d8576b"
             ],
             [
              0.6666666666666666,
              "#ed7953"
             ],
             [
              0.7777777777777778,
              "#fb9f3a"
             ],
             [
              0.8888888888888888,
              "#fdca26"
             ],
             [
              1,
              "#f0f921"
             ]
            ],
            "type": "histogram2d"
           }
          ],
          "histogram2dcontour": [
           {
            "colorbar": {
             "outlinewidth": 0,
             "ticks": ""
            },
            "colorscale": [
             [
              0,
              "#0d0887"
             ],
             [
              0.1111111111111111,
              "#46039f"
             ],
             [
              0.2222222222222222,
              "#7201a8"
             ],
             [
              0.3333333333333333,
              "#9c179e"
             ],
             [
              0.4444444444444444,
              "#bd3786"
             ],
             [
              0.5555555555555556,
              "#d8576b"
             ],
             [
              0.6666666666666666,
              "#ed7953"
             ],
             [
              0.7777777777777778,
              "#fb9f3a"
             ],
             [
              0.8888888888888888,
              "#fdca26"
             ],
             [
              1,
              "#f0f921"
             ]
            ],
            "type": "histogram2dcontour"
           }
          ],
          "mesh3d": [
           {
            "colorbar": {
             "outlinewidth": 0,
             "ticks": ""
            },
            "type": "mesh3d"
           }
          ],
          "parcoords": [
           {
            "line": {
             "colorbar": {
              "outlinewidth": 0,
              "ticks": ""
             }
            },
            "type": "parcoords"
           }
          ],
          "pie": [
           {
            "automargin": true,
            "type": "pie"
           }
          ],
          "scatter": [
           {
            "fillpattern": {
             "fillmode": "overlay",
             "size": 10,
             "solidity": 0.2
            },
            "type": "scatter"
           }
          ],
          "scatter3d": [
           {
            "line": {
             "colorbar": {
              "outlinewidth": 0,
              "ticks": ""
             }
            },
            "marker": {
             "colorbar": {
              "outlinewidth": 0,
              "ticks": ""
             }
            },
            "type": "scatter3d"
           }
          ],
          "scattercarpet": [
           {
            "marker": {
             "colorbar": {
              "outlinewidth": 0,
              "ticks": ""
             }
            },
            "type": "scattercarpet"
           }
          ],
          "scattergeo": [
           {
            "marker": {
             "colorbar": {
              "outlinewidth": 0,
              "ticks": ""
             }
            },
            "type": "scattergeo"
           }
          ],
          "scattergl": [
           {
            "marker": {
             "colorbar": {
              "outlinewidth": 0,
              "ticks": ""
             }
            },
            "type": "scattergl"
           }
          ],
          "scattermap": [
           {
            "marker": {
             "colorbar": {
              "outlinewidth": 0,
              "ticks": ""
             }
            },
            "type": "scattermap"
           }
          ],
          "scattermapbox": [
           {
            "marker": {
             "colorbar": {
              "outlinewidth": 0,
              "ticks": ""
             }
            },
            "type": "scattermapbox"
           }
          ],
          "scatterpolar": [
           {
            "marker": {
             "colorbar": {
              "outlinewidth": 0,
              "ticks": ""
             }
            },
            "type": "scatterpolar"
           }
          ],
          "scatterpolargl": [
           {
            "marker": {
             "colorbar": {
              "outlinewidth": 0,
              "ticks": ""
             }
            },
            "type": "scatterpolargl"
           }
          ],
          "scatterternary": [
           {
            "marker": {
             "colorbar": {
              "outlinewidth": 0,
              "ticks": ""
             }
            },
            "type": "scatterternary"
           }
          ],
          "surface": [
           {
            "colorbar": {
             "outlinewidth": 0,
             "ticks": ""
            },
            "colorscale": [
             [
              0,
              "#0d0887"
             ],
             [
              0.1111111111111111,
              "#46039f"
             ],
             [
              0.2222222222222222,
              "#7201a8"
             ],
             [
              0.3333333333333333,
              "#9c179e"
             ],
             [
              0.4444444444444444,
              "#bd3786"
             ],
             [
              0.5555555555555556,
              "#d8576b"
             ],
             [
              0.6666666666666666,
              "#ed7953"
             ],
             [
              0.7777777777777778,
              "#fb9f3a"
             ],
             [
              0.8888888888888888,
              "#fdca26"
             ],
             [
              1,
              "#f0f921"
             ]
            ],
            "type": "surface"
           }
          ],
          "table": [
           {
            "cells": {
             "fill": {
              "color": "#EBF0F8"
             },
             "line": {
              "color": "white"
             }
            },
            "header": {
             "fill": {
              "color": "#C8D4E3"
             },
             "line": {
              "color": "white"
             }
            },
            "type": "table"
           }
          ]
         },
         "layout": {
          "annotationdefaults": {
           "arrowcolor": "#2a3f5f",
           "arrowhead": 0,
           "arrowwidth": 1
          },
          "autotypenumbers": "strict",
          "coloraxis": {
           "colorbar": {
            "outlinewidth": 0,
            "ticks": ""
           }
          },
          "colorscale": {
           "diverging": [
            [
             0,
             "#8e0152"
            ],
            [
             0.1,
             "#c51b7d"
            ],
            [
             0.2,
             "#de77ae"
            ],
            [
             0.3,
             "#f1b6da"
            ],
            [
             0.4,
             "#fde0ef"
            ],
            [
             0.5,
             "#f7f7f7"
            ],
            [
             0.6,
             "#e6f5d0"
            ],
            [
             0.7,
             "#b8e186"
            ],
            [
             0.8,
             "#7fbc41"
            ],
            [
             0.9,
             "#4d9221"
            ],
            [
             1,
             "#276419"
            ]
           ],
           "sequential": [
            [
             0,
             "#0d0887"
            ],
            [
             0.1111111111111111,
             "#46039f"
            ],
            [
             0.2222222222222222,
             "#7201a8"
            ],
            [
             0.3333333333333333,
             "#9c179e"
            ],
            [
             0.4444444444444444,
             "#bd3786"
            ],
            [
             0.5555555555555556,
             "#d8576b"
            ],
            [
             0.6666666666666666,
             "#ed7953"
            ],
            [
             0.7777777777777778,
             "#fb9f3a"
            ],
            [
             0.8888888888888888,
             "#fdca26"
            ],
            [
             1,
             "#f0f921"
            ]
           ],
           "sequentialminus": [
            [
             0,
             "#0d0887"
            ],
            [
             0.1111111111111111,
             "#46039f"
            ],
            [
             0.2222222222222222,
             "#7201a8"
            ],
            [
             0.3333333333333333,
             "#9c179e"
            ],
            [
             0.4444444444444444,
             "#bd3786"
            ],
            [
             0.5555555555555556,
             "#d8576b"
            ],
            [
             0.6666666666666666,
             "#ed7953"
            ],
            [
             0.7777777777777778,
             "#fb9f3a"
            ],
            [
             0.8888888888888888,
             "#fdca26"
            ],
            [
             1,
             "#f0f921"
            ]
           ]
          },
          "colorway": [
           "#636efa",
           "#EF553B",
           "#00cc96",
           "#ab63fa",
           "#FFA15A",
           "#19d3f3",
           "#FF6692",
           "#B6E880",
           "#FF97FF",
           "#FECB52"
          ],
          "font": {
           "color": "#2a3f5f"
          },
          "geo": {
           "bgcolor": "white",
           "lakecolor": "white",
           "landcolor": "#E5ECF6",
           "showlakes": true,
           "showland": true,
           "subunitcolor": "white"
          },
          "hoverlabel": {
           "align": "left"
          },
          "hovermode": "closest",
          "mapbox": {
           "style": "light"
          },
          "paper_bgcolor": "white",
          "plot_bgcolor": "#E5ECF6",
          "polar": {
           "angularaxis": {
            "gridcolor": "white",
            "linecolor": "white",
            "ticks": ""
           },
           "bgcolor": "#E5ECF6",
           "radialaxis": {
            "gridcolor": "white",
            "linecolor": "white",
            "ticks": ""
           }
          },
          "scene": {
           "xaxis": {
            "backgroundcolor": "#E5ECF6",
            "gridcolor": "white",
            "gridwidth": 2,
            "linecolor": "white",
            "showbackground": true,
            "ticks": "",
            "zerolinecolor": "white"
           },
           "yaxis": {
            "backgroundcolor": "#E5ECF6",
            "gridcolor": "white",
            "gridwidth": 2,
            "linecolor": "white",
            "showbackground": true,
            "ticks": "",
            "zerolinecolor": "white"
           },
           "zaxis": {
            "backgroundcolor": "#E5ECF6",
            "gridcolor": "white",
            "gridwidth": 2,
            "linecolor": "white",
            "showbackground": true,
            "ticks": "",
            "zerolinecolor": "white"
           }
          },
          "shapedefaults": {
           "line": {
            "color": "#2a3f5f"
           }
          },
          "ternary": {
           "aaxis": {
            "gridcolor": "white",
            "linecolor": "white",
            "ticks": ""
           },
           "baxis": {
            "gridcolor": "white",
            "linecolor": "white",
            "ticks": ""
           },
           "bgcolor": "#E5ECF6",
           "caxis": {
            "gridcolor": "white",
            "linecolor": "white",
            "ticks": ""
           }
          },
          "title": {
           "x": 0.05
          },
          "xaxis": {
           "automargin": true,
           "gridcolor": "white",
           "linecolor": "white",
           "ticks": "",
           "title": {
            "standoff": 15
           },
           "zerolinecolor": "white",
           "zerolinewidth": 2
          },
          "yaxis": {
           "automargin": true,
           "gridcolor": "white",
           "linecolor": "white",
           "ticks": "",
           "title": {
            "standoff": 15
           },
           "zerolinecolor": "white",
           "zerolinewidth": 2
          }
         }
        },
        "title": {
         "text": "Slice Plot"
        },
        "width": 1800,
        "xaxis": {
         "anchor": "y",
         "categoryarray": [
          64,
          100,
          128,
          256,
          512
         ],
         "categoryorder": "array",
         "domain": [
          0,
          0.1388888888888889
         ],
         "title": {
          "text": "batch_size"
         },
         "type": "category"
        },
        "xaxis2": {
         "anchor": "y2",
         "categoryarray": [
          0.0001,
          0.0002,
          0.001
         ],
         "categoryorder": "array",
         "domain": [
          0.17222222222222222,
          0.3111111111111111
         ],
         "title": {
          "text": "lr"
         },
         "type": "category"
        },
        "xaxis3": {
         "anchor": "y3",
         "categoryarray": [
          1,
          2
         ],
         "categoryorder": "array",
         "domain": [
          0.34444444444444444,
          0.48333333333333334
         ],
         "title": {
          "text": "n_layers_surv_piecewise"
         },
         "type": "category"
        },
        "xaxis4": {
         "anchor": "y4",
         "domain": [
          0.5166666666666667,
          0.6555555555555557
         ],
         "title": {
          "text": "s_dim"
         }
        },
        "xaxis5": {
         "anchor": "y5",
         "domain": [
          0.6888888888888889,
          0.8277777777777777
         ],
         "title": {
          "text": "y_dim"
         }
        },
        "xaxis6": {
         "anchor": "y6",
         "domain": [
          0.861111111111111,
          1
         ],
         "title": {
          "text": "z_dim"
         }
        },
        "yaxis": {
         "anchor": "x",
         "domain": [
          0,
          1
         ],
         "title": {
          "text": "Objective Value"
         }
        },
        "yaxis2": {
         "anchor": "x2",
         "domain": [
          0,
          1
         ],
         "matches": "y",
         "showticklabels": false
        },
        "yaxis3": {
         "anchor": "x3",
         "domain": [
          0,
          1
         ],
         "matches": "y",
         "showticklabels": false
        },
        "yaxis4": {
         "anchor": "x4",
         "domain": [
          0,
          1
         ],
         "matches": "y",
         "showticklabels": false
        },
        "yaxis5": {
         "anchor": "x5",
         "domain": [
          0,
          1
         ],
         "matches": "y",
         "showticklabels": false
        },
        "yaxis6": {
         "anchor": "x6",
         "domain": [
          0,
          1
         ],
         "matches": "y",
         "showticklabels": false
        }
       }
      }
     },
     "metadata": {},
     "output_type": "display_data"
    }
   ],
   "source": [
    "# Visualize individual hyperparameters as slice plot.\n",
    "plot_slice(study)"
   ]
  },
  {
   "cell_type": "code",
   "execution_count": 14,
   "metadata": {},
   "outputs": [
    {
     "data": {
      "application/vnd.plotly.v1+json": {
       "config": {
        "plotlyServerURL": "https://plot.ly"
       },
       "data": [
        {
         "cliponaxis": false,
         "hovertemplate": [
          "lr (CategoricalDistribution): 0.04341487860792361<extra></extra>",
          "batch_size (CategoricalDistribution): 0.10103368750909228<extra></extra>",
          "z_dim (IntDistribution): 0.156087518611455<extra></extra>",
          "y_dim (IntDistribution): 0.17368963372734172<extra></extra>",
          "s_dim (IntDistribution): 0.2047903974840608<extra></extra>",
          "n_layers_surv_piecewise (CategoricalDistribution): 0.3209838840601265<extra></extra>"
         ],
         "name": "Objective Value",
         "orientation": "h",
         "text": [
          "0.04",
          "0.10",
          "0.16",
          "0.17",
          "0.20",
          "0.32"
         ],
         "textposition": "outside",
         "type": "bar",
         "x": [
          0.04341487860792361,
          0.10103368750909228,
          0.156087518611455,
          0.17368963372734172,
          0.2047903974840608,
          0.3209838840601265
         ],
         "y": [
          "lr",
          "batch_size",
          "z_dim",
          "y_dim",
          "s_dim",
          "n_layers_surv_piecewise"
         ]
        }
       ],
       "layout": {
        "template": {
         "data": {
          "bar": [
           {
            "error_x": {
             "color": "#2a3f5f"
            },
            "error_y": {
             "color": "#2a3f5f"
            },
            "marker": {
             "line": {
              "color": "#E5ECF6",
              "width": 0.5
             },
             "pattern": {
              "fillmode": "overlay",
              "size": 10,
              "solidity": 0.2
             }
            },
            "type": "bar"
           }
          ],
          "barpolar": [
           {
            "marker": {
             "line": {
              "color": "#E5ECF6",
              "width": 0.5
             },
             "pattern": {
              "fillmode": "overlay",
              "size": 10,
              "solidity": 0.2
             }
            },
            "type": "barpolar"
           }
          ],
          "carpet": [
           {
            "aaxis": {
             "endlinecolor": "#2a3f5f",
             "gridcolor": "white",
             "linecolor": "white",
             "minorgridcolor": "white",
             "startlinecolor": "#2a3f5f"
            },
            "baxis": {
             "endlinecolor": "#2a3f5f",
             "gridcolor": "white",
             "linecolor": "white",
             "minorgridcolor": "white",
             "startlinecolor": "#2a3f5f"
            },
            "type": "carpet"
           }
          ],
          "choropleth": [
           {
            "colorbar": {
             "outlinewidth": 0,
             "ticks": ""
            },
            "type": "choropleth"
           }
          ],
          "contour": [
           {
            "colorbar": {
             "outlinewidth": 0,
             "ticks": ""
            },
            "colorscale": [
             [
              0,
              "#0d0887"
             ],
             [
              0.1111111111111111,
              "#46039f"
             ],
             [
              0.2222222222222222,
              "#7201a8"
             ],
             [
              0.3333333333333333,
              "#9c179e"
             ],
             [
              0.4444444444444444,
              "#bd3786"
             ],
             [
              0.5555555555555556,
              "#d8576b"
             ],
             [
              0.6666666666666666,
              "#ed7953"
             ],
             [
              0.7777777777777778,
              "#fb9f3a"
             ],
             [
              0.8888888888888888,
              "#fdca26"
             ],
             [
              1,
              "#f0f921"
             ]
            ],
            "type": "contour"
           }
          ],
          "contourcarpet": [
           {
            "colorbar": {
             "outlinewidth": 0,
             "ticks": ""
            },
            "type": "contourcarpet"
           }
          ],
          "heatmap": [
           {
            "colorbar": {
             "outlinewidth": 0,
             "ticks": ""
            },
            "colorscale": [
             [
              0,
              "#0d0887"
             ],
             [
              0.1111111111111111,
              "#46039f"
             ],
             [
              0.2222222222222222,
              "#7201a8"
             ],
             [
              0.3333333333333333,
              "#9c179e"
             ],
             [
              0.4444444444444444,
              "#bd3786"
             ],
             [
              0.5555555555555556,
              "#d8576b"
             ],
             [
              0.6666666666666666,
              "#ed7953"
             ],
             [
              0.7777777777777778,
              "#fb9f3a"
             ],
             [
              0.8888888888888888,
              "#fdca26"
             ],
             [
              1,
              "#f0f921"
             ]
            ],
            "type": "heatmap"
           }
          ],
          "histogram": [
           {
            "marker": {
             "pattern": {
              "fillmode": "overlay",
              "size": 10,
              "solidity": 0.2
             }
            },
            "type": "histogram"
           }
          ],
          "histogram2d": [
           {
            "colorbar": {
             "outlinewidth": 0,
             "ticks": ""
            },
            "colorscale": [
             [
              0,
              "#0d0887"
             ],
             [
              0.1111111111111111,
              "#46039f"
             ],
             [
              0.2222222222222222,
              "#7201a8"
             ],
             [
              0.3333333333333333,
              "#9c179e"
             ],
             [
              0.4444444444444444,
              "#bd3786"
             ],
             [
              0.5555555555555556,
              "#d8576b"
             ],
             [
              0.6666666666666666,
              "#ed7953"
             ],
             [
              0.7777777777777778,
              "#fb9f3a"
             ],
             [
              0.8888888888888888,
              "#fdca26"
             ],
             [
              1,
              "#f0f921"
             ]
            ],
            "type": "histogram2d"
           }
          ],
          "histogram2dcontour": [
           {
            "colorbar": {
             "outlinewidth": 0,
             "ticks": ""
            },
            "colorscale": [
             [
              0,
              "#0d0887"
             ],
             [
              0.1111111111111111,
              "#46039f"
             ],
             [
              0.2222222222222222,
              "#7201a8"
             ],
             [
              0.3333333333333333,
              "#9c179e"
             ],
             [
              0.4444444444444444,
              "#bd3786"
             ],
             [
              0.5555555555555556,
              "#d8576b"
             ],
             [
              0.6666666666666666,
              "#ed7953"
             ],
             [
              0.7777777777777778,
              "#fb9f3a"
             ],
             [
              0.8888888888888888,
              "#fdca26"
             ],
             [
              1,
              "#f0f921"
             ]
            ],
            "type": "histogram2dcontour"
           }
          ],
          "mesh3d": [
           {
            "colorbar": {
             "outlinewidth": 0,
             "ticks": ""
            },
            "type": "mesh3d"
           }
          ],
          "parcoords": [
           {
            "line": {
             "colorbar": {
              "outlinewidth": 0,
              "ticks": ""
             }
            },
            "type": "parcoords"
           }
          ],
          "pie": [
           {
            "automargin": true,
            "type": "pie"
           }
          ],
          "scatter": [
           {
            "fillpattern": {
             "fillmode": "overlay",
             "size": 10,
             "solidity": 0.2
            },
            "type": "scatter"
           }
          ],
          "scatter3d": [
           {
            "line": {
             "colorbar": {
              "outlinewidth": 0,
              "ticks": ""
             }
            },
            "marker": {
             "colorbar": {
              "outlinewidth": 0,
              "ticks": ""
             }
            },
            "type": "scatter3d"
           }
          ],
          "scattercarpet": [
           {
            "marker": {
             "colorbar": {
              "outlinewidth": 0,
              "ticks": ""
             }
            },
            "type": "scattercarpet"
           }
          ],
          "scattergeo": [
           {
            "marker": {
             "colorbar": {
              "outlinewidth": 0,
              "ticks": ""
             }
            },
            "type": "scattergeo"
           }
          ],
          "scattergl": [
           {
            "marker": {
             "colorbar": {
              "outlinewidth": 0,
              "ticks": ""
             }
            },
            "type": "scattergl"
           }
          ],
          "scattermap": [
           {
            "marker": {
             "colorbar": {
              "outlinewidth": 0,
              "ticks": ""
             }
            },
            "type": "scattermap"
           }
          ],
          "scattermapbox": [
           {
            "marker": {
             "colorbar": {
              "outlinewidth": 0,
              "ticks": ""
             }
            },
            "type": "scattermapbox"
           }
          ],
          "scatterpolar": [
           {
            "marker": {
             "colorbar": {
              "outlinewidth": 0,
              "ticks": ""
             }
            },
            "type": "scatterpolar"
           }
          ],
          "scatterpolargl": [
           {
            "marker": {
             "colorbar": {
              "outlinewidth": 0,
              "ticks": ""
             }
            },
            "type": "scatterpolargl"
           }
          ],
          "scatterternary": [
           {
            "marker": {
             "colorbar": {
              "outlinewidth": 0,
              "ticks": ""
             }
            },
            "type": "scatterternary"
           }
          ],
          "surface": [
           {
            "colorbar": {
             "outlinewidth": 0,
             "ticks": ""
            },
            "colorscale": [
             [
              0,
              "#0d0887"
             ],
             [
              0.1111111111111111,
              "#46039f"
             ],
             [
              0.2222222222222222,
              "#7201a8"
             ],
             [
              0.3333333333333333,
              "#9c179e"
             ],
             [
              0.4444444444444444,
              "#bd3786"
             ],
             [
              0.5555555555555556,
              "#d8576b"
             ],
             [
              0.6666666666666666,
              "#ed7953"
             ],
             [
              0.7777777777777778,
              "#fb9f3a"
             ],
             [
              0.8888888888888888,
              "#fdca26"
             ],
             [
              1,
              "#f0f921"
             ]
            ],
            "type": "surface"
           }
          ],
          "table": [
           {
            "cells": {
             "fill": {
              "color": "#EBF0F8"
             },
             "line": {
              "color": "white"
             }
            },
            "header": {
             "fill": {
              "color": "#C8D4E3"
             },
             "line": {
              "color": "white"
             }
            },
            "type": "table"
           }
          ]
         },
         "layout": {
          "annotationdefaults": {
           "arrowcolor": "#2a3f5f",
           "arrowhead": 0,
           "arrowwidth": 1
          },
          "autotypenumbers": "strict",
          "coloraxis": {
           "colorbar": {
            "outlinewidth": 0,
            "ticks": ""
           }
          },
          "colorscale": {
           "diverging": [
            [
             0,
             "#8e0152"
            ],
            [
             0.1,
             "#c51b7d"
            ],
            [
             0.2,
             "#de77ae"
            ],
            [
             0.3,
             "#f1b6da"
            ],
            [
             0.4,
             "#fde0ef"
            ],
            [
             0.5,
             "#f7f7f7"
            ],
            [
             0.6,
             "#e6f5d0"
            ],
            [
             0.7,
             "#b8e186"
            ],
            [
             0.8,
             "#7fbc41"
            ],
            [
             0.9,
             "#4d9221"
            ],
            [
             1,
             "#276419"
            ]
           ],
           "sequential": [
            [
             0,
             "#0d0887"
            ],
            [
             0.1111111111111111,
             "#46039f"
            ],
            [
             0.2222222222222222,
             "#7201a8"
            ],
            [
             0.3333333333333333,
             "#9c179e"
            ],
            [
             0.4444444444444444,
             "#bd3786"
            ],
            [
             0.5555555555555556,
             "#d8576b"
            ],
            [
             0.6666666666666666,
             "#ed7953"
            ],
            [
             0.7777777777777778,
             "#fb9f3a"
            ],
            [
             0.8888888888888888,
             "#fdca26"
            ],
            [
             1,
             "#f0f921"
            ]
           ],
           "sequentialminus": [
            [
             0,
             "#0d0887"
            ],
            [
             0.1111111111111111,
             "#46039f"
            ],
            [
             0.2222222222222222,
             "#7201a8"
            ],
            [
             0.3333333333333333,
             "#9c179e"
            ],
            [
             0.4444444444444444,
             "#bd3786"
            ],
            [
             0.5555555555555556,
             "#d8576b"
            ],
            [
             0.6666666666666666,
             "#ed7953"
            ],
            [
             0.7777777777777778,
             "#fb9f3a"
            ],
            [
             0.8888888888888888,
             "#fdca26"
            ],
            [
             1,
             "#f0f921"
            ]
           ]
          },
          "colorway": [
           "#636efa",
           "#EF553B",
           "#00cc96",
           "#ab63fa",
           "#FFA15A",
           "#19d3f3",
           "#FF6692",
           "#B6E880",
           "#FF97FF",
           "#FECB52"
          ],
          "font": {
           "color": "#2a3f5f"
          },
          "geo": {
           "bgcolor": "white",
           "lakecolor": "white",
           "landcolor": "#E5ECF6",
           "showlakes": true,
           "showland": true,
           "subunitcolor": "white"
          },
          "hoverlabel": {
           "align": "left"
          },
          "hovermode": "closest",
          "mapbox": {
           "style": "light"
          },
          "paper_bgcolor": "white",
          "plot_bgcolor": "#E5ECF6",
          "polar": {
           "angularaxis": {
            "gridcolor": "white",
            "linecolor": "white",
            "ticks": ""
           },
           "bgcolor": "#E5ECF6",
           "radialaxis": {
            "gridcolor": "white",
            "linecolor": "white",
            "ticks": ""
           }
          },
          "scene": {
           "xaxis": {
            "backgroundcolor": "#E5ECF6",
            "gridcolor": "white",
            "gridwidth": 2,
            "linecolor": "white",
            "showbackground": true,
            "ticks": "",
            "zerolinecolor": "white"
           },
           "yaxis": {
            "backgroundcolor": "#E5ECF6",
            "gridcolor": "white",
            "gridwidth": 2,
            "linecolor": "white",
            "showbackground": true,
            "ticks": "",
            "zerolinecolor": "white"
           },
           "zaxis": {
            "backgroundcolor": "#E5ECF6",
            "gridcolor": "white",
            "gridwidth": 2,
            "linecolor": "white",
            "showbackground": true,
            "ticks": "",
            "zerolinecolor": "white"
           }
          },
          "shapedefaults": {
           "line": {
            "color": "#2a3f5f"
           }
          },
          "ternary": {
           "aaxis": {
            "gridcolor": "white",
            "linecolor": "white",
            "ticks": ""
           },
           "baxis": {
            "gridcolor": "white",
            "linecolor": "white",
            "ticks": ""
           },
           "bgcolor": "#E5ECF6",
           "caxis": {
            "gridcolor": "white",
            "linecolor": "white",
            "ticks": ""
           }
          },
          "title": {
           "x": 0.05
          },
          "xaxis": {
           "automargin": true,
           "gridcolor": "white",
           "linecolor": "white",
           "ticks": "",
           "title": {
            "standoff": 15
           },
           "zerolinecolor": "white",
           "zerolinewidth": 2
          },
          "yaxis": {
           "automargin": true,
           "gridcolor": "white",
           "linecolor": "white",
           "ticks": "",
           "title": {
            "standoff": 15
           },
           "zerolinecolor": "white",
           "zerolinewidth": 2
          }
         }
        },
        "title": {
         "text": "Hyperparameter Importances"
        },
        "xaxis": {
         "title": {
          "text": "Hyperparameter Importance"
         }
        },
        "yaxis": {
         "title": {
          "text": "Hyperparameter"
         }
        }
       }
      }
     },
     "metadata": {},
     "output_type": "display_data"
    }
   ],
   "source": [
    "# Visualize parameter importances.\n",
    "plot_param_importances(study)"
   ]
  },
  {
   "cell_type": "code",
   "execution_count": 15,
   "metadata": {},
   "outputs": [
    {
     "data": {
      "application/vnd.plotly.v1+json": {
       "config": {
        "plotlyServerURL": "https://plot.ly"
       },
       "data": [
        {
         "cliponaxis": false,
         "hovertemplate": [
          "lr (CategoricalDistribution): 0.03683852742782113<extra></extra>",
          "y_dim (IntDistribution): 0.03799413735379915<extra></extra>",
          "s_dim (IntDistribution): 0.041755054452754306<extra></extra>",
          "z_dim (IntDistribution): 0.061655783583331125<extra></extra>",
          "n_layers_surv_piecewise (CategoricalDistribution): 0.22736996269549503<extra></extra>",
          "batch_size (CategoricalDistribution): 0.5943865344867992<extra></extra>"
         ],
         "name": "duration",
         "orientation": "h",
         "text": [
          "0.04",
          "0.04",
          "0.04",
          "0.06",
          "0.23",
          "0.59"
         ],
         "textposition": "outside",
         "type": "bar",
         "x": [
          0.03683852742782113,
          0.03799413735379915,
          0.041755054452754306,
          0.061655783583331125,
          0.22736996269549503,
          0.5943865344867992
         ],
         "y": [
          "lr",
          "y_dim",
          "s_dim",
          "z_dim",
          "n_layers_surv_piecewise",
          "batch_size"
         ]
        }
       ],
       "layout": {
        "template": {
         "data": {
          "bar": [
           {
            "error_x": {
             "color": "#2a3f5f"
            },
            "error_y": {
             "color": "#2a3f5f"
            },
            "marker": {
             "line": {
              "color": "#E5ECF6",
              "width": 0.5
             },
             "pattern": {
              "fillmode": "overlay",
              "size": 10,
              "solidity": 0.2
             }
            },
            "type": "bar"
           }
          ],
          "barpolar": [
           {
            "marker": {
             "line": {
              "color": "#E5ECF6",
              "width": 0.5
             },
             "pattern": {
              "fillmode": "overlay",
              "size": 10,
              "solidity": 0.2
             }
            },
            "type": "barpolar"
           }
          ],
          "carpet": [
           {
            "aaxis": {
             "endlinecolor": "#2a3f5f",
             "gridcolor": "white",
             "linecolor": "white",
             "minorgridcolor": "white",
             "startlinecolor": "#2a3f5f"
            },
            "baxis": {
             "endlinecolor": "#2a3f5f",
             "gridcolor": "white",
             "linecolor": "white",
             "minorgridcolor": "white",
             "startlinecolor": "#2a3f5f"
            },
            "type": "carpet"
           }
          ],
          "choropleth": [
           {
            "colorbar": {
             "outlinewidth": 0,
             "ticks": ""
            },
            "type": "choropleth"
           }
          ],
          "contour": [
           {
            "colorbar": {
             "outlinewidth": 0,
             "ticks": ""
            },
            "colorscale": [
             [
              0,
              "#0d0887"
             ],
             [
              0.1111111111111111,
              "#46039f"
             ],
             [
              0.2222222222222222,
              "#7201a8"
             ],
             [
              0.3333333333333333,
              "#9c179e"
             ],
             [
              0.4444444444444444,
              "#bd3786"
             ],
             [
              0.5555555555555556,
              "#d8576b"
             ],
             [
              0.6666666666666666,
              "#ed7953"
             ],
             [
              0.7777777777777778,
              "#fb9f3a"
             ],
             [
              0.8888888888888888,
              "#fdca26"
             ],
             [
              1,
              "#f0f921"
             ]
            ],
            "type": "contour"
           }
          ],
          "contourcarpet": [
           {
            "colorbar": {
             "outlinewidth": 0,
             "ticks": ""
            },
            "type": "contourcarpet"
           }
          ],
          "heatmap": [
           {
            "colorbar": {
             "outlinewidth": 0,
             "ticks": ""
            },
            "colorscale": [
             [
              0,
              "#0d0887"
             ],
             [
              0.1111111111111111,
              "#46039f"
             ],
             [
              0.2222222222222222,
              "#7201a8"
             ],
             [
              0.3333333333333333,
              "#9c179e"
             ],
             [
              0.4444444444444444,
              "#bd3786"
             ],
             [
              0.5555555555555556,
              "#d8576b"
             ],
             [
              0.6666666666666666,
              "#ed7953"
             ],
             [
              0.7777777777777778,
              "#fb9f3a"
             ],
             [
              0.8888888888888888,
              "#fdca26"
             ],
             [
              1,
              "#f0f921"
             ]
            ],
            "type": "heatmap"
           }
          ],
          "histogram": [
           {
            "marker": {
             "pattern": {
              "fillmode": "overlay",
              "size": 10,
              "solidity": 0.2
             }
            },
            "type": "histogram"
           }
          ],
          "histogram2d": [
           {
            "colorbar": {
             "outlinewidth": 0,
             "ticks": ""
            },
            "colorscale": [
             [
              0,
              "#0d0887"
             ],
             [
              0.1111111111111111,
              "#46039f"
             ],
             [
              0.2222222222222222,
              "#7201a8"
             ],
             [
              0.3333333333333333,
              "#9c179e"
             ],
             [
              0.4444444444444444,
              "#bd3786"
             ],
             [
              0.5555555555555556,
              "#d8576b"
             ],
             [
              0.6666666666666666,
              "#ed7953"
             ],
             [
              0.7777777777777778,
              "#fb9f3a"
             ],
             [
              0.8888888888888888,
              "#fdca26"
             ],
             [
              1,
              "#f0f921"
             ]
            ],
            "type": "histogram2d"
           }
          ],
          "histogram2dcontour": [
           {
            "colorbar": {
             "outlinewidth": 0,
             "ticks": ""
            },
            "colorscale": [
             [
              0,
              "#0d0887"
             ],
             [
              0.1111111111111111,
              "#46039f"
             ],
             [
              0.2222222222222222,
              "#7201a8"
             ],
             [
              0.3333333333333333,
              "#9c179e"
             ],
             [
              0.4444444444444444,
              "#bd3786"
             ],
             [
              0.5555555555555556,
              "#d8576b"
             ],
             [
              0.6666666666666666,
              "#ed7953"
             ],
             [
              0.7777777777777778,
              "#fb9f3a"
             ],
             [
              0.8888888888888888,
              "#fdca26"
             ],
             [
              1,
              "#f0f921"
             ]
            ],
            "type": "histogram2dcontour"
           }
          ],
          "mesh3d": [
           {
            "colorbar": {
             "outlinewidth": 0,
             "ticks": ""
            },
            "type": "mesh3d"
           }
          ],
          "parcoords": [
           {
            "line": {
             "colorbar": {
              "outlinewidth": 0,
              "ticks": ""
             }
            },
            "type": "parcoords"
           }
          ],
          "pie": [
           {
            "automargin": true,
            "type": "pie"
           }
          ],
          "scatter": [
           {
            "fillpattern": {
             "fillmode": "overlay",
             "size": 10,
             "solidity": 0.2
            },
            "type": "scatter"
           }
          ],
          "scatter3d": [
           {
            "line": {
             "colorbar": {
              "outlinewidth": 0,
              "ticks": ""
             }
            },
            "marker": {
             "colorbar": {
              "outlinewidth": 0,
              "ticks": ""
             }
            },
            "type": "scatter3d"
           }
          ],
          "scattercarpet": [
           {
            "marker": {
             "colorbar": {
              "outlinewidth": 0,
              "ticks": ""
             }
            },
            "type": "scattercarpet"
           }
          ],
          "scattergeo": [
           {
            "marker": {
             "colorbar": {
              "outlinewidth": 0,
              "ticks": ""
             }
            },
            "type": "scattergeo"
           }
          ],
          "scattergl": [
           {
            "marker": {
             "colorbar": {
              "outlinewidth": 0,
              "ticks": ""
             }
            },
            "type": "scattergl"
           }
          ],
          "scattermap": [
           {
            "marker": {
             "colorbar": {
              "outlinewidth": 0,
              "ticks": ""
             }
            },
            "type": "scattermap"
           }
          ],
          "scattermapbox": [
           {
            "marker": {
             "colorbar": {
              "outlinewidth": 0,
              "ticks": ""
             }
            },
            "type": "scattermapbox"
           }
          ],
          "scatterpolar": [
           {
            "marker": {
             "colorbar": {
              "outlinewidth": 0,
              "ticks": ""
             }
            },
            "type": "scatterpolar"
           }
          ],
          "scatterpolargl": [
           {
            "marker": {
             "colorbar": {
              "outlinewidth": 0,
              "ticks": ""
             }
            },
            "type": "scatterpolargl"
           }
          ],
          "scatterternary": [
           {
            "marker": {
             "colorbar": {
              "outlinewidth": 0,
              "ticks": ""
             }
            },
            "type": "scatterternary"
           }
          ],
          "surface": [
           {
            "colorbar": {
             "outlinewidth": 0,
             "ticks": ""
            },
            "colorscale": [
             [
              0,
              "#0d0887"
             ],
             [
              0.1111111111111111,
              "#46039f"
             ],
             [
              0.2222222222222222,
              "#7201a8"
             ],
             [
              0.3333333333333333,
              "#9c179e"
             ],
             [
              0.4444444444444444,
              "#bd3786"
             ],
             [
              0.5555555555555556,
              "#d8576b"
             ],
             [
              0.6666666666666666,
              "#ed7953"
             ],
             [
              0.7777777777777778,
              "#fb9f3a"
             ],
             [
              0.8888888888888888,
              "#fdca26"
             ],
             [
              1,
              "#f0f921"
             ]
            ],
            "type": "surface"
           }
          ],
          "table": [
           {
            "cells": {
             "fill": {
              "color": "#EBF0F8"
             },
             "line": {
              "color": "white"
             }
            },
            "header": {
             "fill": {
              "color": "#C8D4E3"
             },
             "line": {
              "color": "white"
             }
            },
            "type": "table"
           }
          ]
         },
         "layout": {
          "annotationdefaults": {
           "arrowcolor": "#2a3f5f",
           "arrowhead": 0,
           "arrowwidth": 1
          },
          "autotypenumbers": "strict",
          "coloraxis": {
           "colorbar": {
            "outlinewidth": 0,
            "ticks": ""
           }
          },
          "colorscale": {
           "diverging": [
            [
             0,
             "#8e0152"
            ],
            [
             0.1,
             "#c51b7d"
            ],
            [
             0.2,
             "#de77ae"
            ],
            [
             0.3,
             "#f1b6da"
            ],
            [
             0.4,
             "#fde0ef"
            ],
            [
             0.5,
             "#f7f7f7"
            ],
            [
             0.6,
             "#e6f5d0"
            ],
            [
             0.7,
             "#b8e186"
            ],
            [
             0.8,
             "#7fbc41"
            ],
            [
             0.9,
             "#4d9221"
            ],
            [
             1,
             "#276419"
            ]
           ],
           "sequential": [
            [
             0,
             "#0d0887"
            ],
            [
             0.1111111111111111,
             "#46039f"
            ],
            [
             0.2222222222222222,
             "#7201a8"
            ],
            [
             0.3333333333333333,
             "#9c179e"
            ],
            [
             0.4444444444444444,
             "#bd3786"
            ],
            [
             0.5555555555555556,
             "#d8576b"
            ],
            [
             0.6666666666666666,
             "#ed7953"
            ],
            [
             0.7777777777777778,
             "#fb9f3a"
            ],
            [
             0.8888888888888888,
             "#fdca26"
            ],
            [
             1,
             "#f0f921"
            ]
           ],
           "sequentialminus": [
            [
             0,
             "#0d0887"
            ],
            [
             0.1111111111111111,
             "#46039f"
            ],
            [
             0.2222222222222222,
             "#7201a8"
            ],
            [
             0.3333333333333333,
             "#9c179e"
            ],
            [
             0.4444444444444444,
             "#bd3786"
            ],
            [
             0.5555555555555556,
             "#d8576b"
            ],
            [
             0.6666666666666666,
             "#ed7953"
            ],
            [
             0.7777777777777778,
             "#fb9f3a"
            ],
            [
             0.8888888888888888,
             "#fdca26"
            ],
            [
             1,
             "#f0f921"
            ]
           ]
          },
          "colorway": [
           "#636efa",
           "#EF553B",
           "#00cc96",
           "#ab63fa",
           "#FFA15A",
           "#19d3f3",
           "#FF6692",
           "#B6E880",
           "#FF97FF",
           "#FECB52"
          ],
          "font": {
           "color": "#2a3f5f"
          },
          "geo": {
           "bgcolor": "white",
           "lakecolor": "white",
           "landcolor": "#E5ECF6",
           "showlakes": true,
           "showland": true,
           "subunitcolor": "white"
          },
          "hoverlabel": {
           "align": "left"
          },
          "hovermode": "closest",
          "mapbox": {
           "style": "light"
          },
          "paper_bgcolor": "white",
          "plot_bgcolor": "#E5ECF6",
          "polar": {
           "angularaxis": {
            "gridcolor": "white",
            "linecolor": "white",
            "ticks": ""
           },
           "bgcolor": "#E5ECF6",
           "radialaxis": {
            "gridcolor": "white",
            "linecolor": "white",
            "ticks": ""
           }
          },
          "scene": {
           "xaxis": {
            "backgroundcolor": "#E5ECF6",
            "gridcolor": "white",
            "gridwidth": 2,
            "linecolor": "white",
            "showbackground": true,
            "ticks": "",
            "zerolinecolor": "white"
           },
           "yaxis": {
            "backgroundcolor": "#E5ECF6",
            "gridcolor": "white",
            "gridwidth": 2,
            "linecolor": "white",
            "showbackground": true,
            "ticks": "",
            "zerolinecolor": "white"
           },
           "zaxis": {
            "backgroundcolor": "#E5ECF6",
            "gridcolor": "white",
            "gridwidth": 2,
            "linecolor": "white",
            "showbackground": true,
            "ticks": "",
            "zerolinecolor": "white"
           }
          },
          "shapedefaults": {
           "line": {
            "color": "#2a3f5f"
           }
          },
          "ternary": {
           "aaxis": {
            "gridcolor": "white",
            "linecolor": "white",
            "ticks": ""
           },
           "baxis": {
            "gridcolor": "white",
            "linecolor": "white",
            "ticks": ""
           },
           "bgcolor": "#E5ECF6",
           "caxis": {
            "gridcolor": "white",
            "linecolor": "white",
            "ticks": ""
           }
          },
          "title": {
           "x": 0.05
          },
          "xaxis": {
           "automargin": true,
           "gridcolor": "white",
           "linecolor": "white",
           "ticks": "",
           "title": {
            "standoff": 15
           },
           "zerolinecolor": "white",
           "zerolinewidth": 2
          },
          "yaxis": {
           "automargin": true,
           "gridcolor": "white",
           "linecolor": "white",
           "ticks": "",
           "title": {
            "standoff": 15
           },
           "zerolinecolor": "white",
           "zerolinewidth": 2
          }
         }
        },
        "title": {
         "text": "Hyperparameter Importances"
        },
        "xaxis": {
         "title": {
          "text": "Hyperparameter Importance"
         }
        },
        "yaxis": {
         "title": {
          "text": "Hyperparameter"
         }
        }
       }
      }
     },
     "metadata": {},
     "output_type": "display_data"
    }
   ],
   "source": [
    "# Learn which hyperparameters are affecting the trial duration with hyperparameter importance.\n",
    "optuna.visualization.plot_param_importances(\n",
    "    study, target=lambda t: t.duration.total_seconds(), target_name=\"duration\"\n",
    ")"
   ]
  },
  {
   "cell_type": "code",
   "execution_count": 16,
   "metadata": {},
   "outputs": [
    {
     "data": {
      "application/vnd.plotly.v1+json": {
       "config": {
        "plotlyServerURL": "https://plot.ly"
       },
       "data": [
        {
         "mode": "lines",
         "name": "optuna_results/optuna_study_aids_HI-VAE",
         "type": "scatter",
         "x": {
          "bdata": "/fAVpOXInT/Nk/ZWzfWeP06b64RaEaA/tuxbXs6noD8ePsw3Qj6hP4aPPBG21KE/7uCs6ilroj9WMh3EnQGjP76DjZ0RmKM/JtX9doUupD+OJm5Q+cSkP/Z33iltW6U/XslOA+HxpT/GGr/cVIimPy5sL7bIHqc/lr2fjzy1pz/+DhBpsEuoP2ZggEIk4qg/zrHwG5h4qT82A2H1Cw+qP55U0c5/pao/BqZBqPM7qz9u97GBZ9KrP9ZIIlvbaKw/PpqSNE//rD+m6wIOw5WtPw49c+c2LK4/do7jwKrCrj/e31OaHlmvP0YxxHOS768/V0GaJgNDsD8LalITPY6wP7+SCgB32bA/c7vC7LAksT8n5HrZ6m+xP9sMM8Yku7E/jzXrsl4Gsj9DXqOfmFGyP/eGW4zSnLI/q68TeQzosj9f2MtlRjOzPxMBhFKAfrM/xyk8P7rJsz97UvQr9BS0Py97rBguYLQ/46NkBWirtD+XzBzyofa0P0v11N7bQbU//h2NyxWNtT+yRkW4T9i1P2Zv/aSJI7Y/Gpi1kcNutj/OwG1+/bm2P4LpJWs3Bbc/NhLeV3FQtz/qOpZEq5u3P55jTjHl5rc/UowGHh8yuD8Gtb4KWX24P7rddveSyLg/bgYv5MwTuT8iL+fQBl+5P9ZXn71Aqrk/ioBXqnr1uT8+qQ+XtEC6P/LRx4Pui7o/pvp/cCjXuj9aIzhdYiK7Pw5M8Emcbbs/wnSoNta4uz92nWAjEAS8PyrGGBBKT7w/3u7Q/IOavD+SF4npveW8P0ZAQdb3ML0/+mj5wjF8vT+ukbGva8e9P2K6aZylEr4/FuMhid9dvj/KC9p1Gam+P340kmJT9L4/Ml1KT40/vz/mhQI8x4q/P5quuigB1r8/p2u5ip0QwD8BgBWBOjbAP1uUcXfXW8A/tajNbXSBwD8PvSlkEafAP2nRhVquzMA/w+XhUEvywD8d+j1H6BfBP3cOmj2FPcE/0SL2MyJjwT8rN1Iqv4jBP4VLriBcrsE/318KF/nTwT85dGYNlvnBP5OIwgMzH8I/7Zwe+s9Ewj8=",
          "dtype": "f8"
         },
         "y": {
          "bdata": "kiRJkiRJwj+SJEmSJEnCP5IkSZIkScI/kiRJkiRJ0j+SJEmSJEnSP5IkSZIkSdI/kiRJkiRJ0j/btm3btm3bP9u2bdu2bds/27Zt27Zt2z/btm3btm3bP9u2bdu2bds/27Zt27Zt2z/btm3btm3bP9u2bdu2bds/27Zt27Zt2z/btm3btm3bP9u2bdu2bds/27Zt27Zt2z/btm3btm3bP9u2bdu2bds/27Zt27Zt2z/btm3btm3bP9u2bdu2bds/27Zt27Zt2z/btm3btm3bP9u2bdu2bds/27Zt27Zt2z/btm3btm3bP9u2bdu2bds/27Zt27Zt2z/btm3btm3bP9u2bdu2bds/27Zt27Zt2z/btm3btm3bP9u2bdu2bds/27Zt27Zt2z+SJEmSJEniP5IkSZIkSeI/kiRJkiRJ4j+SJEmSJEniP5IkSZIkSeI/kiRJkiRJ4j+SJEmSJEniP5IkSZIkSeI/kiRJkiRJ4j+SJEmSJEniP5IkSZIkSeI/kiRJkiRJ4j+SJEmSJEniP5IkSZIkSeI/kiRJkiRJ4j+SJEmSJEniP5IkSZIkSeI/kiRJkiRJ4j+SJEmSJEniP5IkSZIkSeI/kiRJkiRJ4j+SJEmSJEniP5IkSZIkSeI/kiRJkiRJ4j+SJEmSJEniP5IkSZIkSeI/kiRJkiRJ4j+SJEmSJEniP5IkSZIkSeI/t23btm3b5j/btm3btm3rP9u2bdu2bes/27Zt27Zt6z/btm3btm3rP9u2bdu2bes/27Zt27Zt6z/btm3btm3rP9u2bdu2bes/27Zt27Zt6z/btm3btm3rP9u2bdu2bes/27Zt27Zt6z/btm3btm3rP9u2bdu2bes/27Zt27Zt6z/btm3btm3rP9u2bdu2bes/27Zt27Zt6z/btm3btm3rP9u2bdu2bes/27Zt27Zt6z/btm3btm3rP9u2bdu2bes/27Zt27Zt6z/btm3btm3rP9u2bdu2bes/27Zt27Zt6z/btm3btm3rP9u2bdu2bes/27Zt27Zt6z/btm3btm3rP9u2bdu2bes/AAAAAAAA8D8=",
          "dtype": "f8"
         }
        }
       ],
       "layout": {
        "template": {
         "data": {
          "bar": [
           {
            "error_x": {
             "color": "#2a3f5f"
            },
            "error_y": {
             "color": "#2a3f5f"
            },
            "marker": {
             "line": {
              "color": "#E5ECF6",
              "width": 0.5
             },
             "pattern": {
              "fillmode": "overlay",
              "size": 10,
              "solidity": 0.2
             }
            },
            "type": "bar"
           }
          ],
          "barpolar": [
           {
            "marker": {
             "line": {
              "color": "#E5ECF6",
              "width": 0.5
             },
             "pattern": {
              "fillmode": "overlay",
              "size": 10,
              "solidity": 0.2
             }
            },
            "type": "barpolar"
           }
          ],
          "carpet": [
           {
            "aaxis": {
             "endlinecolor": "#2a3f5f",
             "gridcolor": "white",
             "linecolor": "white",
             "minorgridcolor": "white",
             "startlinecolor": "#2a3f5f"
            },
            "baxis": {
             "endlinecolor": "#2a3f5f",
             "gridcolor": "white",
             "linecolor": "white",
             "minorgridcolor": "white",
             "startlinecolor": "#2a3f5f"
            },
            "type": "carpet"
           }
          ],
          "choropleth": [
           {
            "colorbar": {
             "outlinewidth": 0,
             "ticks": ""
            },
            "type": "choropleth"
           }
          ],
          "contour": [
           {
            "colorbar": {
             "outlinewidth": 0,
             "ticks": ""
            },
            "colorscale": [
             [
              0,
              "#0d0887"
             ],
             [
              0.1111111111111111,
              "#46039f"
             ],
             [
              0.2222222222222222,
              "#7201a8"
             ],
             [
              0.3333333333333333,
              "#9c179e"
             ],
             [
              0.4444444444444444,
              "#bd3786"
             ],
             [
              0.5555555555555556,
              "#d8576b"
             ],
             [
              0.6666666666666666,
              "#ed7953"
             ],
             [
              0.7777777777777778,
              "#fb9f3a"
             ],
             [
              0.8888888888888888,
              "#fdca26"
             ],
             [
              1,
              "#f0f921"
             ]
            ],
            "type": "contour"
           }
          ],
          "contourcarpet": [
           {
            "colorbar": {
             "outlinewidth": 0,
             "ticks": ""
            },
            "type": "contourcarpet"
           }
          ],
          "heatmap": [
           {
            "colorbar": {
             "outlinewidth": 0,
             "ticks": ""
            },
            "colorscale": [
             [
              0,
              "#0d0887"
             ],
             [
              0.1111111111111111,
              "#46039f"
             ],
             [
              0.2222222222222222,
              "#7201a8"
             ],
             [
              0.3333333333333333,
              "#9c179e"
             ],
             [
              0.4444444444444444,
              "#bd3786"
             ],
             [
              0.5555555555555556,
              "#d8576b"
             ],
             [
              0.6666666666666666,
              "#ed7953"
             ],
             [
              0.7777777777777778,
              "#fb9f3a"
             ],
             [
              0.8888888888888888,
              "#fdca26"
             ],
             [
              1,
              "#f0f921"
             ]
            ],
            "type": "heatmap"
           }
          ],
          "histogram": [
           {
            "marker": {
             "pattern": {
              "fillmode": "overlay",
              "size": 10,
              "solidity": 0.2
             }
            },
            "type": "histogram"
           }
          ],
          "histogram2d": [
           {
            "colorbar": {
             "outlinewidth": 0,
             "ticks": ""
            },
            "colorscale": [
             [
              0,
              "#0d0887"
             ],
             [
              0.1111111111111111,
              "#46039f"
             ],
             [
              0.2222222222222222,
              "#7201a8"
             ],
             [
              0.3333333333333333,
              "#9c179e"
             ],
             [
              0.4444444444444444,
              "#bd3786"
             ],
             [
              0.5555555555555556,
              "#d8576b"
             ],
             [
              0.6666666666666666,
              "#ed7953"
             ],
             [
              0.7777777777777778,
              "#fb9f3a"
             ],
             [
              0.8888888888888888,
              "#fdca26"
             ],
             [
              1,
              "#f0f921"
             ]
            ],
            "type": "histogram2d"
           }
          ],
          "histogram2dcontour": [
           {
            "colorbar": {
             "outlinewidth": 0,
             "ticks": ""
            },
            "colorscale": [
             [
              0,
              "#0d0887"
             ],
             [
              0.1111111111111111,
              "#46039f"
             ],
             [
              0.2222222222222222,
              "#7201a8"
             ],
             [
              0.3333333333333333,
              "#9c179e"
             ],
             [
              0.4444444444444444,
              "#bd3786"
             ],
             [
              0.5555555555555556,
              "#d8576b"
             ],
             [
              0.6666666666666666,
              "#ed7953"
             ],
             [
              0.7777777777777778,
              "#fb9f3a"
             ],
             [
              0.8888888888888888,
              "#fdca26"
             ],
             [
              1,
              "#f0f921"
             ]
            ],
            "type": "histogram2dcontour"
           }
          ],
          "mesh3d": [
           {
            "colorbar": {
             "outlinewidth": 0,
             "ticks": ""
            },
            "type": "mesh3d"
           }
          ],
          "parcoords": [
           {
            "line": {
             "colorbar": {
              "outlinewidth": 0,
              "ticks": ""
             }
            },
            "type": "parcoords"
           }
          ],
          "pie": [
           {
            "automargin": true,
            "type": "pie"
           }
          ],
          "scatter": [
           {
            "fillpattern": {
             "fillmode": "overlay",
             "size": 10,
             "solidity": 0.2
            },
            "type": "scatter"
           }
          ],
          "scatter3d": [
           {
            "line": {
             "colorbar": {
              "outlinewidth": 0,
              "ticks": ""
             }
            },
            "marker": {
             "colorbar": {
              "outlinewidth": 0,
              "ticks": ""
             }
            },
            "type": "scatter3d"
           }
          ],
          "scattercarpet": [
           {
            "marker": {
             "colorbar": {
              "outlinewidth": 0,
              "ticks": ""
             }
            },
            "type": "scattercarpet"
           }
          ],
          "scattergeo": [
           {
            "marker": {
             "colorbar": {
              "outlinewidth": 0,
              "ticks": ""
             }
            },
            "type": "scattergeo"
           }
          ],
          "scattergl": [
           {
            "marker": {
             "colorbar": {
              "outlinewidth": 0,
              "ticks": ""
             }
            },
            "type": "scattergl"
           }
          ],
          "scattermap": [
           {
            "marker": {
             "colorbar": {
              "outlinewidth": 0,
              "ticks": ""
             }
            },
            "type": "scattermap"
           }
          ],
          "scattermapbox": [
           {
            "marker": {
             "colorbar": {
              "outlinewidth": 0,
              "ticks": ""
             }
            },
            "type": "scattermapbox"
           }
          ],
          "scatterpolar": [
           {
            "marker": {
             "colorbar": {
              "outlinewidth": 0,
              "ticks": ""
             }
            },
            "type": "scatterpolar"
           }
          ],
          "scatterpolargl": [
           {
            "marker": {
             "colorbar": {
              "outlinewidth": 0,
              "ticks": ""
             }
            },
            "type": "scatterpolargl"
           }
          ],
          "scatterternary": [
           {
            "marker": {
             "colorbar": {
              "outlinewidth": 0,
              "ticks": ""
             }
            },
            "type": "scatterternary"
           }
          ],
          "surface": [
           {
            "colorbar": {
             "outlinewidth": 0,
             "ticks": ""
            },
            "colorscale": [
             [
              0,
              "#0d0887"
             ],
             [
              0.1111111111111111,
              "#46039f"
             ],
             [
              0.2222222222222222,
              "#7201a8"
             ],
             [
              0.3333333333333333,
              "#9c179e"
             ],
             [
              0.4444444444444444,
              "#bd3786"
             ],
             [
              0.5555555555555556,
              "#d8576b"
             ],
             [
              0.6666666666666666,
              "#ed7953"
             ],
             [
              0.7777777777777778,
              "#fb9f3a"
             ],
             [
              0.8888888888888888,
              "#fdca26"
             ],
             [
              1,
              "#f0f921"
             ]
            ],
            "type": "surface"
           }
          ],
          "table": [
           {
            "cells": {
             "fill": {
              "color": "#EBF0F8"
             },
             "line": {
              "color": "white"
             }
            },
            "header": {
             "fill": {
              "color": "#C8D4E3"
             },
             "line": {
              "color": "white"
             }
            },
            "type": "table"
           }
          ]
         },
         "layout": {
          "annotationdefaults": {
           "arrowcolor": "#2a3f5f",
           "arrowhead": 0,
           "arrowwidth": 1
          },
          "autotypenumbers": "strict",
          "coloraxis": {
           "colorbar": {
            "outlinewidth": 0,
            "ticks": ""
           }
          },
          "colorscale": {
           "diverging": [
            [
             0,
             "#8e0152"
            ],
            [
             0.1,
             "#c51b7d"
            ],
            [
             0.2,
             "#de77ae"
            ],
            [
             0.3,
             "#f1b6da"
            ],
            [
             0.4,
             "#fde0ef"
            ],
            [
             0.5,
             "#f7f7f7"
            ],
            [
             0.6,
             "#e6f5d0"
            ],
            [
             0.7,
             "#b8e186"
            ],
            [
             0.8,
             "#7fbc41"
            ],
            [
             0.9,
             "#4d9221"
            ],
            [
             1,
             "#276419"
            ]
           ],
           "sequential": [
            [
             0,
             "#0d0887"
            ],
            [
             0.1111111111111111,
             "#46039f"
            ],
            [
             0.2222222222222222,
             "#7201a8"
            ],
            [
             0.3333333333333333,
             "#9c179e"
            ],
            [
             0.4444444444444444,
             "#bd3786"
            ],
            [
             0.5555555555555556,
             "#d8576b"
            ],
            [
             0.6666666666666666,
             "#ed7953"
            ],
            [
             0.7777777777777778,
             "#fb9f3a"
            ],
            [
             0.8888888888888888,
             "#fdca26"
            ],
            [
             1,
             "#f0f921"
            ]
           ],
           "sequentialminus": [
            [
             0,
             "#0d0887"
            ],
            [
             0.1111111111111111,
             "#46039f"
            ],
            [
             0.2222222222222222,
             "#7201a8"
            ],
            [
             0.3333333333333333,
             "#9c179e"
            ],
            [
             0.4444444444444444,
             "#bd3786"
            ],
            [
             0.5555555555555556,
             "#d8576b"
            ],
            [
             0.6666666666666666,
             "#ed7953"
            ],
            [
             0.7777777777777778,
             "#fb9f3a"
            ],
            [
             0.8888888888888888,
             "#fdca26"
            ],
            [
             1,
             "#f0f921"
            ]
           ]
          },
          "colorway": [
           "#636efa",
           "#EF553B",
           "#00cc96",
           "#ab63fa",
           "#FFA15A",
           "#19d3f3",
           "#FF6692",
           "#B6E880",
           "#FF97FF",
           "#FECB52"
          ],
          "font": {
           "color": "#2a3f5f"
          },
          "geo": {
           "bgcolor": "white",
           "lakecolor": "white",
           "landcolor": "#E5ECF6",
           "showlakes": true,
           "showland": true,
           "subunitcolor": "white"
          },
          "hoverlabel": {
           "align": "left"
          },
          "hovermode": "closest",
          "mapbox": {
           "style": "light"
          },
          "paper_bgcolor": "white",
          "plot_bgcolor": "#E5ECF6",
          "polar": {
           "angularaxis": {
            "gridcolor": "white",
            "linecolor": "white",
            "ticks": ""
           },
           "bgcolor": "#E5ECF6",
           "radialaxis": {
            "gridcolor": "white",
            "linecolor": "white",
            "ticks": ""
           }
          },
          "scene": {
           "xaxis": {
            "backgroundcolor": "#E5ECF6",
            "gridcolor": "white",
            "gridwidth": 2,
            "linecolor": "white",
            "showbackground": true,
            "ticks": "",
            "zerolinecolor": "white"
           },
           "yaxis": {
            "backgroundcolor": "#E5ECF6",
            "gridcolor": "white",
            "gridwidth": 2,
            "linecolor": "white",
            "showbackground": true,
            "ticks": "",
            "zerolinecolor": "white"
           },
           "zaxis": {
            "backgroundcolor": "#E5ECF6",
            "gridcolor": "white",
            "gridwidth": 2,
            "linecolor": "white",
            "showbackground": true,
            "ticks": "",
            "zerolinecolor": "white"
           }
          },
          "shapedefaults": {
           "line": {
            "color": "#2a3f5f"
           }
          },
          "ternary": {
           "aaxis": {
            "gridcolor": "white",
            "linecolor": "white",
            "ticks": ""
           },
           "baxis": {
            "gridcolor": "white",
            "linecolor": "white",
            "ticks": ""
           },
           "bgcolor": "#E5ECF6",
           "caxis": {
            "gridcolor": "white",
            "linecolor": "white",
            "ticks": ""
           }
          },
          "title": {
           "x": 0.05
          },
          "xaxis": {
           "automargin": true,
           "gridcolor": "white",
           "linecolor": "white",
           "ticks": "",
           "title": {
            "standoff": 15
           },
           "zerolinecolor": "white",
           "zerolinewidth": 2
          },
          "yaxis": {
           "automargin": true,
           "gridcolor": "white",
           "linecolor": "white",
           "ticks": "",
           "title": {
            "standoff": 15
           },
           "zerolinecolor": "white",
           "zerolinewidth": 2
          }
         }
        },
        "title": {
         "text": "Empirical Distribution Function Plot"
        },
        "xaxis": {
         "title": {
          "text": "Objective Value"
         }
        },
        "yaxis": {
         "range": [
          0,
          1
         ],
         "title": {
          "text": "Cumulative Probability"
         }
        }
       }
      }
     },
     "metadata": {},
     "output_type": "display_data"
    }
   ],
   "source": [
    "# Visualize empirical distribution function of the objective.\n",
    "plot_edf(study)"
   ]
  },
  {
   "cell_type": "markdown",
   "metadata": {},
   "source": [
    "### Generation with best parameters"
   ]
  },
  {
   "cell_type": "code",
   "execution_count": 17,
   "metadata": {},
   "outputs": [
    {
     "name": "stdout",
     "output_type": "stream",
     "text": [
      "====================================================================================================\n",
      "Generate data by HI-VAE\n",
      "Epoch: [ 0]  time: 0.1166, ELBO_train: -21.38756299, KL_z: 1.39211363, KL_s: 0.06924586, reconstruction loss: -19.92620350\n",
      "Epoch: [100]  time: 3.9746, ELBO_train: -18.56948352, KL_z: 0.47179049, KL_s: 0.04230353, reconstruction loss: -18.05538950\n",
      "Epoch: [200]  time: 7.7671, ELBO_train: -17.57668519, KL_z: 0.58981910, KL_s: 0.04438575, reconstruction loss: -16.94248035\n",
      "Epoch: [300]  time: 11.4820, ELBO_train: -17.36677313, KL_z: 0.71823028, KL_s: 0.04496202, reconstruction loss: -16.60358083\n",
      "Epoch: [400]  time: 15.2110, ELBO_train: -17.37563562, KL_z: 0.80208803, KL_s: 0.04645152, reconstruction loss: -16.52709607\n"
     ]
    },
    {
     "name": "stderr",
     "output_type": "stream",
     "text": [
      "[2025-05-24T11:12:02.116208+0200][39140][CRITICAL] module disabled: /opt/anaconda3/envs/hivae/lib/python3.13/site-packages/synthcity/plugins/generic/plugin_goggle.py\n",
      "[2025-05-24T11:12:02.116999+0200][39140][CRITICAL] load failed: module 'synthcity.plugins.privacy.plugin_decaf' has no attribute 'plugin'\n",
      "[2025-05-24T11:12:02.117234+0200][39140][CRITICAL] load failed: module 'synthcity.plugins.privacy.plugin_decaf' has no attribute 'plugin'\n",
      "[2025-05-24T11:12:02.117439+0200][39140][CRITICAL] module plugin_decaf load failed\n",
      "[2025-05-24T11:12:02.223824+0200][39140][CRITICAL] module disabled: /opt/anaconda3/envs/hivae/lib/python3.13/site-packages/synthcity/plugins/generic/plugin_goggle.py\n",
      "[2025-05-24T11:12:02.224345+0200][39140][CRITICAL] load failed: module 'synthcity.plugins.privacy.plugin_decaf' has no attribute 'plugin'\n",
      "[2025-05-24T11:12:02.224587+0200][39140][CRITICAL] load failed: module 'synthcity.plugins.privacy.plugin_decaf' has no attribute 'plugin'\n",
      "[2025-05-24T11:12:02.224788+0200][39140][CRITICAL] module plugin_decaf load failed\n"
     ]
    },
    {
     "name": "stdout",
     "output_type": "stream",
     "text": [
      "Training finished.\n",
      "====================================================================================================\n",
      "Generate data by Surv-GAN\n"
     ]
    },
    {
     "name": "stderr",
     "output_type": "stream",
     "text": [
      "  6%|▋         | 649/10000 [00:11<02:40, 58.31it/s]\n",
      "[2025-05-24T11:12:22.903290+0200][39140][CRITICAL] module disabled: /opt/anaconda3/envs/hivae/lib/python3.13/site-packages/synthcity/plugins/generic/plugin_goggle.py\n",
      "[2025-05-24T11:12:22.904250+0200][39140][CRITICAL] load failed: module 'synthcity.plugins.privacy.plugin_decaf' has no attribute 'plugin'\n",
      "[2025-05-24T11:12:22.904493+0200][39140][CRITICAL] load failed: module 'synthcity.plugins.privacy.plugin_decaf' has no attribute 'plugin'\n",
      "[2025-05-24T11:12:22.904703+0200][39140][CRITICAL] module plugin_decaf load failed\n",
      "[2025-05-24T11:12:22.917488+0200][39140][CRITICAL] module disabled: /opt/anaconda3/envs/hivae/lib/python3.13/site-packages/synthcity/plugins/generic/plugin_goggle.py\n",
      "[2025-05-24T11:12:22.918300+0200][39140][CRITICAL] load failed: module 'synthcity.plugins.privacy.plugin_decaf' has no attribute 'plugin'\n",
      "[2025-05-24T11:12:22.918671+0200][39140][CRITICAL] load failed: module 'synthcity.plugins.privacy.plugin_decaf' has no attribute 'plugin'\n",
      "[2025-05-24T11:12:22.918950+0200][39140][CRITICAL] module plugin_decaf load failed\n"
     ]
    },
    {
     "name": "stdout",
     "output_type": "stream",
     "text": [
      "====================================================================================================\n",
      "Generate data by Surv-VAE\n"
     ]
    },
    {
     "name": "stderr",
     "output_type": "stream",
     "text": [
      "100%|██████████| 100/100 [00:14<00:00,  7.07it/s]\n"
     ]
    }
   ],
   "source": [
    "# the datasets used for training is data_init_control\n",
    "n_generated_dataset = 100\n",
    "\n",
    "T_surv = torch.Tensor(df_init_control.time)\n",
    "T_surv_norm = (T_surv - T_surv.min()) / (T_surv.max() - T_surv.min())\n",
    "n_intervals = 5\n",
    "T_intervals = torch.linspace(0., T_surv_norm.max(), n_intervals)\n",
    "T_intervals = torch.cat([T_intervals, torch.tensor([2 * T_intervals[-1] - T_intervals[-2]])])\n",
    "intervals = [(T_intervals[i].item(), T_intervals[i + 1].item()) for i in range(len(T_intervals) - 1)]\n",
    "\n",
    "generators_sel = [\"HI-VAE\", \"Surv-GAN\", \"Surv-VAE\"]\n",
    "data_gen_control_dict = {}\n",
    "for generator_name in generators_sel:\n",
    "    with open(\"optuna_results/best_params_{}_{}.json\".format(name_config, generator_name), \"r\") as f:\n",
    "        best_params = json.load(f)\n",
    "    print(\"=\" * 100)\n",
    "    print(\"Generate data by \" + generator_name)\n",
    "    if generator_name in [\"HI-VAE\"]:\n",
    "        data_gen_control_dict[generator_name] = generators_dict[generator_name].run((data_init_control_encoded, intervals), miss_mask_control, true_miss_mask_control, feat_types_file_control, feat_types_dict, n_generated_dataset, params=best_params)\n",
    "    else:\n",
    "        data_gen_control_dict[generator_name] = generators_dict[generator_name].run(data_init_control, columns=aids_control_fnames, target_column=\"censor\", time_to_event_column=\"time\", n_generated_sample=n_generated_dataset, params=best_params)"
   ]
  },
  {
   "cell_type": "code",
   "execution_count": 18,
   "metadata": {},
   "outputs": [],
   "source": [
    "n_generated_dataset = 100"
   ]
  },
  {
   "cell_type": "code",
   "execution_count": 19,
   "metadata": {},
   "outputs": [],
   "source": [
    "# Convert generated data into dataframe\n",
    "df_gen_control_dict = {}\n",
    "df_syn_dict = {}\n",
    "for generator_name in generators_sel:\n",
    "    list_df_gen_control = []\n",
    "    data_syn = []\n",
    "    for j in range(n_generated_dataset):\n",
    "        df_gen_control_j = pd.DataFrame(data_gen_control_dict[generator_name][j].numpy(), columns=aids_control_fnames)\n",
    "        df_gen_control_j['treatment'] = 0\n",
    "        list_df_gen_control.append(df_gen_control_j)\n",
    "        data_syn.append(pd.concat([df_init_treated, df_gen_control_j], ignore_index=True))\n",
    "        \n",
    "    df_gen_control_dict[generator_name] = list_df_gen_control\n",
    "    df_syn_dict[generator_name] = data_syn"
   ]
  },
  {
   "cell_type": "markdown",
   "metadata": {},
   "source": [
    "### 3. Compare generation performance"
   ]
  },
  {
   "cell_type": "markdown",
   "metadata": {},
   "source": [
    "#### 3.1. General metrics"
   ]
  },
  {
   "cell_type": "code",
   "execution_count": 20,
   "metadata": {},
   "outputs": [],
   "source": [
    "from utils.metrics import general_metrics\n",
    "general_scores = []\n",
    "for generator_name in generators_sel:\n",
    "    general_scores.append(general_metrics(df_init_control, df_gen_control_dict[generator_name], generator_name))\n",
    "general_scores_df = pd.concat(general_scores)"
   ]
  },
  {
   "cell_type": "markdown",
   "metadata": {},
   "source": [
    "##### 3.1.1. Data resemblance"
   ]
  },
  {
   "cell_type": "code",
   "execution_count": 21,
   "metadata": {},
   "outputs": [
    {
     "data": {
      "image/png": "[encoded data removed]",
      "text/plain": [
       "<Figure size 1200x600 with 2 Axes>"
      ]
     },
     "metadata": {},
     "output_type": "display_data"
    }
   ],
   "source": [
    "from utils.visualization import visualize_general_perf\n",
    "visualize_general_perf(general_scores_df, metrics=[['J-S distance', \"min\"], ['KS test', \"max\"]])"
   ]
  },
  {
   "cell_type": "markdown",
   "metadata": {},
   "source": [
    "##### 3.1.2. Utility"
   ]
  },
  {
   "cell_type": "code",
   "execution_count": 22,
   "metadata": {},
   "outputs": [
    {
     "data": {
      "image/png": "[encoded data removed]",
      "text/plain": [
       "<Figure size 1200x600 with 2 Axes>"
      ]
     },
     "metadata": {},
     "output_type": "display_data"
    }
   ],
   "source": [
    "visualize_general_perf(general_scores_df, metrics=[['Survival curves distance', \"min\"], ['Detection XGB', \"min\"]])"
   ]
  },
  {
   "cell_type": "markdown",
   "metadata": {},
   "source": [
    "#### 3.1.3. Privacy"
   ]
  },
  {
   "cell_type": "code",
   "execution_count": 23,
   "metadata": {},
   "outputs": [
    {
     "data": {
      "image/png": "[encoded data removed]",
      "text/plain": [
       "<Figure size 1200x600 with 2 Axes>"
      ]
     },
     "metadata": {},
     "output_type": "display_data"
    }
   ],
   "source": [
    "visualize_general_perf(general_scores_df, metrics=[['NNDR', \"min\"], ['K-map score', \"max\"]])"
   ]
  },
  {
   "cell_type": "markdown",
   "metadata": {},
   "source": [
    "#### Replicability metrics"
   ]
  },
  {
   "cell_type": "code",
   "execution_count": 24,
   "metadata": {},
   "outputs": [],
   "source": [
    "from utils.metrics import replicability_ext\n",
    "replicability_scores = []\n",
    "for generator_name in generators_sel:\n",
    "    replicability_scores.append(replicability_ext(df_init, df_syn_dict[generator_name], generator_name))\n",
    "replicability_scores_df = pd.concat(replicability_scores, ignore_index=True)"
   ]
  },
  {
   "cell_type": "code",
   "execution_count": 25,
   "metadata": {},
   "outputs": [
    {
     "data": {
      "image/png": "[encoded data removed]",
      "text/plain": [
       "<Figure size 2400x600 with 4 Axes>"
      ]
     },
     "metadata": {},
     "output_type": "display_data"
    }
   ],
   "source": [
    "from utils.visualization import visualize_replicability_perf\n",
    "visualize_replicability_perf(replicability_scores_df)"
   ]
  },
  {
   "cell_type": "code",
   "execution_count": null,
   "metadata": {},
   "outputs": [],
   "source": []
  },
  {
   "cell_type": "code",
   "execution_count": null,
   "metadata": {},
   "outputs": [],
   "source": [
    "# # Surv-GAN hyperparameter search: the files best_params_aids_Surv-GAN.json and optuna_study_aids_Surv-GAN.db will be created and saved\n",
    "\n",
    "# best_params_survgan, study_survgan = generators_dict[\"Surv-GAN\"].optuna_hyperparameter_search(data_init_control, \n",
    "#                                                                                             columns=aids_control_fnames, \n",
    "#                                                                                             target_column=\"censor\", \n",
    "#                                                                                             time_to_event_column=\"time\", \n",
    "#                                                                                             n_generated_sample=5, \n",
    "#                                                                                             n_splits=5,\n",
    "#                                                                                             n_trials=3, \n",
    "#                                                                                             study_name=\"optuna_results/optuna_study_aids_Surv-GAN\",)\n",
    "# best_params_dict[\"Surv-GAN\"] = best_params_survgan\n",
    "# study_dict[\"Surv-GAN\"] = study_survgan\n",
    "\n",
    "# with open(\"optuna_results/best_params_aids_Surv-GAN.json\", \"w\") as f:\n",
    "#     json.dump(best_params_survgan, f)"
   ]
  },
  {
   "cell_type": "code",
   "execution_count": null,
   "metadata": {},
   "outputs": [],
   "source": [
    "# # Surv-VAE hyperparameter search: the files best_params_aids_Surv-VAE.json and optuna_study_aids_Surv-VAE.db will be created and saved\n",
    "\n",
    "# best_params_survae, study_survae = generators_dict[\"Surv-VAE\"].optuna_hyperparameter_search(data_init_control, \n",
    "#                                                                                             columns=aids_control_fnames, \n",
    "#                                                                                             target_column=\"censor\", \n",
    "#                                                                                             time_to_event_column=\"time\", \n",
    "#                                                                                             n_generated_sample=50, \n",
    "#                                                                                             n_splits=5,\n",
    "#                                                                                             n_trials=30, \n",
    "#                                                                                             study_name=\"optuna_results/optuna_study_aids_Surv-VAE\",)\n",
    "# best_params_dict[\"Surv-VAE\"] = best_params_survae\n",
    "# study_dict[\"Surv-VAE\"] = study_survae\n",
    "\n",
    "# with open(\"optuna_results/best_params_aids_Surv-VAE.json\", \"w\") as f:\n",
    "#     json.dump(best_params_survae, f)"
   ]
  },
  {
   "cell_type": "code",
   "execution_count": null,
   "metadata": {},
   "outputs": [],
   "source": [
    "# # HI-VAE hyperparameter search: the files best_params_aids_HI-VAE.json and optuna_study_aids_HI-VAE.db will be created and saved\n",
    "\n",
    "# T_surv = torch.Tensor(df_init_control.time)\n",
    "# T_surv_norm = (T_surv - T_surv.min()) / (T_surv.max() - T_surv.min())\n",
    "# n_intervals = 5\n",
    "# T_intervals = torch.linspace(0., T_surv_norm.max(), n_intervals)\n",
    "# T_intervals = torch.cat([T_intervals, torch.tensor([2 * T_intervals[-1] - T_intervals[-2]])])\n",
    "# intervals = [(T_intervals[i].item(), T_intervals[i + 1].item()) for i in range(len(T_intervals) - 1)]\n",
    "\n",
    "# best_params_hivae, study_hivae = generators_dict[\"HI-VAE\"].optuna_hyperparameter_search((data_init_control_encoded, intervals), \n",
    "#                                                                                         data_init_control,\n",
    "#                                                                                         miss_mask_control, \n",
    "#                                                                                         true_miss_mask_control, \n",
    "#                                                                                         feat_types_file_control, \n",
    "#                                                                                         feat_types_dict, \n",
    "#                                                                                         n_generated_sample=50, \n",
    "#                                                                                         n_splits=5,\n",
    "#                                                                                         n_trials=30, \n",
    "#                                                                                         columns=aids_control_fnames, \n",
    "#                                                                                         study_name=\"optuna_results/optuna_study_aids_HI-VAE\",)\n",
    "# best_params_dict[\"HI-VAE\"] = best_params_hivae\n",
    "# study_dict[\"HI-VAE\"] = study_hivae\n",
    "# with open(\"optuna_results/best_params_aids_HI-VAE.json\", \"w\") as f:\n",
    "#     json.dump(best_params_hivae, f)"
   ]
  }
 ],
 "metadata": {
  "kernelspec": {
   "display_name": "hivae",
   "language": "python",
   "name": "python3"
  },
  "language_info": {
   "codemirror_mode": {
    "name": "ipython",
    "version": 3
   },
   "file_extension": ".py",
   "mimetype": "text/x-python",
   "name": "python",
   "nbconvert_exporter": "python",
   "pygments_lexer": "ipython3",
   "version": "3.13.2"
  }
 },
 "nbformat": 4,
 "nbformat_minor": 4
}
