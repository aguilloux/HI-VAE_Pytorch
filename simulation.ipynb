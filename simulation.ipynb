{
 "cells": [
  {
   "cell_type": "code",
   "execution_count": 72,
   "id": "92330b03-4d65-47de-bbad-6769191bbb10",
   "metadata": {},
   "outputs": [],
   "source": [
    "import numpy as np\n",
    "import pandas as pd\n",
    "from scipy.linalg import toeplitz\n",
    "from scipy.stats import norm\n",
    "from utils.simulations import *"
   ]
  },
  {
   "cell_type": "markdown",
   "id": "7db137ed-9aa6-42b0-94d4-98a063fef9cb",
   "metadata": {},
   "source": [
    "Schoenfeld formula\n",
    "$$D = \\frac{(\\Phi^{-1}(\\beta)+\\Phi^{-1}(1-\\alpha))^2}{P_{cont}(1 - P_{cont}) log^2(\\Delta)}$$\n",
    "where \n",
    "- $D$ is the number of deaths\n",
    "- $\\alpha$ is the level\n",
    "- $\\beta$ is the power\n",
    "- $P_{cont}$ is the proportion of patients in the control arm\n",
    "- $\\Delta$ is the hazard ratio"
   ]
  },
  {
   "cell_type": "code",
   "execution_count": 175,
   "id": "cb4c7742-119c-42af-8ee9-2ed12d2db15c",
   "metadata": {},
   "outputs": [],
   "source": [
    "n_samples = 100\n",
    "n_features_bytype = 4\n",
    "n_features = 3 * n_features_bytype"
   ]
  },
  {
   "cell_type": "code",
   "execution_count": null,
   "id": "97547d37-97aa-47ae-ad10-05bfb4383238",
   "metadata": {},
   "outputs": [],
   "source": []
  },
  {
   "cell_type": "code",
   "execution_count": null,
   "id": "76f28bb3-f8e1-4a45-8135-f28e16a21bb3",
   "metadata": {},
   "outputs": [],
   "source": [
    "\n"
   ]
  },
  {
   "cell_type": "code",
   "execution_count": 176,
   "id": "a0b91170-070e-406d-8066-4d6632b82028",
   "metadata": {},
   "outputs": [
    {
     "name": "stdout",
     "output_type": "stream",
     "text": [
      "(13,)\n"
     ]
    }
   ],
   "source": [
    "beta = np.concatenate([weights_sparse_exp(n_features_bytype,3),weights_sparse_exp(n_features_bytype,3),\n",
    "                       weights_sparse_exp(n_features_bytype,3)])\n",
    "treatment_effect = 1\n",
    "beta = np.insert(beta, 0, treatment_effect)\n",
    "print(beta.shape)"
   ]
  },
  {
   "cell_type": "code",
   "execution_count": 177,
   "id": "ab5d6d6f-d597-4326-ba64-847c59601c68",
   "metadata": {},
   "outputs": [
    {
     "name": "stdout",
     "output_type": "stream",
     "text": [
      "(100, 12)\n"
     ]
    }
   ],
   "source": [
    "X = features_normal_cov_toeplitz(n_samples,n_features)\n",
    "print(X.shape)"
   ]
  },
  {
   "cell_type": "code",
   "execution_count": 178,
   "id": "3c270713-0337-4013-b94e-72ef560299a7",
   "metadata": {},
   "outputs": [],
   "source": [
    "X[:,(n_features_bytype ) : (2*n_features_bytype )] = np.abs(X[:,(n_features_bytype ) : (2*n_features_bytype )])\n",
    "X[:,(2*n_features_bytype ) : (3*n_features_bytype )] = 1 * (X[:,(2*n_features_bytype ) : (3*n_features_bytype )]>= 0)"
   ]
  },
  {
   "cell_type": "code",
   "execution_count": 179,
   "id": "04cae205-14f4-4359-bfdb-9da0a06e7ac8",
   "metadata": {},
   "outputs": [],
   "source": [
    "p_treated = 0.5\n",
    "treatment = np.random.binomial(1, p_treated, size=(n_samples,1))"
   ]
  },
  {
   "cell_type": "code",
   "execution_count": 180,
   "id": "ba3e9c4b-08ef-4ffe-8aeb-8b2f498ed500",
   "metadata": {},
   "outputs": [],
   "source": [
    "design = np.hstack((treatment,X))\n",
    "marker = np.dot(design,beta)"
   ]
  },
  {
   "cell_type": "code",
   "execution_count": 181,
   "id": "229cec92-8657-405d-8b99-395febe8f5ef",
   "metadata": {},
   "outputs": [],
   "source": [
    "a_T = 2\n",
    "a_C = 1\n",
    "lamb_C = 2\n",
    "U = np.random.uniform(size = n_samples)\n",
    "V = np.random.uniform(size = n_samples)\n",
    "T = (- np.log(1-U) / np.exp(marker))**(1/a_T)\n",
    "C = lamb_C * (- np.log(1-V))**(1/a_C)"
   ]
  },
  {
   "cell_type": "code",
   "execution_count": 182,
   "id": "fa9523d1-a05c-45b7-b902-31c5f5f5039c",
   "metadata": {},
   "outputs": [],
   "source": [
    "D = np.sum(T <= C)"
   ]
  },
  {
   "cell_type": "code",
   "execution_count": 183,
   "id": "d9de8585-93b9-4d91-bded-6484ec512d5a",
   "metadata": {},
   "outputs": [],
   "source": [
    "alpha = 0.05\n",
    "expected_power = norm.cdf(np.sqrt( D * p_treated * (1 - p_treated) * (treatment_effect)**2 ) - norm.ppf(1 - alpha))"
   ]
  },
  {
   "cell_type": "code",
   "execution_count": 184,
   "id": "47ea842e-4538-4d8c-b9cb-c5e5472593de",
   "metadata": {},
   "outputs": [
    {
     "data": {
      "text/plain": [
       "np.float64(0.965563197715057)"
      ]
     },
     "execution_count": 184,
     "metadata": {},
     "output_type": "execute_result"
    }
   ],
   "source": [
    "expected_power"
   ]
  },
  {
   "cell_type": "code",
   "execution_count": 185,
   "id": "3a0becd1-70ae-4fb9-91d8-ab68c270c9aa",
   "metadata": {},
   "outputs": [],
   "source": [
    "M = 500\n",
    "log_p_value = []\n",
    "for m in np.arange(M):\n",
    "    X = features_normal_cov_toeplitz(n_samples,n_features)\n",
    "    X[:,(n_features_bytype ) : (2*n_features_bytype )] = np.abs(X[:,(n_features_bytype ) : (2*n_features_bytype )])\n",
    "    X[:,(2*n_features_bytype ) : (3*n_features_bytype )] = 1 * (X[:,(2*n_features_bytype ) : (3*n_features_bytype )]>= 0)\n",
    "    treatment = np.random.binomial(1, p_treated, size=(n_samples,1))\n",
    "    design = np.hstack((treatment,X))\n",
    "    marker = np.dot(design,beta)\n",
    "    U = np.random.uniform(size = n_samples)\n",
    "    V = np.random.uniform(size = n_samples)\n",
    "    T = (- np.log(1-U) / np.exp(marker))**(1/a_T)\n",
    "    C = lamb_C * (- np.log(1-V))**(1/a_C)\n",
    "    data = pd.DataFrame(X)\n",
    "    data['treatment'] = treatment\n",
    "    data['time'] = np.min([T,C],axis=0)\n",
    "    data['censor'] = np.argmin([C,T],axis=0)\n",
    "    control = data[data['treatment'] == 0]\n",
    "    treated = data[data['treatment'] == 1]\n",
    "    log_p_value.append(compute_logrank_test(control, treated))"
   ]
  },
  {
   "cell_type": "code",
   "execution_count": 186,
   "id": "6bc0f947-e59d-4982-a348-bf61ad88053e",
   "metadata": {},
   "outputs": [
    {
     "data": {
      "text/plain": [
       "np.float64(0.262)"
      ]
     },
     "execution_count": 186,
     "metadata": {},
     "output_type": "execute_result"
    }
   ],
   "source": [
    "np.mean(log_p_value >= -np.log(0.05))"
   ]
  },
  {
   "cell_type": "code",
   "execution_count": null,
   "id": "6adb747a-e0c8-4088-9f56-81d0718063a2",
   "metadata": {},
   "outputs": [],
   "source": []
  },
  {
   "cell_type": "code",
   "execution_count": null,
   "id": "82ed7f03-99bc-496b-9606-b243b8b78e1e",
   "metadata": {},
   "outputs": [],
   "source": []
  }
 ],
 "metadata": {
  "kernelspec": {
   "display_name": "Python 3 (ipykernel)",
   "language": "python",
   "name": "python3"
  },
  "language_info": {
   "codemirror_mode": {
    "name": "ipython",
    "version": 3
   },
   "file_extension": ".py",
   "mimetype": "text/x-python",
   "name": "python",
   "nbconvert_exporter": "python",
   "pygments_lexer": "ipython3",
   "version": "3.12.9"
  }
 },
 "nbformat": 4,
 "nbformat_minor": 5
}
