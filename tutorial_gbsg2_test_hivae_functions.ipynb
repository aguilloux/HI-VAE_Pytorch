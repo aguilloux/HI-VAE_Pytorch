{
 "cells": [
  {
   "cell_type": "code",
   "execution_count": 71,
   "metadata": {},
   "outputs": [
    {
     "name": "stdout",
     "output_type": "stream",
     "text": [
      "The autoreload extension is already loaded. To reload it, use:\n",
      "  %reload_ext autoreload\n"
     ]
    }
   ],
   "source": [
    "import torch\n",
    "import torch.optim as optim\n",
    "import time\n",
    "import numpy as np\n",
    "import matplotlib.pyplot as plt\n",
    "from utils import data_processing, visualization, statistic, HI_VAE_functions\n",
    "import time\n",
    "import pandas as pd\n",
    "import warnings\n",
    "from lifelines import CoxPHFitter\n",
    "from tableone import TableOne\n",
    "warnings.filterwarnings(\"ignore\")\n",
    "\n",
    "from sksurv.linear_model import CoxPHSurvivalAnalysis\n",
    "from sksurv.compare import compare_survival\n",
    "from sksurv.nonparametric import kaplan_meier_estimator\n",
    "\n",
    "from sksurv.util import Surv\n",
    "\n",
    "%load_ext autoreload\n",
    "\n",
    "%autoreload 2"
   ]
  },
  {
   "cell_type": "code",
   "execution_count": null,
   "metadata": {},
   "outputs": [],
   "source": []
  },
  {
   "cell_type": "code",
   "execution_count": 72,
   "metadata": {},
   "outputs": [],
   "source": [
    "%matplotlib inline"
   ]
  },
  {
   "cell_type": "markdown",
   "metadata": {},
   "source": [
    "### Experiment setting"
   ]
  },
  {
   "cell_type": "code",
   "execution_count": 73,
   "metadata": {},
   "outputs": [],
   "source": [
    "dataset_name = \"gbsg2\"\n",
    "data_file_control= \"./dataset/\" + dataset_name + \"/data_control.csv\"\n",
    "feat_types_file_control = \"./dataset/\" + dataset_name + \"/data_types_control.csv\"\n",
    "data_file_treated= \"./dataset/\" + dataset_name + \"/data_treated.csv\"\n",
    "feat_types_file_treated= \"./dataset/\" + dataset_name + \"/data_types_treated.csv\"\n",
    "\n",
    "# If the dataset has no missing data, leave the \"miss_file\" variable empty\n",
    "m_perc = 10\n",
    "mask = 1\n",
    "miss_file = \"./dataset/\" + dataset_name + \"/Missing{}_{}.csv\".format(m_perc, mask)\n",
    "true_miss_file = None"
   ]
  },
  {
   "cell_type": "code",
   "execution_count": 74,
   "metadata": {},
   "outputs": [
    {
     "data": {
      "text/html": [
       "<div>\n",
       "<style scoped>\n",
       "    .dataframe tbody tr th:only-of-type {\n",
       "        vertical-align: middle;\n",
       "    }\n",
       "\n",
       "    .dataframe tbody tr th {\n",
       "        vertical-align: top;\n",
       "    }\n",
       "\n",
       "    .dataframe thead th {\n",
       "        text-align: right;\n",
       "    }\n",
       "</style>\n",
       "<table border=\"1\" class=\"dataframe\">\n",
       "  <thead>\n",
       "    <tr style=\"text-align: right;\">\n",
       "      <th></th>\n",
       "      <th>time</th>\n",
       "      <th>censor</th>\n",
       "      <th>age</th>\n",
       "      <th>estrec</th>\n",
       "      <th>menostat</th>\n",
       "      <th>pnodes</th>\n",
       "      <th>progrec</th>\n",
       "      <th>tgrade</th>\n",
       "      <th>tsize</th>\n",
       "    </tr>\n",
       "  </thead>\n",
       "  <tbody>\n",
       "    <tr>\n",
       "      <th>0</th>\n",
       "      <td>1814.0</td>\n",
       "      <td>1</td>\n",
       "      <td>70.0</td>\n",
       "      <td>66.0</td>\n",
       "      <td>1</td>\n",
       "      <td>3.0</td>\n",
       "      <td>48.0</td>\n",
       "      <td>2</td>\n",
       "      <td>21.0</td>\n",
       "    </tr>\n",
       "    <tr>\n",
       "      <th>1</th>\n",
       "      <td>772.0</td>\n",
       "      <td>1</td>\n",
       "      <td>73.0</td>\n",
       "      <td>65.0</td>\n",
       "      <td>1</td>\n",
       "      <td>1.0</td>\n",
       "      <td>26.0</td>\n",
       "      <td>2</td>\n",
       "      <td>35.0</td>\n",
       "    </tr>\n",
       "    <tr>\n",
       "      <th>2</th>\n",
       "      <td>448.0</td>\n",
       "      <td>1</td>\n",
       "      <td>32.0</td>\n",
       "      <td>13.0</td>\n",
       "      <td>0</td>\n",
       "      <td>24.0</td>\n",
       "      <td>0.0</td>\n",
       "      <td>3</td>\n",
       "      <td>57.0</td>\n",
       "    </tr>\n",
       "    <tr>\n",
       "      <th>3</th>\n",
       "      <td>2161.0</td>\n",
       "      <td>0</td>\n",
       "      <td>65.0</td>\n",
       "      <td>25.0</td>\n",
       "      <td>1</td>\n",
       "      <td>1.0</td>\n",
       "      <td>192.0</td>\n",
       "      <td>2</td>\n",
       "      <td>16.0</td>\n",
       "    </tr>\n",
       "    <tr>\n",
       "      <th>4</th>\n",
       "      <td>471.0</td>\n",
       "      <td>1</td>\n",
       "      <td>80.0</td>\n",
       "      <td>59.0</td>\n",
       "      <td>1</td>\n",
       "      <td>30.0</td>\n",
       "      <td>0.0</td>\n",
       "      <td>2</td>\n",
       "      <td>39.0</td>\n",
       "    </tr>\n",
       "  </tbody>\n",
       "</table>\n",
       "</div>"
      ],
      "text/plain": [
       "     time  censor   age  estrec  menostat  pnodes  progrec  tgrade  tsize\n",
       "0  1814.0       1  70.0    66.0         1     3.0     48.0       2   21.0\n",
       "1   772.0       1  73.0    65.0         1     1.0     26.0       2   35.0\n",
       "2   448.0       1  32.0    13.0         0    24.0      0.0       3   57.0\n",
       "3  2161.0       0  65.0    25.0         1     1.0    192.0       2   16.0\n",
       "4   471.0       1  80.0    59.0         1    30.0      0.0       2   39.0"
      ]
     },
     "execution_count": 74,
     "metadata": {},
     "output_type": "execute_result"
    }
   ],
   "source": [
    "gbsb2_control = pd.read_csv(data_file_control,header=None)\n",
    "gbsb2_control.columns = ['time','censor','age','estrec','menostat','pnodes','progrec','tgrade','tsize']\n",
    "gbsb2_control.head()"
   ]
  },
  {
   "cell_type": "code",
   "execution_count": 75,
   "metadata": {},
   "outputs": [],
   "source": [
    "#gbsb2_control_columns = pd.read_csv(feat_types_file_control)[\"name\"].to_list()[1:]\n",
    "#gbsb2_control_columns = ['time','censor'] + gbsb2_control_columns\n",
    "#gbsb2_control_columns"
   ]
  },
  {
   "cell_type": "code",
   "execution_count": 76,
   "metadata": {},
   "outputs": [
    {
     "data": {
      "text/plain": [
       "['time',\n",
       " 'censor',\n",
       " 'age',\n",
       " 'estrec',\n",
       " 'menostat',\n",
       " 'pnodes',\n",
       " 'progrec',\n",
       " 'tgrade',\n",
       " 'tsize']"
      ]
     },
     "execution_count": 76,
     "metadata": {},
     "output_type": "execute_result"
    }
   ],
   "source": [
    "gbsb2_control_columns = pd.read_csv(feat_types_file_control)[\"name\"].to_list()[1:]\n",
    "gbsb2_control_columns.insert(0, 'censor')\n",
    "gbsb2_control_columns.insert(0, 'time')\n",
    "gbsb2_control_columns"
   ]
  },
  {
   "cell_type": "markdown",
   "metadata": {},
   "source": [
    "### Data loading and Feature analysis treated/control"
   ]
  },
  {
   "cell_type": "code",
   "execution_count": 77,
   "metadata": {},
   "outputs": [],
   "source": [
    "# Load training data\n",
    "data_control, feat_types_dict, miss_mask_control, true_miss_mask_control, n_samples_control = data_processing.read_data(data_file_control, \n",
    "                                                                                                                        feat_types_file_control, \n",
    "                                                                                                                        miss_file, true_miss_file)\n",
    "# Feature analysis\n",
    "data_transformed_control = data_processing.discrete_variables_transformation(data_control, feat_types_dict)\n",
    "#features_df = pd.DataFrame(data_transformed, columns=[\"feat_\" + str(i+1) for i in range(data_transformed.shape[1])])\n",
    "\n",
    "#visualization.plot_data(data_transformed_control, feat_types_dict)\n"
   ]
  },
  {
   "cell_type": "code",
   "execution_count": 78,
   "metadata": {},
   "outputs": [
    {
     "data": {
      "text/plain": [
       "[{'name': 'survcens', 'type': 'surv_weibull', 'dim': '2', 'nclass': ''},\n",
       " {'name': 'age', 'type': 'real', 'dim': '1', 'nclass': ''},\n",
       " {'name': 'estrec', 'type': 'pos', 'dim': '1', 'nclass': ''},\n",
       " {'name': 'menostat', 'type': 'cat', 'dim': '1', 'nclass': '2'},\n",
       " {'name': 'pnodes', 'type': 'pos', 'dim': '1', 'nclass': ''},\n",
       " {'name': 'progrec', 'type': 'pos', 'dim': '1', 'nclass': ''},\n",
       " {'name': 'tgrade', 'type': 'cat', 'dim': '1', 'nclass': '3'},\n",
       " {'name': 'tsize', 'type': 'pos', 'dim': '1', 'nclass': ''}]"
      ]
     },
     "execution_count": 78,
     "metadata": {},
     "output_type": "execute_result"
    }
   ],
   "source": [
    "feat_types_dict"
   ]
  },
  {
   "cell_type": "code",
   "execution_count": 79,
   "metadata": {},
   "outputs": [
    {
     "data": {
      "text/plain": [
       "tensor([[1.8140e+03, 1.0000e+00, 7.0000e+01,  ..., 4.8000e+01, 1.0000e+00,\n",
       "         2.1000e+01],\n",
       "        [7.7200e+02, 1.0000e+00, 7.3000e+01,  ..., 2.6000e+01, 1.0000e+00,\n",
       "         3.5000e+01],\n",
       "        [4.4800e+02, 1.0000e+00, 3.2000e+01,  ..., 0.0000e+00, 2.0000e+00,\n",
       "         5.7000e+01],\n",
       "        ...,\n",
       "        [7.6900e+02, 1.0000e+00, 5.1000e+01,  ..., 4.3000e+01, 2.0000e+00,\n",
       "         2.5000e+01],\n",
       "        [7.2700e+02, 1.0000e+00, 5.2000e+01,  ..., 1.5000e+01, 1.0000e+00,\n",
       "         2.3000e+01],\n",
       "        [1.7010e+03, 1.0000e+00, 5.5000e+01,  ..., 1.1600e+02, 1.0000e+00,\n",
       "         2.3000e+01]])"
      ]
     },
     "execution_count": 79,
     "metadata": {},
     "output_type": "execute_result"
    }
   ],
   "source": [
    "data_transformed_control"
   ]
  },
  {
   "cell_type": "code",
   "execution_count": 80,
   "metadata": {},
   "outputs": [],
   "source": [
    "# Load training data\n",
    "data_treated, feat_types_dict, miss_mask_treated, true_miss_mask_treated, n_samples_treated = data_processing.read_data(data_file_treated, \n",
    "                                                                                                                        feat_types_file_treated, \n",
    "                                                                                                                        miss_file, true_miss_file)\n",
    "\n",
    "# Feature analysis\n",
    "data_transformed_treated = data_processing.discrete_variables_transformation(data_treated, feat_types_dict)\n",
    "#features_df = pd.DataFrame(data_transformed, columns=[\"feat_\" + str(i+1) for i in range(data_transformed.shape[1])])\n",
    "\n",
    "#visualization.plot_data(data_transformed_treated, feat_types_dict)"
   ]
  },
  {
   "cell_type": "code",
   "execution_count": 81,
   "metadata": {},
   "outputs": [],
   "source": [
    "df_transformed_treated = pd.DataFrame(data_transformed_treated.numpy(), columns=gbsb2_control_columns)\n",
    "df_transformed_control = pd.DataFrame(data_transformed_control.numpy(), columns=gbsb2_control_columns)\n",
    "df_transformed_treated[\"treatment\"]=1\n",
    "df_transformed_control[\"treatment\"]=0\n",
    "df_transformed_all = pd.concat([df_transformed_control, df_transformed_treated], ignore_index=True)"
   ]
  },
  {
   "cell_type": "code",
   "execution_count": 82,
   "metadata": {},
   "outputs": [
    {
     "data": {
      "text/plain": [
       "Index(['time', 'censor', 'age', 'estrec', 'menostat', 'pnodes', 'progrec',\n",
       "       'tgrade', 'tsize', 'treatment'],\n",
       "      dtype='object')"
      ]
     },
     "execution_count": 82,
     "metadata": {},
     "output_type": "execute_result"
    }
   ],
   "source": [
    "df_transformed_all.columns"
   ]
  },
  {
   "cell_type": "code",
   "execution_count": 83,
   "metadata": {},
   "outputs": [
    {
     "data": {
      "text/html": [
       "<div>\n",
       "<style scoped>\n",
       "    .dataframe tbody tr th:only-of-type {\n",
       "        vertical-align: middle;\n",
       "    }\n",
       "\n",
       "    .dataframe tbody tr th {\n",
       "        vertical-align: top;\n",
       "    }\n",
       "\n",
       "    .dataframe thead th {\n",
       "        text-align: right;\n",
       "    }\n",
       "</style>\n",
       "<table border=\"1\" class=\"dataframe\">\n",
       "  <thead>\n",
       "    <tr style=\"text-align: right;\">\n",
       "      <th></th>\n",
       "      <th>time</th>\n",
       "      <th>censor</th>\n",
       "      <th>age</th>\n",
       "      <th>estrec</th>\n",
       "      <th>menostat</th>\n",
       "      <th>pnodes</th>\n",
       "      <th>progrec</th>\n",
       "      <th>tgrade</th>\n",
       "      <th>tsize</th>\n",
       "      <th>treatment</th>\n",
       "    </tr>\n",
       "  </thead>\n",
       "  <tbody>\n",
       "    <tr>\n",
       "      <th>0</th>\n",
       "      <td>1814.0</td>\n",
       "      <td>1.0</td>\n",
       "      <td>70.0</td>\n",
       "      <td>66.0</td>\n",
       "      <td>1.0</td>\n",
       "      <td>3.0</td>\n",
       "      <td>48.0</td>\n",
       "      <td>1.0</td>\n",
       "      <td>21.0</td>\n",
       "      <td>0</td>\n",
       "    </tr>\n",
       "    <tr>\n",
       "      <th>1</th>\n",
       "      <td>772.0</td>\n",
       "      <td>1.0</td>\n",
       "      <td>73.0</td>\n",
       "      <td>65.0</td>\n",
       "      <td>1.0</td>\n",
       "      <td>1.0</td>\n",
       "      <td>26.0</td>\n",
       "      <td>1.0</td>\n",
       "      <td>35.0</td>\n",
       "      <td>0</td>\n",
       "    </tr>\n",
       "    <tr>\n",
       "      <th>2</th>\n",
       "      <td>448.0</td>\n",
       "      <td>1.0</td>\n",
       "      <td>32.0</td>\n",
       "      <td>13.0</td>\n",
       "      <td>0.0</td>\n",
       "      <td>24.0</td>\n",
       "      <td>0.0</td>\n",
       "      <td>2.0</td>\n",
       "      <td>57.0</td>\n",
       "      <td>0</td>\n",
       "    </tr>\n",
       "    <tr>\n",
       "      <th>3</th>\n",
       "      <td>2161.0</td>\n",
       "      <td>0.0</td>\n",
       "      <td>65.0</td>\n",
       "      <td>25.0</td>\n",
       "      <td>1.0</td>\n",
       "      <td>1.0</td>\n",
       "      <td>192.0</td>\n",
       "      <td>1.0</td>\n",
       "      <td>16.0</td>\n",
       "      <td>0</td>\n",
       "    </tr>\n",
       "    <tr>\n",
       "      <th>4</th>\n",
       "      <td>471.0</td>\n",
       "      <td>1.0</td>\n",
       "      <td>80.0</td>\n",
       "      <td>59.0</td>\n",
       "      <td>1.0</td>\n",
       "      <td>30.0</td>\n",
       "      <td>0.0</td>\n",
       "      <td>1.0</td>\n",
       "      <td>39.0</td>\n",
       "      <td>0</td>\n",
       "    </tr>\n",
       "  </tbody>\n",
       "</table>\n",
       "</div>"
      ],
      "text/plain": [
       "     time  censor   age  estrec  menostat  pnodes  progrec  tgrade  tsize  \\\n",
       "0  1814.0     1.0  70.0    66.0       1.0     3.0     48.0     1.0   21.0   \n",
       "1   772.0     1.0  73.0    65.0       1.0     1.0     26.0     1.0   35.0   \n",
       "2   448.0     1.0  32.0    13.0       0.0    24.0      0.0     2.0   57.0   \n",
       "3  2161.0     0.0  65.0    25.0       1.0     1.0    192.0     1.0   16.0   \n",
       "4   471.0     1.0  80.0    59.0       1.0    30.0      0.0     1.0   39.0   \n",
       "\n",
       "   treatment  \n",
       "0          0  \n",
       "1          0  \n",
       "2          0  \n",
       "3          0  \n",
       "4          0  "
      ]
     },
     "execution_count": 83,
     "metadata": {},
     "output_type": "execute_result"
    }
   ],
   "source": [
    "df_transformed_all.head()"
   ]
  },
  {
   "cell_type": "code",
   "execution_count": 84,
   "metadata": {},
   "outputs": [
    {
     "data": {
      "text/plain": [
       "(686, 10)"
      ]
     },
     "execution_count": 84,
     "metadata": {},
     "output_type": "execute_result"
    }
   ],
   "source": [
    "df_transformed_all.shape"
   ]
  },
  {
   "cell_type": "code",
   "execution_count": 85,
   "metadata": {},
   "outputs": [],
   "source": [
    "feat_types_dict_all = feat_types_dict.copy()#"
   ]
  },
  {
   "cell_type": "code",
   "execution_count": 86,
   "metadata": {},
   "outputs": [
    {
     "name": "stdout",
     "output_type": "stream",
     "text": [
      "comparison variable treatment 9\n"
     ]
    },
    {
     "data": {
      "image/png": "[encoded data removed]",
      "text/plain": [
       "<Figure size 1800x2700 with 8 Axes>"
      ]
     },
     "metadata": {},
     "output_type": "display_data"
    }
   ],
   "source": [
    "feat_types_dict_all.append({'name': 'treatment', 'type': 'cat', 'dim': '1', 'nclass': '2'})\n",
    "visualization.plot_compare_data(df_transformed_all.to_numpy(),feat_types_dict_all,feat_comparison_name = 'treatment')"
   ]
  },
  {
   "cell_type": "code",
   "execution_count": 87,
   "metadata": {},
   "outputs": [],
   "source": [
    "categorical = ['censor','menostat', 'tgrade','treatment']\n",
    "continuous = ['time', 'estrec', 'pnodes','progrec', 'tsize', 'age']\n",
    "nonnormal = ['time', 'estrec', 'pnodes','progrec', 'tsize', 'age']"
   ]
  },
  {
   "cell_type": "code",
   "execution_count": 88,
   "metadata": {},
   "outputs": [
    {
     "name": "stdout",
     "output_type": "stream",
     "text": [
      "                            Grouped by treatment                                                                            \n",
      "                                         Missing                Overall                     0                      1 P-Value\n",
      "n                                                                   686                   440                    246        \n",
      "time, median [Q1,Q3]                           0  1084.0 [567.8,1684.8]  967.0 [547.8,1573.0]  1220.5 [695.8,1818.0]   0.001\n",
      "censor, n (%)           0.0                                  387 (56.4)            235 (53.4)             152 (61.8)   0.041\n",
      "                        1.0                                  299 (43.6)            205 (46.6)              94 (38.2)        \n",
      "age, median [Q1,Q3]                            0       53.0 [46.0,61.0]      50.0 [45.0,59.0]       58.0 [50.0,63.0]  <0.001\n",
      "estrec, median [Q1,Q3]                         0       36.0 [8.0,114.0]       32.0 [8.0,92.2]       46.0 [9.0,182.5]   0.009\n",
      "menostat, n (%)         0.0                                  290 (42.3)            231 (52.5)              59 (24.0)  <0.001\n",
      "                        1.0                                  396 (57.7)            209 (47.5)             187 (76.0)        \n",
      "pnodes, median [Q1,Q3]                         0          3.0 [1.0,7.0]         3.0 [1.0,7.0]          3.0 [1.0,7.0]   0.432\n",
      "progrec, median [Q1,Q3]                        0       32.5 [7.0,131.8]      32.0 [7.0,130.0]       35.0 [7.2,133.0]   0.594\n",
      "tgrade, n (%)           0.0                                   81 (11.8)             48 (10.9)              33 (13.4)   0.273\n",
      "                        1.0                                  444 (64.7)            281 (63.9)             163 (66.3)        \n",
      "                        2.0                                  161 (23.5)            111 (25.2)              50 (20.3)        \n",
      "tsize, median [Q1,Q3]                          0       25.0 [20.0,35.0]      25.0 [20.0,35.0]       25.0 [20.0,35.0]   0.507\n",
      "treatment, n (%)        0                                    440 (64.1)           440 (100.0)                         <0.001\n",
      "                        1                                    246 (35.9)                                  246 (100.0)        \n",
      "\n"
     ]
    }
   ],
   "source": [
    "table1 = TableOne(df_transformed_all, categorical=categorical, continuous=continuous, groupby='treatment',nonnormal=nonnormal, pval=True)\n",
    "print(table1)"
   ]
  },
  {
   "cell_type": "code",
   "execution_count": null,
   "metadata": {},
   "outputs": [],
   "source": []
  },
  {
   "cell_type": "markdown",
   "metadata": {},
   "source": [
    "## Training VAE"
   ]
  },
  {
   "cell_type": "markdown",
   "metadata": {},
   "source": [
    "### Experiment setting"
   ]
  },
  {
   "cell_type": "code",
   "execution_count": 89,
   "metadata": {},
   "outputs": [
    {
     "ename": "ModuleNotFoundError",
     "evalue": "No module named 'src'",
     "output_type": "error",
     "traceback": [
      "\u001b[0;31m---------------------------------------------------------------------------\u001b[0m",
      "\u001b[0;31mModuleNotFoundError\u001b[0m                       Traceback (most recent call last)",
      "Cell \u001b[0;32mIn[89], line 1\u001b[0m\n\u001b[0;32m----> 1\u001b[0m vae_model \u001b[38;5;241m=\u001b[39m \u001b[43mHI_VAE_functions\u001b[49m\u001b[38;5;241;43m.\u001b[39;49m\u001b[43mHI_VAE_model\u001b[49m\u001b[43m(\u001b[49m\u001b[43mdata\u001b[49m\u001b[43m \u001b[49m\u001b[38;5;241;43m=\u001b[39;49m\u001b[43m \u001b[49m\u001b[43mdata_control\u001b[49m\u001b[43m,\u001b[49m\u001b[43m \u001b[49m\u001b[43mmiss_mask\u001b[49m\u001b[43m \u001b[49m\u001b[38;5;241;43m=\u001b[39;49m\u001b[43m \u001b[49m\u001b[43mmiss_mask_control\u001b[49m\u001b[43m,\u001b[49m\u001b[43m \u001b[49m\u001b[43mtrue_miss_mask\u001b[49m\u001b[43m \u001b[49m\u001b[38;5;241;43m=\u001b[39;49m\u001b[43m \u001b[49m\u001b[43mtrue_miss_mask_control\u001b[49m\u001b[43m,\u001b[49m\u001b[43m \u001b[49m\u001b[43mfeat_types_file\u001b[49m\u001b[43m \u001b[49m\u001b[38;5;241;43m=\u001b[39;49m\u001b[43m \u001b[49m\u001b[43mfeat_types_file_control\u001b[49m\u001b[43m,\u001b[49m\u001b[43mdataset_name\u001b[49m\u001b[43m \u001b[49m\u001b[38;5;241;43m=\u001b[39;49m\u001b[43m \u001b[49m\u001b[43mdataset_name\u001b[49m\u001b[43m,\u001b[49m\u001b[43m \u001b[49m\u001b[43mm_perc\u001b[49m\u001b[43m \u001b[49m\u001b[38;5;241;43m=\u001b[39;49m\u001b[43m \u001b[49m\u001b[43mm_perc\u001b[49m\u001b[43m,\u001b[49m\u001b[43m \u001b[49m\u001b[43mmask\u001b[49m\u001b[43m \u001b[49m\u001b[38;5;241;43m=\u001b[39;49m\u001b[43m \u001b[49m\u001b[43mmask\u001b[49m\u001b[43m)\u001b[49m\n",
      "File \u001b[0;32m~/Documents/HI-VAE_Pytorch/utils/HI_VAE_functions.py:146\u001b[0m, in \u001b[0;36mHI_VAE_model\u001b[0;34m(data, miss_mask, true_miss_mask, feat_types_file, dataset_name, m_perc, mask, train_test_share, batch_size, n_generated_sample, model_name, dim_latent_z, dim_latent_y, dim_latent_s, epochs, lr)\u001b[0m\n\u001b[1;32m    143\u001b[0m network_file \u001b[38;5;241m=\u001b[39m os\u001b[38;5;241m.\u001b[39mpath\u001b[38;5;241m.\u001b[39mjoin(save_dir, \u001b[38;5;124mf\u001b[39m\u001b[38;5;124m'\u001b[39m\u001b[38;5;132;01m{\u001b[39;00msave_file\u001b[38;5;132;01m}\u001b[39;00m\u001b[38;5;124m.pth\u001b[39m\u001b[38;5;124m'\u001b[39m)\n\u001b[1;32m    145\u001b[0m \u001b[38;5;66;03m# Create PyTorch HVAE model\u001b[39;00m\n\u001b[0;32m--> 146\u001b[0m model_loading \u001b[38;5;241m=\u001b[39m \u001b[38;5;28mgetattr\u001b[39m(\u001b[43mimportlib\u001b[49m\u001b[38;5;241;43m.\u001b[39;49m\u001b[43mimport_module\u001b[49m\u001b[43m(\u001b[49m\u001b[38;5;124;43m\"\u001b[39;49m\u001b[38;5;124;43msrc\u001b[39;49m\u001b[38;5;124;43m\"\u001b[39;49m\u001b[43m)\u001b[49m, model_name)\n\u001b[1;32m    147\u001b[0m vae_model \u001b[38;5;241m=\u001b[39m model_loading(input_dim\u001b[38;5;241m=\u001b[39mdata_train\u001b[38;5;241m.\u001b[39mshape[\u001b[38;5;241m1\u001b[39m], \n\u001b[1;32m    148\u001b[0m                           z_dim\u001b[38;5;241m=\u001b[39mdim_latent_z, \n\u001b[1;32m    149\u001b[0m                           y_dim\u001b[38;5;241m=\u001b[39mdim_latent_y, \n\u001b[1;32m    150\u001b[0m                           s_dim\u001b[38;5;241m=\u001b[39mdim_latent_s, \n\u001b[1;32m    151\u001b[0m                           y_dim_partition\u001b[38;5;241m=\u001b[39m\u001b[38;5;28;01mNone\u001b[39;00m, \n\u001b[1;32m    152\u001b[0m                           feat_types_file\u001b[38;5;241m=\u001b[39mfeat_types_file)\n\u001b[1;32m    154\u001b[0m optimizer \u001b[38;5;241m=\u001b[39m optim\u001b[38;5;241m.\u001b[39mAdam(vae_model\u001b[38;5;241m.\u001b[39mparameters(), lr\u001b[38;5;241m=\u001b[39mlr)\n",
      "File \u001b[0;32m~/miniconda3/envs/_venv_312_conda_v2/lib/python3.12/importlib/__init__.py:90\u001b[0m, in \u001b[0;36mimport_module\u001b[0;34m(name, package)\u001b[0m\n\u001b[1;32m     88\u001b[0m             \u001b[38;5;28;01mbreak\u001b[39;00m\n\u001b[1;32m     89\u001b[0m         level \u001b[38;5;241m+\u001b[39m\u001b[38;5;241m=\u001b[39m \u001b[38;5;241m1\u001b[39m\n\u001b[0;32m---> 90\u001b[0m \u001b[38;5;28;01mreturn\u001b[39;00m \u001b[43m_bootstrap\u001b[49m\u001b[38;5;241;43m.\u001b[39;49m\u001b[43m_gcd_import\u001b[49m\u001b[43m(\u001b[49m\u001b[43mname\u001b[49m\u001b[43m[\u001b[49m\u001b[43mlevel\u001b[49m\u001b[43m:\u001b[49m\u001b[43m]\u001b[49m\u001b[43m,\u001b[49m\u001b[43m \u001b[49m\u001b[43mpackage\u001b[49m\u001b[43m,\u001b[49m\u001b[43m \u001b[49m\u001b[43mlevel\u001b[49m\u001b[43m)\u001b[49m\n",
      "File \u001b[0;32m<frozen importlib._bootstrap>:1387\u001b[0m, in \u001b[0;36m_gcd_import\u001b[0;34m(name, package, level)\u001b[0m\n",
      "File \u001b[0;32m<frozen importlib._bootstrap>:1360\u001b[0m, in \u001b[0;36m_find_and_load\u001b[0;34m(name, import_)\u001b[0m\n",
      "File \u001b[0;32m<frozen importlib._bootstrap>:1324\u001b[0m, in \u001b[0;36m_find_and_load_unlocked\u001b[0;34m(name, import_)\u001b[0m\n",
      "\u001b[0;31mModuleNotFoundError\u001b[0m: No module named 'src'"
     ]
    }
   ],
   "source": [
    "\n",
    "\n",
    "\n",
    "vae_model = HI_VAE_functions.HI_VAE_model(data = data_control, miss_mask = miss_mask_control, true_miss_mask = true_miss_mask_control, feat_types_file = feat_types_file_control,dataset_name = dataset_name, m_perc = m_perc, mask = mask)\n",
    "\n",
    "\n",
    "\n"
   ]
  },
  {
   "cell_type": "markdown",
   "metadata": {},
   "source": [
    "### Model loading"
   ]
  },
  {
   "cell_type": "code",
   "execution_count": null,
   "metadata": {},
   "outputs": [],
   "source": [
    "import importlib\n",
    "import os \n",
    "\n",
    "# model_name=\"HIVAE_factorized\"\n",
    "model_name=\"HIVAE_inputDropout\"\n",
    "dim_latent_z = 20\n",
    "dim_latent_y = 15\n",
    "dim_latent_s = 20\n",
    "epochs = 1000\n",
    "lr = 1e-3\n",
    "save_file= \"{}_{}_missing_{}_{}_z{}_y{}_s{}_batch_{}\".format(model_name, dataset_name, m_perc, mask, dim_latent_z, dim_latent_y, dim_latent_s, batch_size)\n",
    "# Create directories for saving models\n",
    "save_dir = f'./saved_networks/{save_file}/'\n",
    "os.makedirs(save_dir, exist_ok=True)\n",
    "network_file = os.path.join(save_dir, f'{save_file}.pth')\n",
    "\n",
    "# Create PyTorch HVAE model\n",
    "model_loading = getattr(importlib.import_module(\"src\"), model_name)\n",
    "vae_model = model_loading(input_dim=data_train.shape[1], \n",
    "                          z_dim=dim_latent_z, \n",
    "                          y_dim=dim_latent_y, \n",
    "                          s_dim=dim_latent_s, \n",
    "                          y_dim_partition=None, \n",
    "                          feat_types_file=feat_types_file)\n",
    "\n",
    "optimizer = optim.Adam(vae_model.parameters(), lr=lr)"
   ]
  },
  {
   "cell_type": "markdown",
   "metadata": {},
   "source": [
    "### Train model"
   ]
  },
  {
   "cell_type": "code",
   "execution_count": null,
   "metadata": {},
   "outputs": [],
   "source": [
    "feat_types_dict"
   ]
  },
  {
   "cell_type": "code",
   "execution_count": null,
   "metadata": {},
   "outputs": [],
   "source": [
    "start_time = time.time()\n",
    "loss_train, error_observed_train, error_missing_train = [], [], []\n",
    "loss_val, error_observed_val, error_missing_val = [], [], []\n",
    "\n",
    "rng = np.random.default_rng(seed=42)\n",
    "for epoch in range(epochs):\n",
    "    avg_loss, avg_KL_s, avg_KL_z = 0.0, 0.0, 0.0\n",
    "    avg_loss_val, avg_KL_s_val, avg_KL_z_val = 0.0, 0.0, 0.0\n",
    "    samples_list, p_params_list, q_params_list, log_p_x_total, log_p_x_missing_total = [], [], [], [], []\n",
    "    tau = max(1.0 - 0.01 * epoch, 1e-3)\n",
    "\n",
    "    # Shuffle training data\n",
    "    perm = rng.permutation(data_train.shape[0])\n",
    "    data_train = data_train[perm]\n",
    "    miss_mask_train = miss_mask_train[perm]\n",
    "    true_miss_mask_train = true_miss_mask_train[perm]\n",
    "\n",
    "    for i in range(n_batches_train):\n",
    "        # Get batch data\n",
    "        data_list, miss_list = data_processing.next_batch(data_train, feat_types_dict, miss_mask_train, batch_size, i)\n",
    "\n",
    "        # Mask unknown data (set unobserved values to zero)\n",
    "        data_list_observed = [data * miss_list[:, i].view(batch_size, 1) for i, data in enumerate(data_list)]\n",
    "\n",
    "\n",
    "        # Compute loss\n",
    "        optimizer.zero_grad()\n",
    "        vae_res = vae_model.forward(data_list_observed, data_list, miss_list, tau, n_generated_sample=1)\n",
    "        vae_res[\"neg_ELBO_loss\"].backward()\n",
    "        optimizer.step()\n",
    "\n",
    "        with torch.no_grad():\n",
    "\n",
    "            avg_loss += vae_res[\"neg_ELBO_loss\"].item() / n_batches_train\n",
    "            avg_KL_s += torch.mean(vae_res[\"KL_s\"]).item() / n_batches_train\n",
    "            avg_KL_z += torch.mean(vae_res[\"KL_z\"]).item() / n_batches_train\n",
    "            # Number of samples generated by one input data\n",
    "\n",
    "            \n",
    "\n",
    "            \n",
    "            for i in range(n_batches_test):\n",
    "                data_list_test, miss_list_test = data_processing.next_batch(data_test, feat_types_dict, miss_mask_test, batch_test_size, i)\n",
    "            \n",
    "                # Mask unknown data (set unobserved values to zero)\n",
    "                data_list_observed_test = [data * miss_list_test[:, i].view(batch_test_size, 1) for i, data in enumerate(data_list_test)]\n",
    "            \n",
    "                vae_res_test = vae_model.forward(data_list_observed_test, data_list_test, miss_list_test, tau=1e-3, n_generated_sample=1)\n",
    "                avg_loss_val += vae_res_test[\"neg_ELBO_loss\"].item() / n_batches_train\n",
    "                avg_KL_s_val += torch.mean(vae_res_test[\"KL_s\"]).item() / n_batches_train\n",
    "                avg_KL_z_val += torch.mean(vae_res_test[\"KL_z\"]).item() / n_batches_train\n",
    "                #print(avg_loss_val)\n",
    "            \n",
    "            \n",
    "     \n",
    "\n",
    "        # Save the generated samlpes and estimated parameters !\n",
    "        samples_list.append(vae_res[\"samples\"])\n",
    "        p_params_list.append(vae_res[\"p_params\"])\n",
    "        q_params_list.append(vae_res[\"q_params\"])\n",
    "        log_p_x_total.append(vae_res[\"log_p_x\"])\n",
    "        log_p_x_missing_total.append(vae_res[\"log_p_x_missing\"])\n",
    "\n",
    "\n",
    "    #Concatenate samples in arrays\n",
    "    s_total, z_total, y_total, est_data_train = statistic.samples_concatenation(samples_list)\n",
    "    \n",
    "    # Transform discrete variables back to the original values\n",
    "    data_train_transformed = data_processing.discrete_variables_transformation(data_train[: n_train_samples], feat_types_dict)\n",
    "    est_data_train_transformed = data_processing.discrete_variables_transformation(est_data_train[0], feat_types_dict)\n",
    "    # est_data_train_mean_imputed = statistic.mean_imputation(data_train_transformed, miss_mask_train[: n_train_samples], feat_types_dict)\n",
    "\n",
    "    # Compute errors\n",
    "    error_observed_samples, error_missing_samples = statistic.error_computation(data_train_transformed, est_data_train_transformed, \n",
    "                                                                                feat_types_dict, miss_mask[:n_train_samples])\n",
    "    \n",
    "    # # #Create global dictionary of the distribution parameters\n",
    "    q_params_complete = statistic.q_distribution_params_concatenation(q_params_list)\n",
    "    \n",
    "    #Number of clusters created\n",
    "    cluster_index = torch.argmax(q_params_complete['s'], 1)\n",
    "    cluster = torch.unique(cluster_index)\n",
    "    #print('Clusters: ' + str(len(cluster)))\n",
    "\n",
    "    # Save average loss and error\n",
    "    loss_train.append(avg_loss)\n",
    "    loss_val.append(avg_loss_val)\n",
    "    error_observed_train.append(torch.mean(error_observed_samples))\n",
    "    error_missing_train.append(torch.mean(error_missing_samples))\n",
    "    if epoch % 100 == 0:\n",
    "        visualization.print_loss(epoch, start_time, -avg_loss, avg_KL_s, avg_KL_z)\n",
    "\n",
    "print(\"Training finished.\")\n",
    "\n",
    "torch.save(vae_model.state_dict(), network_file)\n",
    "\n",
    "visualization.plot_loss_evolution(-np.array(loss_train), title = \"HI_VAE loss over epoch\",\n",
    "                                xlabel = \"Epoch\", ylabel = \"ELBO\")\n",
    "visualization.plot_loss_evolution(-np.array(loss_val), title = \"HI_VAE loss over epoch val\",\n",
    "                                xlabel = \"Epoch\", ylabel = \"ELBO\")\n"
   ]
  },
  {
   "cell_type": "markdown",
   "metadata": {},
   "source": [
    "## Generated samples from control dataset"
   ]
  },
  {
   "cell_type": "code",
   "execution_count": null,
   "metadata": {},
   "outputs": [],
   "source": [
    "data.shape"
   ]
  },
  {
   "cell_type": "code",
   "execution_count": null,
   "metadata": {},
   "outputs": [],
   "source": [
    "data_forgen = data#[train_index]\n",
    "miss_mask_forgen = miss_mask#[train_index]\n",
    "true_miss_mask_forgen = true_miss_mask#[train_index]"
   ]
  },
  {
   "cell_type": "code",
   "execution_count": null,
   "metadata": {},
   "outputs": [],
   "source": [
    "miss_mask_forgen.shape"
   ]
  },
  {
   "cell_type": "code",
   "execution_count": null,
   "metadata": {},
   "outputs": [],
   "source": [
    "data_forgen.shape"
   ]
  },
  {
   "cell_type": "markdown",
   "metadata": {},
   "source": [
    "#### Generate from original sample"
   ]
  },
  {
   "cell_type": "code",
   "execution_count": null,
   "metadata": {},
   "outputs": [],
   "source": [
    "n_samples_forgen = data_forgen.shape[0]\n",
    "batch_size = n_samples_forgen\n",
    "print(n_samples_forgen)\n",
    "# Number of batches\n",
    "n_batches_generation = 1\n",
    "\n",
    "# Compute real missing mask\n",
    "miss_mask_forgen = torch.multiply(miss_mask_forgen, true_miss_mask_forgen)\n",
    "\n",
    "# Number of samples generated by one input data\n",
    "n_generated_sample = 100\n",
    "\n",
    "with torch.no_grad(): \n",
    "    \n",
    "    error_mode_global = 0.0\n",
    "    avg_loss = 0.0\n",
    "    samples_list = []\n",
    "    \n",
    "    for i in range(n_batches_generation):\n",
    "        data_list, miss_list = data_processing.next_batch(data_forgen, feat_types_dict, miss_mask_forgen, batch_size, i)\n",
    "\n",
    "        # Mask unknown data (set unobserved values to zero)\n",
    "        data_list_observed = [data * miss_list[:, i].view(batch_size, 1) for i, data in enumerate(data_list)]\n",
    "        \n",
    "        vae_res = vae_model.forward(data_list_observed, data_list, miss_list, tau=1e-3, n_generated_sample=n_generated_sample)\n",
    "        samples_list.append(vae_res[\"samples\"])\n",
    "    \n",
    "    \n",
    "    #Concatenate samples in arrays\n",
    "    est_data_gen = statistic.samples_concatenation(samples_list)[-1]\n",
    "    est_data_gen_transformed = []\n",
    "    for j in range(n_generated_sample):\n",
    "        data_trans = data_processing.discrete_variables_transformation(est_data_gen[j], feat_types_dict)\n",
    "        data_trans = data_processing.survival_variables_transformation(data_trans,feat_types_dict)\n",
    "        est_data_gen_transformed.append(data_trans.unsqueeze(0))\n",
    "        \n",
    "    est_data_gen_transformed = torch.cat(est_data_gen_transformed, dim=0)"
   ]
  },
  {
   "cell_type": "markdown",
   "metadata": {},
   "source": [
    "### Statistical analysis with simulated vs initial control data"
   ]
  },
  {
   "cell_type": "code",
   "execution_count": null,
   "metadata": {},
   "outputs": [],
   "source": [
    "df_transformed_initial = pd.DataFrame(data_transformed_control.numpy(), columns=gbsb2_control_columns)\n",
    "df_transformed_generated = pd.DataFrame(est_data_gen_transformed[3].numpy(), columns=gbsb2_control_columns)\n",
    "df_transformed_initial[\"sample\"]=1\n",
    "df_transformed_generated[\"sample\"]=0\n",
    "df_transformed_initial_generated = pd.concat([df_transformed_initial, df_transformed_generated], ignore_index=True)"
   ]
  },
  {
   "cell_type": "code",
   "execution_count": null,
   "metadata": {},
   "outputs": [],
   "source": [
    "df_transformed_generated"
   ]
  },
  {
   "cell_type": "code",
   "execution_count": null,
   "metadata": {},
   "outputs": [],
   "source": [
    "feat_types_dict_all = feat_types_dict.copy()\n",
    "feat_types_dict_all.append({'name': 'sample', 'type': 'cat', 'dim': '1', 'nclass': '2'})\n",
    "visualization.plot_compare_data(df_transformed_initial_generated.to_numpy(),feat_types_dict_all,feat_comparison_name = 'sample')"
   ]
  },
  {
   "cell_type": "code",
   "execution_count": null,
   "metadata": {},
   "outputs": [],
   "source": [
    "categorical = ['censor','menostat', 'tgrade','sample']\n",
    "continuous = ['time', 'estrec', 'pnodes','progrec', 'tsize', 'age']\n",
    "nonnormal = ['time', 'estrec', 'progrec', 'pnodes','tsize', 'age'] ## Doit-on mettre pnodes en nonnormal ?"
   ]
  },
  {
   "cell_type": "code",
   "execution_count": null,
   "metadata": {},
   "outputs": [],
   "source": [
    "table1 = TableOne(df_transformed_initial_generated, categorical=categorical, continuous=continuous, groupby='sample',nonnormal=nonnormal, pval=True)\n",
    "print(table1)"
   ]
  },
  {
   "cell_type": "markdown",
   "metadata": {},
   "source": [
    "### Statistical analysis: generated control x initial treated"
   ]
  },
  {
   "cell_type": "code",
   "execution_count": null,
   "metadata": {},
   "outputs": [],
   "source": [
    "df_transformed_generated = pd.DataFrame(est_data_gen_transformed[2].numpy(), columns=gbsb2_control_columns)\n",
    "df_transformed_generated['treatment'] = 0\n",
    "df_transformed_T_Cgen = pd.concat([df_transformed_treated, df_transformed_generated], ignore_index=True)\n",
    "#df_transformed_T_Cgen = df_transformed_T_Cgen.drop('sample',axis=1)\n",
    "#df_transformed_T_Cgen.head()"
   ]
  },
  {
   "cell_type": "code",
   "execution_count": null,
   "metadata": {},
   "outputs": [],
   "source": [
    "categorical = ['censor','menostat', 'tgrade','treatment']\n",
    "continuous = ['time', 'estrec', 'pnodes','progrec', 'tsize', 'age']\n",
    "nonnormal = ['time', 'estrec', 'progrec', 'pnodes','tsize', 'age'] ## Doit-on mettre pnodes en nonnormal ?\n",
    "table1 = TableOne(df_transformed_all, categorical=categorical, continuous=continuous, groupby='treatment',nonnormal=nonnormal, pval=True)\n",
    "print(table1)"
   ]
  },
  {
   "cell_type": "code",
   "execution_count": null,
   "metadata": {},
   "outputs": [],
   "source": [
    "table1 = TableOne(df_transformed_T_Cgen, categorical=categorical, continuous=continuous, groupby='treatment',nonnormal=nonnormal, pval=True)\n",
    "print(table1)"
   ]
  },
  {
   "cell_type": "code",
   "execution_count": null,
   "metadata": {},
   "outputs": [],
   "source": [
    "\n",
    "time_initial_C, survival_prob_initial_C, conf_int_initial_C = kaplan_meier_estimator(\n",
    "    df_transformed_all[df_transformed_all['treatment']==0].to_numpy()[:,1]==1, \n",
    "    df_transformed_all[df_transformed_all['treatment']==0].to_numpy()[:,0], conf_type=\"log-log\"\n",
    ")\n",
    "\n",
    "time_initial_T, survival_prob_initial_T, conf_int_initial_T = kaplan_meier_estimator(\n",
    "    df_transformed_all[df_transformed_all['treatment']==1].to_numpy()[:,1]==1, \n",
    "    df_transformed_all[df_transformed_all['treatment']==1].to_numpy()[:,0], conf_type=\"log-log\"\n",
    ")\n",
    "\n",
    "time_T_Cgen_C, survival_prob_T_Cgen_C, conf_int_T_Cgen_C = kaplan_meier_estimator(\n",
    "    df_transformed_T_Cgen[df_transformed_T_Cgen['treatment']==0].to_numpy()[:,1]==1, \n",
    "    df_transformed_T_Cgen[df_transformed_T_Cgen['treatment']==0].to_numpy()[:,0], conf_type=\"log-log\"\n",
    ")\n",
    "\n",
    "time_T_Cgen_T, survival_prob_T_Cgen_T, conf_int_T_Cgen_T = kaplan_meier_estimator(\n",
    "    df_transformed_T_Cgen[df_transformed_T_Cgen['treatment']==1].to_numpy()[:,1]==1, \n",
    "    df_transformed_T_Cgen[df_transformed_T_Cgen['treatment']==1].to_numpy()[:,0], conf_type=\"log-log\"\n",
    ")\n",
    "\n",
    "\n",
    "plt.step(time_initial_C, survival_prob_initial_C, where=\"post\", label=\"Initial Control Group\")\n",
    "plt.fill_between(time_initial_C, conf_int_initial_C[0], conf_int_initial_C[1], alpha=0.25, step=\"post\")\n",
    "\n",
    "plt.step(time_initial_T, survival_prob_initial_T, where=\"post\", label=\"Treatment Group\")\n",
    "plt.fill_between(time_initial_T, conf_int_initial_T[0], conf_int_initial_T[1], alpha=0.25, step=\"post\")\n",
    "\n",
    "\n",
    "plt.step(time_T_Cgen_C, survival_prob_T_Cgen_C, where=\"post\", label=\"Generated Control Group\")\n",
    "plt.fill_between(time_T_Cgen_C, conf_int_T_Cgen_C[0], conf_int_T_Cgen_C[1], alpha=0.25, step=\"post\")\n",
    "\n",
    "\n",
    "#plt.step(time_T_Cgen_T, survival_prob_T_Cgen_T, where=\"post\")\n",
    "#plt.fill_between(time_T_Cgen_T, conf_int_T_Cgen_T[0], conf_int_T_Cgen_T[1], alpha=0.25, step=\"post\")\n",
    "\n",
    "plt.ylim(0, 1)\n",
    "\n",
    "# Add legend\n",
    "plt.legend()\n",
    "\n",
    "# Optional: add axis labels and title\n",
    "plt.xlabel(\"Time\")\n",
    "plt.ylabel(\"Survival Probability\")\n",
    "plt.title(\"Survival Curves with Confidence Intervals\")\n",
    "\n",
    "# Show the plot\n",
    "plt.show()"
   ]
  },
  {
   "cell_type": "markdown",
   "metadata": {},
   "source": [
    "## Tests"
   ]
  },
  {
   "cell_type": "code",
   "execution_count": null,
   "metadata": {},
   "outputs": [],
   "source": [
    "categorical_encode = ['censor','menostat', 'tgrade','treatment']"
   ]
  },
  {
   "cell_type": "code",
   "execution_count": null,
   "metadata": {},
   "outputs": [],
   "source": [
    "df_transformed_all"
   ]
  },
  {
   "cell_type": "code",
   "execution_count": null,
   "metadata": {},
   "outputs": [],
   "source": [
    "df_transformed_all_oh = df_transformed_all.copy()\n",
    "for feat in categorical_encode:\n",
    "    df_transformed_all_oh = data_processing.encode_and_bind(df_transformed_all_oh,feat)\n",
    "X_initial = df_transformed_all_oh.to_numpy()[:,2:15]\n",
    "Y_initial = Surv.from_arrays(df_transformed_all_oh.to_numpy()[:,1]==1,df_transformed_all_oh.to_numpy()[:,0])    "
   ]
  },
  {
   "cell_type": "code",
   "execution_count": null,
   "metadata": {},
   "outputs": [],
   "source": [
    "number_column_treatment = 8 # in X_initial"
   ]
  },
  {
   "cell_type": "code",
   "execution_count": null,
   "metadata": {},
   "outputs": [],
   "source": [
    "cox_initial = CoxPHSurvivalAnalysis()\n",
    "cox_initial.fit(X_initial,Y_initial)\n",
    "cox_initial.coef_"
   ]
  },
  {
   "cell_type": "code",
   "execution_count": null,
   "metadata": {},
   "outputs": [],
   "source": [
    "coef_treat = np.zeros((n_generated_sample,cox_initial.coef_.shape[0] + 1))\n",
    "for i in np.arange(n_generated_sample):\n",
    "    #print(i)\n",
    "    df_transformed_generated = pd.DataFrame(est_data_gen_transformed[i].numpy(), columns=gbsb2_control_columns)\n",
    "    df_transformed_generated['treatment'] = 0\n",
    "    df_transformed_T_Cgen = pd.concat([df_transformed_treated, df_transformed_generated], ignore_index=True)\n",
    "    df_transformed_T_Cgen_oh = df_transformed_T_Cgen.copy()\n",
    "    for feat in categorical_encode:\n",
    "        df_transformed_T_Cgen_oh = data_processing.encode_and_bind(df_transformed_T_Cgen_oh,feat)\n",
    "    \n",
    "    X_T_Cgen = df_transformed_T_Cgen_oh.to_numpy()[:,2:15]\n",
    "    Y_T_Cgen = Surv.from_arrays(df_transformed_T_Cgen_oh.to_numpy()[:,1]==1,df_transformed_T_Cgen_oh.to_numpy()[:,0])\n",
    "    coef_treat[i,0] = -np.log(compare_survival(Y_T_Cgen,X_T_Cgen[:,number_column_treatment])[1])\n",
    "    cox_generated = CoxPHSurvivalAnalysis()\n",
    "    cox_generated.fit(X_T_Cgen,Y_T_Cgen)\n",
    "    coef_treat[i,1:] = cox_generated.coef_[:]\n"
   ]
  },
  {
   "cell_type": "code",
   "execution_count": null,
   "metadata": {},
   "outputs": [],
   "source": [
    "df_transformed_all_oh.columns"
   ]
  },
  {
   "cell_type": "code",
   "execution_count": null,
   "metadata": {},
   "outputs": [],
   "source": [
    "# Create a violin plot\n",
    "fig, ax = plt.subplots(figsize=(6, 4))\n",
    "parts = ax.violinplot(coef_treat, showmeans=False, showmedians=True)\n",
    "\n",
    "# Add a mark at a specific position (e.g., a custom mean or outlier)\n",
    "x_positions = 1+np.arange(coef_treat.shape[1])  # X-axis positions of violins\n",
    "y_values = np.zeros(coef_treat.shape[1])\n",
    "y_values[0] = -np.log(compare_survival(Y_initial,X_initial[:,number_column_treatment])[1])\n",
    "y_values[1:] = cox_initial.coef_[:]  # Custom Y values for the markers\n",
    "\n",
    "# Overlay scatter points as marks\n",
    "ax.scatter(x_positions, y_values, color='red', marker='o', s=10, label=\"Initial coef\")\n",
    "\n",
    "# Customize the plot\n",
    "ax.set_xticks(1+np.arange(coef_treat.shape[1]))\n",
    "ax.tick_params(axis='x', labelrotation=90)\n",
    "ax.set_xticklabels(['LR','age', 'estrec', 'menostat', 'pnodes', 'progrec', 'tsize', 'treatment', 'tgrade1.0', 'tgrade2.0'])\n",
    "ax.set_ylabel(\"Values\")\n",
    "ax.set_ylim(-0.5, 1) #to zoom on treatment values\n",
    "ax.legend()\n",
    "\n",
    "plt.show()"
   ]
  },
  {
   "cell_type": "markdown",
   "metadata": {},
   "source": [
    "### Log rank test"
   ]
  },
  {
   "cell_type": "code",
   "execution_count": null,
   "metadata": {},
   "outputs": [],
   "source": [
    "plt.violinplot(coef_treat[:,0])#,\n",
    "plt.hlines(y_values[0],0.8,1.2,color='green')\n",
    "plt.hlines(-np.log(0.05),0.8,1.2,color='red')"
   ]
  },
  {
   "cell_type": "markdown",
   "metadata": {},
   "source": [
    "### Test coefficient traitement (Cox)"
   ]
  },
  {
   "cell_type": "code",
   "execution_count": null,
   "metadata": {},
   "outputs": [],
   "source": [
    "plt.violinplot(coef_treat[:,number_column_treatment+1])#,\n",
    "plt.hlines(y_values[7],0.8,1.2,color='green')"
   ]
  },
  {
   "cell_type": "code",
   "execution_count": null,
   "metadata": {},
   "outputs": [],
   "source": []
  },
  {
   "cell_type": "code",
   "execution_count": null,
   "metadata": {},
   "outputs": [],
   "source": []
  },
  {
   "cell_type": "code",
   "execution_count": null,
   "metadata": {},
   "outputs": [],
   "source": []
  },
  {
   "cell_type": "code",
   "execution_count": null,
   "metadata": {},
   "outputs": [],
   "source": []
  },
  {
   "cell_type": "code",
   "execution_count": null,
   "metadata": {},
   "outputs": [],
   "source": []
  },
  {
   "cell_type": "code",
   "execution_count": null,
   "metadata": {},
   "outputs": [],
   "source": []
  },
  {
   "cell_type": "code",
   "execution_count": null,
   "metadata": {},
   "outputs": [],
   "source": []
  },
  {
   "cell_type": "markdown",
   "metadata": {},
   "source": [
    "### Statistical analysis with original data"
   ]
  },
  {
   "cell_type": "code",
   "execution_count": null,
   "metadata": {},
   "outputs": [],
   "source": [
    "gbsg2_control = pd.read_csv(data_file_control,header=None)\n",
    "\n",
    "gbsg2_control.columns = gbsb2_control_columns\n",
    "gbsg2_control.head()"
   ]
  },
  {
   "cell_type": "code",
   "execution_count": null,
   "metadata": {},
   "outputs": [],
   "source": [
    "np.quantile(gbsg2_control[gbsg2_control['censor']==1]['time'],0.95)"
   ]
  },
  {
   "cell_type": "markdown",
   "metadata": {},
   "source": [
    "### Data loading and Feature analysis treated/control"
   ]
  },
  {
   "cell_type": "code",
   "execution_count": null,
   "metadata": {},
   "outputs": [],
   "source": [
    "# Load training data\n",
    "data_control, feat_types_dict, miss_mask_control, true_miss_mask_control, n_samples_control = data_processing.read_data(data_file_control, \n",
    "                                                                                                                        feat_types_file_control, \n",
    "                                                                                                                        miss_file, true_miss_file)\n",
    "# Feature analysis\n",
    "data_transformed_control = data_processing.discrete_variables_transformation(data_control, feat_types_dict)\n",
    "#features_df = pd.DataFrame(data_transformed, columns=[\"feat_\" + str(i+1) for i in range(data_transformed.shape[1])])\n",
    "\n",
    "visualization.plot_data(data_transformed_control, feat_types_dict)\n"
   ]
  },
  {
   "cell_type": "code",
   "execution_count": null,
   "metadata": {},
   "outputs": [],
   "source": [
    "feat_types_dict[3]#['name']\n"
   ]
  },
  {
   "cell_type": "code",
   "execution_count": null,
   "metadata": {},
   "outputs": [],
   "source": [
    "\n",
    "\n"
   ]
  },
  {
   "cell_type": "code",
   "execution_count": null,
   "metadata": {},
   "outputs": [],
   "source": [
    "gbsg2_control = pd.read_csv(data_file_control,header=None)\n",
    "\n",
    "gbsg2_control.columns = gbsb2_control_columns\n",
    "gbsg2_control.head()"
   ]
  },
  {
   "cell_type": "code",
   "execution_count": null,
   "metadata": {},
   "outputs": [],
   "source": [
    "# Load training data\n",
    "data_treated, feat_types_dict, miss_mask_treated, true_miss_mask_treated, n_samples_treated = data_processing.read_data(data_file_treated, \n",
    "                                                                                                                        feat_types_file_control, \n",
    "                                                                                                                        miss_file, true_miss_file)\n",
    "\n",
    "# Feature analysis\n",
    "data_transformed_treated = data_processing.discrete_variables_transformation(data_treated, feat_types_dict)\n",
    "#features_df = pd.DataFrame(data_transformed, columns=[\"feat_\" + str(i+1) for i in range(data_transformed.shape[1])])\n",
    "\n",
    "visualization.plot_data(data_transformed_treated, feat_types_dict)"
   ]
  },
  {
   "cell_type": "code",
   "execution_count": null,
   "metadata": {},
   "outputs": [],
   "source": [
    "df_transformed_treated = pd.DataFrame(data_transformed_treated.numpy(), columns=gbsb2_control_columns)\n",
    "df_transformed_control = pd.DataFrame(data_transformed_control.numpy(), columns=gbsb2_control_columns)\n",
    "df_transformed_treated[\"treatment\"]=1\n",
    "df_transformed_control[\"treatment\"]=0\n",
    "df_transformed_all = pd.concat([df_transformed_control, df_transformed_treated], ignore_index=True)"
   ]
  },
  {
   "cell_type": "code",
   "execution_count": null,
   "metadata": {},
   "outputs": [],
   "source": [
    "df_transformed_all.columns"
   ]
  },
  {
   "cell_type": "code",
   "execution_count": null,
   "metadata": {},
   "outputs": [],
   "source": []
  },
  {
   "cell_type": "code",
   "execution_count": null,
   "metadata": {},
   "outputs": [],
   "source": [
    "categorical = []\n",
    "continuous = []\n",
    "nonnormal = []\n",
    "for index, row in pd.read_csv(feat_types_file_control).iterrows():\n",
    "    if row['type'] == 'cat':\n",
    "        categorical.append(row['name'])\n",
    "    elif row['type'] in ['real','pos','count']:\n",
    "        continuous.append(row['name'])\n",
    "        if row['type'] in ['pos','count']:\n",
    "            nonnormal.append(row['name'])\n",
    "categorical.append('censor')\n",
    "categorical.append('treatment')\n",
    "continuous.append('time')\n",
    "nonnormal.append('time')"
   ]
  },
  {
   "cell_type": "code",
   "execution_count": null,
   "metadata": {},
   "outputs": [],
   "source": [
    "table1 = TableOne(df_transformed_all, categorical=categorical, continuous=continuous, groupby='treatment',nonnormal=nonnormal, pval=True)\n",
    "print(table1)"
   ]
  },
  {
   "cell_type": "markdown",
   "metadata": {},
   "source": [
    "### Experiment setting"
   ]
  },
  {
   "cell_type": "code",
   "execution_count": null,
   "metadata": {},
   "outputs": [],
   "source": [
    "# Train-test split on control\n",
    "data = data_control\n",
    "miss_mask = miss_mask_control\n",
    "true_miss_mask = true_miss_mask_control\n",
    "feat_types_file = feat_types_file_control\n",
    "train_test_share = .9\n",
    "n_samples = data.shape[0]\n",
    "n_train_samples = int(train_test_share * n_samples)\n",
    "train_index = np.random.choice(n_samples, n_train_samples, replace=False)\n",
    "test_index = [i for i in np.arange(n_samples) if i not in train_index]\n",
    "\n",
    "data_train = data[train_index]\n",
    "miss_mask_train = miss_mask[train_index]\n",
    "true_miss_mask_train = true_miss_mask[train_index]\n",
    "\n",
    "data_test = data[test_index]\n",
    "miss_mask_test = miss_mask[test_index]\n",
    "true_miss_mask_test = true_miss_mask[test_index]\n",
    "\n",
    "# Adjust batch size if larger than dataset\n",
    "batch_size = 100\n",
    "batch_size = min(batch_size, n_train_samples)\n",
    "\n",
    "# Number of batches\n",
    "n_train_samples = data_train.shape[0]\n",
    "n_batches_train = int(np.floor(n_train_samples / batch_size))\n",
    "n_train_samples = n_batches_train * batch_size\n",
    "\n",
    "# Compute real missing mask\n",
    "miss_mask_train = torch.multiply(miss_mask_train, true_miss_mask_train)\n",
    "\n",
    "# On test/val\n",
    "n_test_samples = data_test.shape[0]\n",
    "# Adjust batch size if larger than dataset\n",
    "batch_test_size = n_test_samples\n",
    "# Number of batches\n",
    "n_batches_test = int(np.floor(n_test_samples / batch_test_size))\n",
    "\n",
    "# Compute real missing mask\n",
    "miss_mask_test = torch.multiply(miss_mask_test, true_miss_mask_test)\n",
    "n_generated_sample = 10"
   ]
  },
  {
   "cell_type": "markdown",
   "metadata": {},
   "source": [
    "### Model loading"
   ]
  },
  {
   "cell_type": "code",
   "execution_count": null,
   "metadata": {},
   "outputs": [],
   "source": [
    "import importlib\n",
    "import os \n",
    "\n",
    "# model_name=\"HIVAE_factorized\"\n",
    "model_name=\"HIVAE_inputDropout\"\n",
    "dim_latent_z = 20\n",
    "dim_latent_y = 15\n",
    "dim_latent_s = 20\n",
    "epochs = 1000\n",
    "lr = 1e-3\n",
    "save_file= \"{}_{}_missing_{}_{}_z{}_y{}_s{}_batch_{}\".format(model_name, dataset_name, m_perc, mask, dim_latent_z, dim_latent_y, dim_latent_s, batch_size)\n",
    "# Create directories for saving models\n",
    "save_dir = f'./saved_networks/{save_file}/'\n",
    "os.makedirs(save_dir, exist_ok=True)\n",
    "network_file = os.path.join(save_dir, f'{save_file}.pth')\n",
    "\n",
    "# Create PyTorch HVAE model\n",
    "model_loading = getattr(importlib.import_module(\"src\"), model_name)\n",
    "vae_model = model_loading(input_dim=data_train.shape[1], \n",
    "                          z_dim=dim_latent_z, \n",
    "                          y_dim=dim_latent_y, \n",
    "                          s_dim=dim_latent_s, \n",
    "                          y_dim_partition=None, \n",
    "                          feat_types_file=feat_types_file)\n",
    "\n",
    "optimizer = optim.Adam(vae_model.parameters(), lr=lr)"
   ]
  },
  {
   "cell_type": "markdown",
   "metadata": {},
   "source": [
    "### Train model"
   ]
  },
  {
   "cell_type": "code",
   "execution_count": null,
   "metadata": {},
   "outputs": [],
   "source": [
    "feat_types_dict"
   ]
  },
  {
   "cell_type": "code",
   "execution_count": null,
   "metadata": {},
   "outputs": [],
   "source": [
    "start_time = time.time()\n",
    "loss_train, error_observed_train, error_missing_train = [], [], []\n",
    "loss_val, error_observed_val, error_missing_val = [], [], []\n",
    "\n",
    "for epoch in range(epochs):\n",
    "    avg_loss, avg_KL_s, avg_KL_z = 0.0, 0.0, 0.0\n",
    "    avg_loss_val, avg_KL_s_val, avg_KL_z_val = 0.0, 0.0, 0.0\n",
    "    samples_list, p_params_list, q_params_list, log_p_x_total, log_p_x_missing_total = [], [], [], [], []\n",
    "    tau = max(1.0 - 0.01 * epoch, 1e-3)\n",
    "\n",
    "    # Shuffle training data\n",
    "    perm = np.random.permutation(data_train.shape[0])\n",
    "    data_train = data_train[perm]\n",
    "    miss_mask_train = miss_mask_train[perm]\n",
    "    true_miss_mask_train = true_miss_mask_train[perm]\n",
    "\n",
    "    for i in range(n_batches_train):\n",
    "        # Get batch data\n",
    "        data_list, miss_list = data_processing.next_batch(data_train, feat_types_dict, miss_mask_train, batch_size, i)\n",
    "\n",
    "        # Mask unknown data (set unobserved values to zero)\n",
    "        data_list_observed = [data * miss_list[:, i].view(batch_size, 1) for i, data in enumerate(data_list)]\n",
    "\n",
    "\n",
    "        # Compute loss\n",
    "        optimizer.zero_grad()\n",
    "        vae_res = vae_model.forward(data_list_observed, data_list, miss_list, tau, n_generated_sample=1)\n",
    "        vae_res[\"neg_ELBO_loss\"].backward()\n",
    "        optimizer.step()\n",
    "\n",
    "        with torch.no_grad():\n",
    "\n",
    "            avg_loss += vae_res[\"neg_ELBO_loss\"].item() / n_batches_train\n",
    "            avg_KL_s += torch.mean(vae_res[\"KL_s\"]).item() / n_batches_train\n",
    "            avg_KL_z += torch.mean(vae_res[\"KL_z\"]).item() / n_batches_train\n",
    "\n",
    "            \n",
    "            for i in range(n_batches_test):\n",
    "                data_list_test, miss_list_test = data_processing.next_batch(data_test, feat_types_dict, miss_mask_test, batch_test_size, i)\n",
    "            \n",
    "                # Mask unknown data (set unobserved values to zero)\n",
    "                data_list_observed_test = [data * miss_list_test[:, i].view(batch_test_size, 1) for i, data in enumerate(data_list_test)]\n",
    "            \n",
    "                vae_res_test = vae_model.forward(data_list_observed_test, data_list_test, miss_list_test, tau=1e-3, n_generated_sample=1)\n",
    "                avg_loss_val += vae_res_test[\"neg_ELBO_loss\"].item() / n_batches_train\n",
    "                avg_KL_s_val += torch.mean(vae_res_test[\"KL_s\"]).item() / n_batches_train\n",
    "                avg_KL_z_val += torch.mean(vae_res_test[\"KL_z\"]).item() / n_batches_train\n",
    "                #print(avg_loss_val)\n",
    "            \n",
    "            \n",
    "     \n",
    "\n",
    "        # Save the generated samlpes and estimated parameters !\n",
    "        samples_list.append(vae_res[\"samples\"])\n",
    "        p_params_list.append(vae_res[\"p_params\"])\n",
    "        q_params_list.append(vae_res[\"q_params\"])\n",
    "        log_p_x_total.append(vae_res[\"log_p_x\"])\n",
    "        log_p_x_missing_total.append(vae_res[\"log_p_x_missing\"])\n",
    "\n",
    "\n",
    "    #Concatenate samples in arrays\n",
    "    s_total, z_total, y_total, est_data_train = statistic.samples_concatenation(samples_list)\n",
    "    \n",
    "    # Transform discrete variables back to the original values\n",
    "    data_train_transformed = data_processing.discrete_variables_transformation(data_train[: n_train_samples], feat_types_dict)\n",
    "    est_data_train_transformed = data_processing.discrete_variables_transformation(est_data_train[0], feat_types_dict)\n",
    "    # est_data_train_mean_imputed = statistic.mean_imputation(data_train_transformed, miss_mask_train[: n_train_samples], feat_types_dict)\n",
    "\n",
    "    # Compute errors\n",
    "    error_observed_samples, error_missing_samples = statistic.error_computation(data_train_transformed, est_data_train_transformed, feat_types_dict, miss_mask[:n_train_samples])\n",
    "    \n",
    "    # # #Create global dictionary of the distribution parameters\n",
    "    q_params_complete = statistic.q_distribution_params_concatenation(q_params_list)\n",
    "    \n",
    "    #Number of clusters created\n",
    "    cluster_index = torch.argmax(q_params_complete['s'], 1)\n",
    "    cluster = torch.unique(cluster_index)\n",
    "    #print('Clusters: ' + str(len(cluster)))\n",
    "\n",
    "    # Save average loss and error\n",
    "    loss_train.append(avg_loss)\n",
    "    loss_val.append(avg_loss_val)\n",
    "    error_observed_train.append(torch.mean(error_observed_samples))\n",
    "    error_missing_train.append(torch.mean(error_missing_samples))\n",
    "\n",
    "    if epoch % 100 == 0:\n",
    "        visualization.print_loss(epoch, start_time, -avg_loss, avg_KL_s, avg_KL_z)\n",
    "        visualization.print_loss(epoch, start_time, -avg_loss_val, avg_KL_s_val, avg_KL_z_val)\n",
    "\n",
    "\n",
    "\n",
    "print(\"Training finished.\")\n",
    "\n",
    "torch.save(vae_model.state_dict(), network_file)\n",
    "\n",
    "visualization.plot_loss_evolution(-np.array(loss_train), title = \"HI_VAE loss over epoch\",\n",
    "                                xlabel = \"Epoch\", ylabel = \"ELBO\")\n",
    "visualization.plot_loss_evolution(-np.array(loss_val), title = \"HI_VAE loss over epoch val\",\n",
    "                                xlabel = \"Epoch\", ylabel = \"ELBO\")\n"
   ]
  },
  {
   "cell_type": "code",
   "execution_count": null,
   "metadata": {},
   "outputs": [],
   "source": [
    "len(data_list)"
   ]
  },
  {
   "cell_type": "code",
   "execution_count": null,
   "metadata": {},
   "outputs": [],
   "source": [
    "miss_list.shape"
   ]
  },
  {
   "cell_type": "markdown",
   "metadata": {},
   "source": [
    "### Visualize the generated samples"
   ]
  },
  {
   "cell_type": "code",
   "execution_count": null,
   "metadata": {},
   "outputs": [],
   "source": [
    "data.shape"
   ]
  },
  {
   "cell_type": "markdown",
   "metadata": {},
   "source": [
    "### Statistical analysis with simulated data"
   ]
  },
  {
   "cell_type": "code",
   "execution_count": null,
   "metadata": {},
   "outputs": [],
   "source": [
    "data_forgen = data#[train_index]\n",
    "miss_mask_forgen = miss_mask#[train_index]\n",
    "true_miss_mask_forgen = true_miss_mask#[train_index]"
   ]
  },
  {
   "cell_type": "code",
   "execution_count": null,
   "metadata": {},
   "outputs": [],
   "source": [
    "miss_mask_forgen.shape"
   ]
  },
  {
   "cell_type": "code",
   "execution_count": null,
   "metadata": {},
   "outputs": [],
   "source": [
    "data_forgen.shape"
   ]
  },
  {
   "cell_type": "markdown",
   "metadata": {},
   "source": [
    "#### Generate from original sample"
   ]
  },
  {
   "cell_type": "code",
   "execution_count": null,
   "metadata": {},
   "outputs": [],
   "source": [
    "n_samples_forgen = data_forgen.shape[0]\n",
    "batch_size = n_samples_forgen\n",
    "print(n_samples_forgen)\n",
    "# Number of batches\n",
    "n_batches_generation = 1\n",
    "\n",
    "# Compute real missing mask\n",
    "miss_mask_forgen = torch.multiply(miss_mask_forgen, true_miss_mask_forgen)\n",
    "\n",
    "# Number of samples generated by one input data\n",
    "n_generated_sample = 10\n",
    "\n",
    "with torch.no_grad(): \n",
    "    \n",
    "    error_mode_global = 0.0\n",
    "    avg_loss = 0.0\n",
    "    samples_list = []\n",
    "    \n",
    "    for i in range(n_batches_generation):\n",
    "        data_list, miss_list = data_processing.next_batch(data_forgen, feat_types_dict, miss_mask_forgen, batch_size, i)\n",
    "\n",
    "        # Mask unknown data (set unobserved values to zero)\n",
    "        data_list_observed = [data * miss_list[:, i].view(batch_size, 1) for i, data in enumerate(data_list)]\n",
    "        \n",
    "        vae_res = vae_model.forward(data_list_observed, data_list, miss_list, tau=1e-3, n_generated_sample=n_generated_sample)\n",
    "        samples_list.append(vae_res[\"samples\"])\n",
    "    \n",
    "    \n",
    "    #Concatenate samples in arrays\n",
    "    est_data_gen = statistic.samples_concatenation(samples_list)[-1]\n",
    "    est_data_gen_transformed = []\n",
    "    for j in range(n_generated_sample):\n",
    "        data_trans = data_processing.discrete_variables_transformation(est_data_gen[j], feat_types_dict)\n",
    "        data_trans = data_processing.survival_variables_transformation(data_trans,feat_types_dict)\n",
    "        est_data_gen_transformed.append(data_trans.unsqueeze(0))\n",
    "        \n",
    "    est_data_gen_transformed = torch.cat(est_data_gen_transformed, dim=0)"
   ]
  },
  {
   "cell_type": "code",
   "execution_count": null,
   "metadata": {},
   "outputs": [],
   "source": [
    "# Call plotting function\n",
    "visualization.plot_data(est_data_gen_transformed[5], feat_types_dict)\n"
   ]
  },
  {
   "cell_type": "code",
   "execution_count": null,
   "metadata": {},
   "outputs": [],
   "source": []
  },
  {
   "cell_type": "code",
   "execution_count": null,
   "metadata": {},
   "outputs": [],
   "source": [
    "df_transformed_initial = pd.DataFrame(data_transformed_control.numpy(), columns=gbsb2_control_columns)\n",
    "df_transformed_generated = pd.DataFrame(est_data_gen_transformed[0].numpy(), columns=gbsb2_control_columns)\n",
    "df_transformed_initial[\"sample\"]=1\n",
    "df_transformed_generated[\"sample\"]=0\n",
    "df_transformed_initial_generated = pd.concat([df_transformed_initial, df_transformed_generated], ignore_index=True)"
   ]
  },
  {
   "cell_type": "code",
   "execution_count": null,
   "metadata": {},
   "outputs": [],
   "source": []
  },
  {
   "cell_type": "code",
   "execution_count": null,
   "metadata": {},
   "outputs": [],
   "source": [
    "categorical = []\n",
    "continuous = []\n",
    "nonnormal = []\n",
    "for index, row in pd.read_csv(feat_types_file_control).iterrows():\n",
    "    if row['type'] == 'cat':\n",
    "        categorical.append(row['name'])\n",
    "    elif row['type'] in ['real','pos','count']:\n",
    "        continuous.append(row['name'])\n",
    "        if row['type'] in ['pos','count']:\n",
    "            nonnormal.append(row['name'])\n",
    "categorical.append('censor')\n",
    "categorical.append('treatment')\n",
    "continuous.append('time')\n",
    "nonnormal.append('time')\n",
    "\n",
    "categorical.remove('treatment')\n",
    "categorical.append('sample')"
   ]
  },
  {
   "cell_type": "code",
   "execution_count": null,
   "metadata": {},
   "outputs": [],
   "source": [
    "table1 = TableOne(df_transformed_initial_generated, categorical=categorical, continuous=continuous, groupby='sample',nonnormal=nonnormal, pval=True)\n",
    "print(table1)"
   ]
  },
  {
   "cell_type": "code",
   "execution_count": null,
   "metadata": {},
   "outputs": [],
   "source": []
  },
  {
   "cell_type": "code",
   "execution_count": null,
   "metadata": {},
   "outputs": [],
   "source": [
    "df_transformed_generated = pd.DataFrame(est_data_gen_transformed[3].numpy(), columns=gbsb2_control_columns)\n",
    "df_transformed_generated['treatment'] = 0\n",
    "df_transformed_T_Cgen = pd.concat([df_transformed_treated, df_transformed_generated], ignore_index=True)\n",
    "#df_transformed_T_Cgen = df_transformed_T_Cgen.drop('sample',axis=1)\n",
    "#df_transformed_T_Cgen.head()"
   ]
  },
  {
   "cell_type": "code",
   "execution_count": null,
   "metadata": {},
   "outputs": [],
   "source": [
    "#df_transformed_all.head()"
   ]
  },
  {
   "cell_type": "code",
   "execution_count": null,
   "metadata": {},
   "outputs": [],
   "source": [
    "categorical.append('treatment')\n",
    "categorical.remove('sample')\n",
    "table1 = TableOne(df_transformed_all, categorical=categorical, continuous=continuous, groupby='treatment',nonnormal=nonnormal, pval=True)\n",
    "print(table1)"
   ]
  },
  {
   "cell_type": "code",
   "execution_count": null,
   "metadata": {},
   "outputs": [],
   "source": [
    "table1 = TableOne(df_transformed_T_Cgen, categorical=categorical, continuous=continuous, groupby='treatment',nonnormal=nonnormal, pval=True)\n",
    "print(table1)"
   ]
  },
  {
   "cell_type": "code",
   "execution_count": null,
   "metadata": {},
   "outputs": [],
   "source": [
    "df_transformed_all.head()"
   ]
  },
  {
   "cell_type": "code",
   "execution_count": null,
   "metadata": {},
   "outputs": [],
   "source": [
    "\n",
    "time_initial_C, survival_prob_initial_C, conf_int_initial_C = kaplan_meier_estimator(\n",
    "    df_transformed_all[df_transformed_all['treatment']==0]['censor'].to_numpy()==1, \n",
    "    df_transformed_all[df_transformed_all['treatment']==0]['time'].to_numpy(), conf_type=\"log-log\"\n",
    ")\n",
    "\n",
    "time_initial_T, survival_prob_initial_T, conf_int_initial_T = kaplan_meier_estimator(\n",
    "    df_transformed_all[df_transformed_all['treatment']==1]['censor'].to_numpy()==1, \n",
    "    df_transformed_all[df_transformed_all['treatment']==1]['time'].to_numpy(), conf_type=\"log-log\"\n",
    ")\n",
    "\n",
    "time_T_Cgen_C, survival_prob_T_Cgen_C, conf_int_T_Cgen_C = kaplan_meier_estimator(\n",
    "    df_transformed_T_Cgen[df_transformed_T_Cgen['treatment']==0]['censor'].to_numpy()==1, \n",
    "    df_transformed_T_Cgen[df_transformed_T_Cgen['treatment']==0]['time'].to_numpy(), conf_type=\"log-log\"\n",
    ")\n",
    "\n",
    "time_T_Cgen_T, survival_prob_T_Cgen_T, conf_int_T_Cgen_T = kaplan_meier_estimator(\n",
    "   df_transformed_T_Cgen[df_transformed_T_Cgen['treatment']==1]['censor'].to_numpy()==1, \n",
    "    df_transformed_T_Cgen[df_transformed_T_Cgen['treatment']==1]['time'].to_numpy(), conf_type=\"log-log\"\n",
    ")\n",
    "\n",
    "\n",
    "plt.step(time_initial_C, survival_prob_initial_C, where=\"post\")\n",
    "plt.fill_between(time_initial_C, conf_int_initial_C[0], conf_int_initial_C[1], alpha=0.25, step=\"post\")\n",
    "\n",
    "plt.step(time_initial_T, survival_prob_initial_T, where=\"post\")\n",
    "plt.fill_between(time_initial_T, conf_int_initial_T[0], conf_int_initial_T[1], alpha=0.25, step=\"post\")\n",
    "\n",
    "\n",
    "plt.step(time_T_Cgen_C, survival_prob_T_Cgen_C, where=\"post\")\n",
    "plt.fill_between(time_T_Cgen_C, conf_int_T_Cgen_C[0], conf_int_T_Cgen_C[1], alpha=0.25, step=\"post\")\n",
    "\n",
    "\n",
    "#plt.step(time_T_Cgen_T, survival_prob_T_Cgen_T, where=\"post\")\n",
    "#plt.fill_between(time_T_Cgen_T, conf_int_T_Cgen_T[0], conf_int_T_Cgen_T[1], alpha=0.25, step=\"post\")\n",
    "\n",
    "plt.ylim( 0,1)\n",
    "plt.ylabel(r\"est. probability of survival $\\hat{S}(t)$\")\n",
    "plt.xlabel(\"time $t$\")"
   ]
  },
  {
   "cell_type": "code",
   "execution_count": null,
   "metadata": {},
   "outputs": [],
   "source": [
    "df_transformed_all"
   ]
  },
  {
   "cell_type": "code",
   "execution_count": null,
   "metadata": {},
   "outputs": [],
   "source": [
    "list_cov"
   ]
  },
  {
   "cell_type": "code",
   "execution_count": null,
   "metadata": {},
   "outputs": [],
   "source": [
    "def encode_and_bind(original_dataframe, feature_to_encode):\n",
    "    #print(np.unique(original_dataframe[feature_to_encode]))#.shape[0])\n",
    "    if np.unique(original_dataframe[feature_to_encode]).shape[0] > 2 :\n",
    "        dummies = pd.get_dummies(original_dataframe[feature_to_encode],drop_first=True, prefix=feature_to_encode, prefix_sep='',dtype=int)\n",
    "        res = pd.concat([original_dataframe, dummies], axis=1)\n",
    "        #print(res.head())\n",
    "        res = res.drop([feature_to_encode], axis=1)\n",
    "    else:\n",
    "        res = original_dataframe\n",
    "    return(res) \n",
    "\n",
    "categorical_encode = ['menostat', 'tgrade','treatment']\n"
   ]
  },
  {
   "cell_type": "code",
   "execution_count": null,
   "metadata": {},
   "outputs": [],
   "source": [
    "df_transformed_all_oh = df_transformed_all.copy()\n",
    "for feat in categorical_encode:\n",
    "    df_transformed_all_oh = encode_and_bind(df_transformed_all_oh,feat)"
   ]
  },
  {
   "cell_type": "code",
   "execution_count": null,
   "metadata": {},
   "outputs": [],
   "source": [
    "df_transformed_all_oh.head()"
   ]
  },
  {
   "cell_type": "code",
   "execution_count": null,
   "metadata": {},
   "outputs": [],
   "source": []
  },
  {
   "cell_type": "code",
   "execution_count": null,
   "metadata": {},
   "outputs": [],
   "source": [
    "X_initial = np.delete(df_transformed_all_oh.to_numpy(),[6,7],axis=1)\n",
    "Y_initial = Surv.from_arrays(df_transformed_all_oh.to_numpy()[:,7]==1,df_transformed_all.to_numpy()[:,6])\n",
    "print(compare_survival(Y_initial,X_initial[:,6]))\n",
    "for i in np.arange(n_generated_sample):\n",
    "    df_transformed_generated = pd.DataFrame(est_data_gen_transformed[i].numpy(), columns=gbsb2_control_columns)\n",
    "    df_transformed_generated['treatment'] = 0\n",
    "    df_transformed_T_Cgen = pd.concat([df_transformed_treated, df_transformed_generated], ignore_index=True)\n",
    "    df_transformed_T_Cgen_oh = df_transformed_T_Cgen.copy()\n",
    "    for feat in categorical_encode:\n",
    "        df_transformed_T_Cgen_oh = encode_and_bind(df_transformed_T_Cgen_oh,feat)\n",
    "    \n",
    "    X_T_Cgen = np.delete(df_transformed_T_Cgen_oh.to_numpy(),[6,7],axis=1)\n",
    "    Y_T_Cgen = Surv.from_arrays(df_transformed_T_Cgen_oh.to_numpy()[:,7]==1,df_transformed_T_Cgen_oh.to_numpy()[:,6])\n",
    "    print(compare_survival(Y_T_Cgen,X_T_Cgen[:,6]))"
   ]
  },
  {
   "cell_type": "code",
   "execution_count": null,
   "metadata": {},
   "outputs": [],
   "source": [
    "# Fit the Cox Proportional Hazards Model\n",
    "cph = CoxPHFitter()\n",
    "cph.fit(df_transformed_all_oh, duration_col='time', event_col='censor')\n",
    "\n",
    "# Display summary statistics of the model\n",
    "cph.print_summary()"
   ]
  },
  {
   "cell_type": "code",
   "execution_count": null,
   "metadata": {},
   "outputs": [],
   "source": [
    "for i in np.arange(n_generated_sample):\n",
    "    df_transformed_generated = pd.DataFrame(est_data_gen_transformed[i].numpy(), columns=gbsb2_control_columns)\n",
    "    df_transformed_generated['treatment'] = 0\n",
    "    df_transformed_T_Cgen = pd.concat([df_transformed_treated, df_transformed_generated], ignore_index=True)\n",
    "    df_transformed_T_Cgen_oh = df_transformed_T_Cgen.copy()\n",
    "    for feat in categorical_encode:\n",
    "        df_transformed_T_Cgen_oh = encode_and_bind(df_transformed_T_Cgen_oh,feat)\n",
    "    cph_g = CoxPHFitter()\n",
    "    cph_g.fit(df_transformed_T_Cgen_oh, duration_col='time', event_col='censor')\n",
    "\n",
    "    # Display summary statistics of the model\n",
    "    print(cph_g.print_summary())\n",
    "    "
   ]
  },
  {
   "cell_type": "code",
   "execution_count": null,
   "metadata": {},
   "outputs": [],
   "source": [
    "#df_transformed_all.columns\n"
   ]
  },
  {
   "cell_type": "code",
   "execution_count": null,
   "metadata": {},
   "outputs": [],
   "source": [
    "cox_initial = CoxPHSurvivalAnalysis()\n",
    "cox_initial.fit(X_initial,Y_initial)\n",
    "cox_initial.coef_"
   ]
  },
  {
   "cell_type": "code",
   "execution_count": null,
   "metadata": {},
   "outputs": [],
   "source": [
    "df_transformed_T_Cgen.head()"
   ]
  },
  {
   "cell_type": "code",
   "execution_count": null,
   "metadata": {},
   "outputs": [],
   "source": [
    "df_transformed_T_Cgen.head()"
   ]
  },
  {
   "cell_type": "code",
   "execution_count": null,
   "metadata": {},
   "outputs": [],
   "source": []
  },
  {
   "cell_type": "code",
   "execution_count": null,
   "metadata": {},
   "outputs": [],
   "source": [
    "print(compare_survival(Y_T_Cgen,X_T_Cgen[:,-1]))"
   ]
  },
  {
   "cell_type": "code",
   "execution_count": null,
   "metadata": {},
   "outputs": [],
   "source": []
  },
  {
   "cell_type": "code",
   "execution_count": null,
   "metadata": {},
   "outputs": [],
   "source": []
  },
  {
   "cell_type": "code",
   "execution_count": null,
   "metadata": {},
   "outputs": [],
   "source": [
    "df_transformed_all[df_transformed_all['treatment']==0].head()"
   ]
  },
  {
   "cell_type": "code",
   "execution_count": null,
   "metadata": {},
   "outputs": [],
   "source": [
    "categorical = ['censor','strat2', 'sex', 'raceth', 'ivdrug', 'karnof','treatment']\n",
    "continuous = ['time', 'cd4',   'priorzdv', 'age']\n",
    "nonnormal = ['time', 'cd4',   'priorzdv']\n",
    "table1 = TableOne(df_transformed_T_Cgen, categorical=categorical, continuous=continuous, groupby='treatment',nonnormal=nonnormal, pval=True)\n",
    "print(table1)"
   ]
  },
  {
   "cell_type": "code",
   "execution_count": null,
   "metadata": {},
   "outputs": [],
   "source": [
    "print(compare_survival(Y_gen,X_gen[:,0]))"
   ]
  },
  {
   "cell_type": "code",
   "execution_count": null,
   "metadata": {},
   "outputs": [],
   "source": [
    "cox_T_Cgen = CoxPHSurvivalAnalysis()\n",
    "cox_T_Cgen.fit(X_T_Cgen,Y_T_Cgen)\n",
    "cox_T_Cgen.coef_"
   ]
  },
  {
   "cell_type": "code",
   "execution_count": null,
   "metadata": {},
   "outputs": [],
   "source": [
    "df_transformed_initial = pd.DataFrame(data_transformed_control.numpy(), columns=aids_control_columns)\n",
    "df_transformed_generated = pd.DataFrame(est_data_gen_transformed[0].numpy(), columns=aids_control_columns)\n",
    "df_transformed_initial[\"sample\"]=1\n",
    "df_transformed_generated[\"sample\"]=0\n",
    "df_transformed_all = pd.concat([df_transformed_initial, df_transformed_generated], ignore_index=True)"
   ]
  },
  {
   "cell_type": "code",
   "execution_count": null,
   "metadata": {},
   "outputs": [],
   "source": [
    "cox_gen = CoxPHSurvivalAnalysis()\n",
    "cox_gen.fit(X_gen,Y_gen)\n",
    "cox_gen.coef_"
   ]
  },
  {
   "cell_type": "code",
   "execution_count": null,
   "metadata": {},
   "outputs": [],
   "source": [
    "coef_treat = np.zeros((n_generated_sample,cox_initial.coef_.shape[0] + 1))\n",
    "for i in np.arange(n_generated_sample):\n",
    "    print(i)\n",
    "    X_gen = est_data_gen_transformed[i].numpy()[:,2:10]\n",
    "    Y_gen = Surv.from_arrays(est_data_gen_transformed[i].numpy()[:,1]==1,est_data_gen_transformed[i].numpy()[:,0])\n",
    "    coef_treat[i,0] = compare_survival(Y_gen,X_gen[:,0])[1]\n",
    "    cox_generated = CoxPHSurvivalAnalysis()\n",
    "    cox_generated.fit(X_gen,Y_gen)\n",
    "    coef_treat[i,1:] = cox_generated.coef_[:]"
   ]
  },
  {
   "cell_type": "code",
   "execution_count": null,
   "metadata": {},
   "outputs": [],
   "source": [
    "n_generated_sample"
   ]
  },
  {
   "cell_type": "code",
   "execution_count": null,
   "metadata": {},
   "outputs": [],
   "source": [
    "\n",
    "\n",
    "# Create a violin plot\n",
    "fig, ax = plt.subplots(figsize=(6, 4))\n",
    "parts = ax.violinplot(coef_treat, showmeans=False, showmedians=True)\n",
    "\n",
    "# Add a mark at a specific position (e.g., a custom mean or outlier)\n",
    "x_positions = 1 + np.arange(coef_treat.shape[1])  # X-axis positions of violins\n",
    "y_values = coef_initial  # Custom Y values for the markers\n",
    "\n",
    "# Overlay scatter points as marks\n",
    "ax.scatter(x_positions, y_values, color='red', marker='o', s=10, label=\"Initial coef\")\n",
    "\n",
    "# Customize the plot\n",
    "ax.set_xticks(np.arange(coef_treat.shape[1]))\n",
    "#ax.set_xticklabels()\n",
    "ax.set_ylabel(\"Values\")\n",
    "ax.legend()\n",
    "\n",
    "plt.show()"
   ]
  },
  {
   "cell_type": "code",
   "execution_count": null,
   "metadata": {},
   "outputs": [],
   "source": []
  },
  {
   "cell_type": "code",
   "execution_count": null,
   "metadata": {},
   "outputs": [],
   "source": []
  },
  {
   "cell_type": "code",
   "execution_count": null,
   "metadata": {},
   "outputs": [],
   "source": []
  },
  {
   "cell_type": "code",
   "execution_count": null,
   "metadata": {},
   "outputs": [],
   "source": []
  },
  {
   "cell_type": "code",
   "execution_count": null,
   "metadata": {},
   "outputs": [],
   "source": []
  },
  {
   "cell_type": "code",
   "execution_count": null,
   "metadata": {},
   "outputs": [],
   "source": []
  },
  {
   "cell_type": "code",
   "execution_count": null,
   "metadata": {},
   "outputs": [],
   "source": []
  },
  {
   "cell_type": "code",
   "execution_count": null,
   "metadata": {},
   "outputs": [],
   "source": []
  }
 ],
 "metadata": {
  "kernelspec": {
   "display_name": "_venv_312_conda_v2",
   "language": "python",
   "name": "_venv_312_conda_v2"
  },
  "language_info": {
   "codemirror_mode": {
    "name": "ipython",
    "version": 3
   },
   "file_extension": ".py",
   "mimetype": "text/x-python",
   "name": "python",
   "nbconvert_exporter": "python",
   "pygments_lexer": "ipython3",
   "version": "3.12.9"
  }
 },
 "nbformat": 4,
 "nbformat_minor": 4
}
