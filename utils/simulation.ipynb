{
 "cells": [
  {
   "cell_type": "code",
   "execution_count": 35,
   "id": "92330b03-4d65-47de-bbad-6769191bbb10",
   "metadata": {},
   "outputs": [
    {
     "name": "stderr",
     "output_type": "stream",
     "text": [
      "/var/folders/l_/vl48r50139nfhm284y3mv34r0000gn/T/ipykernel_16117/3547562558.py:2: DeprecationWarning: Please import `toeplitz` from the `scipy.linalg` namespace; the `scipy.linalg.special_matrices` namespace is deprecated and will be removed in SciPy 2.0.0.\n",
      "  from scipy.linalg.special_matrices import toeplitz\n"
     ]
    }
   ],
   "source": [
    "import numpy as np\n",
    "from scipy.linalg.special_matrices import toeplitz"
   ]
  },
  {
   "cell_type": "markdown",
   "id": "7db137ed-9aa6-42b0-94d4-98a063fef9cb",
   "metadata": {},
   "source": [
    "Schoenfeld formula\n",
    "$$D = \\frac{(\\Phi^{-1}(\\beta)+\\Phi^{-1}(1-\\alpha))^2}{P_{cont}(1 - P_{cont}) log^2(\\Delta)}$$\n",
    "where \n",
    "- $D$ is the number of deaths\n",
    "- $\\alpha$ is the level\n",
    "- $\\beta$ is the power\n",
    "- $P_{cont}$ is the proportion of patients in the control arm\n",
    "- $\\Delta$ is the hazard ratio"
   ]
  },
  {
   "cell_type": "code",
   "execution_count": 36,
   "id": "cb4c7742-119c-42af-8ee9-2ed12d2db15c",
   "metadata": {},
   "outputs": [],
   "source": [
    "n_samples = 200\n",
    "n_features_bytype = 3\n",
    "n_features = 3 * n_features_bytype"
   ]
  },
  {
   "cell_type": "code",
   "execution_count": 37,
   "id": "97547d37-97aa-47ae-ad10-05bfb4383238",
   "metadata": {},
   "outputs": [],
   "source": [
    "def features_normal_cov_toeplitz(n_samples, n_features: int = 30,\n",
    "                                 cov_corr: float = 0.5, dtype=\"float64\"):\n",
    "    \"\"\"Normal features generator with toeplitz covariance\n",
    "\n",
    "    An example of features obtained as samples of a centered Gaussian\n",
    "    vector with a toeplitz covariance matrix\n",
    "\n",
    "    Parameters\n",
    "    ----------\n",
    "    n_samples : `int`, default=200\n",
    "        Number of samples\n",
    "\n",
    "    n_features : `int`, default=30\n",
    "        Number of features\n",
    "\n",
    "    cov_corr : `float`, default=0.5\n",
    "        correlation coefficient of the Toeplitz correlation matrix\n",
    "\n",
    "    dtype : `{'float64', 'float32'}`, default='float64'\n",
    "        Type of the arrays used.\n",
    "\n",
    "    Returns\n",
    "    -------\n",
    "    output : `numpy.ndarray`, shape=(n_samples, n_features)\n",
    "        n_samples realization of a Gaussian vector with the described\n",
    "        covariance\n",
    "\n",
    "    \"\"\"\n",
    "    cov = toeplitz(cov_corr ** np.arange(0, n_features))\n",
    "    features = np.random.multivariate_normal(\n",
    "        np.zeros(n_features), cov, size=n_samples)\n",
    "    if dtype != \"float64\":\n",
    "        return features.astype(dtype)\n",
    "    return features"
   ]
  },
  {
   "cell_type": "code",
   "execution_count": 41,
   "id": "76f28bb3-f8e1-4a45-8135-f28e16a21bb3",
   "metadata": {},
   "outputs": [],
   "source": [
    "def weights_sparse_exp(n_weigths: int = 100, nnz: int = 10, scale: float = 10.,\n",
    "                       dtype=\"float64\") -> np.ndarray:\n",
    "    \"\"\"Sparse and exponential model weights generator\n",
    "\n",
    "    Instance of weights for a model, given by a vector with\n",
    "    exponentially decaying components: the j-th entry is given by\n",
    "\n",
    "    .. math: (-1)^j \\exp(-j / scale)\n",
    "\n",
    "    for 0 <= j <= nnz - 1. For j >= nnz, the entry is zero.\n",
    "\n",
    "    Parameters\n",
    "    ----------\n",
    "    n_weigths : `int`, default=100\n",
    "        Number of weights\n",
    "\n",
    "    nnz : `int`, default=10\n",
    "        Number of non-zero weights\n",
    "\n",
    "    scale : `float`, default=10.\n",
    "        The scaling of the exponential decay\n",
    "\n",
    "    dtype : `{'float64', 'float32'}`, default='float64'\n",
    "        Type of the arrays used.\n",
    "\n",
    "    Returns\n",
    "    -------\n",
    "    output : np.ndarray, shape=(n_weigths,)\n",
    "        The weights vector\n",
    "    \"\"\"\n",
    "    if nnz >= n_weigths:\n",
    "        warn((\"nnz must be smaller than n_weights \"\n",
    "              \"using nnz=n_weigths instead\"))\n",
    "        nnz = n_weigths\n",
    "    idx = np.arange(nnz)\n",
    "    out = np.zeros(n_weigths, dtype=dtype)\n",
    "    out[:nnz] = np.exp(-idx / scale)\n",
    "    out[:nnz:2] *= -1\n",
    "    return out\n"
   ]
  },
  {
   "cell_type": "code",
   "execution_count": 75,
   "id": "a0b91170-070e-406d-8066-4d6632b82028",
   "metadata": {},
   "outputs": [
    {
     "name": "stdout",
     "output_type": "stream",
     "text": [
      "(31,)\n"
     ]
    }
   ],
   "source": [
    "beta = np.concatenate([weights_sparse_exp(n_features_bytype,3),weights_sparse_exp(n_features_bytype,3),\n",
    "                       weights_sparse_exp(n_features_bytype,3)])\n",
    "treatment_effect = 0\n",
    "beta = np.insert(beta, 0, treatment_effect)\n",
    "print(beta.shape)"
   ]
  },
  {
   "cell_type": "code",
   "execution_count": 76,
   "id": "3c270713-0337-4013-b94e-72ef560299a7",
   "metadata": {},
   "outputs": [],
   "source": [
    "X[:,10:20] = np.abs(X[:,np.arange(10,20)])\n",
    "X[:,20:30] = 1 * (X[:,20:30] >= 0)"
   ]
  },
  {
   "cell_type": "code",
   "execution_count": 77,
   "id": "ab5d6d6f-d597-4326-ba64-847c59601c68",
   "metadata": {},
   "outputs": [
    {
     "name": "stdout",
     "output_type": "stream",
     "text": [
      "(200, 30)\n"
     ]
    }
   ],
   "source": [
    "X = features_normal_cov_toeplitz(n_samples,n_features)\n",
    "print(X.shape)"
   ]
  },
  {
   "cell_type": "code",
   "execution_count": 78,
   "id": "04cae205-14f4-4359-bfdb-9da0a06e7ac8",
   "metadata": {},
   "outputs": [
    {
     "name": "stdout",
     "output_type": "stream",
     "text": [
      "(200, 1)\n"
     ]
    }
   ],
   "source": [
    "treatment = np.random.randint(2, size=(n_samples,1))\n",
    "print(treatment.shape)"
   ]
  },
  {
   "cell_type": "code",
   "execution_count": 79,
   "id": "ba3e9c4b-08ef-4ffe-8aeb-8b2f498ed500",
   "metadata": {},
   "outputs": [],
   "source": [
    "#a = np.array([1, 2, 3])\n",
    "#b = np.array([4, 5, 6])\n",
    "#np.vstack((a,b))\n",
    "design = np.hstack((treatment,X))\n",
    "marker = np.dot(design,beta)"
   ]
  },
  {
   "cell_type": "code",
   "execution_count": 109,
   "id": "229cec92-8657-405d-8b99-395febe8f5ef",
   "metadata": {},
   "outputs": [],
   "source": [
    "a_T = 2\n",
    "a_C = 1\n",
    "lamb_C = 2\n",
    "U = np.random.uniform(size = n_samples)\n",
    "V = np.random.uniform(size = n_samples)\n",
    "T = (- np.log(1-U) / np.exp(marker))**(1/a_T)\n",
    "C = lamb_C * (- np.log(1-V))**(1/a_C)"
   ]
  },
  {
   "cell_type": "code",
   "execution_count": 110,
   "id": "fa9523d1-a05c-45b7-b902-31c5f5f5039c",
   "metadata": {},
   "outputs": [
    {
     "data": {
      "text/plain": [
       "np.float64(0.655)"
      ]
     },
     "execution_count": 110,
     "metadata": {},
     "output_type": "execute_result"
    }
   ],
   "source": [
    "np.mean(T <= C)"
   ]
  },
  {
   "cell_type": "code",
   "execution_count": 111,
   "id": "3a0becd1-70ae-4fb9-91d8-ab68c270c9aa",
   "metadata": {},
   "outputs": [
    {
     "data": {
      "text/plain": [
       "array([0.1424743 , 0.53856944, 0.0080225 , 0.63378701, 0.63472058,\n",
       "       0.75588857, 0.16000158, 0.4029972 , 0.66234015, 0.35083583,\n",
       "       0.69405028, 0.31970731, 0.38806307, 0.46906958, 0.49972919,\n",
       "       0.73089186, 0.47987362, 0.27848437, 0.18742936, 0.16112311,\n",
       "       0.18761813, 0.86504316, 0.70948873, 0.19031947, 0.59233024,\n",
       "       0.05063032, 0.32645918, 0.15858903, 0.32506345, 0.79292716,\n",
       "       0.51111554, 0.45949917, 0.02848014, 0.09177927, 0.26167691,\n",
       "       0.06969013, 0.66437783, 0.29865467, 0.11957954, 0.44519762,\n",
       "       0.27811318, 0.07529995, 0.27319531, 0.34711674, 0.78585914,\n",
       "       0.04725044, 0.96255923, 0.14287807, 0.92352751, 0.46933116,\n",
       "       0.81192721, 0.71888285, 0.48948063, 0.16896196, 0.85426913,\n",
       "       0.70898226, 0.47964722, 0.92372489, 0.1829255 , 0.53164346,\n",
       "       0.49567717, 0.08105117, 0.30076078, 0.71440625, 0.27221195,\n",
       "       0.98439283, 0.10338828, 0.40455986, 0.91501635, 0.82194893,\n",
       "       0.41782357, 0.09743789, 0.8675693 , 0.72066343, 0.01936944,\n",
       "       0.48281261, 0.12367773, 0.88998704, 0.60085167, 0.76777698,\n",
       "       0.63000261, 0.27317152, 0.48629249, 0.4172934 , 0.80285314,\n",
       "       0.72080683, 0.4890145 , 0.31973698, 0.97872503, 0.19382047,\n",
       "       0.29305808, 0.62586595, 0.25405167, 0.8755774 , 0.80929948,\n",
       "       0.29044505, 0.11100376, 0.50317087, 0.87968569, 0.18558284,\n",
       "       0.33918645, 0.79226068, 0.33196845, 0.30154635, 0.476817  ,\n",
       "       0.79596784, 0.12640781, 0.39951555, 0.14995468, 0.96855542,\n",
       "       0.68482011, 0.49949047, 0.06547637, 0.58653737, 0.82298371,\n",
       "       0.73312625, 0.38698127, 0.61493271, 0.95182541, 0.76003028,\n",
       "       0.75893516, 0.75270235, 0.14326841, 0.84640896, 0.75117757,\n",
       "       0.36979641, 0.48002792, 0.82722599, 0.87166254, 0.37878137,\n",
       "       0.58685824, 0.88591203, 0.9965983 , 0.96801233, 0.06202398,\n",
       "       0.98842085, 0.65177297, 0.00576238, 0.68239275, 0.23615162,\n",
       "       0.99045852, 0.79797646, 0.49481782, 0.31219611, 0.09901694,\n",
       "       0.20431434, 0.51074901, 0.51693649, 0.97951777, 0.73969256,\n",
       "       0.23448476, 0.24482415, 0.79124316, 0.76302023, 0.86278301,\n",
       "       0.47174851, 0.07451324, 0.30160455, 0.50075627, 0.52070842,\n",
       "       0.56744885, 0.0695297 , 0.9300405 , 0.54563141, 0.44730651,\n",
       "       0.02194055, 0.17335845, 0.57662445, 0.11207673, 0.21933109,\n",
       "       0.76947534, 0.88953007, 0.43934493, 0.11354439, 0.72037054,\n",
       "       0.62547183, 0.50594709, 0.30902038, 0.04939218, 0.01657173,\n",
       "       0.45591873, 0.86155702, 0.30710185, 0.84270823, 0.78293842,\n",
       "       0.08073425, 0.8538376 , 0.4242091 , 0.57417669, 0.99541391,\n",
       "       0.20173967, 0.01506927, 0.00418368, 0.43876635, 0.74671694,\n",
       "       0.75933489, 0.73391873, 0.29176618, 0.27721373, 0.17103592])"
      ]
     },
     "execution_count": 111,
     "metadata": {},
     "output_type": "execute_result"
    }
   ],
   "source": []
  },
  {
   "cell_type": "code",
   "execution_count": null,
   "id": "bd410d1b-6779-4b06-aa3f-7c778b4cd722",
   "metadata": {},
   "outputs": [],
   "source": []
  }
 ],
 "metadata": {
  "kernelspec": {
   "display_name": "Python 3 (ipykernel)",
   "language": "python",
   "name": "python3"
  },
  "language_info": {
   "codemirror_mode": {
    "name": "ipython",
    "version": 3
   },
   "file_extension": ".py",
   "mimetype": "text/x-python",
   "name": "python",
   "nbconvert_exporter": "python",
   "pygments_lexer": "ipython3",
   "version": "3.12.9"
  }
 },
 "nbformat": 4,
 "nbformat_minor": 5
}
