{
 "cells": [
  {
   "cell_type": "code",
   "execution_count": 1,
   "metadata": {},
   "outputs": [],
   "source": [
    "import pandas as pd\n",
    "import numpy as np\n",
    "import warnings\n",
    "warnings.filterwarnings(\"ignore\")"
   ]
  },
  {
   "cell_type": "markdown",
   "metadata": {},
   "source": [
    "### Data import"
   ]
  },
  {
   "cell_type": "code",
   "execution_count": 2,
   "metadata": {},
   "outputs": [],
   "source": [
    "dataset_name = \"Metabric\"\n",
    "data_dir = \"dataset/\" + dataset_name\n",
    "data = pd.read_csv(data_dir + '/METABRIC_RNA_Mutation.csv')\n",
    "keep_columns = ['overall_survival_months', 'overall_survival', 'age_at_diagnosis', 'type_of_breast_surgery', \n",
    "                'cellularity', 'chemotherapy', 'er_status', 'her2_status_measured_by_snp6', \n",
    "                'her2_status', 'hormone_therapy', 'inferred_menopausal_state', 'lymph_nodes_examined_positive', \n",
    "                'oncotree_code', 'pr_status', 'radio_therapy', 'tumor_size', 'death_from_cancer']\n",
    "data = data[keep_columns].dropna()"
   ]
  },
  {
   "cell_type": "markdown",
   "metadata": {},
   "source": [
    "### Preprocessing"
   ]
  },
  {
   "cell_type": "code",
   "execution_count": null,
   "metadata": {},
   "outputs": [],
   "source": [
    "# Convert some continous features to categorical ones\n",
    "conditions = [(data[\"lymph_nodes_examined_positive\"] == 0),\n",
    "             (data[\"lymph_nodes_examined_positive\"] >=1) & (data[\"lymph_nodes_examined_positive\"] <=3),\n",
    "             (data[\"lymph_nodes_examined_positive\"] >=4) & (data[\"lymph_nodes_examined_positive\"] <=9),\n",
    "             (data[\"lymph_nodes_examined_positive\"] >=10)]\n",
    "values = [\"N0\", \"N1\", \"N2\", \"N3\"]\n",
    "data[\"lymph_nodes_examined_positive\"] = np.select(conditions, values, default=data[\"lymph_nodes_examined_positive\"])\n",
    "\n",
    "conditions = [(data[\"tumor_size\"] <20),\n",
    "             (data[\"tumor_size\"] >=20) & (data[\"tumor_size\"] <50),\n",
    "             (data[\"tumor_size\"] >=50)]\n",
    "values = [\"T1\", \"˜T2\", \"T3\"]\n",
    "data[\"tumor_size\"] = np.select(conditions, values, default=data[\"tumor_size\"])"
   ]
  },
  {
   "cell_type": "code",
   "execution_count": 6,
   "metadata": {},
   "outputs": [],
   "source": [
    "# Encode the features\n",
    "for col in keep_columns:\n",
    "    if col not in [\"overall_survival_months\", \"overall_survival\", \"chemotherapy\"]:\n",
    "        unique_value = np.unique(data[col].values)\n",
    "\n",
    "        # Create a mapping dictionary\n",
    "        mapping = dict(zip(unique_value, np.arange(len(unique_value))))\n",
    "\n",
    "        # Replace values in the column\n",
    "        data[col] = data[col].replace(mapping)"
   ]
  },
  {
   "cell_type": "markdown",
   "metadata": {},
   "source": [
    "### Data types"
   ]
  },
  {
   "cell_type": "code",
   "execution_count": 7,
   "metadata": {},
   "outputs": [],
   "source": [
    "data_types = [[\"name\", \"type\", \"dim\", \"nclass\"], [\"survcens\", \"surv_piecewise\", 2, np.nan]]\n",
    "for col in keep_columns:\n",
    "    if col not in [\"overall_survival_months\", \"overall_survival\", \"chemotherapy\"]:\n",
    "        n_unique = len(np.unique(data[col].values))\n",
    "        if n_unique < 20:\n",
    "            data_types.append([col, \"cat\", 1, str(n_unique)])\n",
    "        else:\n",
    "            if (data[col] > 0).all():\n",
    "                data_types.append([col, \"pos\", 1, np.nan])\n",
    "            else:\n",
    "                data_types.append([col, \"real\", 1, np.nan])"
   ]
  },
  {
   "cell_type": "markdown",
   "metadata": {},
   "source": [
    "### Split data into treated and control group"
   ]
  },
  {
   "cell_type": "code",
   "execution_count": 8,
   "metadata": {},
   "outputs": [],
   "source": [
    "data = data.rename(columns={\"overall_survival_months\": \"time\", \"overall_survival\": \"censor\"})\n",
    "data_treated = data[data['chemotherapy']==1].drop([\"chemotherapy\"] , axis=1)\n",
    "data_control = data[data['chemotherapy']==0].drop([\"chemotherapy\"] , axis=1)"
   ]
  },
  {
   "cell_type": "markdown",
   "metadata": {},
   "source": [
    "### Save data"
   ]
  },
  {
   "cell_type": "code",
   "execution_count": 9,
   "metadata": {},
   "outputs": [],
   "source": [
    "import csv\n",
    "\n",
    "data.to_csv(data_dir + \"/data.csv\", header=False, index=False)\n",
    "data_treated.to_csv(data_dir + \"/data_treated.csv\", header=False, index=False)\n",
    "data_control.to_csv(data_dir + \"/data_control.csv\", header=False, index=False)\n",
    "pd.DataFrame(data_types).to_csv(data_dir + \"/data_types_treated.csv\", index=False, header=False)\n",
    "pd.DataFrame(data_types).to_csv(data_dir + \"/data_types_control.csv\", index=False, header=False)"
   ]
  },
  {
   "cell_type": "code",
   "execution_count": null,
   "metadata": {},
   "outputs": [],
   "source": []
  }
 ],
 "metadata": {
  "kernelspec": {
   "display_name": ".venv_HI_VAE_ext",
   "language": "python",
   "name": "python3"
  },
  "language_info": {
   "codemirror_mode": {
    "name": "ipython",
    "version": 3
   },
   "file_extension": ".py",
   "mimetype": "text/x-python",
   "name": "python",
   "nbconvert_exporter": "python",
   "pygments_lexer": "ipython3",
   "version": "3.12.4"
  }
 },
 "nbformat": 4,
 "nbformat_minor": 4
}
